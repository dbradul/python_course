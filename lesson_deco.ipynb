{
 "cells": [
  {
   "cell_type": "code",
   "execution_count": 46,
   "metadata": {},
   "outputs": [],
   "source": [
    "import random\n",
    "import time\n",
    "import functools\n",
    "import sys\n",
    "from time import sleep"
   ]
  },
  {
   "cell_type": "markdown",
   "metadata": {},
   "source": [
    "### Decorators"
   ]
  },
  {
   "cell_type": "code",
   "execution_count": 3,
   "metadata": {},
   "outputs": [],
   "source": [
    "def send_email(settings=None):\n",
    "    time.sleep(random.randint(1, 3))\n",
    "\n",
    "send_email(settings={'smtp': 'smtp.google.com'})\n",
    "send_email(settings={'smtp': 'smtp.outlook.live.com'})"
   ]
  },
  {
   "cell_type": "code",
   "execution_count": 5,
   "metadata": {},
   "outputs": [],
   "source": [
    "def dump_database(storage=None):\n",
    "    time.sleep(random.randint(0, 1))\n",
    "\n",
    "dump_database(storage='s3')\n",
    "dump_database(storage='gdrive')"
   ]
  },
  {
   "cell_type": "code",
   "execution_count": 13,
   "metadata": {},
   "outputs": [
    {
     "name": "stdout",
     "output_type": "stream",
     "text": [
      "Elapsed: 2.002208948135376s\n",
      "Elapsed: 2.0024538040161133s\n"
     ]
    }
   ],
   "source": [
    "def send_email(settings=None):\n",
    "    time.sleep(random.randint(1, 3))\n",
    "\n",
    "start = time.time()\n",
    "send_email(settings={'smtp': 'smtp.google.com'})\n",
    "end = time.time()\n",
    "print(f'Elapsed: {end - start}s')\n",
    "\n",
    "start = time.time()\n",
    "send_email(settings={'smtp': 'smtp.outlook.live.com'})\n",
    "end = time.time()\n",
    "print(f'Elapsed: {end - start}s')"
   ]
  },
  {
   "cell_type": "code",
   "execution_count": 68,
   "metadata": {},
   "outputs": [
    {
     "name": "stdout",
     "output_type": "stream",
     "text": [
      "Elapsed  with {'smtp': 'smtp.google.com'}: 1.0015008449554443s\n",
      "Elapsed  with {'smtp': 'smtp.outlook.live.com'}: 2.0020358562469482s\n"
     ]
    }
   ],
   "source": [
    "def send_email(settings=None):\n",
    "    start = time.time()\n",
    "\n",
    "    time.sleep(random.randrange(1, 3))\n",
    "\n",
    "    end = time.time()\n",
    "    print(f'Elapsed  with {settings}: {end - start}s')\n",
    "\n",
    "send_email(settings={'smtp': 'smtp.google.com'})\n",
    "send_email(settings={'smtp': 'smtp.outlook.live.com'})"
   ]
  },
  {
   "cell_type": "code",
   "execution_count": 14,
   "metadata": {},
   "outputs": [
    {
     "name": "stdout",
     "output_type": "stream",
     "text": [
      "Elapsed with s3: 6.031990051269531e-05s\n",
      "Elapsed with gdrive: 8.821487426757812e-06s\n"
     ]
    }
   ],
   "source": [
    "def dump_database(storage=None):\n",
    "    start = time.time()\n",
    "\n",
    "    time.sleep(random.randrange(0, 1))\n",
    "\n",
    "    end = time.time()\n",
    "    print(f'Elapsed with {storage}: {end - start}s')\n",
    "\n",
    "dump_database(storage='s3')\n",
    "dump_database(storage='gdrive')"
   ]
  },
  {
   "cell_type": "code",
   "execution_count": 20,
   "metadata": {},
   "outputs": [
    {
     "name": "stdout",
     "output_type": "stream",
     "text": [
      "Elapsed (): 0.028357982635498047s\n"
     ]
    }
   ],
   "source": [
    "def some_other_func(*args):\n",
    "    start = time.time()\n",
    "\n",
    "    lst = [i for i in range(10**6)]\n",
    "\n",
    "    print(f'Elapsed {args}: {time.time() - start}s')\n",
    "\n",
    "some_other_func()"
   ]
  },
  {
   "cell_type": "code",
   "execution_count": null,
   "metadata": {},
   "outputs": [],
   "source": [
    "def profile():\n",
    "    start = time.time()\n",
    "\n",
    "    # some code\n",
    "\n",
    "    print(f'Elapsed: {time.time() - start}s')"
   ]
  },
  {
   "cell_type": "code",
   "execution_count": null,
   "metadata": {},
   "outputs": [],
   "source": []
  },
  {
   "cell_type": "code",
   "execution_count": null,
   "metadata": {},
   "outputs": [],
   "source": []
  },
  {
   "cell_type": "code",
   "execution_count": 6,
   "metadata": {},
   "outputs": [],
   "source": [
    "def dump_database(storage=None):\n",
    "    time.sleep(random.randrange(0, 1))\n",
    "    \n",
    "def send_email(settings=None):\n",
    "    time.sleep(random.randint(1, 3))"
   ]
  },
  {
   "cell_type": "code",
   "execution_count": 9,
   "metadata": {},
   "outputs": [
    {
     "name": "stdout",
     "output_type": "stream",
     "text": [
      "Elapsed (dump_database): 6.914138793945312e-05s\n",
      "Elapsed (send_email): 3.002246141433716s\n"
     ]
    }
   ],
   "source": [
    "def profile(f):\n",
    "    start = time.time()\n",
    "\n",
    "    f()\n",
    "\n",
    "    print(f'Elapsed ({f.__name__}): {time.time() - start}s')\n",
    "\n",
    "profile(dump_database)\n",
    "profile(send_email)"
   ]
  },
  {
   "cell_type": "code",
   "execution_count": 11,
   "metadata": {},
   "outputs": [
    {
     "data": {
      "text/plain": [
       "139840879265808"
      ]
     },
     "execution_count": 11,
     "metadata": {},
     "output_type": "execute_result"
    }
   ],
   "source": [
    "id(id)"
   ]
  },
  {
   "cell_type": "code",
   "execution_count": 73,
   "metadata": {},
   "outputs": [
    {
     "name": "stdout",
     "output_type": "stream",
     "text": [
      "<class 'function'>\n",
      "Hello\n"
     ]
    }
   ],
   "source": [
    "def say_hello():\n",
    "    def internal():\n",
    "        print('Hello')\n",
    "    return internal\n",
    "\n",
    "f = say_hello()\n",
    "print(type(f))\n",
    "f()"
   ]
  },
  {
   "cell_type": "code",
   "execution_count": 74,
   "metadata": {},
   "outputs": [
    {
     "name": "stdout",
     "output_type": "stream",
     "text": [
      "Hello John\n",
      "Hello Bill\n"
     ]
    }
   ],
   "source": [
    "def say_hello():\n",
    "    def internal(msg):\n",
    "        print('Hello', msg)\n",
    "    return internal\n",
    "\n",
    "f1 = say_hello()\n",
    "f1('John')\n",
    "\n",
    "f1 = say_hello()\n",
    "f1('Bill')"
   ]
  },
  {
   "cell_type": "code",
   "execution_count": 75,
   "metadata": {},
   "outputs": [
    {
     "name": "stdout",
     "output_type": "stream",
     "text": [
      "Hello John\n",
      "Hi Bill\n"
     ]
    }
   ],
   "source": [
    "def say_hello(greeting='Hello'):\n",
    "    def internal(msg):\n",
    "        print(greeting, msg)\n",
    "    return internal\n",
    "\n",
    "f1 = say_hello()\n",
    "f1('John')\n",
    "\n",
    "f1 = say_hello('Hi')\n",
    "f1('Bill')"
   ]
  },
  {
   "cell_type": "code",
   "execution_count": 76,
   "metadata": {},
   "outputs": [
    {
     "name": "stdout",
     "output_type": "stream",
     "text": [
      "Hello John 42 [1, 2, 3] True\n"
     ]
    }
   ],
   "source": [
    "def say_hello(greeting='Hello'):\n",
    "    def internal(*args):\n",
    "        print(greeting, *args)\n",
    "    return internal\n",
    "\n",
    "f1 = say_hello()\n",
    "f1('John', 42, [1, 2, 3], True)"
   ]
  },
  {
   "cell_type": "code",
   "execution_count": 77,
   "metadata": {},
   "outputs": [],
   "source": [
    "def profile(f):\n",
    "    def deco(*args):\n",
    "        start = time.time()\n",
    "        f(*args)\n",
    "        print(f'Elapsed time for function {f.__name__}: {time.time() - start}ms')\n",
    "    return deco"
   ]
  },
  {
   "cell_type": "code",
   "execution_count": null,
   "metadata": {},
   "outputs": [],
   "source": [
    "def profile(f):\n",
    "    def deco(*args, **kwargs):\n",
    "        start = time.time()\n",
    "        f(*args, **kwargs)\n",
    "        print(f'Elapsed time for function {f.__name__}: {time.time() - start}ms')\n",
    "    return deco"
   ]
  },
  {
   "cell_type": "code",
   "execution_count": 13,
   "metadata": {},
   "outputs": [],
   "source": [
    "def profile(f):\n",
    "    def deco(*args, **kwargs):\n",
    "        start = time.time()\n",
    "        result = f(*args, **kwargs)\n",
    "        print(f'Elapsed time for function {f.__name__}: {time.time() - start}ms')\n",
    "        return result\n",
    "    return deco"
   ]
  },
  {
   "cell_type": "code",
   "execution_count": 14,
   "metadata": {},
   "outputs": [
    {
     "name": "stdout",
     "output_type": "stream",
     "text": [
      "Elapsed time for function send_email: 3.002382278442383ms\n",
      "Elapsed time for function send_email: 1.0010349750518799ms\n"
     ]
    }
   ],
   "source": [
    "# foo()\n",
    "foo_decorated=profile(send_email)\n",
    "foo_decorated({'smtp': 'google.com'})\n",
    "foo_decorated({'smtp': 'live.com'})"
   ]
  },
  {
   "cell_type": "code",
   "execution_count": 82,
   "metadata": {},
   "outputs": [
    {
     "name": "stdout",
     "output_type": "stream",
     "text": [
      "Elapsed time for function send_email: 3.001675844192505ms\n",
      "Elapsed time for function send_email: 2.00132155418396ms\n"
     ]
    }
   ],
   "source": [
    "send_email=profile(send_email)\n",
    "send_email({'smtp': 'google.com'})\n",
    "send_email({'smtp': 'live.com'})"
   ]
  },
  {
   "cell_type": "code",
   "execution_count": 18,
   "metadata": {},
   "outputs": [
    {
     "name": "stdout",
     "output_type": "stream",
     "text": [
      "Elapsed time for function dump_database: 8.082389831542969e-05ms\n",
      "Elapsed time for function send_email: 1.0008487701416016ms\n"
     ]
    }
   ],
   "source": [
    "@profile # -> dump_database = profile(dump_database)\n",
    "def dump_database(storage=None):\n",
    "    time.sleep(random.randrange(0, 1))\n",
    "    \n",
    "@profile\n",
    "def send_email(settings=None):\n",
    "    time.sleep(random.randint(1, 3))\n",
    "\n",
    "\n",
    "dump_database()\n",
    "send_email()"
   ]
  },
  {
   "cell_type": "markdown",
   "metadata": {},
   "source": [
    "### We need to go deeper"
   ]
  },
  {
   "cell_type": "code",
   "execution_count": 23,
   "metadata": {},
   "outputs": [
    {
     "name": "stdout",
     "output_type": "stream",
     "text": [
      "Help on function foo7 in module __main__:\n",
      "\n",
      "foo7()\n",
      "    Help for foo7\n",
      "\n",
      "Elapsed time for function foo7: 1.0008957386016846ms\n",
      "None\n"
     ]
    }
   ],
   "source": [
    "@profile\n",
    "def foo7():\n",
    "    \"\"\"Help for foo7\"\"\"\n",
    "    time.sleep(random.randint(1, 2))\n",
    "    return 42\n",
    "\n",
    "help(foo7)\n",
    "print(foo7())"
   ]
  },
  {
   "cell_type": "code",
   "execution_count": 21,
   "metadata": {},
   "outputs": [],
   "source": [
    "def profile(f):\n",
    "    @functools.wraps(f)\n",
    "    def deco(*args):\n",
    "        start = time.time()\n",
    "        f(*args)\n",
    "        print(f'Elapsed time for function {f.__name__}: {time.time() - start}ms')\n",
    "    return deco"
   ]
  },
  {
   "cell_type": "code",
   "execution_count": 24,
   "metadata": {},
   "outputs": [
    {
     "name": "stdout",
     "output_type": "stream",
     "text": [
      "Help on function foo8 in module __main__:\n",
      "\n",
      "foo8()\n",
      "    Help for foo8\n",
      "\n",
      "Elapsed time for function foo8: 1.0005488395690918ms\n",
      "None\n"
     ]
    }
   ],
   "source": [
    "@profile\n",
    "def foo8():\n",
    "    \"\"\"Help for foo8\"\"\"\n",
    "    time.sleep(random.randint(1, 2))\n",
    "    return 42\n",
    "\n",
    "help(foo8)\n",
    "print(foo8())"
   ]
  },
  {
   "cell_type": "code",
   "execution_count": 30,
   "metadata": {},
   "outputs": [],
   "source": [
    "def profile(msg='Elapsed time'):\n",
    "    def internal(f):\n",
    "        @functools.wraps(f)\n",
    "        def deco(*args, **kwargs):\n",
    "            start = time.time()\n",
    "            result = f(*args, **kwargs)\n",
    "            print(msg, f'({f.__name__}): {time.time() - start}s')\n",
    "            return result\n",
    "        return deco\n",
    "    return internal"
   ]
  },
  {
   "cell_type": "code",
   "execution_count": 31,
   "metadata": {},
   "outputs": [
    {
     "name": "stdout",
     "output_type": "stream",
     "text": [
      "Elapsed time (send_email): 3.0028645992279053s\n",
      "Прошло времени (dump_database): 0.0004756450653076172s\n"
     ]
    }
   ],
   "source": [
    "@profile(msg='Прошло времени')\n",
    "def dump_database(storage=None):\n",
    "    time.sleep(random.randrange(0, 1))\n",
    "    \n",
    "@profile(msg='Elapsed time')\n",
    "def send_email(settings=None):\n",
    "    time.sleep(random.randint(1, 3))\n",
    "\n",
    "send_email(settings={'smtp': 'smtp.google.com'})\n",
    "dump_database(storage='s3')"
   ]
  },
  {
   "cell_type": "code",
   "execution_count": 94,
   "metadata": {},
   "outputs": [
    {
     "name": "stdout",
     "output_type": "stream",
     "text": [
      "Help on function foo8 in module __main__:\n",
      "\n",
      "foo8()\n",
      "    Help for foo7\n",
      "\n",
      "Elapsed time foo8: 1.0004870891571045ms\n",
      "RESULT:  42\n"
     ]
    }
   ],
   "source": [
    "@profile('Elapsed time') # -> profile_ = profile('Time spent')\n",
    "                         # -> foo5 = profile_(foo5)\n",
    "def foo8():\n",
    "    \"\"\"Help for foo7\"\"\"\n",
    "    time.sleep(random.randint(1, 2))\n",
    "    return 42\n",
    "\n",
    "help(foo8)\n",
    "print(\"RESULT: \", foo8())"
   ]
  },
  {
   "cell_type": "markdown",
   "metadata": {},
   "source": [
    "### Template"
   ]
  },
  {
   "cell_type": "markdown",
   "metadata": {},
   "source": [
    "#### 2-level decorator"
   ]
  },
  {
   "cell_type": "code",
   "execution_count": 117,
   "metadata": {},
   "outputs": [],
   "source": [
    "def profile(f):\n",
    "    @functools.wraps(f)\n",
    "    def deco(*args, **kwargs):\n",
    "        start = time.time()\n",
    "        result = f(*args, **kwargs)\n",
    "        print('Elapsed time', f'({f.__name__}): {time.time() - start}s')\n",
    "        return result\n",
    "    return deco\n",
    "\n",
    "@profile\n",
    "def send_email(): ..."
   ]
  },
  {
   "cell_type": "markdown",
   "metadata": {},
   "source": [
    "#### 3-level decorator"
   ]
  },
  {
   "cell_type": "code",
   "execution_count": 47,
   "metadata": {},
   "outputs": [],
   "source": [
    "def profile(msg='Elapsed time', file=sys.stdout):\n",
    "    def internal(f):\n",
    "        @functools.wraps(f)\n",
    "        def deco(*args, **kwargs):\n",
    "            start = time.time()\n",
    "            result = f(*args, **kwargs)\n",
    "            print(msg, f'({f.__name__}): {time.time() - start}s', file=file)\n",
    "            return result\n",
    "        return deco\n",
    "    return internal\n",
    "\n",
    "@profile()\n",
    "def send_email(): ..."
   ]
  },
  {
   "cell_type": "code",
   "execution_count": null,
   "metadata": {},
   "outputs": [],
   "source": []
  },
  {
   "cell_type": "code",
   "execution_count": null,
   "metadata": {},
   "outputs": [],
   "source": []
  },
  {
   "cell_type": "markdown",
   "metadata": {},
   "source": [
    "### Real life examples"
   ]
  },
  {
   "cell_type": "code",
   "execution_count": 118,
   "metadata": {},
   "outputs": [
    {
     "data": {
      "text/plain": [
       "55"
      ]
     },
     "execution_count": 118,
     "metadata": {},
     "output_type": "execute_result"
    }
   ],
   "source": [
    "# 0 1 2 3 4 5 6 7 8\n",
    "# 0 1 1 2 3 5 8 13 ...\n",
    "def fibo(n):\n",
    "    \"\"\"Super inefficient fibo function\"\"\"\n",
    "    if n < 2:\n",
    "        return n\n",
    "    else:\n",
    "        return fibo(n-1) + fibo(n-2)\n",
    "   \n",
    "fibo(10)"
   ]
  },
  {
   "cell_type": "code",
   "execution_count": 120,
   "metadata": {},
   "outputs": [
    {
     "name": "stdout",
     "output_type": "stream",
     "text": [
      "Elapsed time (fibo): 1.1920928955078125e-06s\n",
      "Elapsed time (fibo): 9.5367431640625e-07s\n",
      "Elapsed time (fibo): 0.0002105236053466797s\n",
      "Elapsed time (fibo): 7.152557373046875e-07s\n",
      "Elapsed time (fibo): 0.0002827644348144531s\n",
      "Elapsed time (fibo): 7.152557373046875e-07s\n",
      "Elapsed time (fibo): 9.5367431640625e-07s\n",
      "Elapsed time (fibo): 7.033348083496094e-05s\n",
      "Elapsed time (fibo): 0.0004215240478515625s\n",
      "Elapsed time (fibo): 4.76837158203125e-07s\n",
      "Elapsed time (fibo): 4.76837158203125e-07s\n",
      "Elapsed time (fibo): 5.984306335449219e-05s\n",
      "Elapsed time (fibo): 4.76837158203125e-07s\n",
      "Elapsed time (fibo): 0.00010943412780761719s\n",
      "Elapsed time (fibo): 0.0005881786346435547s\n",
      "Elapsed time (fibo): 2.384185791015625e-07s\n",
      "Elapsed time (fibo): 2.384185791015625e-07s\n",
      "Elapsed time (fibo): 4.124641418457031e-05s\n",
      "Elapsed time (fibo): 2.384185791015625e-07s\n",
      "Elapsed time (fibo): 8.320808410644531e-05s\n",
      "Elapsed time (fibo): 2.384185791015625e-07s\n",
      "Elapsed time (fibo): 2.384185791015625e-07s\n",
      "Elapsed time (fibo): 4.2438507080078125e-05s\n",
      "Elapsed time (fibo): 0.00016570091247558594s\n",
      "Elapsed time (fibo): 0.0007960796356201172s\n",
      "Elapsed time (fibo): 4.76837158203125e-07s\n",
      "Elapsed time (fibo): 4.76837158203125e-07s\n",
      "Elapsed time (fibo): 5.3882598876953125e-05s\n",
      "Elapsed time (fibo): 4.76837158203125e-07s\n",
      "Elapsed time (fibo): 0.00010561943054199219s\n",
      "Elapsed time (fibo): 4.76837158203125e-07s\n",
      "Elapsed time (fibo): 4.76837158203125e-07s\n",
      "Elapsed time (fibo): 5.173683166503906e-05s\n",
      "Elapsed time (fibo): 0.00019741058349609375s\n",
      "Elapsed time (fibo): 7.152557373046875e-07s\n",
      "Elapsed time (fibo): 7.152557373046875e-07s\n",
      "Elapsed time (fibo): 4.220008850097656e-05s\n",
      "Elapsed time (fibo): 2.384185791015625e-07s\n",
      "Elapsed time (fibo): 8.320808410644531e-05s\n",
      "Elapsed time (fibo): 0.0003211498260498047s\n",
      "Elapsed time (fibo): 0.001256704330444336s\n",
      "Elapsed time (fibo): 4.76837158203125e-07s\n",
      "Elapsed time (fibo): 2.384185791015625e-07s\n",
      "Elapsed time (fibo): 4.100799560546875e-05s\n",
      "Elapsed time (fibo): 2.384185791015625e-07s\n",
      "Elapsed time (fibo): 8.058547973632812e-05s\n",
      "Elapsed time (fibo): 2.384185791015625e-07s\n",
      "Elapsed time (fibo): 4.76837158203125e-07s\n",
      "Elapsed time (fibo): 4.458427429199219e-05s\n",
      "Elapsed time (fibo): 0.00027060508728027344s\n",
      "Elapsed time (fibo): 2.384185791015625e-07s\n",
      "Elapsed time (fibo): 2.384185791015625e-07s\n",
      "Elapsed time (fibo): 4.1484832763671875e-05s\n",
      "Elapsed time (fibo): 2.384185791015625e-07s\n",
      "Elapsed time (fibo): 8.368492126464844e-05s\n",
      "Elapsed time (fibo): 0.0003952980041503906s\n",
      "Elapsed time (fibo): 2.384185791015625e-07s\n",
      "Elapsed time (fibo): 2.384185791015625e-07s\n",
      "Elapsed time (fibo): 4.100799560546875e-05s\n",
      "Elapsed time (fibo): 2.384185791015625e-07s\n",
      "Elapsed time (fibo): 8.130073547363281e-05s\n",
      "Elapsed time (fibo): 2.384185791015625e-07s\n",
      "Elapsed time (fibo): 4.76837158203125e-07s\n",
      "Elapsed time (fibo): 3.504753112792969e-05s\n",
      "Elapsed time (fibo): 0.00022983551025390625s\n",
      "Elapsed time (fibo): 0.0006632804870605469s\n",
      "Elapsed time (fibo): 0.0030317306518554688s\n",
      "Elapsed time (fibo): 4.76837158203125e-07s\n",
      "Elapsed time (fibo): 2.384185791015625e-07s\n",
      "Elapsed time (fibo): 4.410743713378906e-05s\n",
      "Elapsed time (fibo): 2.384185791015625e-07s\n",
      "Elapsed time (fibo): 8.535385131835938e-05s\n",
      "Elapsed time (fibo): 4.76837158203125e-07s\n",
      "Elapsed time (fibo): 2.384185791015625e-06s\n",
      "Elapsed time (fibo): 0.007575511932373047s\n",
      "Elapsed time (fibo): 0.007746458053588867s\n",
      "Elapsed time (fibo): 7.152557373046875e-07s\n",
      "Elapsed time (fibo): 4.76837158203125e-07s\n",
      "Elapsed time (fibo): 6.961822509765625e-05s\n",
      "Elapsed time (fibo): 7.152557373046875e-07s\n",
      "Elapsed time (fibo): 0.00013589859008789062s\n",
      "Elapsed time (fibo): 0.007947206497192383s\n",
      "Elapsed time (fibo): 4.76837158203125e-07s\n",
      "Elapsed time (fibo): 7.152557373046875e-07s\n",
      "Elapsed time (fibo): 6.604194641113281e-05s\n",
      "Elapsed time (fibo): 7.152557373046875e-07s\n",
      "Elapsed time (fibo): 0.0001323223114013672s\n",
      "Elapsed time (fibo): 4.76837158203125e-07s\n",
      "Elapsed time (fibo): 7.152557373046875e-07s\n",
      "Elapsed time (fibo): 6.556510925292969e-05s\n",
      "Elapsed time (fibo): 0.0002620220184326172s\n",
      "Elapsed time (fibo): 0.008273601531982422s\n",
      "Elapsed time (fibo): 7.152557373046875e-07s\n",
      "Elapsed time (fibo): 7.152557373046875e-07s\n",
      "Elapsed time (fibo): 6.556510925292969e-05s\n",
      "Elapsed time (fibo): 4.76837158203125e-07s\n",
      "Elapsed time (fibo): 0.0001316070556640625s\n",
      "Elapsed time (fibo): 4.76837158203125e-07s\n",
      "Elapsed time (fibo): 7.152557373046875e-07s\n",
      "Elapsed time (fibo): 0.003833293914794922s\n",
      "Elapsed time (fibo): 0.004037380218505859s\n",
      "Elapsed time (fibo): 4.76837158203125e-07s\n",
      "Elapsed time (fibo): 4.76837158203125e-07s\n",
      "Elapsed time (fibo): 6.318092346191406e-05s\n",
      "Elapsed time (fibo): 7.152557373046875e-07s\n",
      "Elapsed time (fibo): 0.00011968612670898438s\n",
      "Elapsed time (fibo): 0.004211902618408203s\n",
      "Elapsed time (fibo): 0.012543439865112305s\n",
      "Elapsed time (fibo): 0.015629053115844727s\n",
      "Elapsed time (fibo): 7.152557373046875e-07s\n",
      "Elapsed time (fibo): 4.76837158203125e-07s\n",
      "Elapsed time (fibo): 5.507469177246094e-05s\n",
      "Elapsed time (fibo): 4.76837158203125e-07s\n",
      "Elapsed time (fibo): 0.00010943412780761719s\n",
      "Elapsed time (fibo): 4.76837158203125e-07s\n",
      "Elapsed time (fibo): 4.76837158203125e-07s\n",
      "Elapsed time (fibo): 6.651878356933594e-05s\n",
      "Elapsed time (fibo): 0.00023698806762695312s\n",
      "Elapsed time (fibo): 1.9073486328125e-06s\n",
      "Elapsed time (fibo): 4.76837158203125e-07s\n",
      "Elapsed time (fibo): 6.103515625e-05s\n",
      "Elapsed time (fibo): 4.76837158203125e-07s\n",
      "Elapsed time (fibo): 0.00010061264038085938s\n",
      "Elapsed time (fibo): 0.0030984878540039062s\n",
      "Elapsed time (fibo): 4.76837158203125e-07s\n",
      "Elapsed time (fibo): 2.384185791015625e-07s\n",
      "Elapsed time (fibo): 3.886222839355469e-05s\n",
      "Elapsed time (fibo): 2.384185791015625e-07s\n",
      "Elapsed time (fibo): 7.653236389160156e-05s\n",
      "Elapsed time (fibo): 2.384185791015625e-07s\n",
      "Elapsed time (fibo): 2.384185791015625e-07s\n",
      "Elapsed time (fibo): 3.838539123535156e-05s\n",
      "Elapsed time (fibo): 0.000152587890625s\n",
      "Elapsed time (fibo): 0.0032892227172851562s\n",
      "Elapsed time (fibo): 2.384185791015625e-07s\n",
      "Elapsed time (fibo): 2.384185791015625e-07s\n",
      "Elapsed time (fibo): 3.886222839355469e-05s\n",
      "Elapsed time (fibo): 4.76837158203125e-07s\n",
      "Elapsed time (fibo): 7.295608520507812e-05s\n",
      "Elapsed time (fibo): 7.152557373046875e-07s\n",
      "Elapsed time (fibo): 2.384185791015625e-07s\n",
      "Elapsed time (fibo): 0.0001983642578125s\n",
      "Elapsed time (fibo): 0.0005025863647460938s\n",
      "Elapsed time (fibo): 2.384185791015625e-07s\n",
      "Elapsed time (fibo): 4.76837158203125e-07s\n",
      "Elapsed time (fibo): 4.0531158447265625e-05s\n",
      "Elapsed time (fibo): 4.76837158203125e-07s\n",
      "Elapsed time (fibo): 7.891654968261719e-05s\n",
      "Elapsed time (fibo): 0.0007259845733642578s\n",
      "Elapsed time (fibo): 0.0040531158447265625s\n",
      "Elapsed time (fibo): 4.76837158203125e-07s\n",
      "Elapsed time (fibo): 2.384185791015625e-07s\n",
      "Elapsed time (fibo): 3.9577484130859375e-05s\n",
      "Elapsed time (fibo): 4.76837158203125e-07s\n",
      "Elapsed time (fibo): 7.82012939453125e-05s\n",
      "Elapsed time (fibo): 2.384185791015625e-07s\n",
      "Elapsed time (fibo): 0.0002949237823486328s\n",
      "Elapsed time (fibo): 0.000370025634765625s\n",
      "Elapsed time (fibo): 0.0004870891571044922s\n",
      "Elapsed time (fibo): 2.384185791015625e-07s\n",
      "Elapsed time (fibo): 2.384185791015625e-07s\n",
      "Elapsed time (fibo): 4.482269287109375e-05s\n",
      "Elapsed time (fibo): 4.76837158203125e-07s\n",
      "Elapsed time (fibo): 8.440017700195312e-05s\n",
      "Elapsed time (fibo): 0.0006921291351318359s\n",
      "Elapsed time (fibo): 2.384185791015625e-07s\n",
      "Elapsed time (fibo): 2.384185791015625e-07s\n",
      "Elapsed time (fibo): 3.2901763916015625e-05s\n",
      "Elapsed time (fibo): 2.6226043701171875e-06s\n",
      "Elapsed time (fibo): 0.0057947635650634766s\n",
      "Elapsed time (fibo): 9.5367431640625e-07s\n",
      "Elapsed time (fibo): 9.5367431640625e-07s\n",
      "Elapsed time (fibo): 7.152557373046875e-05s\n",
      "Elapsed time (fibo): 0.005936861038208008s\n",
      "Elapsed time (fibo): 0.006682872772216797s\n",
      "Elapsed time (fibo): 0.010787248611450195s\n",
      "Elapsed time (fibo): 0.026476621627807617s\n"
     ]
    },
    {
     "data": {
      "text/plain": [
       "55"
      ]
     },
     "execution_count": 120,
     "metadata": {},
     "output_type": "execute_result"
    }
   ],
   "source": [
    "@profile\n",
    "def fibo(n):\n",
    "    \"\"\"Super inefficient fibo function\"\"\"\n",
    "    if n < 2:\n",
    "        return n\n",
    "    else:\n",
    "        return fibo(n-1) + fibo(n-2)\n",
    "   \n",
    "fibo(10)"
   ]
  },
  {
   "cell_type": "markdown",
   "metadata": {},
   "source": [
    "#### Recursion support"
   ]
  },
  {
   "cell_type": "code",
   "execution_count": 121,
   "metadata": {},
   "outputs": [
    {
     "name": "stdout",
     "output_type": "stream",
     "text": [
      "Elapsed time for function fibo: 0.0001461505889892578s\n"
     ]
    },
    {
     "data": {
      "text/plain": [
       "55"
      ]
     },
     "execution_count": 121,
     "metadata": {},
     "output_type": "execute_result"
    }
   ],
   "source": [
    "def profile(msg=\"Elapsed time for function\"):\n",
    "    def internal(f):\n",
    "        @functools.wraps(f)\n",
    "        def deco(*args, **kwargs):\n",
    "            start = time.time()\n",
    "            deco._num_call += 1\n",
    "            result = f(*args, **kwargs)\n",
    "            deco._num_call -= 1\n",
    "            \n",
    "            if deco._num_call == 0:\n",
    "                print(msg, f'{f.__name__}: {time.time() - start}s')\n",
    "            return result\n",
    "        \n",
    "        deco._num_call = 0\n",
    "        return deco\n",
    "    \n",
    "    return internal\n",
    "\n",
    "@profile()\n",
    "def fibo(n):\n",
    "    \"\"\"Super inefficient fibo function\"\"\"\n",
    "    if n < 2:\n",
    "        return n\n",
    "    else:\n",
    "        return fibo(n-1) + fibo(n-2)\n",
    "   \n",
    "fibo(10)"
   ]
  },
  {
   "cell_type": "markdown",
   "metadata": {},
   "source": [
    "#### Exponential backoff"
   ]
  },
  {
   "cell_type": "code",
   "execution_count": 74,
   "metadata": {},
   "outputs": [
    {
     "name": "stdout",
     "output_type": "stream",
     "text": [
      "Trying to connect:  google.com\n",
      "Failed after 1 times, trying again after 1 sec...\n",
      "Trying to connect:  google.com\n",
      "Failed after 2 times, trying again after 2 sec...\n",
      "Trying to connect:  google.com\n",
      "SUCCESS!\n"
     ]
    }
   ],
   "source": [
    "def repeate(max_repeat=10):\n",
    "    def internal(f):\n",
    "        @functools.wraps(f)\n",
    "        def repeater(*args, **kwargs):\n",
    "            while repeater._num_repeats <= max_repeat:\n",
    "                try:\n",
    "                    return f(*args, **kwargs)\n",
    "                except Exception as ex:\n",
    "                    if repeater._num_repeats == max_repeat:\n",
    "                        raise\n",
    "                    else:\n",
    "                        print(f'Failed after {repeater._num_repeats+1} times, trying again after {2**repeater._num_repeats} sec...')\n",
    "                        sleep(2**repeater._num_repeats)\n",
    "                        repeater._num_repeats += 1\n",
    "                \n",
    "        repeater._num_repeats = 0\n",
    "        return repeater\n",
    "    return internal\n",
    "\n",
    "\n",
    "@repeate(max_repeat=4)\n",
    "# @repeate()\n",
    "# @repeate # note the difference\n",
    "def connect_to_server(*args):\n",
    "    print('Trying to connect: ', *args)\n",
    "    if sum(random.choices([0, 1], [0.8, 0.2])) == 0:\n",
    "        raise RuntimeError('Failed to connect')\n",
    "    print('SUCCESS!')\n",
    "\n",
    "connect_to_server('google.com')\n"
   ]
  },
  {
   "cell_type": "markdown",
   "metadata": {},
   "source": [
    "#### Cache"
   ]
  },
  {
   "cell_type": "code",
   "execution_count": 124,
   "metadata": {},
   "outputs": [],
   "source": [
    "def cache(f):\n",
    "    \n",
    "    @functools.wraps(f)\n",
    "    def deco(*args):\n",
    "        \n",
    "        if args in deco._cache:\n",
    "            return deco._cache[args]\n",
    "        \n",
    "        result = f(*args)\n",
    "        \n",
    "        deco._cache[args] = result\n",
    "        \n",
    "        return result\n",
    "    \n",
    "    deco._cache = {}\n",
    "        \n",
    "    return deco"
   ]
  },
  {
   "cell_type": "code",
   "execution_count": 80,
   "metadata": {},
   "outputs": [
    {
     "name": "stdout",
     "output_type": "stream",
     "text": [
      "Elapsed time for function foo: 5.003516912460327s\n",
      "Elapsed time for function foo: 4.0531158447265625e-06s\n",
      "Elapsed time for function foo: 6.002982139587402s\n",
      "Elapsed time for function foo: 5.0067901611328125e-06s\n"
     ]
    }
   ],
   "source": [
    "@profile()\n",
    "# @cache(max_size=64)\n",
    "@cache\n",
    "def foo(n):\n",
    "    time.sleep(n)\n",
    "\n",
    "foo(5)\n",
    "foo(5)\n",
    "foo(6)\n",
    "foo(6)"
   ]
  },
  {
   "cell_type": "code",
   "execution_count": 125,
   "metadata": {},
   "outputs": [],
   "source": [
    "@profile()\n",
    "@cache\n",
    "def fibo(n):\n",
    "    \"\"\"Super inefficient fibo function\"\"\"\n",
    "    if n < 2:\n",
    "        return n\n",
    "    else:\n",
    "        return fibo(n-1) + fibo(n-2)\n"
   ]
  },
  {
   "cell_type": "code",
   "execution_count": 126,
   "metadata": {},
   "outputs": [
    {
     "name": "stdout",
     "output_type": "stream",
     "text": [
      "Elapsed time for function fibo: 3.4809112548828125e-05s\n"
     ]
    },
    {
     "data": {
      "text/plain": [
       "55"
      ]
     },
     "execution_count": 126,
     "metadata": {},
     "output_type": "execute_result"
    }
   ],
   "source": [
    "# for i in range(1000):\n",
    "#     print(i, '->', fibo(i))\n",
    "fibo(10)\n",
    "# fibo(1000)"
   ]
  },
  {
   "cell_type": "code",
   "execution_count": 127,
   "metadata": {},
   "outputs": [
    {
     "data": {
      "text/plain": [
       "{(1,): 1,\n",
       " (0,): 0,\n",
       " (2,): 1,\n",
       " (3,): 2,\n",
       " (4,): 3,\n",
       " (5,): 5,\n",
       " (6,): 8,\n",
       " (7,): 13,\n",
       " (8,): 21,\n",
       " (9,): 34,\n",
       " (10,): 55}"
      ]
     },
     "execution_count": 127,
     "metadata": {},
     "output_type": "execute_result"
    }
   ],
   "source": [
    "fibo._cache"
   ]
  },
  {
   "cell_type": "code",
   "execution_count": 128,
   "metadata": {},
   "outputs": [],
   "source": [
    "from functools import lru_cache\n",
    "\n",
    "@lru_cache(maxsize=64)\n",
    "def foo():\n",
    "    print('foo')"
   ]
  },
  {
   "cell_type": "markdown",
   "metadata": {},
   "source": [
    "### Links"
   ]
  },
  {
   "cell_type": "markdown",
   "metadata": {},
   "source": [
    "1. Python Intorduciton: https://www.youtube.com/watch?v=5V7XG1mGiHc&list=PLlb7e2G7aSpTTNp7HBYzCBByaE1h54ruW\n",
    "2. Теория по декораторам: http://bit.ly/2z5yatp: стр. 414\n",
    "3. Примеры с урока: https://github.com/dbradul/python_course/blob/master/lesson_deco.ipynb\n",
    "4. Exponential backoff: https://bit.ly/3nvOyeQ\n",
    "5. Установка jupyter: https://www.youtube.com/watch?v=VIaur9G-0tc"
   ]
  },
  {
   "cell_type": "markdown",
   "metadata": {},
   "source": [
    "### H/w"
   ]
  },
  {
   "cell_type": "markdown",
   "metadata": {},
   "source": [
    "1. Дополнить декоратор сache поддержкой max_limit.\n",
    "2. "
   ]
  }
 ],
 "metadata": {
  "kernelspec": {
   "display_name": "Python 3",
   "language": "python",
   "name": "python3"
  },
  "language_info": {
   "codemirror_mode": {
    "name": "ipython",
    "version": 3
   },
   "file_extension": ".py",
   "mimetype": "text/x-python",
   "name": "python",
   "nbconvert_exporter": "python",
   "pygments_lexer": "ipython3",
   "version": "3.8.5"
  }
 },
 "nbformat": 4,
 "nbformat_minor": 4
}
