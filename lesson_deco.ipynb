{
 "cells": [
  {
   "cell_type": "code",
   "execution_count": 64,
   "metadata": {},
   "outputs": [],
   "source": [
    "import random\n",
    "import time\n",
    "import functools\n",
    "from time import sleep"
   ]
  },
  {
   "cell_type": "markdown",
   "metadata": {},
   "source": [
    "### Decorators"
   ]
  },
  {
   "cell_type": "code",
   "execution_count": null,
   "metadata": {},
   "outputs": [],
   "source": [
    "def send_email(settings=None):\n",
    "    time.sleep(random.randint(1, 3))\n",
    "\n",
    "\n",
    "send_email(settings={'smtp': 'smtp.google.com'})\n",
    "send_email(settings={'smtp': 'smtp.outlook.live.com'})\n"
   ]
  },
  {
   "cell_type": "code",
   "execution_count": 66,
   "metadata": {},
   "outputs": [
    {
     "name": "stdout",
     "output_type": "stream",
     "text": [
      "Elapsed 3.002833843231201s\n",
      "Elapsed 1.0003015995025635s\n"
     ]
    }
   ],
   "source": [
    "def send_email(settings=None):\n",
    "    time.sleep(random.randint(1, 3))\n",
    "\n",
    "start = time.time()\n",
    "send_email(settings={'smtp': 'smtp.google.com'})\n",
    "end = time.time()\n",
    "print(f'Elapsed: {end - start}s')\n",
    "\n",
    "start = time.time()\n",
    "send_email(settings={'smtp': 'smtp.outlook.live.com'})\n",
    "end = time.time()\n",
    "print(f'Elapsed: {end - start}s')"
   ]
  },
  {
   "cell_type": "code",
   "execution_count": 68,
   "metadata": {},
   "outputs": [
    {
     "name": "stdout",
     "output_type": "stream",
     "text": [
      "Elapsed  with {'smtp': 'smtp.google.com'}: 1.0015008449554443s\n",
      "Elapsed  with {'smtp': 'smtp.outlook.live.com'}: 2.0020358562469482s\n"
     ]
    }
   ],
   "source": [
    "def send_email(settings=None):\n",
    "    start = time.time()\n",
    "\n",
    "    time.sleep(random.randrange(1, 3))\n",
    "\n",
    "    end = time.time()\n",
    "    print(f'Elapsed  with {settings}: {end - start}s')\n",
    "\n",
    "send_email(settings={'smtp': 'smtp.google.com'})\n",
    "send_email(settings={'smtp': 'smtp.outlook.live.com'})"
   ]
  },
  {
   "cell_type": "code",
   "execution_count": 14,
   "metadata": {},
   "outputs": [
    {
     "name": "stdout",
     "output_type": "stream",
     "text": [
      "Elapsed with s3: 6.031990051269531e-05s\n",
      "Elapsed with gdrive: 8.821487426757812e-06s\n"
     ]
    }
   ],
   "source": [
    "def dump_database(storage=None):\n",
    "    start = time.time()\n",
    "\n",
    "    time.sleep(random.randrange(0, 1))\n",
    "\n",
    "    end = time.time()\n",
    "    print(f'Elapsed with {storage}: {end - start}s')\n",
    "\n",
    "dump_database(storage='s3')\n",
    "dump_database(storage='gdrive')"
   ]
  },
  {
   "cell_type": "code",
   "execution_count": 20,
   "metadata": {},
   "outputs": [
    {
     "name": "stdout",
     "output_type": "stream",
     "text": [
      "Elapsed (): 0.028357982635498047s\n"
     ]
    }
   ],
   "source": [
    "def some_other_func(*args):\n",
    "    start = time.time()\n",
    "\n",
    "    lst = [i for i in range(10**6)]\n",
    "\n",
    "    print(f'Elapsed {args}: {time.time() - start}s')\n",
    "\n",
    "some_other_func()"
   ]
  },
  {
   "cell_type": "code",
   "execution_count": null,
   "metadata": {},
   "outputs": [],
   "source": [
    "def profile():\n",
    "    start = time.time()\n",
    "\n",
    "    # some code\n",
    "\n",
    "    print(f'Elapsed: {time.time() - start}s')"
   ]
  },
  {
   "cell_type": "code",
   "execution_count": null,
   "metadata": {},
   "outputs": [],
   "source": []
  },
  {
   "cell_type": "code",
   "execution_count": null,
   "metadata": {},
   "outputs": [],
   "source": []
  },
  {
   "cell_type": "code",
   "execution_count": null,
   "metadata": {},
   "outputs": [],
   "source": []
  },
  {
   "cell_type": "code",
   "execution_count": null,
   "metadata": {},
   "outputs": [],
   "source": []
  },
  {
   "cell_type": "code",
   "execution_count": null,
   "metadata": {},
   "outputs": [],
   "source": []
  },
  {
   "cell_type": "code",
   "execution_count": null,
   "metadata": {},
   "outputs": [],
   "source": []
  },
  {
   "cell_type": "code",
   "execution_count": 71,
   "metadata": {},
   "outputs": [],
   "source": [
    "def dump_database(storage=None):\n",
    "    time.sleep(random.randrange(0, 1))\n",
    "    \n",
    "def send_email(settings=None):\n",
    "    time.sleep(random.randint(1, 3))"
   ]
  },
  {
   "cell_type": "code",
   "execution_count": null,
   "metadata": {},
   "outputs": [],
   "source": []
  },
  {
   "cell_type": "code",
   "execution_count": 72,
   "metadata": {},
   "outputs": [
    {
     "name": "stdout",
     "output_type": "stream",
     "text": [
      "Elapsed: 2.288818359375e-05s\n",
      "Elapsed: 1.00081467628479s\n"
     ]
    }
   ],
   "source": [
    "def profile(f):\n",
    "    start = time.time()\n",
    "\n",
    "    f()\n",
    "\n",
    "    print(f'Elapsed: {time.time() - start}s')\n",
    "\n",
    "profile(dump_database)\n",
    "profile(send_email)"
   ]
  },
  {
   "cell_type": "code",
   "execution_count": 31,
   "metadata": {},
   "outputs": [
    {
     "data": {
      "text/plain": [
       "NoneType"
      ]
     },
     "execution_count": 31,
     "metadata": {},
     "output_type": "execute_result"
    }
   ],
   "source": [
    "type(foo())"
   ]
  },
  {
   "cell_type": "code",
   "execution_count": 73,
   "metadata": {},
   "outputs": [
    {
     "name": "stdout",
     "output_type": "stream",
     "text": [
      "<class 'function'>\n",
      "Hello\n"
     ]
    }
   ],
   "source": [
    "def say_hello():\n",
    "    def internal():\n",
    "        print('Hello')\n",
    "    return internal\n",
    "\n",
    "f = say_hello()\n",
    "print(type(f))\n",
    "f()"
   ]
  },
  {
   "cell_type": "code",
   "execution_count": 74,
   "metadata": {},
   "outputs": [
    {
     "name": "stdout",
     "output_type": "stream",
     "text": [
      "Hello John\n",
      "Hello Bill\n"
     ]
    }
   ],
   "source": [
    "def say_hello():\n",
    "    def internal(msg):\n",
    "        print('Hello', msg)\n",
    "    return internal\n",
    "\n",
    "f1 = say_hello()\n",
    "f1('John')\n",
    "\n",
    "f1 = say_hello()\n",
    "f1('Bill')"
   ]
  },
  {
   "cell_type": "code",
   "execution_count": 75,
   "metadata": {},
   "outputs": [
    {
     "name": "stdout",
     "output_type": "stream",
     "text": [
      "Hello John\n",
      "Hi Bill\n"
     ]
    }
   ],
   "source": [
    "def say_hello(greeting='Hello'):\n",
    "    def internal(msg):\n",
    "        print(greeting, msg)\n",
    "    return internal\n",
    "\n",
    "f1 = say_hello()\n",
    "f1('John')\n",
    "\n",
    "f1 = say_hello('Hi')\n",
    "f1('Bill')"
   ]
  },
  {
   "cell_type": "code",
   "execution_count": 76,
   "metadata": {},
   "outputs": [
    {
     "name": "stdout",
     "output_type": "stream",
     "text": [
      "Hello John 42 [1, 2, 3] True\n"
     ]
    }
   ],
   "source": [
    "def say_hello(greeting='Hello'):\n",
    "    def internal(*args):\n",
    "        print(greeting, *args)\n",
    "    return internal\n",
    "\n",
    "f1 = say_hello()\n",
    "f1('John', 42, [1, 2, 3], True)"
   ]
  },
  {
   "cell_type": "code",
   "execution_count": 77,
   "metadata": {},
   "outputs": [],
   "source": [
    "def profile(f):\n",
    "    def deco(*args):\n",
    "        start = time.time()\n",
    "        f(*args)\n",
    "        print(f'Elapsed time for function {f.__name__}: {time.time() - start}ms')\n",
    "    return deco"
   ]
  },
  {
   "cell_type": "code",
   "execution_count": 81,
   "metadata": {},
   "outputs": [
    {
     "name": "stdout",
     "output_type": "stream",
     "text": [
      "Elapsed time for function send_email: 1.0005600452423096ms\n",
      "Elapsed time for function send_email: 3.0030457973480225ms\n"
     ]
    }
   ],
   "source": [
    "# foo()\n",
    "foo_decoreted=profile(send_email)\n",
    "foo_decoreted({'smtp': 'google.com'})\n",
    "foo_decoreted({'smtp': 'live.com'})"
   ]
  },
  {
   "cell_type": "code",
   "execution_count": 82,
   "metadata": {},
   "outputs": [
    {
     "name": "stdout",
     "output_type": "stream",
     "text": [
      "Elapsed time for function send_email: 3.001675844192505ms\n",
      "Elapsed time for function send_email: 2.00132155418396ms\n"
     ]
    }
   ],
   "source": [
    "send_email=profile(send_email)\n",
    "send_email({'smtp': 'google.com'})\n",
    "send_email({'smtp': 'live.com'})"
   ]
  },
  {
   "cell_type": "code",
   "execution_count": 48,
   "metadata": {},
   "outputs": [
    {
     "name": "stdout",
     "output_type": "stream",
     "text": [
      "42\n"
     ]
    }
   ],
   "source": [
    "@profile  # -> foo5 = profile(foo5)\n",
    "def foo5():\n",
    "    time.sleep(random.randint(1, 2))\n",
    "\n",
    "# foo5 = profile(foo5)\n",
    "print(foo5())"
   ]
  },
  {
   "cell_type": "markdown",
   "metadata": {},
   "source": [
    "### We need to go deeper"
   ]
  },
  {
   "cell_type": "code",
   "execution_count": 13,
   "metadata": {},
   "outputs": [
    {
     "name": "stdout",
     "output_type": "stream",
     "text": [
      "Elapsed time for function foo6: 2.0023670196533203ms\n",
      "None\n"
     ]
    }
   ],
   "source": [
    "@profile\n",
    "def foo6():\n",
    "    time.sleep(random.randint(1, 2))\n",
    "    return 42\n",
    "\n",
    "print(foo6())"
   ]
  },
  {
   "cell_type": "code",
   "execution_count": 14,
   "metadata": {},
   "outputs": [],
   "source": [
    "def profile(f):\n",
    "    def deco(*args):\n",
    "        start = time.time()\n",
    "        result = f(*args)\n",
    "        print(f'Elapsed time for function {f.__name__}: {time.time() - start}ms')\n",
    "        return result\n",
    "    return deco"
   ]
  },
  {
   "cell_type": "code",
   "execution_count": 84,
   "metadata": {},
   "outputs": [
    {
     "name": "stdout",
     "output_type": "stream",
     "text": [
      "42\n",
      "Help on function foo7 in module __main__:\n",
      "\n",
      "foo7()\n",
      "    Help for foo7\n",
      "\n"
     ]
    }
   ],
   "source": [
    "@profile\n",
    "def foo7():\n",
    "    \"\"\"Help for foo7\"\"\"\n",
    "    time.sleep(random.randint(1, 2))\n",
    "    return 42\n",
    "\n",
    "print(foo7())\n",
    "help(foo7)"
   ]
  },
  {
   "cell_type": "code",
   "execution_count": 85,
   "metadata": {},
   "outputs": [],
   "source": [
    "def profile(f):\n",
    "    @functools.wraps(f)\n",
    "    def deco(*args):\n",
    "        start = time.time()\n",
    "        f(*args)\n",
    "        print(f'Elapsed time for function {f.__name__}: {time.time() - start}ms')\n",
    "    return deco"
   ]
  },
  {
   "cell_type": "code",
   "execution_count": 86,
   "metadata": {},
   "outputs": [
    {
     "name": "stdout",
     "output_type": "stream",
     "text": [
      "Elapsed time for function foo8: 1.0006091594696045ms\n",
      "42\n",
      "Help on function foo8 in module __main__:\n",
      "\n",
      "foo8()\n",
      "    Help for foo8\n",
      "\n"
     ]
    }
   ],
   "source": [
    "@profile\n",
    "def foo8():\n",
    "    \"\"\"Help for foo8\"\"\"\n",
    "    time.sleep(random.randint(1, 2))\n",
    "    return 42\n",
    "\n",
    "print(foo8())\n",
    "help(foo8)"
   ]
  },
  {
   "cell_type": "code",
   "execution_count": 93,
   "metadata": {},
   "outputs": [],
   "source": [
    "def profile(msg):\n",
    "    def internal(f):\n",
    "        @functools.wraps(f)\n",
    "        def deco(*args):\n",
    "            start = time.time()\n",
    "            result = f(*args)\n",
    "            print(msg, f'{f.__name__}: {time.time() - start}ms')\n",
    "            return result\n",
    "        return deco\n",
    "    return internal"
   ]
  },
  {
   "cell_type": "code",
   "execution_count": 94,
   "metadata": {},
   "outputs": [
    {
     "name": "stdout",
     "output_type": "stream",
     "text": [
      "Help on function foo8 in module __main__:\n",
      "\n",
      "foo8()\n",
      "    Help for foo7\n",
      "\n",
      "Elapsed time foo8: 1.0004870891571045ms\n",
      "RESULT:  42\n"
     ]
    }
   ],
   "source": [
    "@profile('Elapsed time') # -> profile_ = profile('Time spent')\n",
    "                       # -> foo5 = profile_(foo5)\n",
    "def foo8():\n",
    "    \"\"\"Help for foo7\"\"\"\n",
    "    time.sleep(random.randint(1, 2))\n",
    "    return 42\n",
    "\n",
    "help(foo8)\n",
    "print(\"RESULT: \", foo8())"
   ]
  },
  {
   "cell_type": "code",
   "execution_count": 98,
   "metadata": {},
   "outputs": [],
   "source": [
    "def profile(msg=\"Elapsed time for function\"):\n",
    "    def internal(f):\n",
    "        @functools.wraps(f)\n",
    "        def deco(*args):\n",
    "            start = time.time()\n",
    "            deco._num_call += 1\n",
    "            result = f(*args)\n",
    "            deco._num_call -= 1\n",
    "            \n",
    "            if deco._num_call == 0:\n",
    "                print(msg, f'{f.__name__}: {time.time() - start}ms')\n",
    "            return result\n",
    "        \n",
    "        deco._num_call = 0\n",
    "        return deco\n",
    "    \n",
    "    return internal"
   ]
  },
  {
   "cell_type": "code",
   "execution_count": null,
   "metadata": {},
   "outputs": [],
   "source": []
  },
  {
   "cell_type": "markdown",
   "metadata": {},
   "source": [
    "### Extra examples"
   ]
  },
  {
   "cell_type": "markdown",
   "metadata": {},
   "source": [
    "Exponential backoff"
   ]
  },
  {
   "cell_type": "code",
   "execution_count": 95,
   "metadata": {},
   "outputs": [
    {
     "name": "stdout",
     "output_type": "stream",
     "text": [
      "Trying to connect:  google.com\n",
      "Failed after 1 times, trying again after 1 sec...\n",
      "Trying to connect:  google.com\n",
      "Failed after 2 times, trying again after 2 sec...\n",
      "Trying to connect:  google.com\n",
      "Failed after 3 times, trying again after 4 sec...\n",
      "Trying to connect:  google.com\n",
      "Failed after 4 times, trying again after 8 sec...\n",
      "Trying to connect:  google.com\n"
     ]
    },
    {
     "ename": "RuntimeError",
     "evalue": "Failed to connect",
     "output_type": "error",
     "traceback": [
      "\u001b[0;31m---------------------------------------------------------------------------\u001b[0m",
      "\u001b[0;31mRuntimeError\u001b[0m                              Traceback (most recent call last)",
      "\u001b[0;32m<ipython-input-95-031cb1a37ea7>\u001b[0m in \u001b[0;36m<module>\u001b[0;34m\u001b[0m\n\u001b[1;32m     26\u001b[0m     \u001b[0;32mraise\u001b[0m \u001b[0mRuntimeError\u001b[0m\u001b[0;34m(\u001b[0m\u001b[0;34m'Failed to connect'\u001b[0m\u001b[0;34m)\u001b[0m\u001b[0;34m\u001b[0m\u001b[0;34m\u001b[0m\u001b[0m\n\u001b[1;32m     27\u001b[0m \u001b[0;34m\u001b[0m\u001b[0m\n\u001b[0;32m---> 28\u001b[0;31m \u001b[0mconnect_to_server\u001b[0m\u001b[0;34m(\u001b[0m\u001b[0;34m'google.com'\u001b[0m\u001b[0;34m)\u001b[0m\u001b[0;34m\u001b[0m\u001b[0;34m\u001b[0m\u001b[0m\n\u001b[0m",
      "\u001b[0;32m<ipython-input-95-031cb1a37ea7>\u001b[0m in \u001b[0;36mrepeater\u001b[0;34m(*args, **kwargs)\u001b[0m\n\u001b[1;32m      5\u001b[0m             \u001b[0;32mwhile\u001b[0m \u001b[0mrepeater\u001b[0m\u001b[0;34m.\u001b[0m\u001b[0m_num_repeats\u001b[0m \u001b[0;34m<=\u001b[0m \u001b[0mmax_repeat\u001b[0m\u001b[0;34m:\u001b[0m\u001b[0;34m\u001b[0m\u001b[0;34m\u001b[0m\u001b[0m\n\u001b[1;32m      6\u001b[0m                 \u001b[0;32mtry\u001b[0m\u001b[0;34m:\u001b[0m\u001b[0;34m\u001b[0m\u001b[0;34m\u001b[0m\u001b[0m\n\u001b[0;32m----> 7\u001b[0;31m                     \u001b[0mf\u001b[0m\u001b[0;34m(\u001b[0m\u001b[0;34m*\u001b[0m\u001b[0margs\u001b[0m\u001b[0;34m,\u001b[0m \u001b[0;34m**\u001b[0m\u001b[0mkwargs\u001b[0m\u001b[0;34m)\u001b[0m\u001b[0;34m\u001b[0m\u001b[0;34m\u001b[0m\u001b[0m\n\u001b[0m\u001b[1;32m      8\u001b[0m                 \u001b[0;32mexcept\u001b[0m \u001b[0mException\u001b[0m \u001b[0;32mas\u001b[0m \u001b[0mex\u001b[0m\u001b[0;34m:\u001b[0m\u001b[0;34m\u001b[0m\u001b[0;34m\u001b[0m\u001b[0m\n\u001b[1;32m      9\u001b[0m                     \u001b[0;32mif\u001b[0m \u001b[0mrepeater\u001b[0m\u001b[0;34m.\u001b[0m\u001b[0m_num_repeats\u001b[0m \u001b[0;34m==\u001b[0m \u001b[0mmax_repeat\u001b[0m\u001b[0;34m:\u001b[0m\u001b[0;34m\u001b[0m\u001b[0;34m\u001b[0m\u001b[0m\n",
      "\u001b[0;32m<ipython-input-95-031cb1a37ea7>\u001b[0m in \u001b[0;36mconnect_to_server\u001b[0;34m(*args)\u001b[0m\n\u001b[1;32m     24\u001b[0m \u001b[0;32mdef\u001b[0m \u001b[0mconnect_to_server\u001b[0m\u001b[0;34m(\u001b[0m\u001b[0;34m*\u001b[0m\u001b[0margs\u001b[0m\u001b[0;34m)\u001b[0m\u001b[0;34m:\u001b[0m\u001b[0;34m\u001b[0m\u001b[0;34m\u001b[0m\u001b[0m\n\u001b[1;32m     25\u001b[0m     \u001b[0mprint\u001b[0m\u001b[0;34m(\u001b[0m\u001b[0;34m'Trying to connect: '\u001b[0m\u001b[0;34m,\u001b[0m \u001b[0;34m*\u001b[0m\u001b[0margs\u001b[0m\u001b[0;34m)\u001b[0m\u001b[0;34m\u001b[0m\u001b[0;34m\u001b[0m\u001b[0m\n\u001b[0;32m---> 26\u001b[0;31m     \u001b[0;32mraise\u001b[0m \u001b[0mRuntimeError\u001b[0m\u001b[0;34m(\u001b[0m\u001b[0;34m'Failed to connect'\u001b[0m\u001b[0;34m)\u001b[0m\u001b[0;34m\u001b[0m\u001b[0;34m\u001b[0m\u001b[0m\n\u001b[0m\u001b[1;32m     27\u001b[0m \u001b[0;34m\u001b[0m\u001b[0m\n\u001b[1;32m     28\u001b[0m \u001b[0mconnect_to_server\u001b[0m\u001b[0;34m(\u001b[0m\u001b[0;34m'google.com'\u001b[0m\u001b[0;34m)\u001b[0m\u001b[0;34m\u001b[0m\u001b[0;34m\u001b[0m\u001b[0m\n",
      "\u001b[0;31mRuntimeError\u001b[0m: Failed to connect"
     ]
    }
   ],
   "source": [
    "def repeate(max_repeat=10):\n",
    "    def internal(f):\n",
    "        @functools.wraps(f)\n",
    "        def repeater(*args, **kwargs):\n",
    "            while repeater._num_repeats <= max_repeat:\n",
    "                try:\n",
    "                    f(*args, **kwargs)\n",
    "                except Exception as ex:\n",
    "                    if repeater._num_repeats == max_repeat:\n",
    "                        raise\n",
    "                    else:\n",
    "                        print(f'Failed after {repeater._num_repeats+1} times, trying again after {2**repeater._num_repeats} sec...')\n",
    "                        sleep(2**repeater._num_repeats)\n",
    "                        repeater._num_repeats += 1\n",
    "                \n",
    "        repeater._num_repeats = 0\n",
    "        return repeater\n",
    "    return internal\n",
    "\n",
    "\n",
    "@repeate(max_repeat=4)\n",
    "# @repeate()\n",
    "# @repeate # note the difference\n",
    "def connect_to_server(*args):\n",
    "    print('Trying to connect: ', *args)\n",
    "    raise RuntimeError('Failed to connect')\n",
    "\n",
    "connect_to_server('google.com')\n"
   ]
  },
  {
   "cell_type": "code",
   "execution_count": null,
   "metadata": {},
   "outputs": [],
   "source": [
    "@profile()\n",
    "@repeate()\n",
    "def foo9():\n",
    "    \"\"\"Help for foo9\"\"\"\n",
    "    time.sleep(random.randint(1, 2))\n",
    "    return 42\n",
    "\n",
    "foo9()"
   ]
  },
  {
   "cell_type": "markdown",
   "metadata": {},
   "source": [
    "#### Cache"
   ]
  },
  {
   "cell_type": "code",
   "execution_count": 99,
   "metadata": {},
   "outputs": [],
   "source": [
    "def cache(f):\n",
    "    \n",
    "    @functools.wraps(f)\n",
    "    def deco(*args):\n",
    "        \n",
    "        if args in deco._cache:\n",
    "            return deco._cache[args]\n",
    "        \n",
    "        result = f(*args)\n",
    "        \n",
    "        deco._cache[args] = result\n",
    "        \n",
    "        return result\n",
    "    \n",
    "    deco._cache = {}\n",
    "        \n",
    "    return deco"
   ]
  },
  {
   "cell_type": "code",
   "execution_count": 101,
   "metadata": {},
   "outputs": [
    {
     "name": "stdout",
     "output_type": "stream",
     "text": [
      "Elapsed time for function foo: 5.003351926803589ms\n",
      "Elapsed time for function foo: 6.67572021484375e-06ms\n",
      "Elapsed time for function foo: 6.003460884094238ms\n",
      "Elapsed time for function foo: 3.337860107421875e-06ms\n"
     ]
    }
   ],
   "source": [
    "@profile()\n",
    "@cache(max_size=64)\n",
    "def foo(n):\n",
    "    time.sleep(n)\n",
    "\n",
    "foo(5)\n",
    "foo(5)\n",
    "foo(6)\n",
    "foo(6)"
   ]
  },
  {
   "cell_type": "code",
   "execution_count": 61,
   "metadata": {},
   "outputs": [],
   "source": [
    "@profile()\n",
    "@cache\n",
    "#@cache(max_limit=64)\n",
    "# 0 1 1 2 3 5 8 13 ...\n",
    "def fibo(n):\n",
    "    \"\"\"Super inefficient fibo function\"\"\"\n",
    "    if n < 2:\n",
    "        return n\n",
    "    else:\n",
    "        return fibo(n-1) + fibo(n-2)\n"
   ]
  },
  {
   "cell_type": "code",
   "execution_count": null,
   "metadata": {},
   "outputs": [],
   "source": []
  },
  {
   "cell_type": "code",
   "execution_count": null,
   "metadata": {},
   "outputs": [],
   "source": []
  },
  {
   "cell_type": "code",
   "execution_count": 86,
   "metadata": {},
   "outputs": [
    {
     "name": "stdout",
     "output_type": "stream",
     "text": [
      "Elapsed time for function fibo: 1.1205673217773438e-05ms\n",
      "5 -> 5\n"
     ]
    }
   ],
   "source": [
    "print(5, '->', fibo(1000))"
   ]
  },
  {
   "cell_type": "code",
   "execution_count": 5,
   "metadata": {},
   "outputs": [
    {
     "ename": "TypeError",
     "evalue": "lru_cache() got an unexpected keyword argument 'max_limit'",
     "output_type": "error",
     "traceback": [
      "\u001b[0;31m---------------------------------------------------------------------------\u001b[0m",
      "\u001b[0;31mTypeError\u001b[0m                                 Traceback (most recent call last)",
      "\u001b[0;32m<ipython-input-5-23c8700e9761>\u001b[0m in \u001b[0;36m<module>\u001b[0;34m\u001b[0m\n\u001b[1;32m      1\u001b[0m \u001b[0;32mfrom\u001b[0m \u001b[0mfunctools\u001b[0m \u001b[0;32mimport\u001b[0m \u001b[0mlru_cache\u001b[0m\u001b[0;34m\u001b[0m\u001b[0;34m\u001b[0m\u001b[0m\n\u001b[1;32m      2\u001b[0m \u001b[0;34m\u001b[0m\u001b[0m\n\u001b[0;32m----> 3\u001b[0;31m \u001b[0;34m@\u001b[0m\u001b[0mlru_cache\u001b[0m\u001b[0;34m(\u001b[0m\u001b[0mmax_limit\u001b[0m\u001b[0;34m=\u001b[0m\u001b[0;36m64\u001b[0m\u001b[0;34m)\u001b[0m\u001b[0;34m\u001b[0m\u001b[0;34m\u001b[0m\u001b[0m\n\u001b[0m\u001b[1;32m      4\u001b[0m \u001b[0;32mdef\u001b[0m \u001b[0mfoo\u001b[0m\u001b[0;34m(\u001b[0m\u001b[0;34m)\u001b[0m\u001b[0;34m:\u001b[0m\u001b[0;34m\u001b[0m\u001b[0;34m\u001b[0m\u001b[0m\n\u001b[1;32m      5\u001b[0m     \u001b[0mprint\u001b[0m\u001b[0;34m(\u001b[0m\u001b[0;34m'foo'\u001b[0m\u001b[0;34m)\u001b[0m\u001b[0;34m\u001b[0m\u001b[0;34m\u001b[0m\u001b[0m\n",
      "\u001b[0;31mTypeError\u001b[0m: lru_cache() got an unexpected keyword argument 'max_limit'"
     ]
    }
   ],
   "source": [
    "from functools import lru_cache\n",
    "\n",
    "@lru_cache(maxsize=64)\n",
    "def foo():\n",
    "    print('foo')"
   ]
  },
  {
   "cell_type": "markdown",
   "metadata": {},
   "source": [
    "### Visibility scopes"
   ]
  },
  {
   "cell_type": "code",
   "execution_count": 2,
   "metadata": {},
   "outputs": [
    {
     "ename": "NameError",
     "evalue": "name 'foo_bar' is not defined",
     "output_type": "error",
     "traceback": [
      "\u001b[0;31m---------------------------------------------------------------------------\u001b[0m",
      "\u001b[0;31mNameError\u001b[0m                                 Traceback (most recent call last)",
      "\u001b[0;32m<ipython-input-2-82e0e1f37ce7>\u001b[0m in \u001b[0;36m<module>\u001b[0;34m\u001b[0m\n\u001b[1;32m      8\u001b[0m \u001b[0;34m\u001b[0m\u001b[0m\n\u001b[1;32m      9\u001b[0m \u001b[0;31m# print(var)\u001b[0m\u001b[0;34m\u001b[0m\u001b[0;34m\u001b[0m\u001b[0;34m\u001b[0m\u001b[0m\n\u001b[0;32m---> 10\u001b[0;31m \u001b[0mprint\u001b[0m\u001b[0;34m(\u001b[0m\u001b[0mfoo_bar\u001b[0m\u001b[0;34m(\u001b[0m\u001b[0;34m)\u001b[0m\u001b[0;34m)\u001b[0m\u001b[0;34m\u001b[0m\u001b[0;34m\u001b[0m\u001b[0m\n\u001b[0m",
      "\u001b[0;31mNameError\u001b[0m: name 'foo_bar' is not defined"
     ]
    }
   ],
   "source": [
    "# LEGB: Local, Enclosing, Global, Builtin\n",
    "\n",
    "# Local\n",
    "def foo():\n",
    "    var = 42\n",
    "    def foo_bar():\n",
    "        print('foo_bar')\n",
    "      \n",
    "# print(var)\n",
    "print(foo_bar())"
   ]
  },
  {
   "cell_type": "code",
   "execution_count": 5,
   "metadata": {},
   "outputs": [
    {
     "name": "stdout",
     "output_type": "stream",
     "text": [
      "43\n",
      "43\n"
     ]
    }
   ],
   "source": [
    "# Global\n",
    "import math\n",
    "\n",
    "# print(log(-4.2))\n",
    "# print(math.log(4.2))\n",
    "\n",
    "var = 42\n",
    "\n",
    "def foo():\n",
    "#     print(var)\n",
    "    global var\n",
    "    var = 43\n",
    "    print(var)\n",
    "    \n",
    "# def bar():\n",
    "#     global var\n",
    "#     print(var)\n",
    "#     var += 1\n",
    "#     print(var)\n",
    "\n",
    "foo()\n",
    "print(var)\n",
    "# print(var)\n",
    "# bar()"
   ]
  },
  {
   "cell_type": "code",
   "execution_count": 9,
   "metadata": {},
   "outputs": [
    {
     "name": "stdout",
     "output_type": "stream",
     "text": [
      "write\n",
      "43\n",
      "42\n",
      "43\n"
     ]
    }
   ],
   "source": [
    "# Enclosing\n",
    "# print('read')\n",
    "# def foo():\n",
    "#     var = 42\n",
    "#     def bar():\n",
    "#         print(var)\n",
    "#     bar()\n",
    "#     print(var)\n",
    "# foo()\n",
    "\n",
    "var = 41\n",
    "\n",
    "print('write')\n",
    "def foo():\n",
    "    var = 42\n",
    "    def bar():\n",
    "        global var\n",
    "        var = 43\n",
    "        print(var)\n",
    "#     print(var)\n",
    "    bar()\n",
    "    print(var)\n",
    "foo()\n",
    "print(var)"
   ]
  },
  {
   "cell_type": "code",
   "execution_count": 69,
   "metadata": {},
   "outputs": [
    {
     "name": "stdout",
     "output_type": "stream",
     "text": [
      "['ArithmeticError', 'AssertionError', 'AttributeError', 'BaseException', 'BlockingIOError', 'BrokenPipeError', 'BufferError', 'BytesWarning', 'ChildProcessError', 'ConnectionAbortedError', 'ConnectionError', 'ConnectionRefusedError', 'ConnectionResetError', 'DeprecationWarning', 'EOFError', 'Ellipsis', 'EnvironmentError', 'Exception', 'False', 'FileExistsError', 'FileNotFoundError', 'FloatingPointError', 'FutureWarning', 'GeneratorExit', 'IOError', 'ImportError', 'ImportWarning', 'IndentationError', 'IndexError', 'InterruptedError', 'IsADirectoryError', 'KeyError', 'KeyboardInterrupt', 'LookupError', 'MemoryError', 'ModuleNotFoundError', 'NameError', 'None', 'NotADirectoryError', 'NotImplemented', 'NotImplementedError', 'OSError', 'OverflowError', 'PendingDeprecationWarning', 'PermissionError', 'ProcessLookupError', 'RecursionError', 'ReferenceError', 'ResourceWarning', 'RuntimeError', 'RuntimeWarning', 'StopAsyncIteration', 'StopIteration', 'SyntaxError', 'SyntaxWarning', 'SystemError', 'SystemExit', 'TabError', 'TimeoutError', 'True', 'TypeError', 'UnboundLocalError', 'UnicodeDecodeError', 'UnicodeEncodeError', 'UnicodeError', 'UnicodeTranslateError', 'UnicodeWarning', 'UserWarning', 'ValueError', 'Warning', 'ZeroDivisionError', '__IPYTHON__', '__build_class__', '__debug__', '__doc__', '__import__', '__loader__', '__name__', '__package__', '__spec__', 'abs', 'all', 'any', 'ascii', 'bin', 'bool', 'breakpoint', 'bytearray', 'bytes', 'callable', 'chr', 'classmethod', 'compile', 'complex', 'copyright', 'credits', 'delattr', 'dict', 'dir', 'display', 'divmod', 'enumerate', 'eval', 'exec', 'filter', 'float', 'format', 'frozenset', 'get_ipython', 'getattr', 'globals', 'hasattr', 'hash', 'help', 'hex', 'id', 'input', 'int', 'isinstance', 'issubclass', 'iter', 'len', 'license', 'list', 'locals', 'map', 'max', 'memoryview', 'min', 'next', 'object', 'oct', 'open', 'ord', 'pow', 'print', 'property', 'range', 'repr', 'reversed', 'round', 'set', 'setattr', 'slice', 'sorted', 'staticmethod', 'str', 'sum', 'super', 'tuple', 'type', 'vars', 'zip']\n",
      "\n"
     ]
    }
   ],
   "source": [
    "import builtins\n",
    "print(dir(builtins))\n",
    "\n",
    "print()"
   ]
  },
  {
   "cell_type": "code",
   "execution_count": 11,
   "metadata": {},
   "outputs": [
    {
     "ename": "TypeError",
     "evalue": "'str' object is not callable",
     "output_type": "error",
     "traceback": [
      "\u001b[0;31m---------------------------------------------------------------------------\u001b[0m",
      "\u001b[0;31mTypeError\u001b[0m                                 Traceback (most recent call last)",
      "\u001b[0;32m<ipython-input-11-51396e48d1e2>\u001b[0m in \u001b[0;36m<module>\u001b[0;34m\u001b[0m\n\u001b[1;32m      5\u001b[0m \u001b[0mmax\u001b[0m \u001b[0;34m=\u001b[0m \u001b[0;36m42\u001b[0m\u001b[0;34m\u001b[0m\u001b[0;34m\u001b[0m\u001b[0m\n\u001b[1;32m      6\u001b[0m \u001b[0mprint\u001b[0m \u001b[0;34m=\u001b[0m \u001b[0;34m'print'\u001b[0m\u001b[0;34m\u001b[0m\u001b[0;34m\u001b[0m\u001b[0m\n\u001b[0;32m----> 7\u001b[0;31m \u001b[0mprint\u001b[0m\u001b[0;34m(\u001b[0m\u001b[0mmax\u001b[0m\u001b[0;34m)\u001b[0m\u001b[0;34m\u001b[0m\u001b[0;34m\u001b[0m\u001b[0m\n\u001b[0m\u001b[1;32m      8\u001b[0m \u001b[0;34m\u001b[0m\u001b[0m\n\u001b[1;32m      9\u001b[0m \u001b[0;34m\u001b[0m\u001b[0m\n",
      "\u001b[0;31mTypeError\u001b[0m: 'str' object is not callable"
     ]
    }
   ],
   "source": [
    "# Builtin\n",
    "# LEGB\n",
    "a = 4\n",
    "b = 2\n",
    "max = 42\n",
    "print = 'print'\n",
    "print(max)\n",
    "\n",
    "\n",
    "print(max(1, -2, 0))"
   ]
  },
  {
   "cell_type": "code",
   "execution_count": 2,
   "metadata": {},
   "outputs": [
    {
     "name": "stdout",
     "output_type": "stream",
     "text": [
      "\n",
      "Please wait a moment while I gather a list of all available modules...\n",
      "\n"
     ]
    },
    {
     "name": "stderr",
     "output_type": "stream",
     "text": [
      "/home/dbhost/Work/python/python_course/env/lib/python3.8/site-packages/IPython/kernel/__init__.py:12: ShimWarning: The `IPython.kernel` package has been deprecated since IPython 4.0.You should import from ipykernel or jupyter_client instead.\n",
      "  warn(\"The `IPython.kernel` package has been deprecated since IPython 4.0.\"\n"
     ]
    },
    {
     "name": "stdout",
     "output_type": "stream",
     "text": [
      "IPython             asynchat            ipykernel           rlcompleter\n",
      "PIL                 asyncio             ipykernel_launcher  rmagic\n",
      "__future__          asyncore            ipython_genutils    runpy\n",
      "_abc                atexit              ipywidgets          sched\n",
      "_ast                attr                itertools           secrets\n",
      "_asyncio            audioop             itsdangerous        select\n",
      "_bisect             autoreload          jedi                selectors\n",
      "_blake2             backcall            jinja2              send2trash\n",
      "_bootlocale         base64              json                setuptools\n",
      "_bz2                bdb                 jsonschema          shelve\n",
      "_codecs             binascii            jupyter             shlex\n",
      "_codecs_cn          binhex              jupyter_client      shutil\n",
      "_codecs_hk          bisect              jupyter_console     signal\n",
      "_codecs_iso2022     bleach              jupyter_core        site\n",
      "_codecs_jp          builtins            keyword             sitecustomize\n",
      "_codecs_kr          bz2                 lesson_01           six\n",
      "_codecs_tw          cProfile            lesson_03           smtpd\n",
      "_collections        cachecontrol        lesson_classes      smtplib\n",
      "_collections_abc    calendar            lesson_threads      sndhdr\n",
      "_compat_pickle      certifi             lib2to3             socket\n",
      "_compression        cgi                 linecache           socketserver\n",
      "_contextvars        cgitb               locale              spwd\n",
      "_crypt              chardet             lockfile            sqlite3\n",
      "_csv                chunk               logging             sre_compile\n",
      "_ctypes             click               lzma                sre_constants\n",
      "_ctypes_test        cmath               mailbox             sre_parse\n",
      "_curses             cmd                 mailcap             ssl\n",
      "_curses_panel       code                markupsafe          stat\n",
      "_datetime           codecs              marshal             statistics\n",
      "_dbm                codeop              math                storemagic\n",
      "_decimal            collections         mimetypes           string\n",
      "_dummy_thread       colorama            mistune             stringprep\n",
      "_elementtree        colorsys            mmap                struct\n",
      "_functools          compileall          modulefinder        subprocess\n",
      "_gdbm               concurrent          msgpack             sunau\n",
      "_hashlib            configparser        multiprocessing     symbol\n",
      "_heapq              contextlib          nbconvert           sympyprinting\n",
      "_imp                contextvars         nbformat            symtable\n",
      "_io                 copy                netrc               sys\n",
      "_json               copyreg             nis                 sysconfig\n",
      "_locale             crypt               nntplib             syslog\n",
      "_lsprof             csv                 notebook            tabnanny\n",
      "_lzma               ctypes              ntpath              tarfile\n",
      "_markupbase         curses              nturl2path          telnetlib\n",
      "_md5                cythonmagic         numbers             tempfile\n",
      "_multibytecodec     dataclasses         opcode              terminado\n",
      "_multiprocessing    datetime            operator            termios\n",
      "_opcode             dateutil            optparse            test\n",
      "_operator           dbm                 os                  testpath\n",
      "_osx_support        decimal             ossaudiodev         tests\n",
      "_pickle             decorator           packaging           textwrap\n",
      "_posixshmem         defusedxml          pandocfilters       this\n",
      "_posixsubprocess    dicttoxml           parser              threading\n",
      "_py_abc             difflib             parso               time\n",
      "_pydecimal          dis                 pathlib             timeit\n",
      "_pyio               distlib             pdb                 token\n",
      "_pyrsistent_version distutils           pep517              tokenize\n",
      "_queue              doctest             pexpect             tornado\n",
      "_random             dummy_threading     pickle              trace\n",
      "_sha1               easy_install        pickleshare         traceback\n",
      "_sha256             email               pickletools         tracemalloc\n",
      "_sha3               encodings           pip                 traitlets\n",
      "_sha512             ensurepip           pipes               tty\n",
      "_signal             entrypoints         pkg_resources       turtle\n",
      "_sitebuiltins       enum                pkgutil             types\n",
      "_socket             errno               platform            typing\n",
      "_sqlite3            faulthandler        plistlib            unicodedata\n",
      "_sre                fcntl               poplib              unittest\n",
      "_ssl                filecmp             posix               urllib\n",
      "_stat               fileinput           posixpath           urllib3\n",
      "_statistics         flask               pprint              uu\n",
      "_string             fnmatch             profile             uuid\n",
      "_strptime           formatter           progress            venv\n",
      "_struct             fractions           prometheus_client   warnings\n",
      "_symtable           ftplib              prompt_toolkit      wave\n",
      "_sysconfigdata__linux_x86_64-linux-gnu functools           pstats              wcwidth\n",
      "_sysconfigdata__x86_64-linux-gnu gc                  pty                 weakref\n",
      "_testbuffer         genericpath         ptyprocess          webbrowser\n",
      "_testcapi           getopt              pvectorc            webencodings\n",
      "_testimportmultiple getpass             pwd                 werkzeug\n",
      "_testinternalcapi   gettext             py_compile          wheel\n",
      "_testmultiphase     glob                pyclbr              widgetsnbextension\n",
      "_thread             grp                 pydoc               wsgiref\n",
      "_threading_local    gzip                pydoc_data          xdrlib\n",
      "_tracemalloc        hashlib             pyexpat             xml\n",
      "_uuid               heapq               pygments            xmlrpc\n",
      "_warnings           hmac                pyparsing           xmltodict\n",
      "_weakref            html                pyrsistent          xxlimited\n",
      "_weakrefset         html5lib            qtconsole           xxsubtype\n",
      "_xxsubinterpreters  http                qtpy                yaml\n",
      "_xxtestfuzz         idna                queue               z_test\n",
      "abc                 imaplib             quopri              zipapp\n",
      "aifc                imghdr              random              zipfile\n",
      "antigravity         imp                 re                  zipimport\n",
      "app                 importlib           readline            zlib\n",
      "appdirs             inspect             reprlib             zmq\n",
      "argparse            io                  requests            \n",
      "array               ipaddr              resource            \n",
      "ast                 ipaddress           retrying            \n",
      "\n",
      "Enter any module name to get more help.  Or, type \"modules spam\" to search\n",
      "for modules whose name or summary contain the string \"spam\".\n",
      "\n"
     ]
    },
    {
     "name": "stderr",
     "output_type": "stream",
     "text": [
      "/usr/lib/python3.8/pkgutil.py:107: VisibleDeprecationWarning: zmq.eventloop.minitornado is deprecated in pyzmq 14.0 and will be removed.\n",
      "    Install tornado itself to use zmq with the tornado IOLoop.\n",
      "    \n",
      "  yield from walk_packages(path, info.name+'.', onerror)\n"
     ]
    }
   ],
   "source": [
    "# Name hiding (collisions)\n",
    "# example with modules\n",
    "\n",
    "# check out  a name from a list:\n",
    "help('modules')"
   ]
  },
  {
   "cell_type": "markdown",
   "metadata": {},
   "source": [
    "### Recursion"
   ]
  },
  {
   "cell_type": "code",
   "execution_count": 3,
   "metadata": {},
   "outputs": [],
   "source": [
    "# GNU - GNU is Not Unix\n",
    "# Should have:\n",
    "#   - Base or terminal case\n",
    "#   - Self-Reference\n",
    "\n",
    "# Left and right (tail) recursion"
   ]
  },
  {
   "cell_type": "code",
   "execution_count": 13,
   "metadata": {},
   "outputs": [
    {
     "ename": "RecursionError",
     "evalue": "maximum recursion depth exceeded",
     "output_type": "error",
     "traceback": [
      "\u001b[0;31m---------------------------------------------------------------------------\u001b[0m",
      "\u001b[0;31mRecursionError\u001b[0m                            Traceback (most recent call last)",
      "\u001b[0;32m<ipython-input-13-d909ba50c1de>\u001b[0m in \u001b[0;36m<module>\u001b[0;34m\u001b[0m\n\u001b[1;32m      6\u001b[0m     \u001b[0;32mreturn\u001b[0m \u001b[0mfibo\u001b[0m\u001b[0;34m(\u001b[0m\u001b[0mn\u001b[0m\u001b[0;34m-\u001b[0m\u001b[0;36m1\u001b[0m\u001b[0;34m)\u001b[0m \u001b[0;34m+\u001b[0m \u001b[0mfibo\u001b[0m\u001b[0;34m(\u001b[0m\u001b[0mn\u001b[0m\u001b[0;34m-\u001b[0m\u001b[0;36m2\u001b[0m\u001b[0;34m)\u001b[0m\u001b[0;34m\u001b[0m\u001b[0;34m\u001b[0m\u001b[0m\n\u001b[1;32m      7\u001b[0m \u001b[0;34m\u001b[0m\u001b[0m\n\u001b[0;32m----> 8\u001b[0;31m \u001b[0mprint\u001b[0m\u001b[0;34m(\u001b[0m\u001b[0mfibo\u001b[0m\u001b[0;34m(\u001b[0m\u001b[0;36m1000\u001b[0m\u001b[0;34m)\u001b[0m\u001b[0;34m)\u001b[0m\u001b[0;34m\u001b[0m\u001b[0;34m\u001b[0m\u001b[0m\n\u001b[0m",
      "\u001b[0;32m<ipython-input-13-d909ba50c1de>\u001b[0m in \u001b[0;36mfibo\u001b[0;34m(n)\u001b[0m\n\u001b[1;32m      4\u001b[0m \u001b[0;31m#         return n\u001b[0m\u001b[0;34m\u001b[0m\u001b[0;34m\u001b[0m\u001b[0;34m\u001b[0m\u001b[0m\n\u001b[1;32m      5\u001b[0m \u001b[0;31m#     else:\u001b[0m\u001b[0;34m\u001b[0m\u001b[0;34m\u001b[0m\u001b[0;34m\u001b[0m\u001b[0m\n\u001b[0;32m----> 6\u001b[0;31m     \u001b[0;32mreturn\u001b[0m \u001b[0mfibo\u001b[0m\u001b[0;34m(\u001b[0m\u001b[0mn\u001b[0m\u001b[0;34m-\u001b[0m\u001b[0;36m1\u001b[0m\u001b[0;34m)\u001b[0m \u001b[0;34m+\u001b[0m \u001b[0mfibo\u001b[0m\u001b[0;34m(\u001b[0m\u001b[0mn\u001b[0m\u001b[0;34m-\u001b[0m\u001b[0;36m2\u001b[0m\u001b[0;34m)\u001b[0m\u001b[0;34m\u001b[0m\u001b[0;34m\u001b[0m\u001b[0m\n\u001b[0m\u001b[1;32m      7\u001b[0m \u001b[0;34m\u001b[0m\u001b[0m\n\u001b[1;32m      8\u001b[0m \u001b[0mprint\u001b[0m\u001b[0;34m(\u001b[0m\u001b[0mfibo\u001b[0m\u001b[0;34m(\u001b[0m\u001b[0;36m1000\u001b[0m\u001b[0;34m)\u001b[0m\u001b[0;34m)\u001b[0m\u001b[0;34m\u001b[0m\u001b[0;34m\u001b[0m\u001b[0m\n",
      "... last 1 frames repeated, from the frame below ...\n",
      "\u001b[0;32m<ipython-input-13-d909ba50c1de>\u001b[0m in \u001b[0;36mfibo\u001b[0;34m(n)\u001b[0m\n\u001b[1;32m      4\u001b[0m \u001b[0;31m#         return n\u001b[0m\u001b[0;34m\u001b[0m\u001b[0;34m\u001b[0m\u001b[0;34m\u001b[0m\u001b[0m\n\u001b[1;32m      5\u001b[0m \u001b[0;31m#     else:\u001b[0m\u001b[0;34m\u001b[0m\u001b[0;34m\u001b[0m\u001b[0;34m\u001b[0m\u001b[0m\n\u001b[0;32m----> 6\u001b[0;31m     \u001b[0;32mreturn\u001b[0m \u001b[0mfibo\u001b[0m\u001b[0;34m(\u001b[0m\u001b[0mn\u001b[0m\u001b[0;34m-\u001b[0m\u001b[0;36m1\u001b[0m\u001b[0;34m)\u001b[0m \u001b[0;34m+\u001b[0m \u001b[0mfibo\u001b[0m\u001b[0;34m(\u001b[0m\u001b[0mn\u001b[0m\u001b[0;34m-\u001b[0m\u001b[0;36m2\u001b[0m\u001b[0;34m)\u001b[0m\u001b[0;34m\u001b[0m\u001b[0;34m\u001b[0m\u001b[0m\n\u001b[0m\u001b[1;32m      7\u001b[0m \u001b[0;34m\u001b[0m\u001b[0m\n\u001b[1;32m      8\u001b[0m \u001b[0mprint\u001b[0m\u001b[0;34m(\u001b[0m\u001b[0mfibo\u001b[0m\u001b[0;34m(\u001b[0m\u001b[0;36m1000\u001b[0m\u001b[0;34m)\u001b[0m\u001b[0;34m)\u001b[0m\u001b[0;34m\u001b[0m\u001b[0;34m\u001b[0m\u001b[0m\n",
      "\u001b[0;31mRecursionError\u001b[0m: maximum recursion depth exceeded"
     ]
    }
   ],
   "source": [
    "def fibo(n):\n",
    "    \"\"\"Inefficient fibo function\"\"\"\n",
    "    if n < 2:\n",
    "        return n\n",
    "    else:\n",
    "        return fibo(n-1) + fibo(n-2)\n",
    "\n",
    "print(fibo(1000))"
   ]
  },
  {
   "cell_type": "code",
   "execution_count": 11,
   "metadata": {},
   "outputs": [
    {
     "name": "stdout",
     "output_type": "stream",
     "text": [
      "55\n",
      "55\n"
     ]
    }
   ],
   "source": [
    "def rec_sum(n):\n",
    "    if n==0:\n",
    "        return 0\n",
    "    result = rec_sum(n-1)\n",
    "    result += n\n",
    "    return result\n",
    "\n",
    "print(rec_sum(10))\n",
    "\n",
    "def rec_sum(n, acc=0):\n",
    "    if n==0:\n",
    "        return 0 + acc\n",
    "    return rec_sum(n-1, n+acc)\n",
    "\n",
    "print(rec_sum(10))"
   ]
  },
  {
   "cell_type": "code",
   "execution_count": 12,
   "metadata": {},
   "outputs": [
    {
     "name": "stdout",
     "output_type": "stream",
     "text": [
      "The Zen of Python, by Tim Peters\n",
      "\n",
      "Beautiful is better than ugly.\n",
      "Explicit is better than implicit.\n",
      "Simple is better than complex.\n",
      "Complex is better than complicated.\n",
      "Flat is better than nested.\n",
      "Sparse is better than dense.\n",
      "Readability counts.\n",
      "Special cases aren't special enough to break the rules.\n",
      "Although practicality beats purity.\n",
      "Errors should never pass silently.\n",
      "Unless explicitly silenced.\n",
      "In the face of ambiguity, refuse the temptation to guess.\n",
      "There should be one-- and preferably only one --obvious way to do it.\n",
      "Although that way may not be obvious at first unless you're Dutch.\n",
      "Now is better than never.\n",
      "Although never is often better than *right* now.\n",
      "If the implementation is hard to explain, it's a bad idea.\n",
      "If the implementation is easy to explain, it may be a good idea.\n",
      "Namespaces are one honking great idea -- let's do more of those!\n"
     ]
    }
   ],
   "source": [
    "import this"
   ]
  },
  {
   "cell_type": "code",
   "execution_count": 3,
   "metadata": {},
   "outputs": [
    {
     "name": "stdout",
     "output_type": "stream",
     "text": [
      "cba\n"
     ]
    }
   ],
   "source": [
    "def reverse_l(s):\n",
    "    head, tail = s[:1], s[1:]\n",
    "    if tail:\n",
    "        return reverse_l(tail) + head\n",
    "    else:\n",
    "        return head\n",
    "\n",
    "print(reverse_l('abc'))"
   ]
  },
  {
   "cell_type": "code",
   "execution_count": 4,
   "metadata": {},
   "outputs": [
    {
     "name": "stdout",
     "output_type": "stream",
     "text": [
      "cba\n"
     ]
    }
   ],
   "source": [
    "def reverse_t(s, acc=''):\n",
    "    head, tail = s[:1], s[1:]\n",
    "    if tail:\n",
    "        return reverse_t(tail, head + acc)\n",
    "    else:\n",
    "        return head + acc\n",
    "\n",
    "print(reverse_t('abc'))"
   ]
  },
  {
   "cell_type": "code",
   "execution_count": 37,
   "metadata": {},
   "outputs": [],
   "source": [
    "def reverse_t2(s):\n",
    "    head, tail, acc = s[:1], s[1:], ''\n",
    "     \n",
    "    while tail:\n",
    "        head, tail = s[:1], s[1:]\n",
    "        s, acc = tail, head + acc\n",
    "    \n",
    "    return acc"
   ]
  },
  {
   "cell_type": "code",
   "execution_count": 6,
   "metadata": {},
   "outputs": [
    {
     "data": {
      "text/plain": [
       "26863810024485359386146727202142923967616609318986952340123175997617981700247881689338369654483356564191827856161443356312976673642210350324634850410377680367334151172899169723197082763985615764450078474174626"
      ]
     },
     "execution_count": 6,
     "metadata": {},
     "output_type": "execute_result"
    }
   ],
   "source": [
    "def fibo3(n):\n",
    "    prev, curr, acc = 0, 1, 1\n",
    "     \n",
    "    while n > 2:\n",
    "        prev, curr = curr, prev + curr\n",
    "        n, acc = n-1, curr\n",
    "    \n",
    "    return acc\n",
    "\n",
    "# 0 1 1 2 3 5 8\n",
    "fibo3(1000)"
   ]
  },
  {
   "cell_type": "code",
   "execution_count": 36,
   "metadata": {},
   "outputs": [
    {
     "name": "stdout",
     "output_type": "stream",
     "text": [
      "zyxwvutsrqponmlkjihgfedcba\n",
      "zyxwvutsrqponmlkjihgfedcba\n",
      "zyxwvutsrqponmlkjihgfedcba\n"
     ]
    }
   ],
   "source": [
    "import string\n",
    "\n",
    "print(reverse_t(string.ascii_lowercase))\n",
    "print(reverse_l(string.ascii_lowercase))\n",
    "print(reverse_t2(string.ascii_lowercase))"
   ]
  },
  {
   "cell_type": "code",
   "execution_count": 1,
   "metadata": {},
   "outputs": [],
   "source": [
    "import os\n",
    "\n",
    "def traverse_dir(dir):\n",
    "    total_size = 0\n",
    "    for name in os.listdir(dir):\n",
    "        path = os.path.join(dir, name)\n",
    "        is_file = os.path.isfile(path)\n",
    "        if os.path.isfile(path):\n",
    "            total_size += os.path.getsize(path)\n",
    "        else:\n",
    "            total_size += traverse_dir(path)\n",
    "\n",
    "    return total_size"
   ]
  },
  {
   "cell_type": "code",
   "execution_count": 2,
   "metadata": {},
   "outputs": [
    {
     "name": "stdout",
     "output_type": "stream",
     "text": [
      "2012849279\n"
     ]
    }
   ],
   "source": [
    "dir_size = traverse_dir(\"/home/dbhost/Dropbox\")\n",
    "print(dir_size)"
   ]
  },
  {
   "cell_type": "markdown",
   "metadata": {},
   "source": [
    "### Web server"
   ]
  },
  {
   "cell_type": "code",
   "execution_count": null,
   "metadata": {},
   "outputs": [
    {
     "name": "stderr",
     "output_type": "stream",
     "text": [
      "127.0.0.1 - - [19/Aug/2020 19:40:56] \"GET / HTTP/1.1\" 200 -\n",
      "127.0.0.1 - - [19/Aug/2020 19:40:57] \"GET /favicon.ico HTTP/1.1\" 200 -\n"
     ]
    }
   ],
   "source": [
    "from http.server import BaseHTTPRequestHandler, HTTPServer\n",
    "import functools\n",
    "\n",
    "class HandleRequests(BaseHTTPRequestHandler):\n",
    "\n",
    "    def do_GET(self):\n",
    "        self.send_response(200)\n",
    "        self.send_header('Content-type', 'text/html')\n",
    "        self.end_headers()\n",
    "        self.wfile.write(b\"Hello!!!\")\n",
    "\n",
    "host = '127.0.0.1'\n",
    "port = 8002\n",
    "HTTPServer((host, port), HandleRequests).serve_forever()\n"
   ]
  },
  {
   "cell_type": "code",
   "execution_count": null,
   "metadata": {},
   "outputs": [
    {
     "name": "stderr",
     "output_type": "stream",
     "text": [
      "127.0.0.1 - - [19/Aug/2020 19:42:34] \"GET /bye HTTP/1.1\" 200 -\n",
      "127.0.0.1 - - [19/Aug/2020 19:42:34] \"GET /favicon.ico HTTP/1.1\" 200 -\n",
      "127.0.0.1 - - [19/Aug/2020 19:42:42] \"GET /hello HTTP/1.1\" 200 -\n",
      "127.0.0.1 - - [19/Aug/2020 19:42:42] \"GET /favicon.ico HTTP/1.1\" 200 -\n",
      "127.0.0.1 - - [19/Aug/2020 19:43:00] \"GET /asdasd HTTP/1.1\" 200 -\n",
      "127.0.0.1 - - [19/Aug/2020 19:43:00] \"GET /favicon.ico HTTP/1.1\" 200 -\n",
      "127.0.0.1 - - [19/Aug/2020 19:43:35] \"GET /asdasd HTTP/1.1\" 200 -\n",
      "127.0.0.1 - - [19/Aug/2020 19:43:36] \"GET /favicon.ico HTTP/1.1\" 200 -\n",
      "127.0.0.1 - - [19/Aug/2020 19:44:48] \"GET /asdasd HTTP/1.1\" 200 -\n"
     ]
    }
   ],
   "source": [
    "from http.server import BaseHTTPRequestHandler, HTTPServer\n",
    "\n",
    "class HandleRequests(BaseHTTPRequestHandler):\n",
    "\n",
    "    def do_GET(self):\n",
    "        self.send_response(200)\n",
    "        self.send_header('Content-type', 'text/html')\n",
    "        self.end_headers()\n",
    "        if 'hello' in self.requestline:\n",
    "            self.wfile.write(b\"Hello\")\n",
    "        else:\n",
    "            self.wfile.write(b\"Bye\")\n",
    "\n",
    "host = '127.0.0.1'\n",
    "port = 8002\n",
    "HTTPServer((host, port), HandleRequests).serve_forever()\n"
   ]
  },
  {
   "cell_type": "code",
   "execution_count": null,
   "metadata": {},
   "outputs": [],
   "source": [
    "class HandleRequests(BaseHTTPRequestHandler):\n",
    "\n",
    "    def do_GET(self):\n",
    "        self.send_response(200)\n",
    "        self.send_header('Content-type', 'text/html')\n",
    "        self.end_headers()\n",
    "        _, path, _ = self.requestline.split(' ')\n",
    "        if path == '/hello':\n",
    "            self.wfile.write(b\"hello !\")\n",
    "        elif path == '/bye':\n",
    "            self.wfile.write(b\"bye!\")\n",
    "        elif path == '/purpose':\n",
    "            self.wfile.write(b\"42\")\n",
    "        else:\n",
    "            self.wfile.write(b\"Unknown request :(\")\n",
    "            \n",
    "host = '127.0.0.1'\n",
    "port = 8002\n",
    "HTTPServer((host, port), HandleRequests).serve_forever()"
   ]
  },
  {
   "cell_type": "code",
   "execution_count": null,
   "metadata": {},
   "outputs": [
    {
     "name": "stderr",
     "output_type": "stream",
     "text": [
      "127.0.0.1 - - [19/Aug/2020 19:50:44] \"GET /hello HTTP/1.1\" 200 -\n",
      "127.0.0.1 - - [19/Aug/2020 19:50:44] \"GET /favicon.ico HTTP/1.1\" 200 -\n",
      "127.0.0.1 - - [19/Aug/2020 19:50:50] \"GET /bye HTTP/1.1\" 200 -\n",
      "127.0.0.1 - - [19/Aug/2020 19:50:51] \"GET /favicon.ico HTTP/1.1\" 200 -\n",
      "127.0.0.1 - - [19/Aug/2020 19:51:01] \"GET /fjsdjflksjdf HTTP/1.1\" 200 -\n",
      "127.0.0.1 - - [19/Aug/2020 19:51:01] \"GET /favicon.ico HTTP/1.1\" 200 -\n"
     ]
    }
   ],
   "source": [
    "from http.server import BaseHTTPRequestHandler, HTTPServer\n",
    "\n",
    "path2func_map = {}\n",
    "\n",
    "class HandleRequests(BaseHTTPRequestHandler):\n",
    "\n",
    "    def do_GET(self):\n",
    "        self.send_response(200)\n",
    "        self.send_header('Content-type', 'text/html')\n",
    "        self.end_headers()\n",
    "        _, path, _ = self.requestline.split(' ')\n",
    "        if path in path2func_map:\n",
    "            result = path2func_map[path]()\n",
    "            self.wfile.write(f\"{result}\".encode())\n",
    "        else:\n",
    "            self.wfile.write(b\"Unknown request :(\")\n",
    "\n",
    "\n",
    "def route(path=\"/\"):\n",
    "    def internal(f):\n",
    "        path2func_map[path] = f\n",
    "        return f\n",
    "    return internal\n",
    "\n",
    "\n",
    "@route('/hello')\n",
    "def hello():\n",
    "    return 'Hello!'\n",
    "\n",
    "\n",
    "@route('/bye')\n",
    "def hello():\n",
    "    return 'Bye!'\n",
    "\n",
    "host = '127.0.0.1'\n",
    "port = 8002\n",
    "HTTPServer((host, port), HandleRequests).serve_forever()"
   ]
  },
  {
   "cell_type": "code",
   "execution_count": 1,
   "metadata": {},
   "outputs": [],
   "source": [
    "# flusk\n",
    "from http.server import BaseHTTPRequestHandler, HTTPServer\n",
    "\n",
    "__all__ = ['route']\n",
    "\n",
    "path2func_map = {}\n",
    "\n",
    "class HandleRequests(BaseHTTPRequestHandler):\n",
    "\n",
    "    def do_GET(self):\n",
    "        self.send_response(200)\n",
    "        self.send_header('Content-type', 'text/html')\n",
    "        self.end_headers()\n",
    "        _, path, _ = self.requestline.split(' ')\n",
    "        if path in path2func_map:\n",
    "            result = path2func_map[path]()\n",
    "            self.wfile.write(f\"{result}\".encode())\n",
    "        else:\n",
    "            self.wfile.write(b\"Unknown request :(\")\n",
    "\n",
    "\n",
    "def run_server(host='127.0.0.1', port=8002):\n",
    "    HTTPServer((host, port), HandleRequests).serve_forever()\n",
    "\n",
    "\n",
    "def route(path=\"/\"):\n",
    "    def internal(f):\n",
    "        path2func_map[path] = f\n",
    "        return f\n",
    "    return internal\n"
   ]
  },
  {
   "cell_type": "markdown",
   "metadata": {},
   "source": [
    "### Magic attributes"
   ]
  },
  {
   "cell_type": "code",
   "execution_count": 16,
   "metadata": {},
   "outputs": [
    {
     "data": {
      "text/plain": [
       "43"
      ]
     },
     "execution_count": 16,
     "metadata": {},
     "output_type": "execute_result"
    }
   ],
   "source": [
    "class MyInt(int):\n",
    "        \n",
    "    def __add__(self, value):\n",
    "        return super().__add__(int(value))\n",
    "    \n",
    "val = MyInt(42)\n",
    "val + '1'\n"
   ]
  },
  {
   "cell_type": "code",
   "execution_count": 13,
   "metadata": {},
   "outputs": [
    {
     "name": "stdout",
     "output_type": "stream",
     "text": [
      "ENTER\n",
      "hello\n",
      "EXIT\n"
     ]
    }
   ],
   "source": [
    "class context_manager():\n",
    "    def __enter__(self):\n",
    "        print('ENTER')\n",
    "        return None\n",
    "\n",
    "    def __exit__(self, type, value, traceback):\n",
    "        print('EXIT')\n",
    "        \n",
    "with context_manager() as cm:\n",
    "    print('hello')"
   ]
  },
  {
   "cell_type": "code",
   "execution_count": 2,
   "metadata": {},
   "outputs": [
    {
     "name": "stdout",
     "output_type": "stream",
     "text": [
      "BEFORE\n",
      "\u001b[31;40m Hello \u001b[0m\n",
      "\u001b[31;40m world 42 [1, 2, 3] \u001b[0m\n",
      "AFTER\n"
     ]
    }
   ],
   "source": [
    "class coloured_print():\n",
    "    \n",
    "    def __init__(self):#, colour=\"31;40m\"):\n",
    "        self.old_print = None\n",
    "\n",
    "    def __enter__(self):\n",
    "        def my_print(*args):\n",
    "            self.old_print('\\x1B[31;40m', *args, '\\x1B[0m')\n",
    "        global print\n",
    "        self.old_print = print\n",
    "        print = my_print\n",
    "\n",
    "    def __exit__(self, type, value, traceback):\n",
    "        global print\n",
    "        print = self.old_print\n",
    "        \n",
    "print('BEFORE')\n",
    "with coloured_print() as aa:\n",
    "    print('Hello')\n",
    "    print('world', 42, [1, 2, 3])\n",
    "print('AFTER')"
   ]
  },
  {
   "cell_type": "code",
   "execution_count": 4,
   "metadata": {},
   "outputs": [],
   "source": [
    "class timer():\n",
    "    def __init__(self, message):\n",
    "        self.message = message\n",
    "\n",
    "    def __enter__(self):\n",
    "        self.start = time.time()\n",
    "        return None\n",
    "\n",
    "    def __exit__(self, type, value, traceback):\n",
    "        elapsed_time = (time.time() - self.start)\n",
    "        print(self.message.format(elapsed_time))"
   ]
  },
  {
   "cell_type": "code",
   "execution_count": 7,
   "metadata": {},
   "outputs": [
    {
     "name": "stdout",
     "output_type": "stream",
     "text": [
      "Elapsed: 1.001065969467163s\n"
     ]
    }
   ],
   "source": [
    "with timer('Elapsed: {}s'):\n",
    "    time.sleep(1)"
   ]
  },
  {
   "cell_type": "code",
   "execution_count": 11,
   "metadata": {},
   "outputs": [
    {
     "name": "stdout",
     "output_type": "stream",
     "text": [
      "abc\n"
     ]
    }
   ],
   "source": [
    "with open('test.txt', 'w+') as f:\n",
    "    f.write('abc')\n",
    "    \n",
    "with open('test.txt', 'r') as f:\n",
    "    print(f.read())"
   ]
  },
  {
   "cell_type": "code",
   "execution_count": null,
   "metadata": {},
   "outputs": [],
   "source": [
    "f = open('test.txt', 'r')\n",
    "# 10/0\n",
    "f.close()"
   ]
  },
  {
   "cell_type": "markdown",
   "metadata": {},
   "source": [
    "### Links"
   ]
  },
  {
   "cell_type": "markdown",
   "metadata": {},
   "source": [
    "1. Python Intorduciton: https://www.youtube.com/watch?v=5V7XG1mGiHc&list=PLlb7e2G7aSpTTNp7HBYzCBByaE1h54ruW"
   ]
  }
 ],
 "metadata": {
  "kernelspec": {
   "display_name": "Python 3",
   "language": "python",
   "name": "python3"
  },
  "language_info": {
   "codemirror_mode": {
    "name": "ipython",
    "version": 3
   },
   "file_extension": ".py",
   "mimetype": "text/x-python",
   "name": "python",
   "nbconvert_exporter": "python",
   "pygments_lexer": "ipython3",
   "version": "3.8.5"
  }
 },
 "nbformat": 4,
 "nbformat_minor": 4
}
