{
 "cells": [
  {
   "cell_type": "code",
   "execution_count": 6,
   "metadata": {},
   "outputs": [],
   "source": [
    "import random\n",
    "import time\n",
    "import functools"
   ]
  },
  {
   "cell_type": "markdown",
   "metadata": {},
   "source": [
    "### Decorators"
   ]
  },
  {
   "cell_type": "code",
   "execution_count": 22,
   "metadata": {},
   "outputs": [
    {
     "name": "stdout",
     "output_type": "stream",
     "text": [
      "BEFORE\n",
      "AFTER\n"
     ]
    }
   ],
   "source": [
    "def foo():\n",
    "    time.sleep(random.randint(1, 2))\n",
    "\n",
    "print('BEFORE')\n",
    "foo()\n",
    "print('AFTER')"
   ]
  },
  {
   "cell_type": "code",
   "execution_count": 23,
   "metadata": {},
   "outputs": [
    {
     "name": "stdout",
     "output_type": "stream",
     "text": [
      "Elapsed 2.002716064453125e-05ms\n"
     ]
    }
   ],
   "source": [
    "def foo2():\n",
    "    start = time.time()\n",
    "\n",
    "    time.sleep(random.randrange(0, 1))\n",
    "\n",
    "    end = time.time()\n",
    "    print(f'Elapsed {end - start}ms')\n",
    "\n",
    "foo2()"
   ]
  },
  {
   "cell_type": "code",
   "execution_count": 24,
   "metadata": {},
   "outputs": [
    {
     "name": "stdout",
     "output_type": "stream",
     "text": [
      "Elapsed 0.035893917083740234ms\n"
     ]
    }
   ],
   "source": [
    "def foo3():\n",
    "    start = time.time()\n",
    "\n",
    "    lst = [i for i in range(10**6)]\n",
    "\n",
    "    print(f'Elapsed {time.time() - start}ms')\n",
    "\n",
    "foo3()"
   ]
  },
  {
   "cell_type": "code",
   "execution_count": 25,
   "metadata": {},
   "outputs": [
    {
     "name": "stdout",
     "output_type": "stream",
     "text": [
      "Elapsed 2.001828193664551ms\n"
     ]
    }
   ],
   "source": [
    "def profile(f):\n",
    "    start = time.time()\n",
    "\n",
    "    f()\n",
    "\n",
    "    print(f'Elapsed {time.time() - start}ms')\n",
    "\n",
    "profile(foo)"
   ]
  },
  {
   "cell_type": "code",
   "execution_count": 31,
   "metadata": {},
   "outputs": [
    {
     "data": {
      "text/plain": [
       "NoneType"
      ]
     },
     "execution_count": 31,
     "metadata": {},
     "output_type": "execute_result"
    }
   ],
   "source": [
    "type(foo())"
   ]
  },
  {
   "cell_type": "code",
   "execution_count": 1,
   "metadata": {},
   "outputs": [
    {
     "name": "stdout",
     "output_type": "stream",
     "text": [
      "<class 'function'>\n",
      "Hello\n"
     ]
    }
   ],
   "source": [
    "def say_hello():\n",
    "    def internal():\n",
    "        print('Hello')\n",
    "    return internal\n",
    "\n",
    "f = say_hello()\n",
    "print(type(f))\n",
    "f()"
   ]
  },
  {
   "cell_type": "code",
   "execution_count": 34,
   "metadata": {},
   "outputs": [
    {
     "name": "stdout",
     "output_type": "stream",
     "text": [
      "Hello John\n",
      "Hello Bill\n"
     ]
    }
   ],
   "source": [
    "def say_hello():\n",
    "    def internal(msg):\n",
    "        print('Hello', msg)\n",
    "    return internal\n",
    "\n",
    "f1 = say_hello()\n",
    "f1('John')\n",
    "\n",
    "f1 = say_hello()\n",
    "f1('Bill')"
   ]
  },
  {
   "cell_type": "code",
   "execution_count": 8,
   "metadata": {},
   "outputs": [
    {
     "name": "stdout",
     "output_type": "stream",
     "text": [
      "Hello John\n",
      "Hi Bill\n"
     ]
    }
   ],
   "source": [
    "def say_hello(greeting='Hello'):\n",
    "    def internal(msg):\n",
    "        print(greeting, msg)\n",
    "    return internal\n",
    "\n",
    "f1 = say_hello()\n",
    "f1('John')\n",
    "\n",
    "f1 = say_hello('Hi')\n",
    "f1('Bill')"
   ]
  },
  {
   "cell_type": "code",
   "execution_count": 9,
   "metadata": {},
   "outputs": [
    {
     "name": "stdout",
     "output_type": "stream",
     "text": [
      "Hello John 42 [1, 2, 3] True\n"
     ]
    }
   ],
   "source": [
    "def say_hello(greeting='Hello'):\n",
    "    def internal(*args):\n",
    "        print(greeting, *args)\n",
    "    return internal\n",
    "\n",
    "f1 = say_hello()\n",
    "f1('John', 42, [1, 2, 3], True)"
   ]
  },
  {
   "cell_type": "code",
   "execution_count": null,
   "metadata": {},
   "outputs": [],
   "source": []
  },
  {
   "cell_type": "code",
   "execution_count": null,
   "metadata": {},
   "outputs": [],
   "source": []
  },
  {
   "cell_type": "code",
   "execution_count": null,
   "metadata": {},
   "outputs": [],
   "source": []
  },
  {
   "cell_type": "code",
   "execution_count": null,
   "metadata": {},
   "outputs": [],
   "source": []
  },
  {
   "cell_type": "code",
   "execution_count": null,
   "metadata": {},
   "outputs": [],
   "source": []
  },
  {
   "cell_type": "code",
   "execution_count": 46,
   "metadata": {},
   "outputs": [],
   "source": [
    "def profile(f):\n",
    "    def deco(*args):\n",
    "        start = time.time()\n",
    "        result = f(*args)\n",
    "        print(f'Elapsed time for function {f.__name__}: {time.time() - start}ms')\n",
    "        return result\n",
    "    return deco"
   ]
  },
  {
   "cell_type": "code",
   "execution_count": 37,
   "metadata": {},
   "outputs": [
    {
     "name": "stdout",
     "output_type": "stream",
     "text": [
      "Elapsed time for function foo: 1.001065731048584ms\n",
      "Elapsed time for function deco: 1.0011940002441406ms\n"
     ]
    }
   ],
   "source": [
    "# foo()\n",
    "foo=profile(foo)\n",
    "foo()"
   ]
  },
  {
   "cell_type": "code",
   "execution_count": 48,
   "metadata": {},
   "outputs": [
    {
     "name": "stdout",
     "output_type": "stream",
     "text": [
      "42\n"
     ]
    }
   ],
   "source": [
    "@profile  # -> foo5 = profile(foo5)\n",
    "def foo5():\n",
    "    time.sleep(random.randint(1, 2))\n",
    "    return 42\n",
    "\n",
    "# foo5 = profile(foo5)\n",
    "print(foo5())"
   ]
  },
  {
   "cell_type": "markdown",
   "metadata": {},
   "source": [
    "### We need to go deeper"
   ]
  },
  {
   "cell_type": "code",
   "execution_count": 13,
   "metadata": {},
   "outputs": [
    {
     "name": "stdout",
     "output_type": "stream",
     "text": [
      "Elapsed time for function foo6: 2.0023670196533203ms\n",
      "None\n"
     ]
    }
   ],
   "source": [
    "@profile\n",
    "def foo6():\n",
    "    time.sleep(random.randint(1, 2))\n",
    "    return 42\n",
    "\n",
    "print(foo6())"
   ]
  },
  {
   "cell_type": "code",
   "execution_count": 14,
   "metadata": {},
   "outputs": [],
   "source": [
    "def profile(f):\n",
    "    def deco(*args):\n",
    "        start = time.time()\n",
    "        result = f(*args)\n",
    "        print(f'Elapsed time for function {f.__name__}: {time.time() - start}ms')\n",
    "        return result\n",
    "    return deco"
   ]
  },
  {
   "cell_type": "code",
   "execution_count": 51,
   "metadata": {},
   "outputs": [
    {
     "name": "stdout",
     "output_type": "stream",
     "text": [
      "Elapsed time for function foo7: 2.001713275909424ms\n",
      "42\n",
      "Help on function deco in module __main__:\n",
      "\n",
      "deco(*args)\n",
      "\n"
     ]
    }
   ],
   "source": [
    "@profile\n",
    "def foo7():\n",
    "    \"\"\"Help for foo7\"\"\"\n",
    "    time.sleep(random.randint(1, 2))\n",
    "    return 42\n",
    "\n",
    "print(foo7())\n",
    "help(foo7)"
   ]
  },
  {
   "cell_type": "code",
   "execution_count": 52,
   "metadata": {},
   "outputs": [],
   "source": [
    "def profile(f):\n",
    "    @functools.wraps(f)\n",
    "    def deco(*args):\n",
    "        start = time.time()\n",
    "        result = f(*args)\n",
    "        print(f'Elapsed time for function {f.__name__}: {time.time() - start}ms')\n",
    "        return result\n",
    "    return deco"
   ]
  },
  {
   "cell_type": "code",
   "execution_count": 54,
   "metadata": {},
   "outputs": [
    {
     "name": "stdout",
     "output_type": "stream",
     "text": [
      "Elapsed time for function foo8: 1.0017116069793701ms\n",
      "42\n",
      "Help on function foo8 in module __main__:\n",
      "\n",
      "foo8()\n",
      "    Help for foo8\n",
      "\n"
     ]
    }
   ],
   "source": [
    "@profile\n",
    "def foo8():\n",
    "    \"\"\"Help for foo8\"\"\"\n",
    "    time.sleep(random.randint(1, 2))\n",
    "    return 42\n",
    "\n",
    "print(foo8())\n",
    "help(foo8)"
   ]
  },
  {
   "cell_type": "code",
   "execution_count": 56,
   "metadata": {},
   "outputs": [
    {
     "name": "stdout",
     "output_type": "stream",
     "text": [
      "Time spent foo8: 2.0019683837890625ms\n",
      "42\n",
      "Help on function foo8 in module __main__:\n",
      "\n",
      "foo8()\n",
      "    Help for foo7\n",
      "\n"
     ]
    }
   ],
   "source": [
    "@profile('Time spent') # -> profile_ = profile('Time spent')\n",
    "                       # -> foo5 = profile_(foo5)\n",
    "\n",
    "def foo8():\n",
    "    \"\"\"Help for foo7\"\"\"\n",
    "    time.sleep(random.randint(1, 2))\n",
    "    return 42\n",
    "\n",
    "print(foo8())\n",
    "help(foo8)"
   ]
  },
  {
   "cell_type": "code",
   "execution_count": 55,
   "metadata": {},
   "outputs": [],
   "source": [
    "def profile(msg):\n",
    "    def profile_(f):\n",
    "        @functools.wraps(f)\n",
    "        def deco(*args):\n",
    "            start = time.time()\n",
    "            result = f(*args)\n",
    "            print(msg, f'{f.__name__}: {time.time() - start}ms')\n",
    "            return result\n",
    "        return deco\n",
    "    return profile_"
   ]
  },
  {
   "cell_type": "code",
   "execution_count": 84,
   "metadata": {},
   "outputs": [],
   "source": [
    "def profile(msg=\"Elapsed time for function\"):\n",
    "    def internal(f):\n",
    "        @functools.wraps(f)\n",
    "        def deco(*args):\n",
    "            start = time.time()\n",
    "            deco._num_call += 1\n",
    "            result = f(*args)\n",
    "            deco._num_call -= 1\n",
    "            \n",
    "            if deco._num_call == 0:\n",
    "                print(msg, f'{f.__name__}: {time.time() - start}ms')\n",
    "            return result\n",
    "        \n",
    "        deco._num_call = 0\n",
    "        return deco\n",
    "    \n",
    "    return internal"
   ]
  },
  {
   "cell_type": "code",
   "execution_count": 57,
   "metadata": {},
   "outputs": [
    {
     "name": "stdout",
     "output_type": "stream",
     "text": [
      "Hello\n",
      "Hello\n",
      "Hello\n"
     ]
    }
   ],
   "source": [
    "def repeate(n=2):\n",
    "    def internal(f):\n",
    "        @functools.wraps(f)\n",
    "        def repeater(*args, **kwargs):\n",
    "            for _ in range(n):\n",
    "                f(*args, **kwargs)\n",
    "        return repeater\n",
    "    return internal\n",
    "\n",
    "@repeate(3)\n",
    "def my_print(*args):\n",
    "    print(*args)\n",
    "\n",
    "my_print('Hello')\n"
   ]
  },
  {
   "cell_type": "code",
   "execution_count": 61,
   "metadata": {},
   "outputs": [
    {
     "name": "stdout",
     "output_type": "stream",
     "text": [
      "Elapsed time for function foo9: 3.0023088455200195ms\n"
     ]
    }
   ],
   "source": [
    "@profile()\n",
    "@repeate()\n",
    "def foo9():\n",
    "    \"\"\"Help for foo9\"\"\"\n",
    "    time.sleep(random.randint(1, 2))\n",
    "    return 42\n",
    "\n",
    "foo9()"
   ]
  },
  {
   "cell_type": "code",
   "execution_count": 15,
   "metadata": {},
   "outputs": [],
   "source": [
    "def cache(f):\n",
    "    @functools.wraps(f)\n",
    "    def deco(*args):\n",
    "#         if args not in deco._cache:\n",
    "#             result = f(*args)\n",
    "#             deco._cache[args] = result\n",
    "#         return deco._cache[args]\n",
    "        if args in deco._cache:\n",
    "            return deco._cache[args]\n",
    "        result = f(*args)\n",
    "        deco._cache[args] = result\n",
    "        return result\n",
    "\n",
    "\n",
    "    deco._cache = {}\n",
    "    return deco"
   ]
  },
  {
   "cell_type": "code",
   "execution_count": 85,
   "metadata": {},
   "outputs": [],
   "source": [
    "@profile()\n",
    "@cache(max_limit=64)\n",
    "# 0 1 1 2 3 5 8 13 ...\n",
    "def fibo(n):\n",
    "    \"\"\"Inefficient fibo function\"\"\"\n",
    "    if n < 2:\n",
    "        return n\n",
    "    else:\n",
    "        return fibo(n-1) + fibo(n-2)\n",
    "\n",
    "    \n",
    "@profile()\n",
    "@cache\n",
    "def foo(n):\n",
    "    time.sleep(n)\n",
    "\n",
    "# foo(5)\n",
    "# foo(6)"
   ]
  },
  {
   "cell_type": "code",
   "execution_count": 86,
   "metadata": {},
   "outputs": [
    {
     "name": "stdout",
     "output_type": "stream",
     "text": [
      "Elapsed time for function fibo: 1.1205673217773438e-05ms\n",
      "5 -> 5\n"
     ]
    }
   ],
   "source": [
    "print(5, '->', fibo(1000))"
   ]
  },
  {
   "cell_type": "markdown",
   "metadata": {},
   "source": [
    "### Magic attributes"
   ]
  },
  {
   "cell_type": "code",
   "execution_count": 16,
   "metadata": {},
   "outputs": [
    {
     "data": {
      "text/plain": [
       "43"
      ]
     },
     "execution_count": 16,
     "metadata": {},
     "output_type": "execute_result"
    }
   ],
   "source": [
    "class MyInt(int):\n",
    "        \n",
    "    def __add__(self, value):\n",
    "        return super().__add__(int(value))\n",
    "    \n",
    "val = MyInt(42)\n",
    "val + '1'\n"
   ]
  },
  {
   "cell_type": "code",
   "execution_count": 13,
   "metadata": {},
   "outputs": [
    {
     "name": "stdout",
     "output_type": "stream",
     "text": [
      "ENTER\n",
      "hello\n",
      "EXIT\n"
     ]
    }
   ],
   "source": [
    "class context_manager():\n",
    "    def __enter__(self):\n",
    "        print('ENTER')\n",
    "        return None\n",
    "\n",
    "    def __exit__(self, type, value, traceback):\n",
    "        print('EXIT')\n",
    "        \n",
    "with context_manager() as cm:\n",
    "    print('hello')"
   ]
  },
  {
   "cell_type": "code",
   "execution_count": 2,
   "metadata": {},
   "outputs": [
    {
     "name": "stdout",
     "output_type": "stream",
     "text": [
      "BEFORE\n",
      "\u001b[31;40m Hello \u001b[0m\n",
      "\u001b[31;40m world 42 [1, 2, 3] \u001b[0m\n",
      "AFTER\n"
     ]
    }
   ],
   "source": [
    "class coloured_print():\n",
    "    \n",
    "    def __init__(self):#, colour=\"31;40m\"):\n",
    "        self.old_print = None\n",
    "\n",
    "    def __enter__(self):\n",
    "        def my_print(*args):\n",
    "            self.old_print('\\x1B[31;40m', *args, '\\x1B[0m')\n",
    "        global print\n",
    "        self.old_print = print\n",
    "        print = my_print\n",
    "\n",
    "    def __exit__(self, type, value, traceback):\n",
    "        global print\n",
    "        print = self.old_print\n",
    "        \n",
    "print('BEFORE')\n",
    "with coloured_print() as aa:\n",
    "    print('Hello')\n",
    "    print('world', 42, [1, 2, 3])\n",
    "print('AFTER')"
   ]
  },
  {
   "cell_type": "code",
   "execution_count": 4,
   "metadata": {},
   "outputs": [],
   "source": [
    "class timer():\n",
    "    def __init__(self, message):\n",
    "        self.message = message\n",
    "\n",
    "    def __enter__(self):\n",
    "        self.start = time.time()\n",
    "        return None\n",
    "\n",
    "    def __exit__(self, type, value, traceback):\n",
    "        elapsed_time = (time.time() - self.start)\n",
    "        print(self.message.format(elapsed_time))"
   ]
  },
  {
   "cell_type": "code",
   "execution_count": 7,
   "metadata": {},
   "outputs": [
    {
     "name": "stdout",
     "output_type": "stream",
     "text": [
      "Elapsed: 1.001065969467163s\n"
     ]
    }
   ],
   "source": [
    "with timer('Elapsed: {}s'):\n",
    "    time.sleep(1)"
   ]
  },
  {
   "cell_type": "code",
   "execution_count": 11,
   "metadata": {},
   "outputs": [
    {
     "name": "stdout",
     "output_type": "stream",
     "text": [
      "abc\n"
     ]
    }
   ],
   "source": [
    "with open('test.txt', 'w+') as f:\n",
    "    f.write('abc')\n",
    "    \n",
    "with open('test.txt', 'r') as f:\n",
    "    print(f.read())"
   ]
  },
  {
   "cell_type": "code",
   "execution_count": null,
   "metadata": {},
   "outputs": [],
   "source": [
    "f = open('test.txt', 'r')\n",
    "# 10/0\n",
    "f.close()"
   ]
  }
 ],
 "metadata": {
  "kernelspec": {
   "display_name": "Python 3",
   "language": "python",
   "name": "python3"
  },
  "language_info": {
   "codemirror_mode": {
    "name": "ipython",
    "version": 3
   },
   "file_extension": ".py",
   "mimetype": "text/x-python",
   "name": "python",
   "nbconvert_exporter": "python",
   "pygments_lexer": "ipython3",
   "version": "3.8.2"
  }
 },
 "nbformat": 4,
 "nbformat_minor": 4
}
