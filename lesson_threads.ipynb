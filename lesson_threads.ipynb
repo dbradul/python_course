{
 "cells": [
  {
   "cell_type": "code",
   "execution_count": 25,
   "metadata": {},
   "outputs": [],
   "source": [
    "import time\n",
    "import threading\n",
    "import multiprocessing\n",
    "import itertools\n",
    "import os\n",
    "import logging\n",
    "import random\n",
    "import string\n",
    "import requests\n",
    "from functools import partial\n",
    "from multiprocessing import Queue\n",
    "from multiprocessing.pool import ThreadPool"
   ]
  },
  {
   "cell_type": "markdown",
   "metadata": {},
   "source": [
    "# Definitions"
   ]
  },
  {
   "cell_type": "code",
   "execution_count": 1,
   "metadata": {},
   "outputs": [],
   "source": [
    "# Processes are OS-level resource used to run and manage applications\n",
    "# Processes have pid, list of open files and sockets, isolated memory,"
   ]
  },
  {
   "cell_type": "code",
   "execution_count": 3,
   "metadata": {},
   "outputs": [],
   "source": [
    "# Special part of OS (scheduler) iterates over processes and give them time slot to run\n",
    "TIME_SLOT = 0.5/(1000*1000)\n",
    "while True:\n",
    "    for process in processes:\n",
    "        process.run_for(TIME_SLOT)"
   ]
  },
  {
   "cell_type": "code",
   "execution_count": 1,
   "metadata": {},
   "outputs": [],
   "source": [
    "# Process has 1 or more threads\n",
    "# Threads have common memory"
   ]
  },
  {
   "cell_type": "code",
   "execution_count": null,
   "metadata": {},
   "outputs": [],
   "source": [
    "# 2 kinds of tasks:\n",
    "- parallel execution: speedup\n",
    "- background execution: \n",
    "    - daemon process: OS services\n",
    "    - multithreaded process: notifications, monitor, watcher, etc"
   ]
  },
  {
   "cell_type": "code",
   "execution_count": 5,
   "metadata": {},
   "outputs": [],
   "source": [
    "Parallel execution can be done in 2 ways:\n",
    "    - threads\n",
    "    - processes\n",
    "    \n",
    "Which one is better?"
   ]
  },
  {
   "cell_type": "markdown",
   "metadata": {},
   "source": [
    "# Threads"
   ]
  },
  {
   "cell_type": "code",
   "execution_count": 6,
   "metadata": {},
   "outputs": [
    {
     "name": "stdout",
     "output_type": "stream",
     "text": [
      "Elapsed: 1.0002257823944092s\n"
     ]
    }
   ],
   "source": [
    "class timer():\n",
    "    def __init__(self, message):\n",
    "        self.message = message\n",
    "\n",
    "    def __enter__(self):\n",
    "        self.start = time.time()\n",
    "        return None\n",
    "\n",
    "    def __exit__(self, type, value, traceback):\n",
    "        elapsed_time = (time.time() - self.start)\n",
    "        print(self.message.format(elapsed_time))\n",
    "\n",
    "TIME_TO_SLEEP = 1\n",
    "        \n",
    "def long_running_task(n=TIME_TO_SLEEP):\n",
    "#     print(threading.current_thread())\n",
    "    time.sleep(n)\n",
    "\n",
    "with timer('Elapsed: {}s'):\n",
    "#     long_running_task()\n",
    "    long_running_task()\n"
   ]
  },
  {
   "cell_type": "code",
   "execution_count": 35,
   "metadata": {},
   "outputs": [
    {
     "name": "stdout",
     "output_type": "stream",
     "text": [
      "BEFORE T1 JOIN\n",
      "BEFORE T2 JOIN\n",
      "Elapsed: 0.5124528408050537s\n",
      "next step\n"
     ]
    }
   ],
   "source": [
    "with timer('Elapsed: {}s'):\n",
    "    t1 = threading.Thread(target=long_running_task, args=(TIME_TO_SLEEP/2,))\n",
    "    t2 = threading.Thread(target=long_running_task, args=(TIME_TO_SLEEP/2,))\n",
    "    t1.start()\n",
    "    t2.start()\n",
    "#     print(threading.current_thread())\n",
    "    print('BEFORE T1 JOIN')\n",
    "    t1.join() # be carefull\n",
    "    print('BEFORE T2 JOIN')\n",
    "    t2.join() \n",
    "    \n",
    "print('next step')\n",
    "# work with date"
   ]
  },
  {
   "cell_type": "code",
   "execution_count": 36,
   "metadata": {},
   "outputs": [],
   "source": [
    "def run_threads(func, data, workers):\n",
    "    threads = [\n",
    "        threading.Thread(target=func, args=(data / workers, ))\n",
    "        for _ in range(workers)\n",
    "    ]\n",
    "    for t in threads:\n",
    "        t.start()\n",
    "    for t in threads:\n",
    "        t.join()"
   ]
  },
  {
   "cell_type": "code",
   "execution_count": 46,
   "metadata": {},
   "outputs": [
    {
     "name": "stdout",
     "output_type": "stream",
     "text": [
      "Elapsed: 0.10117959976196289s\n"
     ]
    }
   ],
   "source": [
    "workers = 10\n",
    "DATA_SIZE = 1\n",
    "\n",
    "with timer('Elapsed: {}s'):\n",
    "    run_threads(long_running_task, DATA_SIZE, workers)"
   ]
  },
  {
   "cell_type": "code",
   "execution_count": 100,
   "metadata": {},
   "outputs": [],
   "source": [
    "def generate_task_queue(total_tasks, queue_size):\n",
    "    task_queue = []\n",
    "    remainder = total_tasks\n",
    "    while remainder > 0:\n",
    "        value = min(remainder, random.randint(1, total_tasks//queue_size))\n",
    "        remainder -= value\n",
    "        task_queue.append(value)\n",
    "    return task_queue\n",
    "\n",
    "assert sum(generate_task_queue(1000, 20)) == 1000\n",
    "assert sum(generate_task_queue(1000, 1)) == 1000\n",
    "assert sum(generate_task_queue(1000, 1000)) == 1000\n",
    "assert sum(generate_task_queue(1000, 42)) == 1000"
   ]
  },
  {
   "cell_type": "code",
   "execution_count": 52,
   "metadata": {
    "pycharm": {
     "name": "#%%\n"
    }
   },
   "outputs": [
    {
     "name": "stdout",
     "output_type": "stream",
     "text": [
      "[0.1, 0.1, 0.1, 0.1, 0.1, 0.1, 0.1, 0.1, 0.1, 0.1]\n",
      "Elapsed: 0.11604833602905273s\n"
     ]
    }
   ],
   "source": [
    "input_data = [DATA_SIZE / workers for _ in range(workers)]\n",
    "# input_data = [0.15, 0.09, 0.11, 0.1, 0.1, 0.1, 0.1, 0.1, 0.1, 0.1]\n",
    "print(input_data)\n",
    "\n",
    "with timer('Elapsed: {}s'):\n",
    "    with ThreadPool(workers) as pool:\n",
    "        pool.map(long_running_task, input_data)\n",
    "#         for chunk in input_data:\n",
    "#             long_running_task(chunk)"
   ]
  },
  {
   "cell_type": "markdown",
   "metadata": {},
   "source": [
    "<img src=\"https://www.nginx.com/wp-content/uploads/2016/07/thread-pools-worker-process-event-cycle.png\">"
   ]
  },
  {
   "cell_type": "markdown",
   "metadata": {
    "pycharm": {
     "name": "#%% md\n"
    }
   },
   "source": [
    "# Real world task"
   ]
  },
  {
   "cell_type": "code",
   "execution_count": 53,
   "metadata": {},
   "outputs": [],
   "source": [
    "def fetch_pic(num_pic):\n",
    "# def fetch_pic(num_pic, path):\n",
    "    url = 'https://picsum.photos/400/600'\n",
    "    path = './pics'\n",
    "    for _ in range(num_pic):\n",
    "        random_name = ''.join(random.choices(string.ascii_letters + string.digits, k=5))\n",
    "        response = requests.get(url)\n",
    "        if response.status_code == 200:\n",
    "            with open(f'{path}/{random_name}.jpg', 'wb') as f:\n",
    "                f.write(response.content)\n",
    "                #print(f\"Fetched pic [{os.getpid()}]: {f.name}\")"
   ]
  },
  {
   "cell_type": "code",
   "execution_count": 57,
   "metadata": {
    "pycharm": {
     "name": "#%%\n"
    }
   },
   "outputs": [
    {
     "name": "stdout",
     "output_type": "stream",
     "text": [
      "Elapsed: 5.068382501602173s\n"
     ]
    }
   ],
   "source": [
    "workers = 8\n",
    "DATA_SIZE = 100\n",
    "\n",
    "with timer('Elapsed: {}s'):\n",
    "    with ThreadPool(workers) as pool:\n",
    "        input_data = [DATA_SIZE // workers for _ in range(workers)]\n",
    "        # input_data = [(DATA_SIZE // workers, './pics') for _ in range(workers)]\n",
    "        pool.map(fetch_pic, input_data)"
   ]
  },
  {
   "cell_type": "markdown",
   "metadata": {
    "pycharm": {
     "name": "#%% md\n"
    }
   },
   "source": [
    "# IO vs CPU bound tasks"
   ]
  },
  {
   "cell_type": "code",
   "execution_count": 9,
   "metadata": {},
   "outputs": [
    {
     "name": "stdout",
     "output_type": "stream",
     "text": [
      "Elapsed: 0.7135238647460938s\n"
     ]
    }
   ],
   "source": [
    "DATA_SIZE = 1_000_000\n",
    "lst = []\n",
    "\n",
    "def fill_data(n):\n",
    "    # print(threading.current_thread())\n",
    "    while n > 0:\n",
    "        n -= 1\n",
    "        lst.append(random.randint(1, 100))\n",
    "        \n",
    "with timer('Elapsed: {}s'):\n",
    "#     fill_data(DATA_SIZE, lst)\n",
    "    fill_data(DATA_SIZE)"
   ]
  },
  {
   "cell_type": "code",
   "execution_count": 63,
   "metadata": {},
   "outputs": [
    {
     "name": "stdout",
     "output_type": "stream",
     "text": [
      "Elapsed: 1.0509212017059326s\n"
     ]
    }
   ],
   "source": [
    "with timer('Elapsed: {}s'):\n",
    "#     t1 = threading.Thread(target=fill_data, args=(DATA_SIZE // 2, lst))\n",
    "#     t2 = threading.Thread(target=fill_data, args=(DATA_SIZE // 2, lst))\n",
    "    t1 = threading.Thread(target=fill_data, args=(DATA_SIZE // 2,))\n",
    "    t2 = threading.Thread(target=fill_data, args=(DATA_SIZE // 2,))\n",
    "    t1.start()\n",
    "    t2.start()\n",
    "    t1.join()\n",
    "    t2.join()"
   ]
  },
  {
   "cell_type": "code",
   "execution_count": 66,
   "metadata": {},
   "outputs": [
    {
     "name": "stdout",
     "output_type": "stream",
     "text": [
      "Elapsed: 1.1036815643310547s\n",
      "1000000 [11, 77, 98, 86, 54, 32, 69, 88, 8, 46, 48, 47, 58, 31, 75, 29, 53, 33, 7, 72, 31, 48, 13, 93, 93, 30, 8, 44, 68, 75, 83, 13, 64, 39, 80, 60, 44, 63, 26, 74, 30, 5, 80, 94, 63, 51, 10, 53, 50, 61, 52, 38, 46, 59, 90, 58, 22, 89, 30, 54, 43, 11, 2, 46, 60, 76, 76, 48, 30, 53, 49, 33, 10, 55, 45, 98, 100, 34, 33, 16, 92, 29, 59, 95, 32, 66, 57, 62, 69, 64, 100, 22, 47, 48, 12, 64, 34, 36, 64, 13]\n"
     ]
    }
   ],
   "source": [
    "lst = []\n",
    "workers = 16\n",
    "with timer('Elapsed: {}s'):\n",
    "    with ThreadPool(workers) as pool:\n",
    "        input_data = [DATA_SIZE // workers for _ in range(workers)]\n",
    "#         pool.map(partial(fill_data, lst=lst), input_data)\n",
    "        result = pool.map(fill_data, input_data)\n",
    "        \n",
    "print(len(lst), lst[:100])"
   ]
  },
  {
   "cell_type": "code",
   "execution_count": 75,
   "metadata": {},
   "outputs": [
    {
     "name": "stdout",
     "output_type": "stream",
     "text": [
      "Elapsed: 0.4283015727996826s\n",
      "0 []\n"
     ]
    }
   ],
   "source": [
    "lst = []\n",
    "workers = 16\n",
    "with timer('Elapsed: {}s'):\n",
    "    with multiprocessing.Pool(workers) as pool:\n",
    "        input_data = [DATA_SIZE // workers for _ in range(workers)]\n",
    "        pool.map(fill_data, input_data)\n",
    "        \n",
    "print(len(lst), lst[:100])"
   ]
  },
  {
   "cell_type": "code",
   "execution_count": 17,
   "metadata": {},
   "outputs": [],
   "source": [
    "def factorize_naive(n):\n",
    "    \"\"\" A naive factorization method. Take integer 'n', return list of\n",
    "        factors.\n",
    "    \"\"\"\n",
    "    if n < 2:\n",
    "        return []\n",
    "    factors = []\n",
    "    p = 2\n",
    "\n",
    "    while True:\n",
    "        if n == 1:\n",
    "            return factors\n",
    "\n",
    "        r = n % p\n",
    "        if r == 0:\n",
    "            factors.append(p)\n",
    "            n = n / p\n",
    "        elif p * p >= n:\n",
    "            factors.append(n)\n",
    "            return factors\n",
    "        elif p > 2:\n",
    "            # Advance in steps of 2 over odd numbers\n",
    "            p += 2\n",
    "        else:\n",
    "            # If p == 2, get to 3\n",
    "            p += 1\n",
    "\n",
    "    assert False, \"unreachable\""
   ]
  },
  {
   "cell_type": "code",
   "execution_count": 22,
   "metadata": {
    "pycharm": {
     "name": "#%%\n"
    }
   },
   "outputs": [
    {
     "name": "stdout",
     "output_type": "stream",
     "text": [
      "Elapsed: 6.6087000370025635s\n",
      "1000000 [(1, []), (2, [2]), (3, [3]), (4, [2, 2]), (5, [5]), (6, [2, 3.0]), (7, [7]), (8, [2, 2, 2]), (9, [3, 3]), (10, [2, 5.0]), (11, [11]), (12, [2, 2, 3.0]), (13, [13]), (14, [2, 7.0]), (15, [3, 5.0]), (16, [2, 2, 2, 2]), (17, [17]), (18, [2, 3, 3]), (19, [19]), (20, [2, 2, 5.0]), (21, [3, 7.0]), (22, [2, 11.0]), (23, [23]), (24, [2, 2, 2, 3.0]), (25, [5, 5]), (26, [2, 13.0]), (27, [3, 3, 3]), (28, [2, 2, 7.0]), (29, [29]), (30, [2, 3, 5.0]), (31, [31]), (32, [2, 2, 2, 2, 2]), (33, [3, 11.0]), (34, [2, 17.0]), (35, [5, 7.0]), (36, [2, 2, 3, 3]), (37, [37]), (38, [2, 19.0]), (39, [3, 13.0]), (40, [2, 2, 2, 5.0]), (41, [41]), (42, [2, 3, 7.0]), (43, [43]), (44, [2, 2, 11.0]), (45, [3, 3, 5.0]), (46, [2, 23.0]), (47, [47]), (48, [2, 2, 2, 2, 3.0]), (49, [7, 7]), (50, [2, 5, 5]), (51, [3, 17.0]), (52, [2, 2, 13.0]), (53, [53]), (54, [2, 3, 3, 3]), (55, [5, 11.0]), (56, [2, 2, 2, 7.0]), (57, [3, 19.0]), (58, [2, 29.0]), (59, [59]), (60, [2, 2, 3, 5.0]), (61, [61]), (62, [2, 31.0]), (63, [3, 3, 7.0]), (64, [2, 2, 2, 2, 2, 2]), (65, [5, 13.0]), (66, [2, 3, 11.0]), (67, [67]), (68, [2, 2, 17.0]), (69, [3, 23.0]), (70, [2, 5, 7.0]), (71, [71]), (72, [2, 2, 2, 3, 3]), (73, [73]), (74, [2, 37.0]), (75, [3, 5, 5]), (76, [2, 2, 19.0]), (77, [7, 11.0]), (78, [2, 3, 13.0]), (79, [79]), (80, [2, 2, 2, 2, 5.0]), (81, [3, 3, 3, 3]), (82, [2, 41.0]), (83, [83]), (84, [2, 2, 3, 7.0]), (85, [5, 17.0]), (86, [2, 43.0]), (87, [3, 29.0]), (88, [2, 2, 2, 11.0]), (89, [89]), (90, [2, 3, 3, 5.0]), (91, [7, 13.0]), (92, [2, 2, 23.0]), (93, [3, 31.0]), (94, [2, 47.0]), (95, [5, 19.0]), (96, [2, 2, 2, 2, 2, 3.0]), (97, [97]), (98, [2, 7, 7]), (99, [3, 3, 11.0]), (100, [2, 2, 5, 5])]\n"
     ]
    }
   ],
   "source": [
    "result = {}\n",
    "workers = 16\n",
    "with timer('Elapsed: {}s'):\n",
    "    with multiprocessing.Pool(workers) as pool:\n",
    "        input_data = (i for i in range(1, DATA_SIZE+1))\n",
    "        result = [\n",
    "            (n, factors)\n",
    "            for n, factors in enumerate(pool.map(factorize_naive, input_data), 1)\n",
    "        ]\n",
    "    \n",
    "print(len(result), result[:100])"
   ]
  },
  {
   "cell_type": "code",
   "execution_count": 26,
   "metadata": {
    "pycharm": {
     "name": "#%%\n"
    }
   },
   "outputs": [
    {
     "name": "stdout",
     "output_type": "stream",
     "text": [
      "Elapsed: 33.573885440826416s\n",
      "1000000 [(1, []), (2, [2]), (3, [3]), (4, [2, 2]), (5, [5]), (6, [2, 3.0]), (7, [7]), (8, [2, 2, 2]), (9, [3, 3]), (10, [2, 5.0]), (11, [11]), (12, [2, 2, 3.0]), (13, [13]), (14, [2, 7.0]), (15, [3, 5.0]), (16, [2, 2, 2, 2]), (17, [17]), (18, [2, 3, 3]), (19, [19]), (20, [2, 2, 5.0]), (21, [3, 7.0]), (22, [2, 11.0]), (23, [23]), (24, [2, 2, 2, 3.0]), (25, [5, 5]), (26, [2, 13.0]), (27, [3, 3, 3]), (28, [2, 2, 7.0]), (29, [29]), (30, [2, 3, 5.0]), (31, [31]), (32, [2, 2, 2, 2, 2]), (33, [3, 11.0]), (34, [2, 17.0]), (35, [5, 7.0]), (36, [2, 2, 3, 3]), (37, [37]), (38, [2, 19.0]), (39, [3, 13.0]), (40, [2, 2, 2, 5.0]), (41, [41]), (42, [2, 3, 7.0]), (43, [43]), (44, [2, 2, 11.0]), (45, [3, 3, 5.0]), (46, [2, 23.0]), (47, [47]), (48, [2, 2, 2, 2, 3.0]), (49, [7, 7]), (50, [2, 5, 5]), (51, [3, 17.0]), (52, [2, 2, 13.0]), (53, [53]), (54, [2, 3, 3, 3]), (55, [5, 11.0]), (56, [2, 2, 2, 7.0]), (57, [3, 19.0]), (58, [2, 29.0]), (59, [59]), (60, [2, 2, 3, 5.0]), (61, [61]), (62, [2, 31.0]), (63, [3, 3, 7.0]), (64, [2, 2, 2, 2, 2, 2]), (65, [5, 13.0]), (66, [2, 3, 11.0]), (67, [67]), (68, [2, 2, 17.0]), (69, [3, 23.0]), (70, [2, 5, 7.0]), (71, [71]), (72, [2, 2, 2, 3, 3]), (73, [73]), (74, [2, 37.0]), (75, [3, 5, 5]), (76, [2, 2, 19.0]), (77, [7, 11.0]), (78, [2, 3, 13.0]), (79, [79]), (80, [2, 2, 2, 2, 5.0]), (81, [3, 3, 3, 3]), (82, [2, 41.0]), (83, [83]), (84, [2, 2, 3, 7.0]), (85, [5, 17.0]), (86, [2, 43.0]), (87, [3, 29.0]), (88, [2, 2, 2, 11.0]), (89, [89]), (90, [2, 3, 3, 5.0]), (91, [7, 13.0]), (92, [2, 2, 23.0]), (93, [3, 31.0]), (94, [2, 47.0]), (95, [5, 19.0]), (96, [2, 2, 2, 2, 2, 3.0]), (97, [97]), (98, [2, 7, 7]), (99, [3, 3, 11.0]), (100, [2, 2, 5, 5])]\n"
     ]
    }
   ],
   "source": [
    "result = {}\n",
    "workers = 16\n",
    "with timer('Elapsed: {}s'):\n",
    "    with ThreadPool(workers) as pool:\n",
    "        input_data = (i for i in range(1, DATA_SIZE+1))\n",
    "        result = [\n",
    "            (n, factors)\n",
    "            for n, factors in enumerate(pool.map(factorize_naive, input_data), 1)\n",
    "        ]\n",
    "    \n",
    "print(len(result), result[:100])"
   ]
  }
 ],
 "metadata": {
  "kernelspec": {
   "display_name": "Python 3",
   "language": "python",
   "name": "python3"
  },
  "language_info": {
   "codemirror_mode": {
    "name": "ipython",
    "version": 3
   },
   "file_extension": ".py",
   "mimetype": "text/x-python",
   "name": "python",
   "nbconvert_exporter": "python",
   "pygments_lexer": "ipython3",
   "version": "3.8.5"
  }
 },
 "nbformat": 4,
 "nbformat_minor": 2
}
