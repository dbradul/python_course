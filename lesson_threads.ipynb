{
 "cells": [
  {
   "cell_type": "code",
   "execution_count": 2,
   "metadata": {},
   "outputs": [],
   "source": [
    "import time\n",
    "import threading\n",
    "import multiprocessing\n",
    "import itertools\n",
    "import os\n",
    "import logging\n",
    "import random\n",
    "import string\n",
    "import requests\n",
    "from functools import partial\n",
    "from multiprocessing import Queue\n",
    "from multiprocessing.pool import ThreadPool"
   ]
  },
  {
   "cell_type": "markdown",
   "metadata": {},
   "source": [
    "# Definitions"
   ]
  },
  {
   "cell_type": "code",
   "execution_count": null,
   "metadata": {},
   "outputs": [],
   "source": [
    "# Process\n",
    "class Process:\n",
    "    pid = 0\n",
    "    prio = 10\n",
    "    files = []\n",
    "    sockets = []\n",
    "    addresses = []\n",
    "    state = states.READY\n",
    "    \n",
    "    def __init__():\n",
    "        pass\n",
    "    \n",
    "    def process_signal(signal):\n",
    "        if signal == 'SIGSTOP':\n",
    "            self._stop()\n",
    "        elif signal == 'SIGCONT':\n",
    "            self._cont()\n",
    "        elif signal == 'SIGKILL':\n",
    "            self._kill()\n",
    "        ...\n",
    "            \n",
    "    def _stop():\n",
    "        pass\n",
    "    \n",
    "    def _cont():\n",
    "        pass\n",
    "        \n",
    "    def _kill():\n",
    "        pass"
   ]
  },
  {
   "cell_type": "code",
   "execution_count": null,
   "metadata": {},
   "outputs": [],
   "source": [
    "# scheduler\n",
    "for process in processes:\n",
    "    process.process_signal(SIGCONT)\n",
    "    # ...\n",
    "    process.process_signal(SIGSTOP)   "
   ]
  },
  {
   "cell_type": "code",
   "execution_count": null,
   "metadata": {},
   "outputs": [],
   "source": [
    "# Process = threads+\n",
    "Scheduling is repeated on pthreads level"
   ]
  },
  {
   "cell_type": "code",
   "execution_count": null,
   "metadata": {},
   "outputs": [],
   "source": [
    "class Thread:\n",
    "    tid = 0\n",
    "    prio = 10\n",
    "    state = states.READY\n",
    "    parent = None\n",
    "    \n",
    "    def __init__():\n",
    "        pass\n",
    "    \n",
    "    # ..."
   ]
  },
  {
   "cell_type": "code",
   "execution_count": null,
   "metadata": {},
   "outputs": [],
   "source": [
    "# scheduler\n",
    "for thread in threads:\n",
    "    thread.process_signal(SIGCONT)\n",
    "    # ...\n",
    "    thread.process_signal(SIGSTOP)   "
   ]
  },
  {
   "cell_type": "code",
   "execution_count": null,
   "metadata": {},
   "outputs": [],
   "source": [
    "# 2 kinds of tasks:\n",
    "- background execution: \n",
    "    - daemon process: OS services\n",
    "    - multithreaded process: notifications, monitor, watcher, etc\n",
    "- parallel execution: speedup"
   ]
  },
  {
   "cell_type": "code",
   "execution_count": 5,
   "metadata": {},
   "outputs": [],
   "source": [
    "Parallel execution can be done in 2 ways:\n",
    "    - threads\n",
    "    - processes\n",
    "    \n",
    "Which one is better?"
   ]
  },
  {
   "cell_type": "markdown",
   "metadata": {},
   "source": [
    "# Threads"
   ]
  },
  {
   "cell_type": "code",
   "execution_count": 13,
   "metadata": {},
   "outputs": [
    {
     "name": "stdout",
     "output_type": "stream",
     "text": [
      "Elapsed: 1.0002658367156982s\n"
     ]
    }
   ],
   "source": [
    "class timer():\n",
    "    def __init__(self, message):\n",
    "        self.message = message\n",
    "\n",
    "    def __enter__(self):\n",
    "        self.start = time.time()\n",
    "        return None\n",
    "\n",
    "    def __exit__(self, type, value, traceback):\n",
    "        elapsed_time = (time.time() - self.start)\n",
    "        print(self.message.format(elapsed_time))\n",
    "\n",
    "TIME_TO_SLEEP = 1\n",
    "        \n",
    "def long_running_task(n=TIME_TO_SLEEP):\n",
    "    #print(threading.current_thread())\n",
    "    time.sleep(n)\n",
    "\n",
    "with timer('Elapsed: {}s'):\n",
    "#     long_running_task()\n",
    "    long_running_task()\n"
   ]
  },
  {
   "cell_type": "code",
   "execution_count": null,
   "metadata": {},
   "outputs": [],
   "source": [
    "with timer('Elapsed: {}s'):\n",
    "    t1 = threading.Thread(target=long_running_task, args=(TIME_TO_SLEEP/2,))\n",
    "    t2 = threading.Thread(target=long_running_task, args=(TIME_TO_SLEEP/2,))\n",
    "    t1.start()\n",
    "    t2.start()\n",
    "    #print(threading.current_thread())\n",
    "    t1.join() # be carefull\n",
    "    t2.join() \n",
    "    \n",
    "print('next step')\n",
    "# work with date"
   ]
  },
  {
   "cell_type": "code",
   "execution_count": 14,
   "metadata": {},
   "outputs": [],
   "source": [
    "def run_threads(func, data, workers):\n",
    "    threads = [\n",
    "        threading.Thread(target=func, args=(data / workers, ))\n",
    "        for _ in range(workers)\n",
    "    ]\n",
    "    for t in threads:\n",
    "        t.start()\n",
    "    for t in threads:\n",
    "        t.join()"
   ]
  },
  {
   "cell_type": "code",
   "execution_count": 20,
   "metadata": {},
   "outputs": [
    {
     "name": "stdout",
     "output_type": "stream",
     "text": [
      "Elapsed: 0.11463809013366699s\n"
     ]
    }
   ],
   "source": [
    "workers = 10\n",
    "DATA_SIZE = 1\n",
    "\n",
    "with timer('Elapsed: {}s'):\n",
    "    run_threads(long_running_task, DATA_SIZE, workers)"
   ]
  },
  {
   "cell_type": "code",
   "execution_count": 39,
   "metadata": {},
   "outputs": [
    {
     "name": "stdout",
     "output_type": "stream",
     "text": [
      "[62500.0, 62500.0, 62500.0, 62500.0, 62500.0, 62500.0, 62500.0, 62500.0, 62500.0, 62500.0, 62500.0, 62500.0, 62500.0, 62500.0, 62500.0, 62500.0]\n",
      "[0.5576675945770971, 0.44233240542290286]\n",
      "Elapsed: 0.5620317459106445s\n"
     ]
    }
   ],
   "source": [
    "input_data = [DATA_SIZE / workers for _ in range(workers)]\n",
    "print(input_data)\n",
    "\n",
    "input_data = []\n",
    "remainder = 1\n",
    "while remainder > 0:\n",
    "    value = min(remainder, random.random())\n",
    "    remainder -= value\n",
    "    input_data.append(value)\n",
    "print(input_data)\n",
    "\n",
    "with timer('Elapsed: {}s'):\n",
    "    with ThreadPool(workers) as pool:\n",
    "        \n",
    "        pool.map(long_running_task, input_data)\n",
    "#         for chunk in input_data:\n",
    "#             long_running_task(chunk)"
   ]
  },
  {
   "cell_type": "markdown",
   "metadata": {},
   "source": [
    "<img src=\"https://www.nginx.com/wp-content/uploads/2016/07/thread-pools-worker-process-event-cycle.png\">"
   ]
  },
  {
   "cell_type": "markdown",
   "metadata": {},
   "source": [
    "# Real world task"
   ]
  },
  {
   "cell_type": "code",
   "execution_count": 8,
   "metadata": {},
   "outputs": [],
   "source": [
    "def fetch_pic(num_pic):\n",
    "# def fetch_pic(num_pic, path):\n",
    "    url = 'https://picsum.photos/400/600'\n",
    "    path = './pics'\n",
    "    for _ in range(num_pic):\n",
    "        random_name = ''.join(random.choices(string.ascii_letters + string.digits, k=5))\n",
    "        response = requests.get(url)\n",
    "        if response.status_code == 200:\n",
    "            with open(f'{path}/{random_name}.jpg', 'wb') as f:\n",
    "                f.write(response.content)\n",
    "                print(f\"Fetched pic [{os.getpid()}]: {f.name}\")"
   ]
  },
  {
   "cell_type": "code",
   "execution_count": 9,
   "metadata": {},
   "outputs": [
    {
     "name": "stdout",
     "output_type": "stream",
     "text": [
      "Elapsed: 0.01610851287841797s\n"
     ]
    }
   ],
   "source": [
    "with timer('Elapsed: {}s'):\n",
    "    with ThreadPool(workers) as pool:\n",
    "        input_data = [DATA_SIZE // workers for _ in range(workers)]\n",
    "        # input_data = [(DATA_SIZE // workers, './pics') for _ in range(workers)]\n",
    "        pool.map(fetch_pic, input_data)"
   ]
  },
  {
   "cell_type": "markdown",
   "metadata": {},
   "source": [
    "# IO vs CPU bound tasks"
   ]
  },
  {
   "cell_type": "code",
   "execution_count": 33,
   "metadata": {},
   "outputs": [
    {
     "name": "stdout",
     "output_type": "stream",
     "text": [
      "Elapsed: 0.7837133407592773s\n"
     ]
    }
   ],
   "source": [
    "DATA_SIZE = 1_000_000\n",
    "        \n",
    "def countdown(n):\n",
    "    # print(threading.current_thread())\n",
    "    while n > 0:\n",
    "        n -= 1\n",
    "\n",
    "def fill_data(n, lst):\n",
    "    # print(threading.current_thread())\n",
    "    while n > 0:\n",
    "        n -= 1\n",
    "        lst.append(random.randint(1, 100))\n",
    "\n",
    "        \n",
    "lst = []\n",
    "with timer('Elapsed: {}s'):\n",
    "#     fill_data(DATA_SIZE, lst)\n",
    "    fill_data(DATA_SIZE, lst)"
   ]
  },
  {
   "cell_type": "code",
   "execution_count": 67,
   "metadata": {},
   "outputs": [
    {
     "name": "stdout",
     "output_type": "stream",
     "text": [
      "Elapsed: 1.1411914825439453s\n"
     ]
    }
   ],
   "source": [
    "with timer('Elapsed: {}s'):\n",
    "    t1 = threading.Thread(target=fill_data, args=(DATA_SIZE // 2, lst))\n",
    "    t2 = threading.Thread(target=fill_data, args=(DATA_SIZE // 2, lst))\n",
    "    t1.start()\n",
    "    t2.start()\n",
    "    t1.join()\n",
    "    t2.join()"
   ]
  },
  {
   "cell_type": "code",
   "execution_count": 34,
   "metadata": {},
   "outputs": [
    {
     "name": "stdout",
     "output_type": "stream",
     "text": [
      "Elapsed: 1.0753169059753418s\n"
     ]
    }
   ],
   "source": [
    "workers = 16\n",
    "with timer('Elapsed: {}s'):\n",
    "    with ThreadPool(workers) as pool:\n",
    "        input_data = [DATA_SIZE // workers for _ in range(workers)]\n",
    "        pool.map(partial(fill_data, lst=lst), input_data)"
   ]
  },
  {
   "cell_type": "code",
   "execution_count": 35,
   "metadata": {},
   "outputs": [
    {
     "name": "stdout",
     "output_type": "stream",
     "text": [
      "Elapsed: 0.7559535503387451s\n"
     ]
    }
   ],
   "source": [
    "workers = 16\n",
    "with timer('Elapsed: {}s'):\n",
    "    with multiprocessing.Pool(workers) as pool:\n",
    "        input_data = [DATA_SIZE // workers for _ in range(workers)]\n",
    "        pool.map(partial(fill_data, lst=lst), input_data)"
   ]
  }
 ],
 "metadata": {
  "kernelspec": {
   "display_name": "Python 3",
   "language": "python",
   "name": "python3"
  },
  "language_info": {
   "codemirror_mode": {
    "name": "ipython",
    "version": 3
   },
   "file_extension": ".py",
   "mimetype": "text/x-python",
   "name": "python",
   "nbconvert_exporter": "python",
   "pygments_lexer": "ipython3",
   "version": "3.8.5"
  }
 },
 "nbformat": 4,
 "nbformat_minor": 2
}
