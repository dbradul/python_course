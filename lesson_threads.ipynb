{
 "cells": [
  {
   "cell_type": "code",
   "execution_count": 2,
   "metadata": {},
   "outputs": [],
   "source": [
    "import time\n",
    "import threading\n",
    "import multiprocessing\n",
    "import itertools\n",
    "import os\n",
    "import logging\n",
    "import random\n",
    "import string\n",
    "import requests\n",
    "from functools import partial\n",
    "from multiprocessing import Queue\n",
    "from multiprocessing.pool import ThreadPool"
   ]
  },
  {
   "cell_type": "markdown",
   "metadata": {},
   "source": [
    "# Threads"
   ]
  },
  {
   "cell_type": "code",
   "execution_count": 3,
   "metadata": {},
   "outputs": [
    {
     "name": "stdout",
     "output_type": "stream",
     "text": [
      "Elapsed: 1.0010664463043213s\n"
     ]
    }
   ],
   "source": [
    "class timer():\n",
    "    def __init__(self, message):\n",
    "        self.message = message\n",
    "\n",
    "    def __enter__(self):\n",
    "        self.start = time.time()\n",
    "        return None\n",
    "\n",
    "    def __exit__(self, type, value, traceback):\n",
    "        elapsed_time = (time.time() - self.start)\n",
    "        print(self.message.format(elapsed_time))\n",
    "\n",
    "TIME_TO_SLEEP = 1\n",
    "        \n",
    "def long_running_task(n=TIME_TO_SLEEP):\n",
    "    #print(threading.current_thread())\n",
    "    time.sleep(n)\n",
    "\n",
    "with timer('Elapsed: {}s'):\n",
    "#     long_running_task()\n",
    "    long_running_task()\n"
   ]
  },
  {
   "cell_type": "code",
   "execution_count": 4,
   "metadata": {},
   "outputs": [
    {
     "name": "stdout",
     "output_type": "stream",
     "text": [
      "<_MainThread(MainThread, started 140294979577664)>\n",
      "Elapsed: 0.5049533843994141s\n",
      "next step\n"
     ]
    }
   ],
   "source": [
    "with timer('Elapsed: {}s'):\n",
    "    t1 = threading.Thread(target=long_running_task, args=(TIME_TO_SLEEP/2,))\n",
    "    t2 = threading.Thread(target=long_running_task, args=(TIME_TO_SLEEP/2,))\n",
    "    t1.start()\n",
    "    t2.start()\n",
    "    print(threading.current_thread())\n",
    "    t1.join() # be carefull\n",
    "    t2.join() \n",
    "    \n",
    "print('next step')\n",
    "# work with date"
   ]
  },
  {
   "cell_type": "code",
   "execution_count": 5,
   "metadata": {},
   "outputs": [],
   "source": [
    "def run_threads(func, data, workers):\n",
    "    threads = [\n",
    "        threading.Thread(target=func, args=(data / workers, ))\n",
    "        for _ in range(workers)\n",
    "    ]\n",
    "    for t in threads:\n",
    "        t.start()\n",
    "    for t in threads:\n",
    "        t.join()"
   ]
  },
  {
   "cell_type": "code",
   "execution_count": 6,
   "metadata": {},
   "outputs": [
    {
     "name": "stdout",
     "output_type": "stream",
     "text": [
      "Elapsed: 0.125870943069458s\n"
     ]
    }
   ],
   "source": [
    "workers = 10\n",
    "DATA_SIZE = 1\n",
    "\n",
    "with timer('Elapsed: {}s'):\n",
    "    run_threads(long_running_task, DATA_SIZE, workers)"
   ]
  },
  {
   "cell_type": "code",
   "execution_count": 7,
   "metadata": {},
   "outputs": [
    {
     "name": "stdout",
     "output_type": "stream",
     "text": [
      "[0.1, 0.1, 0.1, 0.1, 0.1, 0.1, 0.1, 0.1, 0.1, 0.1]\n",
      "Elapsed: 0.1674344539642334s\n"
     ]
    }
   ],
   "source": [
    "input_data = [DATA_SIZE / workers for _ in range(workers)]\n",
    "print(input_data)\n",
    "\n",
    "with timer('Elapsed: {}s'):\n",
    "    with ThreadPool(workers) as pool:\n",
    "        input_data = [DATA_SIZE / workers for _ in range(workers)]\n",
    "        pool.map(long_running_task, input_data)\n",
    "#         for chunk in input_data:\n",
    "#             long_running_task(chunk)"
   ]
  },
  {
   "cell_type": "markdown",
   "metadata": {},
   "source": [
    "# Real world task"
   ]
  },
  {
   "cell_type": "code",
   "execution_count": 8,
   "metadata": {},
   "outputs": [],
   "source": [
    "def fetch_pic(num_pic):\n",
    "# def fetch_pic(num_pic, path):\n",
    "    url = 'https://picsum.photos/400/600'\n",
    "    path = './pics'\n",
    "    for _ in range(num_pic):\n",
    "        random_name = ''.join(random.choices(string.ascii_letters + string.digits, k=5))\n",
    "        response = requests.get(url)\n",
    "        if response.status_code == 200:\n",
    "            with open(f'{path}/{random_name}.jpg', 'wb') as f:\n",
    "                f.write(response.content)\n",
    "                print(f\"Fetched pic [{os.getpid()}]: {f.name}\")"
   ]
  },
  {
   "cell_type": "code",
   "execution_count": 9,
   "metadata": {},
   "outputs": [
    {
     "name": "stdout",
     "output_type": "stream",
     "text": [
      "Elapsed: 0.01610851287841797s\n"
     ]
    }
   ],
   "source": [
    "with timer('Elapsed: {}s'):\n",
    "    with ThreadPool(workers) as pool:\n",
    "        input_data = [DATA_SIZE // workers for _ in range(workers)]\n",
    "        # input_data = [(DATA_SIZE // workers, './pics') for _ in range(workers)]\n",
    "        pool.map(fetch_pic, input_data)"
   ]
  },
  {
   "cell_type": "markdown",
   "metadata": {},
   "source": [
    "# IO vs CPU bound tasks"
   ]
  },
  {
   "cell_type": "code",
   "execution_count": 66,
   "metadata": {},
   "outputs": [
    {
     "name": "stdout",
     "output_type": "stream",
     "text": [
      "Elapsed: 0.7117810249328613s\n"
     ]
    }
   ],
   "source": [
    "DATA_SIZE = 1_000_000\n",
    "        \n",
    "def countdown(n):\n",
    "    # print(threading.current_thread())\n",
    "    while n > 0:\n",
    "        n -= 1\n",
    "\n",
    "def fill_data(n, lst):\n",
    "    # print(threading.current_thread())\n",
    "    while n > 0:\n",
    "        n -= 1\n",
    "        lst.append(random.randint(1, 100))\n",
    "\n",
    "        \n",
    "lst = []\n",
    "with timer('Elapsed: {}s'):\n",
    "#     fill_data(DATA_SIZE, lst)\n",
    "    fill_data(DATA_SIZE, lst)"
   ]
  },
  {
   "cell_type": "code",
   "execution_count": 67,
   "metadata": {},
   "outputs": [
    {
     "name": "stdout",
     "output_type": "stream",
     "text": [
      "Elapsed: 1.1411914825439453s\n"
     ]
    }
   ],
   "source": [
    "with timer('Elapsed: {}s'):\n",
    "    t1 = threading.Thread(target=fill_data, args=(DATA_SIZE // 2, lst))\n",
    "    t2 = threading.Thread(target=fill_data, args=(DATA_SIZE // 2, lst))\n",
    "    t1.start()\n",
    "    t2.start()\n",
    "    t1.join()\n",
    "    t2.join()"
   ]
  },
  {
   "cell_type": "code",
   "execution_count": 70,
   "metadata": {},
   "outputs": [
    {
     "name": "stdout",
     "output_type": "stream",
     "text": [
      "Elapsed: 1.2244949340820312s\n"
     ]
    }
   ],
   "source": [
    "workers = 16\n",
    "with timer('Elapsed: {}s'):\n",
    "    with ThreadPool(workers) as pool:\n",
    "        input_data = [DATA_SIZE // workers for _ in range(workers)]\n",
    "        pool.map(partial(fill_data, lst=lst), input_data)"
   ]
  },
  {
   "cell_type": "code",
   "execution_count": 10,
   "metadata": {},
   "outputs": [
    {
     "name": "stdout",
     "output_type": "stream",
     "text": [
      "Elapsed: 0.07917976379394531s\n"
     ]
    },
    {
     "ename": "NameError",
     "evalue": "name 'fill_data' is not defined",
     "output_type": "error",
     "traceback": [
      "\u001B[0;31m---------------------------------------------------------------------------\u001B[0m",
      "\u001B[0;31mNameError\u001B[0m                                 Traceback (most recent call last)",
      "\u001B[0;32m<ipython-input-10-74a02341655d>\u001B[0m in \u001B[0;36m<module>\u001B[0;34m\u001B[0m\n\u001B[1;32m      3\u001B[0m     \u001B[0;32mwith\u001B[0m \u001B[0mmultiprocessing\u001B[0m\u001B[0;34m.\u001B[0m\u001B[0mPool\u001B[0m\u001B[0;34m(\u001B[0m\u001B[0mworkers\u001B[0m\u001B[0;34m)\u001B[0m \u001B[0;32mas\u001B[0m \u001B[0mpool\u001B[0m\u001B[0;34m:\u001B[0m\u001B[0;34m\u001B[0m\u001B[0;34m\u001B[0m\u001B[0m\n\u001B[1;32m      4\u001B[0m         \u001B[0minput_data\u001B[0m \u001B[0;34m=\u001B[0m \u001B[0;34m[\u001B[0m\u001B[0mDATA_SIZE\u001B[0m \u001B[0;34m//\u001B[0m \u001B[0mworkers\u001B[0m \u001B[0;32mfor\u001B[0m \u001B[0m_\u001B[0m \u001B[0;32min\u001B[0m \u001B[0mrange\u001B[0m\u001B[0;34m(\u001B[0m\u001B[0mworkers\u001B[0m\u001B[0;34m)\u001B[0m\u001B[0;34m]\u001B[0m\u001B[0;34m\u001B[0m\u001B[0;34m\u001B[0m\u001B[0m\n\u001B[0;32m----> 5\u001B[0;31m         \u001B[0mpool\u001B[0m\u001B[0;34m.\u001B[0m\u001B[0mmap\u001B[0m\u001B[0;34m(\u001B[0m\u001B[0mpartial\u001B[0m\u001B[0;34m(\u001B[0m\u001B[0mfill_data\u001B[0m\u001B[0;34m,\u001B[0m \u001B[0mlst\u001B[0m\u001B[0;34m=\u001B[0m\u001B[0mlst\u001B[0m\u001B[0;34m)\u001B[0m\u001B[0;34m,\u001B[0m \u001B[0minput_data\u001B[0m\u001B[0;34m)\u001B[0m\u001B[0;34m\u001B[0m\u001B[0;34m\u001B[0m\u001B[0m\n\u001B[0m",
      "\u001B[0;31mNameError\u001B[0m: name 'fill_data' is not defined"
     ]
    }
   ],
   "source": [
    "workers = 16\n",
    "with timer('Elapsed: {}s'):\n",
    "    with multiprocessing.Pool(workers) as pool:\n",
    "        input_data = [DATA_SIZE // workers for _ in range(workers)]\n",
    "        pool.map(partial(fill_data, lst=lst), input_data)"
   ]
  }
 ],
 "metadata": {
  "kernelspec": {
   "display_name": "Python 3",
   "language": "python",
   "name": "python3"
  },
  "language_info": {
   "codemirror_mode": {
    "name": "ipython",
    "version": 3
   },
   "file_extension": ".py",
   "mimetype": "text/x-python",
   "name": "python",
   "nbconvert_exporter": "python",
   "pygments_lexer": "ipython3",
   "version": "3.8.2"
  }
 },
 "nbformat": 4,
 "nbformat_minor": 2
}