{
 "cells": [
  {
   "cell_type": "code",
   "execution_count": 2,
   "metadata": {},
   "outputs": [],
   "source": [
    "import time\n",
    "import threading\n",
    "import multiprocessing\n",
    "import itertools\n",
    "import os\n",
    "import logging\n",
    "import random\n",
    "import string\n",
    "import requests\n",
    "from functools import partial\n",
    "from multiprocessing import Queue\n",
    "from multiprocessing.pool import ThreadPool"
   ]
  },
  {
   "cell_type": "markdown",
   "metadata": {},
   "source": [
    "# Definitions"
   ]
  },
  {
   "cell_type": "code",
   "execution_count": 3,
   "metadata": {},
   "outputs": [
    {
     "ename": "NameError",
     "evalue": "name 'states' is not defined",
     "output_type": "error",
     "traceback": [
      "\u001b[0;31m---------------------------------------------------------------------------\u001b[0m",
      "\u001b[0;31mNameError\u001b[0m                                 Traceback (most recent call last)",
      "\u001b[0;32m<ipython-input-3-ae6d8f5922a4>\u001b[0m in \u001b[0;36m<module>\u001b[0;34m\u001b[0m\n\u001b[1;32m      1\u001b[0m \u001b[0;31m# Process\u001b[0m\u001b[0;34m\u001b[0m\u001b[0;34m\u001b[0m\u001b[0;34m\u001b[0m\u001b[0m\n\u001b[0;32m----> 2\u001b[0;31m \u001b[0;32mclass\u001b[0m \u001b[0mProcess\u001b[0m\u001b[0;34m:\u001b[0m\u001b[0;34m\u001b[0m\u001b[0;34m\u001b[0m\u001b[0m\n\u001b[0m\u001b[1;32m      3\u001b[0m     \u001b[0mpid\u001b[0m \u001b[0;34m=\u001b[0m \u001b[0;36m0\u001b[0m\u001b[0;34m\u001b[0m\u001b[0;34m\u001b[0m\u001b[0m\n\u001b[1;32m      4\u001b[0m     \u001b[0mprio\u001b[0m \u001b[0;34m=\u001b[0m \u001b[0;36m10\u001b[0m\u001b[0;34m\u001b[0m\u001b[0;34m\u001b[0m\u001b[0m\n\u001b[1;32m      5\u001b[0m     \u001b[0mfiles\u001b[0m \u001b[0;34m=\u001b[0m \u001b[0;34m[\u001b[0m\u001b[0;34m]\u001b[0m\u001b[0;34m\u001b[0m\u001b[0;34m\u001b[0m\u001b[0m\n",
      "\u001b[0;32m<ipython-input-3-ae6d8f5922a4>\u001b[0m in \u001b[0;36mProcess\u001b[0;34m()\u001b[0m\n\u001b[1;32m      6\u001b[0m     \u001b[0msockets\u001b[0m \u001b[0;34m=\u001b[0m \u001b[0;34m[\u001b[0m\u001b[0;34m]\u001b[0m\u001b[0;34m\u001b[0m\u001b[0;34m\u001b[0m\u001b[0m\n\u001b[1;32m      7\u001b[0m     \u001b[0maddresses\u001b[0m \u001b[0;34m=\u001b[0m \u001b[0;34m[\u001b[0m\u001b[0;34m]\u001b[0m\u001b[0;34m\u001b[0m\u001b[0;34m\u001b[0m\u001b[0m\n\u001b[0;32m----> 8\u001b[0;31m     \u001b[0mstate\u001b[0m \u001b[0;34m=\u001b[0m \u001b[0mstates\u001b[0m\u001b[0;34m.\u001b[0m\u001b[0mREADY\u001b[0m\u001b[0;34m\u001b[0m\u001b[0;34m\u001b[0m\u001b[0m\n\u001b[0m\u001b[1;32m      9\u001b[0m \u001b[0;34m\u001b[0m\u001b[0m\n\u001b[1;32m     10\u001b[0m     \u001b[0;32mdef\u001b[0m \u001b[0m__init__\u001b[0m\u001b[0;34m(\u001b[0m\u001b[0;34m)\u001b[0m\u001b[0;34m:\u001b[0m\u001b[0;34m\u001b[0m\u001b[0;34m\u001b[0m\u001b[0m\n",
      "\u001b[0;31mNameError\u001b[0m: name 'states' is not defined"
     ]
    }
   ],
   "source": [
    "# Process\n",
    "class Process:\n",
    "    pid = 0\n",
    "    prio = 10\n",
    "    files = []\n",
    "    sockets = []\n",
    "    addresses = []\n",
    "    state = states.READY\n",
    "    \n",
    "    def __init__():\n",
    "        pass\n",
    "    \n",
    "    def process_signal(signal):\n",
    "        if signal == 'SIGSTOP':\n",
    "            self._stop()\n",
    "        elif signal == 'SIGCONT':\n",
    "            self._cont()\n",
    "        elif signal == 'SIGKILL':\n",
    "            self._kill()\n",
    "        ...\n",
    "            \n",
    "    def _stop():\n",
    "        pass\n",
    "    \n",
    "    def _cont():\n",
    "        pass\n",
    "        \n",
    "    def _kill():\n",
    "        pass"
   ]
  },
  {
   "cell_type": "code",
   "execution_count": null,
   "metadata": {},
   "outputs": [],
   "source": [
    "# scheduler\n",
    "for process in processes:\n",
    "    process.process_signal(SIGCONT)\n",
    "    # ...\n",
    "    process.process_signal(SIGSTOP)   "
   ]
  },
  {
   "cell_type": "code",
   "execution_count": null,
   "metadata": {},
   "outputs": [],
   "source": [
    "# Process = threads+\n",
    "Scheduling is repeated on pthreads level"
   ]
  },
  {
   "cell_type": "code",
   "execution_count": null,
   "metadata": {},
   "outputs": [],
   "source": [
    "class Thread:\n",
    "    tid = 0\n",
    "    prio = 10\n",
    "    state = states.READY\n",
    "    parent = None\n",
    "    \n",
    "    def __init__():\n",
    "        pass\n",
    "    \n",
    "    # ..."
   ]
  },
  {
   "cell_type": "code",
   "execution_count": null,
   "metadata": {},
   "outputs": [],
   "source": [
    "# scheduler\n",
    "for thread in threads:\n",
    "    thread.process_signal(SIGCONT)\n",
    "    # ...\n",
    "    thread.process_signal(SIGSTOP)   "
   ]
  },
  {
   "cell_type": "code",
   "execution_count": null,
   "metadata": {},
   "outputs": [],
   "source": [
    "# 2 kinds of tasks:\n",
    "- background execution: \n",
    "    - daemon process: OS services\n",
    "    - multithreaded process: notifications, monitor, watcher, etc\n",
    "- parallel execution: speedup"
   ]
  },
  {
   "cell_type": "code",
   "execution_count": 5,
   "metadata": {},
   "outputs": [],
   "source": [
    "Parallel execution can be done in 2 ways:\n",
    "    - threads\n",
    "    - processes\n",
    "    \n",
    "Which one is better?"
   ]
  },
  {
   "cell_type": "markdown",
   "metadata": {},
   "source": [
    "# Threads"
   ]
  },
  {
   "cell_type": "code",
   "execution_count": 4,
   "metadata": {},
   "outputs": [
    {
     "name": "stdout",
     "output_type": "stream",
     "text": [
      "Elapsed: 1.000542402267456s\n"
     ]
    }
   ],
   "source": [
    "class timer():\n",
    "    def __init__(self, message):\n",
    "        self.message = message\n",
    "\n",
    "    def __enter__(self):\n",
    "        self.start = time.time()\n",
    "        return None\n",
    "\n",
    "    def __exit__(self, type, value, traceback):\n",
    "        elapsed_time = (time.time() - self.start)\n",
    "        print(self.message.format(elapsed_time))\n",
    "\n",
    "TIME_TO_SLEEP = 1\n",
    "        \n",
    "def long_running_task(n=TIME_TO_SLEEP):\n",
    "    #print(threading.current_thread())\n",
    "    time.sleep(n)\n",
    "\n",
    "with timer('Elapsed: {}s'):\n",
    "#     long_running_task()\n",
    "    long_running_task()\n"
   ]
  },
  {
   "cell_type": "code",
   "execution_count": 5,
   "metadata": {},
   "outputs": [
    {
     "name": "stdout",
     "output_type": "stream",
     "text": [
      "Elapsed: 0.500849723815918s\n",
      "next step\n"
     ]
    }
   ],
   "source": [
    "with timer('Elapsed: {}s'):\n",
    "    t1 = threading.Thread(target=long_running_task, args=(TIME_TO_SLEEP/2,))\n",
    "    t2 = threading.Thread(target=long_running_task, args=(TIME_TO_SLEEP/2,))\n",
    "    t1.start()\n",
    "    t2.start()\n",
    "    #print(threading.current_thread())\n",
    "    t1.join() # be carefull\n",
    "    t2.join() \n",
    "    \n",
    "print('next step')\n",
    "# work with date"
   ]
  },
  {
   "cell_type": "code",
   "execution_count": 6,
   "metadata": {},
   "outputs": [],
   "source": [
    "def run_threads(func, data, workers):\n",
    "    threads = [\n",
    "        threading.Thread(target=func, args=(data / workers, ))\n",
    "        for _ in range(workers)\n",
    "    ]\n",
    "    for t in threads:\n",
    "        t.start()\n",
    "    for t in threads:\n",
    "        t.join()"
   ]
  },
  {
   "cell_type": "code",
   "execution_count": 7,
   "metadata": {},
   "outputs": [
    {
     "name": "stdout",
     "output_type": "stream",
     "text": [
      "Elapsed: 0.1357557773590088s\n"
     ]
    }
   ],
   "source": [
    "workers = 10\n",
    "DATA_SIZE = 1\n",
    "\n",
    "with timer('Elapsed: {}s'):\n",
    "    run_threads(long_running_task, DATA_SIZE, workers)"
   ]
  },
  {
   "cell_type": "code",
   "execution_count": 100,
   "metadata": {},
   "outputs": [],
   "source": [
    "def generate_task_queue(total_tasks, queue_size):\n",
    "    task_queue = []\n",
    "    remainder = total_tasks\n",
    "    while remainder > 0:\n",
    "        value = min(remainder, random.randint(1, total_tasks//queue_size))\n",
    "        remainder -= value\n",
    "        task_queue.append(value)\n",
    "    return task_queue\n",
    "\n",
    "assert sum(generate_task_queue(1000, 20)) == 1000\n",
    "assert sum(generate_task_queue(1000, 1)) == 1000\n",
    "assert sum(generate_task_queue(1000, 1000)) == 1000\n",
    "assert sum(generate_task_queue(1000, 42)) == 1000"
   ]
  },
  {
   "cell_type": "code",
   "execution_count": 8,
   "metadata": {},
   "outputs": [
    {
     "name": "stdout",
     "output_type": "stream",
     "text": [
      "[0.1, 0.1, 0.1, 0.1, 0.1, 0.1, 0.1, 0.1, 0.1, 0.1]\n",
      "[0.347205732259127, 0.08582011443225313, 0.5360061306118391, 0.030968022696780784]\n",
      "Elapsed: 0.5447676181793213s\n"
     ]
    }
   ],
   "source": [
    "input_data = [DATA_SIZE / workers for _ in range(workers)]\n",
    "print(input_data)\n",
    "\n",
    "with timer('Elapsed: {}s'):\n",
    "    with ThreadPool(workers) as pool:\n",
    "        \n",
    "        pool.map(long_running_task, input_data)\n",
    "#         for chunk in input_data:\n",
    "#             long_running_task(chunk)"
   ]
  },
  {
   "cell_type": "markdown",
   "metadata": {},
   "source": [
    "<img src=\"https://www.nginx.com/wp-content/uploads/2016/07/thread-pools-worker-process-event-cycle.png\">"
   ]
  },
  {
   "cell_type": "markdown",
   "metadata": {},
   "source": [
    "# Real world task"
   ]
  },
  {
   "cell_type": "code",
   "execution_count": 18,
   "metadata": {},
   "outputs": [],
   "source": [
    "def fetch_pic(num_pic):\n",
    "# def fetch_pic(num_pic, path):\n",
    "    url = 'https://picsum.photos/400/600'\n",
    "    path = './pics'\n",
    "    for _ in range(num_pic):\n",
    "        random_name = ''.join(random.choices(string.ascii_letters + string.digits, k=5))\n",
    "        response = requests.get(url)\n",
    "        if response.status_code == 200:\n",
    "            with open(f'{path}/{random_name}.jpg', 'wb') as f:\n",
    "                f.write(response.content)\n",
    "                #print(f\"Fetched pic [{os.getpid()}]: {f.name}\")"
   ]
  },
  {
   "cell_type": "code",
   "execution_count": 130,
   "metadata": {},
   "outputs": [
    {
     "name": "stdout",
     "output_type": "stream",
     "text": [
      "Elapsed: 1.6135263442993164s\n"
     ]
    }
   ],
   "source": [
    "workers = 80\n",
    "DATA_SIZE = 100\n",
    "\n",
    "with timer('Elapsed: {}s'):\n",
    "    with ThreadPool(workers) as pool:\n",
    "        input_data = [DATA_SIZE // workers for _ in range(workers)]\n",
    "        # input_data = [(DATA_SIZE // workers, './pics') for _ in range(workers)]\n",
    "        pool.map(fetch_pic, input_data)"
   ]
  },
  {
   "cell_type": "markdown",
   "metadata": {},
   "source": [
    "# IO vs CPU bound tasks"
   ]
  },
  {
   "cell_type": "code",
   "execution_count": 138,
   "metadata": {},
   "outputs": [
    {
     "name": "stdout",
     "output_type": "stream",
     "text": [
      "Elapsed: 0.7369067668914795s\n",
      "1000000 [39, 62, 1, 83, 85, 88, 22, 94, 63, 86, 40, 15, 73, 90, 82, 37, 39, 46, 43, 96, 57, 14, 50, 43, 61, 27, 54, 80, 43, 90, 88, 99, 54, 2, 14, 14, 95, 54, 12, 57, 37, 20, 95, 56, 38, 70, 4, 71, 85, 23, 79, 100, 90, 96, 96, 82, 78, 71, 84, 22, 17, 20, 68, 92, 28, 32, 49, 91, 20, 74, 52, 13, 68, 28, 33, 34, 69, 53, 45, 11, 78, 36, 98, 93, 98, 56, 65, 10, 43, 94, 83, 10, 34, 48, 91, 29, 87, 54, 60, 35]\n"
     ]
    }
   ],
   "source": [
    "DATA_SIZE = 1_000_000\n",
    "        \n",
    "\n",
    "\n",
    "        \n",
    "lst = []\n",
    "with timer('Elapsed: {}s'):\n",
    "#     fill_data(DATA_SIZE, lst)\n",
    "    fill_data(DATA_SIZE)\n",
    "    \n",
    "print(len(lst), lst[:100])"
   ]
  },
  {
   "cell_type": "code",
   "execution_count": 151,
   "metadata": {},
   "outputs": [
    {
     "name": "stdout",
     "output_type": "stream",
     "text": [
      "Elapsed: 1.0093750953674316s\n",
      "0 []\n"
     ]
    }
   ],
   "source": [
    "lst = []\n",
    "\n",
    "def fill_data(n):\n",
    "    # print(threading.current_thread())\n",
    "#     lst = []\n",
    "    while n > 0:\n",
    "        n -= 1\n",
    "        lst.append(random.randint(1, 100))\n",
    "    return lst\n",
    "        \n",
    "with timer('Elapsed: {}s'):\n",
    "#     t1 = threading.Thread(target=fill_data, args=(DATA_SIZE // 2, lst))\n",
    "#     t2 = threading.Thread(target=fill_data, args=(DATA_SIZE // 2, lst))\n",
    "    t1 = threading.Thread(target=fill_data, args=(DATA_SIZE // 2,))\n",
    "    t2 = threading.Thread(target=fill_data, args=(DATA_SIZE // 2 - 1,))\n",
    "    t1.start()\n",
    "    t2.start()\n",
    "    t1.join()\n",
    "    t2.join()\n",
    "    \n",
    "print(len(lst), lst[:100])"
   ]
  },
  {
   "cell_type": "code",
   "execution_count": 142,
   "metadata": {},
   "outputs": [
    {
     "name": "stdout",
     "output_type": "stream",
     "text": [
      "Elapsed: 1.030395269393921s\n",
      "1000000 [58, 51, 35, 76, 16, 51, 74, 25, 39, 32, 55, 92, 11, 88, 46, 57, 10, 76, 32, 66, 100, 45, 84, 92, 72, 97, 37, 49, 69, 1, 89, 71, 39, 86, 44, 32, 21, 64, 71, 74, 94, 27, 99, 90, 93, 19, 61, 4, 41, 37, 96, 79, 75, 97, 3, 74, 42, 24, 57, 5, 81, 55, 95, 14, 75, 8, 89, 40, 45, 38, 19, 75, 70, 77, 69, 34, 7, 12, 85, 77, 5, 8, 38, 69, 1, 23, 11, 38, 21, 95, 27, 97, 39, 32, 80, 61, 37, 2, 51, 99]\n"
     ]
    }
   ],
   "source": [
    "lst = []\n",
    "workers = 4\n",
    "with timer('Elapsed: {}s'):\n",
    "    with ThreadPool(workers) as pool:\n",
    "        input_data = [DATA_SIZE // workers for _ in range(workers)]\n",
    "#         pool.map(partial(fill_data, lst=lst), input_data)\n",
    "        pool.map(fill_data, input_data)\n",
    "        \n",
    "print(len(lst), lst[:100])"
   ]
  },
  {
   "cell_type": "code",
   "execution_count": 154,
   "metadata": {},
   "outputs": [
    {
     "name": "stdout",
     "output_type": "stream",
     "text": [
      "Elapsed: 0.41368770599365234s\n",
      "4 250000 [4, 58, 16, 4, 9, 61, 48, 94, 81, 2, 17, 27, 76, 53, 59, 8, 20, 28, 23, 14, 54, 6, 45, 85, 20, 12, 74, 9, 17, 60, 99, 15, 87, 74, 21, 15, 10, 27, 11, 59, 20, 94, 92, 70, 93, 45, 87, 14, 86, 47, 16, 78, 3, 84, 17, 50, 96, 93, 45, 72, 80, 92, 57, 6, 8, 76, 32, 15, 26, 13, 67, 5, 1, 97, 25, 66, 69, 1, 96, 15, 45, 69, 62, 99, 66, 58, 80, 95, 38, 24, 100, 25, 38, 18, 74, 68, 34, 56, 5, 63]\n"
     ]
    }
   ],
   "source": [
    "lst = []\n",
    "workers = 4\n",
    "with timer('Elapsed: {}s'):\n",
    "    with multiprocessing.Pool(workers) as pool:\n",
    "        input_data = [DATA_SIZE // workers for _ in range(workers)]\n",
    "#         pool.map(partial(fill_data, lst=lst), input_data)\n",
    "        lst = pool.map(fill_data, input_data)\n",
    "        \n",
    "print(len(lst), len(lst[0]), lst[0][:100])"
   ]
  },
  {
   "cell_type": "code",
   "execution_count": null,
   "metadata": {},
   "outputs": [],
   "source": [
    "lst = []\n",
    "workers = 4\n",
    "with timer('Elapsed: {}s'):\n",
    "    with multiprocessing.Pool(workers) as pool:\n",
    "        input_data = [DATA_SIZE // workers for _ in range(workers)]\n",
    "        result = pool.map(fill_data, input_data)\n",
    "        \n",
    "print(len(result), lst[:100])"
   ]
  },
  {
   "cell_type": "code",
   "execution_count": 103,
   "metadata": {},
   "outputs": [],
   "source": [
    "def factorize_naive(n):\n",
    "    \"\"\" A naive factorization method. Take integer 'n', return list of\n",
    "        factors.\n",
    "    \"\"\"\n",
    "    if n < 2:\n",
    "        return []\n",
    "    factors = []\n",
    "    p = 2\n",
    "\n",
    "    while True:\n",
    "        if n == 1:\n",
    "            return factors\n",
    "\n",
    "        r = n % p\n",
    "        if r == 0:\n",
    "            factors.append(p)\n",
    "            n = n / p\n",
    "        elif p * p >= n:\n",
    "            factors.append(n)\n",
    "            return factors\n",
    "        elif p > 2:\n",
    "            # Advance in steps of 2 over odd numbers\n",
    "            p += 2\n",
    "        else:\n",
    "            # If p == 2, get to 3\n",
    "            p += 1\n",
    "    assert False, \"unreachable\"\n",
    "    \n",
    "    return n, factors"
   ]
  },
  {
   "cell_type": "code",
   "execution_count": 104,
   "metadata": {},
   "outputs": [
    {
     "name": "stdout",
     "output_type": "stream",
     "text": [
      "Elapsed: 5.704451322555542s\n",
      "1000000 [[], [2], [3], [2, 2], [5], [2, 3.0], [7], [2, 2, 2], [3, 3], [2, 5.0], [11], [2, 2, 3.0], [13], [2, 7.0], [3, 5.0], [2, 2, 2, 2], [17], [2, 3, 3], [19], [2, 2, 5.0], [3, 7.0], [2, 11.0], [23], [2, 2, 2, 3.0], [5, 5], [2, 13.0], [3, 3, 3], [2, 2, 7.0], [29], [2, 3, 5.0], [31], [2, 2, 2, 2, 2], [3, 11.0], [2, 17.0], [5, 7.0], [2, 2, 3, 3], [37], [2, 19.0], [3, 13.0], [2, 2, 2, 5.0], [41], [2, 3, 7.0], [43], [2, 2, 11.0], [3, 3, 5.0], [2, 23.0], [47], [2, 2, 2, 2, 3.0], [7, 7], [2, 5, 5], [3, 17.0], [2, 2, 13.0], [53], [2, 3, 3, 3], [5, 11.0], [2, 2, 2, 7.0], [3, 19.0], [2, 29.0], [59], [2, 2, 3, 5.0], [61], [2, 31.0], [3, 3, 7.0], [2, 2, 2, 2, 2, 2], [5, 13.0], [2, 3, 11.0], [67], [2, 2, 17.0], [3, 23.0], [2, 5, 7.0], [71], [2, 2, 2, 3, 3], [73], [2, 37.0], [3, 5, 5], [2, 2, 19.0], [7, 11.0], [2, 3, 13.0], [79], [2, 2, 2, 2, 5.0], [3, 3, 3, 3], [2, 41.0], [83], [2, 2, 3, 7.0], [5, 17.0], [2, 43.0], [3, 29.0], [2, 2, 2, 11.0], [89], [2, 3, 3, 5.0], [7, 13.0], [2, 2, 23.0], [3, 31.0], [2, 47.0], [5, 19.0], [2, 2, 2, 2, 2, 3.0], [97], [2, 7, 7], [3, 3, 11.0], [2, 2, 5, 5]]\n"
     ]
    }
   ],
   "source": [
    "# def factorize_list(lst):\n",
    "#     result = {}\n",
    "#     data = [n for n in range(range_number)]\n",
    "#     for n in lst:\n",
    "#         result[n] = factorize_naive(n)\n",
    "#     return result\n",
    "\n",
    "result = {}\n",
    "workers = 16\n",
    "with timer('Elapsed: {}s'):\n",
    "    with multiprocessing.Pool(workers) as pool:\n",
    "        input_data = (i for i in range(1, DATA_SIZE+1))\n",
    "        result = pool.map(factorize_naive, input_data)\n",
    "#       result = {\n",
    "#             n:factors\n",
    "#             for n, factors in pool.map(factorize_naive, input_data)\n",
    "#         }\n",
    "    \n",
    "print(len(result), result[:100])"
   ]
  },
  {
   "cell_type": "code",
   "execution_count": 106,
   "metadata": {},
   "outputs": [
    {
     "name": "stdout",
     "output_type": "stream",
     "text": [
      "Elapsed: 6.144156217575073s\n",
      "1000000 [[], [2], [3], [2, 2], [5], [2, 3.0], [7], [2, 2, 2], [3, 3], [2, 5.0], [11], [2, 2, 3.0], [13], [2, 7.0], [3, 5.0], [2, 2, 2, 2], [17], [2, 3, 3], [19], [2, 2, 5.0], [3, 7.0], [2, 11.0], [23], [2, 2, 2, 3.0], [5, 5], [2, 13.0], [3, 3, 3], [2, 2, 7.0], [29], [2, 3, 5.0], [31], [2, 2, 2, 2, 2], [3, 11.0], [2, 17.0], [5, 7.0], [2, 2, 3, 3], [37], [2, 19.0], [3, 13.0], [2, 2, 2, 5.0], [41], [2, 3, 7.0], [43], [2, 2, 11.0], [3, 3, 5.0], [2, 23.0], [47], [2, 2, 2, 2, 3.0], [7, 7], [2, 5, 5], [3, 17.0], [2, 2, 13.0], [53], [2, 3, 3, 3], [5, 11.0], [2, 2, 2, 7.0], [3, 19.0], [2, 29.0], [59], [2, 2, 3, 5.0], [61], [2, 31.0], [3, 3, 7.0], [2, 2, 2, 2, 2, 2], [5, 13.0], [2, 3, 11.0], [67], [2, 2, 17.0], [3, 23.0], [2, 5, 7.0], [71], [2, 2, 2, 3, 3], [73], [2, 37.0], [3, 5, 5], [2, 2, 19.0], [7, 11.0], [2, 3, 13.0], [79], [2, 2, 2, 2, 5.0], [3, 3, 3, 3], [2, 41.0], [83], [2, 2, 3, 7.0], [5, 17.0], [2, 43.0], [3, 29.0], [2, 2, 2, 11.0], [89], [2, 3, 3, 5.0], [7, 13.0], [2, 2, 23.0], [3, 31.0], [2, 47.0], [5, 19.0], [2, 2, 2, 2, 2, 3.0], [97], [2, 7, 7], [3, 3, 11.0], [2, 2, 5, 5]]\n"
     ]
    }
   ],
   "source": [
    "lst = []\n",
    "workers = 16\n",
    "with timer('Elapsed: {}s'):\n",
    "    with multiprocessing.Pool(workers) as pool:\n",
    "        input_data = (i for i in range(1, DATA_SIZE+1))\n",
    "        result = pool.map(factorize_naive, input_data)\n",
    "        \n",
    "print(len(result), lst[:100])"
   ]
  }
 ],
 "metadata": {
  "kernelspec": {
   "display_name": "Python 3",
   "language": "python",
   "name": "python3"
  },
  "language_info": {
   "codemirror_mode": {
    "name": "ipython",
    "version": 3
   },
   "file_extension": ".py",
   "mimetype": "text/x-python",
   "name": "python",
   "nbconvert_exporter": "python",
   "pygments_lexer": "ipython3",
   "version": "3.8.5"
  }
 },
 "nbformat": 4,
 "nbformat_minor": 2
}
