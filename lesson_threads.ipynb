{
 "cells": [
  {
   "cell_type": "code",
   "execution_count": 2,
   "metadata": {},
   "outputs": [],
   "source": [
    "import time\n",
    "import threading\n",
    "import multiprocessing\n",
    "import itertools\n",
    "import os\n",
    "import logging\n",
    "import random\n",
    "import string\n",
    "import requests\n",
    "from functools import partial\n",
    "from multiprocessing import Queue\n",
    "from multiprocessing.pool import ThreadPool"
   ]
  },
  {
   "cell_type": "markdown",
   "metadata": {},
   "source": [
    "# Definitions"
   ]
  },
  {
   "cell_type": "code",
   "execution_count": 3,
   "metadata": {},
   "outputs": [
    {
     "ename": "NameError",
     "evalue": "name 'states' is not defined",
     "output_type": "error",
     "traceback": [
      "\u001B[0;31m---------------------------------------------------------------------------\u001B[0m",
      "\u001B[0;31mNameError\u001B[0m                                 Traceback (most recent call last)",
      "\u001B[0;32m<ipython-input-3-ae6d8f5922a4>\u001B[0m in \u001B[0;36m<module>\u001B[0;34m\u001B[0m\n\u001B[1;32m      1\u001B[0m \u001B[0;31m# Process\u001B[0m\u001B[0;34m\u001B[0m\u001B[0;34m\u001B[0m\u001B[0;34m\u001B[0m\u001B[0m\n\u001B[0;32m----> 2\u001B[0;31m \u001B[0;32mclass\u001B[0m \u001B[0mProcess\u001B[0m\u001B[0;34m:\u001B[0m\u001B[0;34m\u001B[0m\u001B[0;34m\u001B[0m\u001B[0m\n\u001B[0m\u001B[1;32m      3\u001B[0m     \u001B[0mpid\u001B[0m \u001B[0;34m=\u001B[0m \u001B[0;36m0\u001B[0m\u001B[0;34m\u001B[0m\u001B[0;34m\u001B[0m\u001B[0m\n\u001B[1;32m      4\u001B[0m     \u001B[0mprio\u001B[0m \u001B[0;34m=\u001B[0m \u001B[0;36m10\u001B[0m\u001B[0;34m\u001B[0m\u001B[0;34m\u001B[0m\u001B[0m\n\u001B[1;32m      5\u001B[0m     \u001B[0mfiles\u001B[0m \u001B[0;34m=\u001B[0m \u001B[0;34m[\u001B[0m\u001B[0;34m]\u001B[0m\u001B[0;34m\u001B[0m\u001B[0;34m\u001B[0m\u001B[0m\n",
      "\u001B[0;32m<ipython-input-3-ae6d8f5922a4>\u001B[0m in \u001B[0;36mProcess\u001B[0;34m()\u001B[0m\n\u001B[1;32m      6\u001B[0m     \u001B[0msockets\u001B[0m \u001B[0;34m=\u001B[0m \u001B[0;34m[\u001B[0m\u001B[0;34m]\u001B[0m\u001B[0;34m\u001B[0m\u001B[0;34m\u001B[0m\u001B[0m\n\u001B[1;32m      7\u001B[0m     \u001B[0maddresses\u001B[0m \u001B[0;34m=\u001B[0m \u001B[0;34m[\u001B[0m\u001B[0;34m]\u001B[0m\u001B[0;34m\u001B[0m\u001B[0;34m\u001B[0m\u001B[0m\n\u001B[0;32m----> 8\u001B[0;31m     \u001B[0mstate\u001B[0m \u001B[0;34m=\u001B[0m \u001B[0mstates\u001B[0m\u001B[0;34m.\u001B[0m\u001B[0mREADY\u001B[0m\u001B[0;34m\u001B[0m\u001B[0;34m\u001B[0m\u001B[0m\n\u001B[0m\u001B[1;32m      9\u001B[0m \u001B[0;34m\u001B[0m\u001B[0m\n\u001B[1;32m     10\u001B[0m     \u001B[0;32mdef\u001B[0m \u001B[0m__init__\u001B[0m\u001B[0;34m(\u001B[0m\u001B[0;34m)\u001B[0m\u001B[0;34m:\u001B[0m\u001B[0;34m\u001B[0m\u001B[0;34m\u001B[0m\u001B[0m\n",
      "\u001B[0;31mNameError\u001B[0m: name 'states' is not defined"
     ]
    }
   ],
   "source": [
    "# Process\n",
    "class Process:\n",
    "    pid = 0\n",
    "    prio = 10\n",
    "    files = []\n",
    "    sockets = []\n",
    "    addresses = []\n",
    "    state = states.READY\n",
    "    \n",
    "    def __init__():\n",
    "        pass\n",
    "    \n",
    "    def process_signal(signal):\n",
    "        if signal == 'SIGSTOP':\n",
    "            self._stop()\n",
    "        elif signal == 'SIGCONT':\n",
    "            self._cont()\n",
    "        elif signal == 'SIGKILL':\n",
    "            self._kill()\n",
    "        ...\n",
    "            \n",
    "    def _stop():\n",
    "        pass\n",
    "    \n",
    "    def _cont():\n",
    "        pass\n",
    "        \n",
    "    def _kill():\n",
    "        pass"
   ]
  },
  {
   "cell_type": "code",
   "execution_count": null,
   "metadata": {},
   "outputs": [],
   "source": [
    "# scheduler\n",
    "for process in processes:\n",
    "    process.process_signal(SIGCONT)\n",
    "    # ...\n",
    "    process.process_signal(SIGSTOP)   "
   ]
  },
  {
   "cell_type": "code",
   "execution_count": null,
   "metadata": {},
   "outputs": [],
   "source": [
    "# Process = threads+\n",
    "Scheduling is repeated on pthreads level"
   ]
  },
  {
   "cell_type": "code",
   "execution_count": null,
   "metadata": {},
   "outputs": [],
   "source": [
    "class Thread:\n",
    "    tid = 0\n",
    "    prio = 10\n",
    "    state = states.READY\n",
    "    parent = None\n",
    "    \n",
    "    def __init__():\n",
    "        pass\n",
    "    \n",
    "    # ..."
   ]
  },
  {
   "cell_type": "code",
   "execution_count": null,
   "metadata": {},
   "outputs": [],
   "source": [
    "# scheduler\n",
    "for thread in threads:\n",
    "    thread.process_signal(SIGCONT)\n",
    "    # ...\n",
    "    thread.process_signal(SIGSTOP)   "
   ]
  },
  {
   "cell_type": "code",
   "execution_count": null,
   "metadata": {},
   "outputs": [],
   "source": [
    "# 2 kinds of tasks:\n",
    "- background execution: \n",
    "    - daemon process: OS services\n",
    "    - multithreaded process: notifications, monitor, watcher, etc\n",
    "- parallel execution: speedup"
   ]
  },
  {
   "cell_type": "code",
   "execution_count": 5,
   "metadata": {},
   "outputs": [],
   "source": [
    "Parallel execution can be done in 2 ways:\n",
    "    - threads\n",
    "    - processes\n",
    "    \n",
    "Which one is better?"
   ]
  },
  {
   "cell_type": "markdown",
   "metadata": {},
   "source": [
    "# Threads"
   ]
  },
  {
   "cell_type": "code",
   "execution_count": 4,
   "metadata": {},
   "outputs": [
    {
     "name": "stdout",
     "output_type": "stream",
     "text": [
      "Elapsed: 1.000542402267456s\n"
     ]
    }
   ],
   "source": [
    "class timer():\n",
    "    def __init__(self, message):\n",
    "        self.message = message\n",
    "\n",
    "    def __enter__(self):\n",
    "        self.start = time.time()\n",
    "        return None\n",
    "\n",
    "    def __exit__(self, type, value, traceback):\n",
    "        elapsed_time = (time.time() - self.start)\n",
    "        print(self.message.format(elapsed_time))\n",
    "\n",
    "TIME_TO_SLEEP = 1\n",
    "        \n",
    "def long_running_task(n=TIME_TO_SLEEP):\n",
    "    #print(threading.current_thread())\n",
    "    time.sleep(n)\n",
    "\n",
    "with timer('Elapsed: {}s'):\n",
    "#     long_running_task()\n",
    "    long_running_task()\n"
   ]
  },
  {
   "cell_type": "code",
   "execution_count": 5,
   "metadata": {},
   "outputs": [
    {
     "name": "stdout",
     "output_type": "stream",
     "text": [
      "Elapsed: 0.500849723815918s\n",
      "next step\n"
     ]
    }
   ],
   "source": [
    "with timer('Elapsed: {}s'):\n",
    "    t1 = threading.Thread(target=long_running_task, args=(TIME_TO_SLEEP/2,))\n",
    "    t2 = threading.Thread(target=long_running_task, args=(TIME_TO_SLEEP/2,))\n",
    "    t1.start()\n",
    "    t2.start()\n",
    "    #print(threading.current_thread())\n",
    "    t1.join() # be carefull\n",
    "    t2.join() \n",
    "    \n",
    "print('next step')\n",
    "# work with date"
   ]
  },
  {
   "cell_type": "code",
   "execution_count": 6,
   "metadata": {},
   "outputs": [],
   "source": [
    "def run_threads(func, data, workers):\n",
    "    threads = [\n",
    "        threading.Thread(target=func, args=(data / workers, ))\n",
    "        for _ in range(workers)\n",
    "    ]\n",
    "    for t in threads:\n",
    "        t.start()\n",
    "    for t in threads:\n",
    "        t.join()"
   ]
  },
  {
   "cell_type": "code",
   "execution_count": 7,
   "metadata": {},
   "outputs": [
    {
     "name": "stdout",
     "output_type": "stream",
     "text": [
      "Elapsed: 0.1357557773590088s\n"
     ]
    }
   ],
   "source": [
    "workers = 10\n",
    "DATA_SIZE = 1\n",
    "\n",
    "with timer('Elapsed: {}s'):\n",
    "    run_threads(long_running_task, DATA_SIZE, workers)"
   ]
  },
  {
   "cell_type": "code",
   "execution_count": 100,
   "metadata": {},
   "outputs": [],
   "source": [
    "def generate_task_queue(total_tasks, queue_size):\n",
    "    task_queue = []\n",
    "    remainder = total_tasks\n",
    "    while remainder > 0:\n",
    "        value = min(remainder, random.randint(1, total_tasks//queue_size))\n",
    "        remainder -= value\n",
    "        task_queue.append(value)\n",
    "    return task_queue\n",
    "\n",
    "assert sum(generate_task_queue(1000, 20)) == 1000\n",
    "assert sum(generate_task_queue(1000, 1)) == 1000\n",
    "assert sum(generate_task_queue(1000, 1000)) == 1000\n",
    "assert sum(generate_task_queue(1000, 42)) == 1000"
   ]
  },
  {
   "cell_type": "code",
   "execution_count": 8,
   "metadata": {
    "pycharm": {
     "name": "#%%\n"
    }
   },
   "outputs": [
    {
     "name": "stdout",
     "output_type": "stream",
     "text": [
      "[0.1, 0.1, 0.1, 0.1, 0.1, 0.1, 0.1, 0.1, 0.1, 0.1]\n",
      "[0.347205732259127, 0.08582011443225313, 0.5360061306118391, 0.030968022696780784]\n",
      "Elapsed: 0.5447676181793213s\n"
     ]
    }
   ],
   "source": [
    "input_data = [DATA_SIZE / workers for _ in range(workers)]\n",
    "print(input_data)\n",
    "\n",
    "with timer('Elapsed: {}s'):\n",
    "    with ThreadPool(workers) as pool:\n",
    "        \n",
    "        pool.map(long_running_task, input_data)\n",
    "#         for chunk in input_data:\n",
    "#             long_running_task(chunk)"
   ]
  },
  {
   "cell_type": "markdown",
   "metadata": {},
   "source": [
    "<img src=\"https://www.nginx.com/wp-content/uploads/2016/07/thread-pools-worker-process-event-cycle.png\">"
   ]
  },
  {
   "cell_type": "markdown",
   "metadata": {
    "pycharm": {
     "name": "#%% md\n"
    }
   },
   "source": [
    "# Real world task"
   ]
  },
  {
   "cell_type": "code",
   "execution_count": 18,
   "metadata": {},
   "outputs": [],
   "source": [
    "def fetch_pic(num_pic):\n",
    "# def fetch_pic(num_pic, path):\n",
    "    url = 'https://picsum.photos/400/600'\n",
    "    path = './pics'\n",
    "    for _ in range(num_pic):\n",
    "        random_name = ''.join(random.choices(string.ascii_letters + string.digits, k=5))\n",
    "        response = requests.get(url)\n",
    "        if response.status_code == 200:\n",
    "            with open(f'{path}/{random_name}.jpg', 'wb') as f:\n",
    "                f.write(response.content)\n",
    "                #print(f\"Fetched pic [{os.getpid()}]: {f.name}\")"
   ]
  },
  {
   "cell_type": "code",
   "execution_count": 26,
   "metadata": {
    "pycharm": {
     "name": "#%%\n"
    }
   },
   "outputs": [
    {
     "name": "stdout",
     "output_type": "stream",
     "text": [
      "Elapsed: 1.746830940246582s\n"
     ]
    }
   ],
   "source": [
    "workers = 80\n",
    "DATA_SIZE = 100\n",
    "\n",
    "with timer('Elapsed: {}s'):\n",
    "    with ThreadPool(workers) as pool:\n",
    "        input_data = [DATA_SIZE // workers for _ in range(workers)]\n",
    "        # input_data = [(DATA_SIZE // workers, './pics') for _ in range(workers)]\n",
    "        pool.map(fetch_pic, input_data)"
   ]
  },
  {
   "cell_type": "markdown",
   "metadata": {
    "pycharm": {
     "name": "#%% md\n"
    }
   },
   "source": [
    "# IO vs CPU bound tasks"
   ]
  },
  {
   "cell_type": "code",
   "execution_count": 59,
   "metadata": {},
   "outputs": [
    {
     "name": "stdout",
     "output_type": "stream",
     "text": [
      "Elapsed: 0.6972329616546631s\n"
     ]
    }
   ],
   "source": [
    "DATA_SIZE = 1_000_000\n",
    "        \n",
    "\n",
    "def fill_data(n):\n",
    "    # print(threading.current_thread())\n",
    "    while n > 0:\n",
    "        n -= 1\n",
    "        lst.append(random.randint(1, 100))\n",
    "        \n",
    "lst = []\n",
    "with timer('Elapsed: {}s'):\n",
    "#     fill_data(DATA_SIZE, lst)\n",
    "    fill_data(DATA_SIZE)"
   ]
  },
  {
   "cell_type": "code",
   "execution_count": 44,
   "metadata": {},
   "outputs": [
    {
     "name": "stdout",
     "output_type": "stream",
     "text": [
      "Elapsed: 1.1135923862457275s\n"
     ]
    }
   ],
   "source": [
    "with timer('Elapsed: {}s'):\n",
    "#     t1 = threading.Thread(target=fill_data, args=(DATA_SIZE // 2, lst))\n",
    "#     t2 = threading.Thread(target=fill_data, args=(DATA_SIZE // 2, lst))\n",
    "    t1 = threading.Thread(target=fill_data, args=(DATA_SIZE // 2,))\n",
    "    t2 = threading.Thread(target=fill_data, args=(DATA_SIZE // 2,))\n",
    "    t1.start()\n",
    "    t2.start()\n",
    "    t1.join()\n",
    "    t2.join()"
   ]
  },
  {
   "cell_type": "code",
   "execution_count": 45,
   "metadata": {},
   "outputs": [
    {
     "name": "stdout",
     "output_type": "stream",
     "text": [
      "Elapsed: 1.2437291145324707s\n",
      "1000000 [74, 8, 10, 69, 9, 37, 34, 67, 84, 64, 35, 89, 69, 6, 47, 36, 1, 57, 36, 32, 93, 90, 21, 73, 72, 19, 57, 34, 12, 37, 19, 55, 86, 50, 90, 36, 24, 55, 15, 4, 49, 33, 2, 77, 9, 65, 46, 41, 56, 37, 90, 35, 45, 74, 73, 60, 9, 75, 14, 11, 47, 26, 83, 27, 98, 19, 95, 27, 26, 21, 54, 35, 28, 38, 48, 39, 92, 32, 6, 28, 30, 17, 42, 39, 90, 47, 48, 22, 61, 15, 59, 77, 45, 41, 50, 91, 60, 66, 35, 24]\n"
     ]
    }
   ],
   "source": [
    "lst = []\n",
    "workers = 16\n",
    "with timer('Elapsed: {}s'):\n",
    "    with ThreadPool(workers) as pool:\n",
    "        input_data = [DATA_SIZE // workers for _ in range(workers)]\n",
    "#         pool.map(partial(fill_data, lst=lst), input_data)\n",
    "        pool.map(fill_data, input_data)\n",
    "        \n",
    "print(len(lst), lst[:100])"
   ]
  },
  {
   "cell_type": "code",
   "execution_count": 46,
   "metadata": {},
   "outputs": [
    {
     "name": "stdout",
     "output_type": "stream",
     "text": [
      "Elapsed: 0.3238530158996582s\n",
      "0 []\n"
     ]
    }
   ],
   "source": [
    "lst = []\n",
    "workers = 16\n",
    "with timer('Elapsed: {}s'):\n",
    "    with multiprocessing.Pool(workers) as pool:\n",
    "        input_data = [DATA_SIZE // workers for _ in range(workers)]\n",
    "#         pool.map(partial(fill_data, lst=lst), input_data)\n",
    "        pool.map(fill_data, input_data)\n",
    "        \n",
    "print(len(lst), lst[:100])"
   ]
  },
  {
   "cell_type": "code",
   "execution_count": 103,
   "metadata": {},
   "outputs": [],
   "source": [
    "def factorize_naive(n):\n",
    "    \"\"\" A naive factorization method. Take integer 'n', return list of\n",
    "        factors.\n",
    "    \"\"\"\n",
    "    if n < 2:\n",
    "        return []\n",
    "    factors = []\n",
    "    p = 2\n",
    "\n",
    "    while True:\n",
    "        if n == 1:\n",
    "            return factors\n",
    "\n",
    "        r = n % p\n",
    "        if r == 0:\n",
    "            factors.append(p)\n",
    "            n = n / p\n",
    "        elif p * p >= n:\n",
    "            factors.append(n)\n",
    "            return factors\n",
    "        elif p > 2:\n",
    "            # Advance in steps of 2 over odd numbers\n",
    "            p += 2\n",
    "        else:\n",
    "            # If p == 2, get to 3\n",
    "            p += 1\n",
    "    assert False, \"unreachable\"\n",
    "    \n",
    "    return n, factors"
   ]
  },
  {
   "cell_type": "code",
   "execution_count": null,
   "outputs": [],
   "source": [
    "# def factorize_list(lst):\n",
    "#     result = {}\n",
    "#     data = [n for n in range(range_number)]\n",
    "#     for n in lst:\n",
    "#         result[n] = factorize_naive(n)\n",
    "#     return result\n",
    "\n",
    "result = {}\n",
    "workers = 16\n",
    "with timer('Elapsed: {}s'):\n",
    "    with multiprocessing.Pool(workers) as pool:\n",
    "        input_data = (i for i in range(1, DATA_SIZE+1))\n",
    "        result = pool.map(factorize_naive, input_data)\n",
    "      result = {\n",
    "            n:factors\n",
    "            for n, factors in pool.map(factorize_naive, input_data)\n",
    "        }\n",
    "    \n",
    "print(len(result), result[:100])"
   ],
   "metadata": {
    "collapsed": false,
    "pycharm": {
     "name": "#%%\n"
    }
   }
  },
  {
   "cell_type": "code",
   "execution_count": null,
   "outputs": [],
   "source": [
    "lst = []\n",
    "workers = 16\n",
    "with timer('Elapsed: {}s'):\n",
    "    with multiprocessing.Pool(workers) as pool:\n",
    "        input_data = (i for i in range(1, DATA_SIZE+1))\n",
    "        result = pool.map(factorize_naive, input_data)\n",
    "        \n",
    "print(len(result), lst[:100])"
   ],
   "metadata": {
    "collapsed": false,
    "pycharm": {
     "name": "#%%\n"
    }
   }
  },
  {
   "cell_type": "code",
   "execution_count": 104,
   "metadata": {},
   "outputs": [
    {
     "name": "stdout",
     "output_type": "stream",
     "text": [
      "Elapsed: 5.704451322555542s\n",
      "1000000 [[], [2], [3], [2, 2], [5], [2, 3.0], [7], [2, 2, 2], [3, 3], [2, 5.0], [11], [2, 2, 3.0], [13], [2, 7.0], [3, 5.0], [2, 2, 2, 2], [17], [2, 3, 3], [19], [2, 2, 5.0], [3, 7.0], [2, 11.0], [23], [2, 2, 2, 3.0], [5, 5], [2, 13.0], [3, 3, 3], [2, 2, 7.0], [29], [2, 3, 5.0], [31], [2, 2, 2, 2, 2], [3, 11.0], [2, 17.0], [5, 7.0], [2, 2, 3, 3], [37], [2, 19.0], [3, 13.0], [2, 2, 2, 5.0], [41], [2, 3, 7.0], [43], [2, 2, 11.0], [3, 3, 5.0], [2, 23.0], [47], [2, 2, 2, 2, 3.0], [7, 7], [2, 5, 5], [3, 17.0], [2, 2, 13.0], [53], [2, 3, 3, 3], [5, 11.0], [2, 2, 2, 7.0], [3, 19.0], [2, 29.0], [59], [2, 2, 3, 5.0], [61], [2, 31.0], [3, 3, 7.0], [2, 2, 2, 2, 2, 2], [5, 13.0], [2, 3, 11.0], [67], [2, 2, 17.0], [3, 23.0], [2, 5, 7.0], [71], [2, 2, 2, 3, 3], [73], [2, 37.0], [3, 5, 5], [2, 2, 19.0], [7, 11.0], [2, 3, 13.0], [79], [2, 2, 2, 2, 5.0], [3, 3, 3, 3], [2, 41.0], [83], [2, 2, 3, 7.0], [5, 17.0], [2, 43.0], [3, 29.0], [2, 2, 2, 11.0], [89], [2, 3, 3, 5.0], [7, 13.0], [2, 2, 23.0], [3, 31.0], [2, 47.0], [5, 19.0], [2, 2, 2, 2, 2, 3.0], [97], [2, 7, 7], [3, 3, 11.0], [2, 2, 5, 5]]\n"
     ]
    }
   ],
   "source": [
    "lst = []\n",
    "workers = 16\n",
    "with timer('Elapsed: {}s'):\n",
    "    with multiprocessing.Pool(workers) as pool:\n",
    "        input_data = (i for i in range(1, DATA_SIZE+1))\n",
    "        result = pool.map(factorize_naive, input_data)\n",
    "        \n",
    "print(len(result), lst[:100])"
   ]
  },
  {
   "cell_type": "code",
   "execution_count": 106,
   "metadata": {},
   "outputs": [
    {
     "name": "stdout",
     "output_type": "stream",
     "text": [
      "Elapsed: 6.144156217575073s\n",
      "1000000 [[], [2], [3], [2, 2], [5], [2, 3.0], [7], [2, 2, 2], [3, 3], [2, 5.0], [11], [2, 2, 3.0], [13], [2, 7.0], [3, 5.0], [2, 2, 2, 2], [17], [2, 3, 3], [19], [2, 2, 5.0], [3, 7.0], [2, 11.0], [23], [2, 2, 2, 3.0], [5, 5], [2, 13.0], [3, 3, 3], [2, 2, 7.0], [29], [2, 3, 5.0], [31], [2, 2, 2, 2, 2], [3, 11.0], [2, 17.0], [5, 7.0], [2, 2, 3, 3], [37], [2, 19.0], [3, 13.0], [2, 2, 2, 5.0], [41], [2, 3, 7.0], [43], [2, 2, 11.0], [3, 3, 5.0], [2, 23.0], [47], [2, 2, 2, 2, 3.0], [7, 7], [2, 5, 5], [3, 17.0], [2, 2, 13.0], [53], [2, 3, 3, 3], [5, 11.0], [2, 2, 2, 7.0], [3, 19.0], [2, 29.0], [59], [2, 2, 3, 5.0], [61], [2, 31.0], [3, 3, 7.0], [2, 2, 2, 2, 2, 2], [5, 13.0], [2, 3, 11.0], [67], [2, 2, 17.0], [3, 23.0], [2, 5, 7.0], [71], [2, 2, 2, 3, 3], [73], [2, 37.0], [3, 5, 5], [2, 2, 19.0], [7, 11.0], [2, 3, 13.0], [79], [2, 2, 2, 2, 5.0], [3, 3, 3, 3], [2, 41.0], [83], [2, 2, 3, 7.0], [5, 17.0], [2, 43.0], [3, 29.0], [2, 2, 2, 11.0], [89], [2, 3, 3, 5.0], [7, 13.0], [2, 2, 23.0], [3, 31.0], [2, 47.0], [5, 19.0], [2, 2, 2, 2, 2, 3.0], [97], [2, 7, 7], [3, 3, 11.0], [2, 2, 5, 5]]\n"
     ]
    }
   ],
   "source": [
    "lst = []\n",
    "workers = 16\n",
    "with timer('Elapsed: {}s'):\n",
    "    with multiprocessing.Pool(workers) as pool:\n",
    "        input_data = (i for i in range(1, DATA_SIZE+1))\n",
    "        result = pool.map(factorize_naive, input_data)\n",
    "        \n",
    "print(len(result), lst[:100])"
   ]
  }
 ],
 "metadata": {
  "kernelspec": {
   "display_name": "Python 3",
   "language": "python",
   "name": "python3"
  },
  "language_info": {
   "codemirror_mode": {
    "name": "ipython",
    "version": 3
   },
   "file_extension": ".py",
   "mimetype": "text/x-python",
   "name": "python",
   "nbconvert_exporter": "python",
   "pygments_lexer": "ipython3",
   "version": "3.8.5"
  }
 },
 "nbformat": 4,
 "nbformat_minor": 2
}