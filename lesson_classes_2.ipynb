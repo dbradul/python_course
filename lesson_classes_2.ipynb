{
 "cells": [
  {
   "cell_type": "code",
   "execution_count": 1,
   "metadata": {},
   "outputs": [],
   "source": [
    "class Descriptor:\n",
    "    def __init__(self, name=None, default=None):\n",
    "        self.name = name\n",
    "        self.default = default\n",
    "        \n",
    "    def __set__(self, instance, value):\n",
    "        instance.__dict__[self.name] = value\n",
    "        \n",
    "    def __get__(self, instance, objtype):\n",
    "        if self.name not in instance.__dict__:\n",
    "            instance.__dict__[self.name] = self.default\n",
    "        return instance.__dict__[self.name]\n",
    "    \n",
    "    def __delete__(self, instance):\n",
    "        raise AttributeError(\"Can't delete\")\n",
    "\n",
    "class Typed(Descriptor):\n",
    "    type_ = object\n",
    "    def __set__(self, instance, value):\n",
    "        if not isinstance(value, self.type_):\n",
    "            raise TypeError('Expected %s' % self.type_)\n",
    "        super().__set__(instance, value)\n",
    "        \n",
    "class Numeric(Typed):\n",
    "    extra_methods = ['gt', 'gte']\n",
    "    \n",
    "class Integer(Numeric):\n",
    "    type_ = int\n",
    "    \n",
    "class Float(Numeric):\n",
    "    type_ = float\n",
    "    extra_methods = Numeric.extra_methods + ['isclose']\n",
    "    \n",
    "class String(Typed):\n",
    "    type_ = str\n",
    "    extra_methods = ['startwith', 'endwith', 'contains']\n",
    "    \n",
    "    def startwith(instance_value, value):\n",
    "        return instance_value.startwith(value)\n",
    "    \n",
    "    def contains(instance_value, value):\n",
    "        return value in instance_value"
   ]
  },
  {
   "cell_type": "code",
   "execution_count": 13,
   "metadata": {},
   "outputs": [],
   "source": [
    "class ModelMeta(type):\n",
    "    def __new__(metacls, clsname, bases=None, clsdict=None):\n",
    "        cls = super().__new__(metacls, clsname, bases, clsdict)\n",
    "        extended_attrs = {}\n",
    "        for attr_name, attr_value in cls.__dict__.items():\n",
    "            print(attr_name, attr_value, attr_value.__class__.__bases__)\n",
    "            if isinstance(attr_value, (String, Integer, Float)):\n",
    "                extended_attrs.update({\n",
    "                    f'{attr_name}__{extra_method}':lambda self, value: None\n",
    "                    for extra_method in attr_value.extra_methods\n",
    "                })\n",
    "        for attr_name, attr_value in extended_attrs.items():\n",
    "            setattr(cls, attr_name, attr_value)\n",
    "        return cls\n"
   ]
  },
  {
   "cell_type": "code",
   "execution_count": 15,
   "metadata": {},
   "outputs": [
    {
     "name": "stdout",
     "output_type": "stream",
     "text": [
      "Updating attr 139896951349408\n"
     ]
    }
   ],
   "source": [
    "class Attribute:\n",
    "\n",
    "    def __init__(self, initval=None, name='var'):\n",
    "        self.val = initval\n",
    "        self.name = name\n",
    "\n",
    "    def __get__(self, obj, objtype):\n",
    "        print('Retrieving', self.name, id(obj))\n",
    "        return obj.__dict__[self.name]  # self.val\n",
    "\n",
    "    def __set__(self, obj, val):\n",
    "        print('Updating', self.name, id(obj))\n",
    "        self.val = val\n",
    "        obj.__dict__[self.name] = val\n",
    "\n",
    "    def __delete__(self, obj):\n",
    "        # print('Deleting', self.name, id(obj))\n",
    "        self.val = None\n",
    "\n",
    "\n",
    "class A:\n",
    "    attr = Attribute(name='attr')\n",
    "    # attr = 'DEMO'\n",
    "    \n",
    "a = A()\n",
    "a.attr=10"
   ]
  },
  {
   "cell_type": "code",
   "execution_count": 21,
   "metadata": {},
   "outputs": [
    {
     "name": "stdout",
     "output_type": "stream",
     "text": [
      "__module__ __main__ (<class 'object'>,)\n",
      "first_name <__main__.String object at 0x7f3c367096d0> (<class '__main__.Typed'>,)\n",
      "last_name <__main__.String object at 0x7f3c36709d30> (<class '__main__.Typed'>,)\n",
      "age <__main__.Integer object at 0x7f3c36709580> (<class '__main__.Numeric'>,)\n",
      "salary <__main__.Float object at 0x7f3c36709c40> (<class '__main__.Numeric'>,)\n",
      "phone_number <__main__.String object at 0x7f3c367090a0> (<class '__main__.Typed'>,)\n",
      "kpi_score <__main__.RangeInteger object at 0x7f3c36709e50> (<class 'object'>,)\n",
      "__dict__ <attribute '__dict__' of 'Employee' objects> (<class 'object'>,)\n",
      "__weakref__ <attribute '__weakref__' of 'Employee' objects> (<class 'object'>,)\n",
      "__doc__ None (<class 'object'>,)\n"
     ]
    },
    {
     "ename": "Exception",
     "evalue": "Out of range",
     "output_type": "error",
     "traceback": [
      "\u001b[0;31m---------------------------------------------------------------------------\u001b[0m",
      "\u001b[0;31mException\u001b[0m                                 Traceback (most recent call last)",
      "\u001b[0;32m<ipython-input-21-2a49e71611a7>\u001b[0m in \u001b[0;36m<module>\u001b[0;34m\u001b[0m\n\u001b[1;32m     23\u001b[0m \u001b[0;34m\u001b[0m\u001b[0m\n\u001b[1;32m     24\u001b[0m \u001b[0memp\u001b[0m \u001b[0;34m=\u001b[0m \u001b[0mEmployee\u001b[0m\u001b[0;34m(\u001b[0m\u001b[0;34m)\u001b[0m\u001b[0;34m\u001b[0m\u001b[0;34m\u001b[0m\u001b[0m\n\u001b[0;32m---> 25\u001b[0;31m \u001b[0memp\u001b[0m\u001b[0;34m.\u001b[0m\u001b[0mkpi_score\u001b[0m \u001b[0;34m=\u001b[0m \u001b[0;36m101\u001b[0m\u001b[0;34m\u001b[0m\u001b[0;34m\u001b[0m\u001b[0m\n\u001b[0m\u001b[1;32m     26\u001b[0m \u001b[0mprint\u001b[0m\u001b[0;34m(\u001b[0m\u001b[0memp\u001b[0m\u001b[0;34m.\u001b[0m\u001b[0mkpi_score\u001b[0m\u001b[0;34m)\u001b[0m\u001b[0;34m\u001b[0m\u001b[0;34m\u001b[0m\u001b[0m\n",
      "\u001b[0;32m<ipython-input-21-2a49e71611a7>\u001b[0m in \u001b[0;36m__set__\u001b[0;34m(self, instance, value)\u001b[0m\n\u001b[1;32m     12\u001b[0m             \u001b[0mself\u001b[0m\u001b[0;34m.\u001b[0m\u001b[0mvalue\u001b[0m \u001b[0;34m=\u001b[0m \u001b[0mvalue\u001b[0m\u001b[0;34m\u001b[0m\u001b[0;34m\u001b[0m\u001b[0m\n\u001b[1;32m     13\u001b[0m         \u001b[0;32melse\u001b[0m\u001b[0;34m:\u001b[0m\u001b[0;34m\u001b[0m\u001b[0;34m\u001b[0m\u001b[0m\n\u001b[0;32m---> 14\u001b[0;31m            \u001b[0;32mraise\u001b[0m \u001b[0mException\u001b[0m\u001b[0;34m(\u001b[0m\u001b[0;34m'Out of range'\u001b[0m\u001b[0;34m)\u001b[0m\u001b[0;34m\u001b[0m\u001b[0;34m\u001b[0m\u001b[0m\n\u001b[0m\u001b[1;32m     15\u001b[0m \u001b[0;34m\u001b[0m\u001b[0m\n\u001b[1;32m     16\u001b[0m \u001b[0;32mclass\u001b[0m \u001b[0mEmployee\u001b[0m\u001b[0;34m(\u001b[0m\u001b[0mmetaclass\u001b[0m\u001b[0;34m=\u001b[0m\u001b[0mModelMeta\u001b[0m\u001b[0;34m)\u001b[0m\u001b[0;34m:\u001b[0m\u001b[0;34m\u001b[0m\u001b[0;34m\u001b[0m\u001b[0m\n",
      "\u001b[0;31mException\u001b[0m: Out of range"
     ]
    }
   ],
   "source": [
    "class RangeInteger(object):\n",
    "    def __init__(self, name, min_value=0, max_value=100):\n",
    "        self.name = name\n",
    "        self.min_value = min_value\n",
    "        self.max_value = max_value\n",
    "\n",
    "    def __get__(self, instance, owner):\n",
    "        return self.value\n",
    "\n",
    "    def __set__(self, instance, value):\n",
    "        if self.min_value <= value <= self.max_value:\n",
    "            self.value = value\n",
    "        else:\n",
    "           raise Exception('Out of range')\n",
    "\n",
    "class Employee(metaclass=ModelMeta):\n",
    "    first_name = String(default='John')\n",
    "    last_name = String()\n",
    "    age = Integer(default=42)\n",
    "    salary = Float()\n",
    "    phone_number = String()\n",
    "    kpi_score = RangeInteger(name='kpi_score', min_value=0, max_value=100)\n",
    "    \n",
    "emp = Employee()\n",
    "emp.kpi_score = 101\n",
    "print(emp.kpi_score)\n"
   ]
  },
  {
   "cell_type": "code",
   "execution_count": 5,
   "metadata": {},
   "outputs": [],
   "source": [
    "import time\n",
    "class timer():\n",
    "    def __init__(self, message):\n",
    "        self.message = message\n",
    "        \n",
    "    def __enter__(self):\n",
    "        self.start = time.time()\n",
    "        return None\n",
    "    \n",
    "    def __exit__(self, type, value, traceback):\n",
    "        elapsed_time = (time.time() - self.start) * 1000\n",
    "        print(self.message.format(elapsed_time))"
   ]
  },
  {
   "cell_type": "code",
   "execution_count": 6,
   "metadata": {},
   "outputs": [],
   "source": [
    "class lazy_object:\n",
    "    \n",
    "    def __init__(self, callable, reset, *args, **kw):\n",
    "        self.__dict__['callable'] = callable\n",
    "        self.__dict__['args'] = args\n",
    "        self.__dict__['kw'] = kw\n",
    "        self.__dict__['obj'] = None\n",
    "        self.reset = reset\n",
    "        if self.reset == 1:\n",
    "            del self.attr1\n",
    "            \n",
    "        \n",
    "    def initObj(self):\n",
    "        if self.obj is None:\n",
    "            self.__dict__['obj'] = self.callable(*self.args, **self.kw)\n",
    "            \n",
    "    def __getattr__(self, name):\n",
    "        self.initObj()\n",
    "        return getattr(self.obj, name)\n",
    "    \n",
    "    def __setattr__(self, name, value):\n",
    "        self.initObj()\n",
    "        setattr(self.obj, name, value)\n",
    "        \n",
    "    def __len__(self):\n",
    "        self.initObj()\n",
    "        return len(self.obj)\n",
    "    \n",
    "    def __getitem__(self, idx):\n",
    "        self.initObj()\n",
    "        return self.obj[idx]\n"
   ]
  },
  {
   "cell_type": "code",
   "execution_count": 7,
   "metadata": {},
   "outputs": [
    {
     "name": "stdout",
     "output_type": "stream",
     "text": [
      "{'callable': <class '__main__.A'>, 'args': (), 'kw': {'num_elem': 100000}, 'obj': <__main__.A object at 0x7f3c4c15a2b0>}\n"
     ]
    }
   ],
   "source": [
    "class A:\n",
    "    def __init__(self, num_elem):\n",
    "        self.attr1 = list(range(num_elem))\n",
    "\n",
    "a = lazy_object(A, None, num_elem=10**5)\n",
    "\n",
    "print(a.__dict__)"
   ]
  },
  {
   "cell_type": "code",
   "execution_count": 10,
   "metadata": {},
   "outputs": [
    {
     "name": "stdout",
     "output_type": "stream",
     "text": [
      "1\n",
      "True\n",
      "Elapsed: 0.3485679626464844ms\n",
      "True\n",
      "Elapsed: 0.23794174194335938ms\n",
      "1\n",
      "True\n",
      "Elapsed: 0.031948089599609375ms\n"
     ]
    }
   ],
   "source": [
    "print(a.reset)\n",
    "with timer('Elapsed: {}ms'):\n",
    "    print(1 in a.attr1)\n",
    "    \n",
    "with timer('Elapsed: {}ms'):\n",
    "    print(42 in a.attr1)\n",
    "    \n",
    "a.reset = 1 \n",
    "print(a.reset)\n",
    "      \n",
    "with timer('Elapsed: {}ms'):\n",
    "    print(42 in a.attr1)"
   ]
  },
  {
   "cell_type": "code",
   "execution_count": 11,
   "metadata": {},
   "outputs": [
    {
     "ename": "TypeError",
     "evalue": "__init__() missing 1 required positional argument: 'reset'",
     "output_type": "error",
     "traceback": [
      "\u001b[0;31m---------------------------------------------------------------------------\u001b[0m",
      "\u001b[0;31mTypeError\u001b[0m                                 Traceback (most recent call last)",
      "\u001b[0;32m<ipython-input-11-df1c84b0b7a7>\u001b[0m in \u001b[0;36m<module>\u001b[0;34m\u001b[0m\n\u001b[0;32m----> 1\u001b[0;31m \u001b[0ma\u001b[0m \u001b[0;34m=\u001b[0m \u001b[0mlazy_object\u001b[0m\u001b[0;34m(\u001b[0m\u001b[0mA\u001b[0m\u001b[0;34m,\u001b[0m \u001b[0mnum_elem\u001b[0m\u001b[0;34m=\u001b[0m\u001b[0;36m10\u001b[0m\u001b[0;34m**\u001b[0m\u001b[0;36m5\u001b[0m\u001b[0;34m)\u001b[0m\u001b[0;34m\u001b[0m\u001b[0;34m\u001b[0m\u001b[0m\n\u001b[0m\u001b[1;32m      2\u001b[0m \u001b[0mprint\u001b[0m\u001b[0;34m(\u001b[0m\u001b[0;36m1\u001b[0m \u001b[0;32min\u001b[0m \u001b[0ma\u001b[0m\u001b[0;34m.\u001b[0m\u001b[0mattr1\u001b[0m\u001b[0;34m)\u001b[0m \u001b[0;31m# работает долго\u001b[0m\u001b[0;34m\u001b[0m\u001b[0;34m\u001b[0m\u001b[0m\n\u001b[1;32m      3\u001b[0m \u001b[0mprint\u001b[0m\u001b[0;34m(\u001b[0m\u001b[0;36m42\u001b[0m \u001b[0;32min\u001b[0m \u001b[0ma\u001b[0m\u001b[0;34m.\u001b[0m\u001b[0mattr1\u001b[0m\u001b[0;34m)\u001b[0m \u001b[0;31m# работает быстро\u001b[0m\u001b[0;34m\u001b[0m\u001b[0;34m\u001b[0m\u001b[0m\n\u001b[1;32m      4\u001b[0m \u001b[0ma\u001b[0m\u001b[0;34m.\u001b[0m\u001b[0mreset\u001b[0m \u001b[0;34m=\u001b[0m \u001b[0;36m1\u001b[0m\u001b[0;34m\u001b[0m\u001b[0;34m\u001b[0m\u001b[0m\n\u001b[1;32m      5\u001b[0m \u001b[0mprint\u001b[0m\u001b[0;34m(\u001b[0m\u001b[0;36m42\u001b[0m \u001b[0;32min\u001b[0m \u001b[0ma\u001b[0m\u001b[0;34m.\u001b[0m\u001b[0mattr1\u001b[0m\u001b[0;34m)\u001b[0m \u001b[0;31m# работает долго\u001b[0m\u001b[0;34m\u001b[0m\u001b[0;34m\u001b[0m\u001b[0m\n",
      "\u001b[0;31mTypeError\u001b[0m: __init__() missing 1 required positional argument: 'reset'"
     ]
    }
   ],
   "source": [
    "a = lazy_object(A, num_elem=10**5)\n",
    "print(1 in a.attr1) # работает долго\n",
    "print(42 in a.attr1) # работает быстро\n",
    "a.reset = 1\n",
    "print(42 in a.attr1) # работает долго\n"
   ]
  }
 ],
 "metadata": {
  "kernelspec": {
   "display_name": "Python 3",
   "language": "python",
   "name": "python3"
  },
  "language_info": {
   "codemirror_mode": {
    "name": "ipython",
    "version": 3
   },
   "file_extension": ".py",
   "mimetype": "text/x-python",
   "name": "python",
   "nbconvert_exporter": "python",
   "pygments_lexer": "ipython3",
   "version": "3.8.10"
  }
 },
 "nbformat": 4,
 "nbformat_minor": 4
}
