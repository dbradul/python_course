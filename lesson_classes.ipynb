{
 "cells": [
  {
   "cell_type": "code",
   "execution_count": 4,
   "metadata": {},
   "outputs": [],
   "source": [
    "import re\n",
    "import time\n",
    "import copy\n",
    "import math\n",
    "import json\n",
    "import yaml\n",
    "import random\n",
    "import itertools\n",
    "import dicttoxml, xmltodict\n",
    "from enum import Enum\n",
    "\n",
    "from pprint import pprint as pp\n",
    "from functools import wraps, partial"
   ]
  },
  {
   "cell_type": "markdown",
   "metadata": {},
   "source": [
    "## Motivation\n",
    "\n",
    "Combine data + logic in one place using language syntax\n",
    "Express high-level abstraction from problem domain: Student, Employee, Schedule, Vehicle, Invoice, Item, Patient, etc\n",
    "Better structuring by inheritance: common data and logic is placed in one place (base class)"
   ]
  },
  {
   "cell_type": "code",
   "execution_count": 3,
   "metadata": {},
   "outputs": [
    {
     "name": "stdout",
     "output_type": "stream",
     "text": [
      "XS-100\n",
      "XS-200\n",
      "XS-100\n",
      "XS-200\n"
     ]
    }
   ],
   "source": [
    "class Drone:\n",
    "    \n",
    "    class MoveDirection(Enum):\n",
    "        FORWARD = 1\n",
    "        BACKWARD = 2\n",
    "        UP = 3\n",
    "        DOWN = 4\n",
    "        \n",
    "#     MAX_SPEED = 100\n",
    "#     MAX_ALTITUDE = 1000\n",
    "#     MAX_PAYLOAD = 10\n",
    "\n",
    "#     model = None\n",
    "#     current_speed = 0\n",
    "#     current_payload = 0\n",
    "#     current_altitude = 0\n",
    "    \n",
    "    def __init__(self, model, current_payload):\n",
    "        self.model = model\n",
    "        self.current_payload = current_payload\n",
    "\n",
    "    def _move(self, speed, direction):\n",
    "        ...\n",
    "\n",
    "    def move_backward(self, speed):\n",
    "        print(self.model)\n",
    "        self._move(speed, self.MoveDirection.BACKWARD)\n",
    "        \n",
    "    def move_down(self, speed):\n",
    "        if self.current_altitude == 0:\n",
    "            print ('ERROR: Can\\'t move down')\n",
    "        self._move(speed, self.MoveDirection.DOWN)\n",
    "        \n",
    "        \n",
    "dr1 = Drone('XS-100', 10)\n",
    "dr2 = Drone('XS-200', 20)\n",
    "# dr3 = Drone()\n",
    "\n",
    "\n",
    "dr1.move_backward(10)\n",
    "dr2.move_backward(10)\n",
    "\n",
    "Drone.move_backward(dr1, 10)   # -> dr1.move_backward(10)\n",
    "Drone.move_backward(dr2, 10)   # -> dr2.move_backward(10)\n",
    "\n"
   ]
  },
  {
   "cell_type": "markdown",
   "metadata": {},
   "source": [
    "#### alternative (C-style)"
   ]
  },
  {
   "cell_type": "code",
   "execution_count": 1,
   "metadata": {},
   "outputs": [
    {
     "name": "stdout",
     "output_type": "stream",
     "text": [
      "XS-100\n",
      "XS-200\n",
      "ERROR: Can't move down\n"
     ]
    }
   ],
   "source": [
    "DRONE_MOVE_FORWARD = 1\n",
    "DRONE_MOVE_BACKWARD = 2\n",
    "DRONE_MOVE_UP = 3\n",
    "DRONE_MOVE_DOWN = 4\n",
    "\n",
    "DRONE_MAX_ALTITUDE = 1000\n",
    "\n",
    "drone = {\n",
    "    'model': '',\n",
    "    'current_payload': 0,\n",
    "    'current_speed': 0,\n",
    "    'current_payload': 0,\n",
    "    'current_altitude': 0\n",
    "}\n",
    "\n",
    "def drone_init(drone, model, payload):\n",
    "    drone['model'] = model\n",
    "    drone['current_payload'] = payload\n",
    "\n",
    "def drone_move(drone, speed, direction):\n",
    "    pass\n",
    "    \n",
    "def drone_move_up(drone, speed):\n",
    "    print(drone['model'])\n",
    "    if drone['current_altitude'] == DRONE_MAX_ALTITUDE:\n",
    "        print ('ERROR: Can\\'t move up')\n",
    "    drone_move(drone, speed, DRONE_MOVE_UP)\n",
    "\n",
    "def drone_move_down(drone, speed):\n",
    "    print(drone['model'])\n",
    "    if drone['current_altitude'] == 0:\n",
    "        print ('ERROR: Can\\'t move down')\n",
    "    drone_move(drone, speed, DRONE_MOVE_DOWN)\n",
    "    \n",
    "    \n",
    "#####\n",
    "dr1 = drone.copy()\n",
    "drone_init(dr1, 'XS-100', 10)\n",
    "\n",
    "dr2 = drone.copy()\n",
    "drone_init(dr2, 'XS-200', 20)\n",
    "\n",
    "drone_move_up(dr1, 10)\n",
    "drone_move_down(dr2, 5)"
   ]
  },
  {
   "cell_type": "markdown",
   "metadata": {},
   "source": [
    "\n",
    "# Basics"
   ]
  },
  {
   "cell_type": "markdown",
   "metadata": {},
   "source": [
    "<img src=\"https://i.imgur.com/x2LZO0V.png\">"
   ]
  },
  {
   "cell_type": "markdown",
   "metadata": {},
   "source": [
    "We can manually assign attributes using monkey patching so that all instances have the same (!) set of attributes"
   ]
  },
  {
   "cell_type": "code",
   "execution_count": 2,
   "metadata": {},
   "outputs": [
    {
     "name": "stdout",
     "output_type": "stream",
     "text": [
      "XS-100 10\n",
      "XS-200 20\n"
     ]
    }
   ],
   "source": [
    "# Monkey patching\n",
    "class Drone:\n",
    "    pass\n",
    "\n",
    "dr1 = Drone()\n",
    "dr1.model = 'XS-100'\n",
    "dr1.payload = 10\n",
    "\n",
    "dr2 = Drone()\n",
    "dr2.model = 'XS-200'\n",
    "dr2.payload = 20\n",
    "...\n",
    "\n",
    "drones = []\n",
    "drones.append(dr1)\n",
    "drones.append(dr2)\n",
    "\n",
    "for drone in drones:\n",
    "    print(drone.model, drone.payload)\n",
    "#     drone.move_up(...)"
   ]
  },
  {
   "cell_type": "markdown",
   "metadata": {},
   "source": [
    " But it is more convenient to do it 1 place if we know, that it will be called for each (!) new instance.\n",
    " This place is magic method __init__, used as constructor where object attributes are assigned"
   ]
  },
  {
   "cell_type": "code",
   "execution_count": 3,
   "metadata": {},
   "outputs": [
    {
     "ename": "NameError",
     "evalue": "name 'Enum' is not defined",
     "output_type": "error",
     "traceback": [
      "\u001B[0;31m---------------------------------------------------------------------------\u001B[0m",
      "\u001B[0;31mNameError\u001B[0m                                 Traceback (most recent call last)",
      "\u001B[0;32m<ipython-input-3-c147b2ead727>\u001B[0m in \u001B[0;36m<module>\u001B[0;34m\u001B[0m\n\u001B[0;32m----> 1\u001B[0;31m \u001B[0;32mclass\u001B[0m \u001B[0mDrone\u001B[0m\u001B[0;34m:\u001B[0m\u001B[0;34m\u001B[0m\u001B[0;34m\u001B[0m\u001B[0m\n\u001B[0m\u001B[1;32m      2\u001B[0m \u001B[0;34m\u001B[0m\u001B[0m\n\u001B[1;32m      3\u001B[0m     \u001B[0;32mclass\u001B[0m \u001B[0mMoveDirection\u001B[0m\u001B[0;34m(\u001B[0m\u001B[0mEnum\u001B[0m\u001B[0;34m)\u001B[0m\u001B[0;34m:\u001B[0m\u001B[0;34m\u001B[0m\u001B[0;34m\u001B[0m\u001B[0m\n\u001B[1;32m      4\u001B[0m         \u001B[0mFORWARD\u001B[0m \u001B[0;34m=\u001B[0m \u001B[0;36m1\u001B[0m\u001B[0;34m\u001B[0m\u001B[0;34m\u001B[0m\u001B[0m\n\u001B[1;32m      5\u001B[0m         \u001B[0mBACKWARD\u001B[0m \u001B[0;34m=\u001B[0m \u001B[0;36m2\u001B[0m\u001B[0;34m\u001B[0m\u001B[0;34m\u001B[0m\u001B[0m\n",
      "\u001B[0;32m<ipython-input-3-c147b2ead727>\u001B[0m in \u001B[0;36mDrone\u001B[0;34m()\u001B[0m\n\u001B[1;32m      1\u001B[0m \u001B[0;32mclass\u001B[0m \u001B[0mDrone\u001B[0m\u001B[0;34m:\u001B[0m\u001B[0;34m\u001B[0m\u001B[0;34m\u001B[0m\u001B[0m\n\u001B[1;32m      2\u001B[0m \u001B[0;34m\u001B[0m\u001B[0m\n\u001B[0;32m----> 3\u001B[0;31m     \u001B[0;32mclass\u001B[0m \u001B[0mMoveDirection\u001B[0m\u001B[0;34m(\u001B[0m\u001B[0mEnum\u001B[0m\u001B[0;34m)\u001B[0m\u001B[0;34m:\u001B[0m\u001B[0;34m\u001B[0m\u001B[0;34m\u001B[0m\u001B[0m\n\u001B[0m\u001B[1;32m      4\u001B[0m         \u001B[0mFORWARD\u001B[0m \u001B[0;34m=\u001B[0m \u001B[0;36m1\u001B[0m\u001B[0;34m\u001B[0m\u001B[0;34m\u001B[0m\u001B[0m\n\u001B[1;32m      5\u001B[0m         \u001B[0mBACKWARD\u001B[0m \u001B[0;34m=\u001B[0m \u001B[0;36m2\u001B[0m\u001B[0;34m\u001B[0m\u001B[0;34m\u001B[0m\u001B[0m\n",
      "\u001B[0;31mNameError\u001B[0m: name 'Enum' is not defined"
     ]
    }
   ],
   "source": [
    "class Drone:\n",
    "    \n",
    "    class MoveDirection(Enum):\n",
    "        FORWARD = 1\n",
    "        BACKWARD = 2\n",
    "        UP = 3\n",
    "        DOWN = 4\n",
    "    \n",
    "    def __init__(self, model, payload):\n",
    "        print('INIT', id(self))\n",
    "        self.model = model\n",
    "        self.payload = payload\n",
    "        \n",
    "    def _move(self, speed, direction):\n",
    "        ...\n",
    "        \n",
    "    def move_backward(self, speed):\n",
    "        print(self.model)\n",
    "        self._move(speed, self.MoveDirection.BACKWARD)\n",
    "        \n",
    "    def move_down(self, speed):\n",
    "        if self.current_altitude == 0:\n",
    "            print ('ERROR: Can\\'t move down')\n",
    "        self._move(speed, self.MoveDirection.DOWN)\n",
    "\n",
    "\n",
    "\n",
    "dr1 = Drone('XS-100', 10)\n",
    "dr2 = Drone('XS-150', 20)\n",
    "\n",
    "print('Object id:', id(dr1))\n",
    "dr1.move_backward(10) \n",
    "Drone.move_backward(dr1, 10) \n"
   ]
  },
  {
   "cell_type": "markdown",
   "metadata": {},
   "source": [
    "# Inheritance"
   ]
  },
  {
   "cell_type": "code",
   "execution_count": 69,
   "metadata": {},
   "outputs": [
    {
     "name": "stdout",
     "output_type": "stream",
     "text": [
      "Hello from render()\n",
      "10 10 42\n",
      "Hello from render()\n",
      "10 10 42\n",
      "Hello from render()\n",
      "[<class '__main__.Ellipse'>, <class '__main__.Circle'>, <class '__main__.Shape'>, <class 'object'>]\n",
      "14.142135623730951\n",
      "14.142135623730951\n"
     ]
    }
   ],
   "source": [
    "class Shape:\n",
    "    \n",
    "    NUM_OF_DIMS = 2\n",
    "   \n",
    "    def __init__(self, x=0, y=0):\n",
    "        self.x = x\n",
    "        self.y = y\n",
    "    \n",
    "    #@staticmethod\n",
    "    @classmethod\n",
    "    def distance(cls, x1, y1, x2, y2):\n",
    "        return math.sqrt((x1 - x2)**2 + (y1 - y2)**2)\n",
    "        \n",
    "    def distance_from(other):\n",
    "        return self.distance(self.x, self.y, other.x, other.y)\n",
    "        \n",
    "    def render(self):\n",
    "        print('Hello from render()')\n",
    "\n",
    "    def scale(self, scale_factor):\n",
    "        print('Hello from scale()')\n",
    "        \n",
    "    def square(self):\n",
    "        print('Hello from square()')\n",
    "        \n",
    "\n",
    "class Circle(Shape):\n",
    "    def __init__(self, x, y, radius):\n",
    "        super().__init__(x, y)\n",
    "        self.radius = radius\n",
    "\n",
    "        \n",
    "class Rectangle(Shape):\n",
    "    def __init__(self, x, y, width, height):\n",
    "        super().__init__(x, y)\n",
    "        self.width = width\n",
    "        self.height = height\n",
    "\n",
    "        \n",
    "class Ellipse(Circle):\n",
    "    def __init__(self, x, y, radius1, radius2):\n",
    "        super().__init__(x, y, radius1)\n",
    "        self.radius2 = radius2\n",
    "\n",
    "        \n",
    "class Polygon(Rectangle):\n",
    "    \"\"\"Polygon class doc\"\"\"\n",
    "\n",
    "    MIN_NUM_OF_POINTS = 3 # constant\n",
    "    default_number_of_sides = 3 # default value (IMMUTABLE)\n",
    "    default_sides = (1, 1, 1) # BAD!!!\n",
    "    \n",
    "    def __init__(self,  x, y, width, height, **kwargs):\n",
    "        super().__init__(x, y, width, height)\n",
    "        self.points = kwargs.get('points')\n",
    "        self.num_of_points = kwargs.get('num_of_points')\n",
    "        self.sides = kwargs.get('sides', list(self.default_sides))\n",
    "        self.default_number_of_sides = 3\n",
    "\n",
    "\n",
    "c1 = Circle(10, 10, 42)\n",
    "c1.render()\n",
    "print(c1.x, c1.y, c1.radius)\n",
    "\n",
    "r1 = Rectangle(10, 10, 42, 42)\n",
    "r1.render()\n",
    "print(r1.x, r1.y, r1.width)\n",
    "\n",
    "o1 = Ellipse(10, 10, 42, 42)\n",
    "o1.render()\n",
    "print(Ellipse.mro())\n",
    "\n",
    "p1 = Polygon(10, 20, 30, 40, points=[(1,1), (2,2)], num_of_points=2)\n",
    "\n",
    "Polygon.mro()\n",
    "\n",
    "\n",
    "print(Shape.distance(0, 0, 10, 10))\n",
    "print(p1.distance(0, 0, 10, 10))\n",
    "\n",
    "sh3 = Shape3D(10, 20, 30)\n",
    "print(sh3.distance(0, 0, 10, 10))"
   ]
  },
  {
   "cell_type": "code",
   "execution_count": 44,
   "metadata": {},
   "outputs": [
    {
     "name": "stdout",
     "output_type": "stream",
     "text": [
      "{'x': 10, 'y': 20, 'width': 30, 'height': 40, 'points': [(1, 1), (2, 2)], 'num_of_points': 2}\n",
      "{'x': 0, 'y': 0, 'width': 10, 'height': 20, 'points': [], 'num_of_points': 0}\n",
      "42\n",
      "{'__module__': '__main__', '__doc__': 'Polygon class doc', 'MIN_NUM_OF_POINTS': 3, 'default_number_of_sides': 3, 'default_sides': (1, 1, 1), '__init__': <function Polygon.__init__ at 0x7f3b04381ca0>}\n"
     ]
    },
    {
     "ename": "AttributeError",
     "evalue": "'Polygon' object has no attribute 'min_num_of_points'",
     "output_type": "error",
     "traceback": [
      "\u001B[0;31m---------------------------------------------------------------------------\u001B[0m",
      "\u001B[0;31mAttributeError\u001B[0m                            Traceback (most recent call last)",
      "\u001B[0;32m<ipython-input-44-f82c3e642236>\u001B[0m in \u001B[0;36m<module>\u001B[0;34m\u001B[0m\n\u001B[1;32m     11\u001B[0m \u001B[0mprint\u001B[0m\u001B[0;34m(\u001B[0m\u001B[0mPolygon\u001B[0m\u001B[0;34m.\u001B[0m\u001B[0m__dict__\u001B[0m\u001B[0;34m)\u001B[0m\u001B[0;34m\u001B[0m\u001B[0;34m\u001B[0m\u001B[0m\n\u001B[1;32m     12\u001B[0m \u001B[0;34m\u001B[0m\u001B[0m\n\u001B[0;32m---> 13\u001B[0;31m \u001B[0mprint\u001B[0m\u001B[0;34m(\u001B[0m\u001B[0mp1\u001B[0m\u001B[0;34m.\u001B[0m\u001B[0mmin_num_of_points\u001B[0m\u001B[0;34m)\u001B[0m\u001B[0;34m\u001B[0m\u001B[0;34m\u001B[0m\u001B[0m\n\u001B[0m",
      "\u001B[0;31mAttributeError\u001B[0m: 'Polygon' object has no attribute 'min_num_of_points'"
     ]
    }
   ],
   "source": [
    "# dir(Polygon)\n",
    "dir(p1)\n",
    "print(p1.__dict__)\n",
    "\n",
    "p2 = Polygon(0, 0, 10, 20, points=[], num_of_points=0)\n",
    "print(p2.__dict__)\n",
    "p2.__dict__['x'] = 42\n",
    "#p2.x = 43\n",
    "print(p2.x)\n",
    "\n",
    "print(Polygon.__dict__)\n",
    "\n",
    "print(p1.min_num_of_points)"
   ]
  },
  {
   "cell_type": "code",
   "execution_count": 52,
   "metadata": {},
   "outputs": [
    {
     "name": "stdout",
     "output_type": "stream",
     "text": [
      "{'x': 10, 'y': 20, 'width': 30, 'height': 40, 'points': [(1, 1), (2, 2)], 'num_of_points': 2, 'sides': [1, 1, 1]}\n",
      "{'x': 10, 'y': 20, 'width': 30, 'height': 40, 'points': [(1, 1), (2, 2)], 'num_of_points': 2, 'sides': [1, 1, 1], 'default_number_of_sides': 4}\n",
      "{'x': 42, 'y': 0, 'width': 10, 'height': 20, 'points': [], 'num_of_points': 0, 'default_number_of_sides': 5}\n",
      "{'x': 42, 'y': 0, 'width': 10, 'height': 20, 'points': [], 'num_of_points': 0, 'default_number_of_sides': 5}\n",
      "3\n",
      "{'__module__': '__main__', '__doc__': 'Polygon class doc', 'MIN_NUM_OF_POINTS': 3, 'default_number_of_sides': 3, 'default_sides': (1, 1, 1), '__init__': <function Polygon.__init__ at 0x7f3b043329d0>}\n"
     ]
    },
    {
     "ename": "TypeError",
     "evalue": "'tuple' object does not support item assignment",
     "output_type": "error",
     "traceback": [
      "\u001B[0;31m---------------------------------------------------------------------------\u001B[0m",
      "\u001B[0;31mTypeError\u001B[0m                                 Traceback (most recent call last)",
      "\u001B[0;32m<ipython-input-52-99e252f1e409>\u001B[0m in \u001B[0;36m<module>\u001B[0;34m\u001B[0m\n\u001B[1;32m     12\u001B[0m \u001B[0mprint\u001B[0m\u001B[0;34m(\u001B[0m\u001B[0mPolygon\u001B[0m\u001B[0;34m.\u001B[0m\u001B[0m__dict__\u001B[0m\u001B[0;34m)\u001B[0m\u001B[0;34m\u001B[0m\u001B[0;34m\u001B[0m\u001B[0m\n\u001B[1;32m     13\u001B[0m \u001B[0;34m\u001B[0m\u001B[0m\n\u001B[0;32m---> 14\u001B[0;31m \u001B[0mp1\u001B[0m\u001B[0;34m.\u001B[0m\u001B[0mdefault_sides\u001B[0m\u001B[0;34m[\u001B[0m\u001B[0;36m0\u001B[0m\u001B[0;34m]\u001B[0m \u001B[0;34m=\u001B[0m \u001B[0;36m42\u001B[0m\u001B[0;34m\u001B[0m\u001B[0;34m\u001B[0m\u001B[0m\n\u001B[0m\u001B[1;32m     15\u001B[0m \u001B[0mprint\u001B[0m\u001B[0;34m(\u001B[0m\u001B[0mp1\u001B[0m\u001B[0;34m.\u001B[0m\u001B[0mdefault_sides\u001B[0m\u001B[0;34m)\u001B[0m\u001B[0;34m\u001B[0m\u001B[0;34m\u001B[0m\u001B[0m\n\u001B[1;32m     16\u001B[0m \u001B[0;34m\u001B[0m\u001B[0m\n",
      "\u001B[0;31mTypeError\u001B[0m: 'tuple' object does not support item assignment"
     ]
    }
   ],
   "source": [
    "print(p1.__dict__)\n",
    "p1.default_number_of_sides = 4\n",
    "print(p1.__dict__)\n",
    "\n",
    "print(p2.__dict__)\n",
    "p2.default_number_of_sides = 5\n",
    "print(p2.__dict__)\n",
    "\n",
    "p3 = Polygon(10, 20, 30, 40, points=[(1,1), (2,2)], num_of_points=2)\n",
    "print(p3.default_number_of_sides)\n",
    "\n",
    "print(Polygon.__dict__)\n",
    "\n",
    "p1.default_sides[0] = 42\n",
    "print(p1.default_sides)\n",
    "\n",
    "print(p2.default_sides)"
   ]
  },
  {
   "cell_type": "code",
   "execution_count": 53,
   "metadata": {},
   "outputs": [
    {
     "name": "stdout",
     "output_type": "stream",
     "text": [
      "[42, 1, 1]\n",
      "[1, 1, 1]\n"
     ]
    }
   ],
   "source": [
    "p4 = Polygon(10, 20, 30, 40, points=[(1,1), (2,2)], num_of_points=2)\n",
    "p4.sides[0] = 42\n",
    "\n",
    "\n",
    "print(p4.sides)\n",
    "print(p3.sides)"
   ]
  },
  {
   "cell_type": "code",
   "execution_count": 28,
   "metadata": {},
   "outputs": [
    {
     "name": "stdout",
     "output_type": "stream",
     "text": [
      "attrA1\n",
      "attrA2\n",
      "Hello from A.foo()\n",
      "Hello from A.foo()\n",
      "foo_a1() called\n",
      "foo_a2() called\n"
     ]
    }
   ],
   "source": [
    "class A:\n",
    "\n",
    "    def __init__(self):\n",
    "        super().__init__()\n",
    "    \n",
    "    def foo(self):\n",
    "        \n",
    "        print('Hello from A.foo()')\n",
    "\n",
    "\n",
    "class A1(A):\n",
    "    def __init__(self):\n",
    "        super().__init__()\n",
    "        self.attrA1 = 'attrA1'\n",
    "        \n",
    "    def foo_a1(self):\n",
    "        print('foo_a1() called')\n",
    "\n",
    "        \n",
    "class A2(A):\n",
    "    def __init__(self):\n",
    "        super().__init__()\n",
    "        self.attrA2 = 'attrA2'\n",
    "\n",
    "    def foo_a2(self):\n",
    "        print('foo_a2() called')\n",
    "\n",
    "        \n",
    "a1 = A1()\n",
    "a2 = A2()\n",
    "print(a1.attrA1)\n",
    "print(a2.attrA2)\n",
    "a1.foo()\n",
    "a2.foo()\n",
    "\n",
    "a1.foo_a1()\n",
    "a2.foo_a2()"
   ]
  },
  {
   "cell_type": "markdown",
   "metadata": {},
   "source": [
    "### Everyting is object\n",
    "Magic methods received from object root class"
   ]
  },
  {
   "cell_type": "code",
   "execution_count": 87,
   "metadata": {},
   "outputs": [
    {
     "name": "stdout",
     "output_type": "stream",
     "text": [
      "['__class__', '__delattr__', '__dir__', '__doc__', '__eq__', '__format__', '__ge__', '__getattribute__', '__gt__', '__hash__', '__init__', '__init_subclass__', '__le__', '__lt__', '__ne__', '__new__', '__reduce__', '__reduce_ex__', '__repr__', '__setattr__', '__sizeof__', '__str__', '__subclasshook__']\n"
     ]
    }
   ],
   "source": [
    "# __dict__\n",
    "print(dir(object()))"
   ]
  },
  {
   "cell_type": "markdown",
   "metadata": {},
   "source": [
    "#### Difference between class and object from attributes point of view\n",
    "- used for constants\n",
    "- or for immutable defaults"
   ]
  },
  {
   "cell_type": "code",
   "execution_count": 88,
   "metadata": {},
   "outputs": [
    {
     "name": "stdout",
     "output_type": "stream",
     "text": [
      "'Obj attrs: '\n"
     ]
    },
    {
     "ename": "NameError",
     "evalue": "name 'a' is not defined",
     "output_type": "error",
     "traceback": [
      "\u001B[0;31m---------------------------------------------------------------------------\u001B[0m",
      "\u001B[0;31mNameError\u001B[0m                                 Traceback (most recent call last)",
      "\u001B[0;32m<ipython-input-88-2ba8efea5687>\u001B[0m in \u001B[0;36m<module>\u001B[0;34m\u001B[0m\n\u001B[1;32m      1\u001B[0m \u001B[0mpp\u001B[0m\u001B[0;34m(\u001B[0m\u001B[0;34m'Obj attrs: '\u001B[0m\u001B[0;34m)\u001B[0m\u001B[0;34m\u001B[0m\u001B[0;34m\u001B[0m\u001B[0m\n\u001B[0;32m----> 2\u001B[0;31m \u001B[0mpp\u001B[0m\u001B[0;34m(\u001B[0m\u001B[0ma\u001B[0m\u001B[0;34m.\u001B[0m\u001B[0m__dict__\u001B[0m\u001B[0;34m)\u001B[0m\u001B[0;34m\u001B[0m\u001B[0;34m\u001B[0m\u001B[0m\n\u001B[0m\u001B[1;32m      3\u001B[0m \u001B[0mprint\u001B[0m\u001B[0;34m(\u001B[0m\u001B[0;34m)\u001B[0m\u001B[0;34m\u001B[0m\u001B[0;34m\u001B[0m\u001B[0m\n\u001B[1;32m      4\u001B[0m \u001B[0mpp\u001B[0m\u001B[0;34m(\u001B[0m\u001B[0;34m'Class attrs: '\u001B[0m\u001B[0;34m)\u001B[0m\u001B[0;34m\u001B[0m\u001B[0;34m\u001B[0m\u001B[0m\n\u001B[1;32m      5\u001B[0m \u001B[0mpp\u001B[0m\u001B[0;34m(\u001B[0m\u001B[0mA\u001B[0m\u001B[0;34m.\u001B[0m\u001B[0m__dict__\u001B[0m\u001B[0;34m)\u001B[0m\u001B[0;34m\u001B[0m\u001B[0;34m\u001B[0m\u001B[0m\n",
      "\u001B[0;31mNameError\u001B[0m: name 'a' is not defined"
     ]
    }
   ],
   "source": [
    "pp('Obj attrs: ')\n",
    "pp(a.__dict__)\n",
    "print()\n",
    "pp('Class attrs: ')\n",
    "pp(A.__dict__)\n",
    "\n",
    "\n",
    "print(a.obj_attr1)\n",
    "print(a.__dict__['obj_attr1'])\n",
    "a.__dict__['obj_attr1'] = 42\n",
    "print(a.obj_attr1)\n",
    "A.attr1 = 'XYZ'\n",
    "print(A.__dict__['attr1'])\n",
    "print(a.attr1)\n",
    "\n",
    "\n",
    "a = A(1024, 'abc')\n",
    "b = A(1024, 'abc'.upper().lower())\n",
    "# c = A(1024, 'ab'+'c')\n",
    "print(id(a.attr1), id(b.attr1))\n",
    "print(id(a.obj_attr1), id(b.obj_attr1))\n",
    "print(id(a.obj_attr2), id(b.obj_attr2))"
   ]
  },
  {
   "cell_type": "code",
   "execution_count": 89,
   "metadata": {},
   "outputs": [
    {
     "name": "stdout",
     "output_type": "stream",
     "text": [
      "TeamLeader\n"
     ]
    },
    {
     "data": {
      "text/plain": [
       "[__main__.CTO,\n",
       " __main__.TeamLeader,\n",
       " __main__.Architect,\n",
       " __main__.TeamMember,\n",
       " __main__.Person,\n",
       " object]"
      ]
     },
     "execution_count": 89,
     "metadata": {},
     "output_type": "execute_result"
    }
   ],
   "source": [
    "\"\"\"\n",
    "  Multiple Inheritance introduces diamond problem\n",
    "\"\"\"\n",
    "\n",
    "class Person:\n",
    "    def __init__(self, first_name, last_name, **kwargs): \n",
    "        self.first_name = first_name \n",
    "        self.last_name = last_name \n",
    "        \n",
    "\n",
    "class TeamMember(Person):                 \n",
    "    def __init__(self, first_name, last_name, **kwargs):\n",
    "        super().__init__(first_name, last_name, **kwargs)\n",
    "        self.salary = kwargs.get(\"salary\", 0)\n",
    "        self.jobtitle = kwargs.get(\"jobtitle\", 'N/A')\n",
    "\n",
    "\n",
    "class Architect(TeamMember):                 \n",
    "    def __init__(self, first_name, last_name, **kwargs):\n",
    "        super().__init__(first_name, last_name, **kwargs)\n",
    "        self.certificates = kwargs.get(\"certificates\", [])\n",
    "        self.jobtitle = 'Architect'\n",
    "\n",
    "        \n",
    "class TeamLeader(TeamMember):                 \n",
    "    def __init__(self, first_name, last_name, **kwargs):\n",
    "        super().__init__(first_name, last_name, **kwargs)\n",
    "        self.soft_skills = kwargs.get(\"soft_skills\", [])\n",
    "        self.jobtitle = 'TeamLeader'\n",
    "        \n",
    "    def __str__(self):\n",
    "        return 'TL'\n",
    "\n",
    "class CTO(TeamLeader, Architect):                 \n",
    "    def __init__(self, first_name, last_name, **kwargs):\n",
    "        super().__init__(first_name, last_name, **kwargs)\n",
    "        self.projects = kwargs.get(\"projects\")\n",
    "        self.soft_skills += ['Leadership', 'EQ']\n",
    "        self.certificates += ['ITIL', 'PMA']\n",
    "        #self.jobtitle = 'CTO'\n",
    "\n",
    "        \n",
    "cto = CTO(\n",
    "    first_name='Jake',\n",
    "    last_name='Smith',\n",
    "    salary=250000\n",
    ")\n",
    "\n",
    "print(cto.jobtitle)\n",
    "\n",
    "CTO.mro()"
   ]
  },
  {
   "cell_type": "markdown",
   "metadata": {},
   "source": [
    "#### Multiple inheritance is mainly used to 'mix in' additional behaviour"
   ]
  },
  {
   "cell_type": "code",
   "execution_count": 82,
   "metadata": {},
   "outputs": [],
   "source": [
    "class JsonMixin:\n",
    "    \n",
    "    MAX_PRINT_SYMBOLS = 20\n",
    "    \n",
    "    def to_json(self):\n",
    "        return json.dumps(self.__dict__)\n",
    "    \n",
    "    def __str__(self):\n",
    "        result = super().__str__()\n",
    "        result += '\\n'\n",
    "        result += 'CLASS: ' + type(self).__name__\n",
    "        result += '\\n'\n",
    "        obj_str = self.to_json()\n",
    "        to_display = min(self.MAX_PRINT_SYMBOLS, len(obj_str))\n",
    "        if to_display > self.MAX_PRINT_SYMBOLS:\n",
    "            result += obj_str[:to_display] + '...'\n",
    "        else:\n",
    "            result += obj_str\n",
    "        return result\n",
    "    \n",
    "\n",
    "class XMLMixin:\n",
    "    MAX_PRINT_SYMBOLS = 20\n",
    "    \n",
    "    def to_xml(self):\n",
    "        return dicttoxml.dicttoxml(vars(self)).decode()\n",
    "    \n",
    "    def __str__(self):\n",
    "        result = super().__str__()\n",
    "        result += '\\n'\n",
    "        result += 'CLASS: ' + type(self).__name__\n",
    "        result += '\\n'\n",
    "        obj_str = self.to_xml()\n",
    "        to_display = min(self.MAX_PRINT_SYMBOLS, len(obj_str))\n",
    "        if to_display > self.MAX_PRINT_SYMBOLS:\n",
    "            result += obj_str[:to_display] + '...'\n",
    "        else:\n",
    "            result += obj_str\n",
    "        return result\n",
    "\n",
    "\n",
    "class YamlMixin:\n",
    "    \n",
    "    MAX_PRINT_SYMBOLS = 20\n",
    "\n",
    "    def to_yaml(self):\n",
    "        return yaml.dump(vars(self))\n",
    "    \n",
    "    def __str__(self):\n",
    "        result = super().__str__()\n",
    "        result += '\\n'\n",
    "        result += 'CLASS: ' + type(self).__name__\n",
    "        result += '\\n'\n",
    "        obj_str = self.to_yaml()\n",
    "        to_display = min(self.MAX_PRINT_SYMBOLS, len(obj_str))\n",
    "        if to_display > self.MAX_PRINT_SYMBOLS:\n",
    "            result += obj_str[:to_display] + '...'\n",
    "        else:\n",
    "            result += obj_str\n",
    "        return result"
   ]
  },
  {
   "cell_type": "code",
   "execution_count": 92,
   "metadata": {},
   "outputs": [
    {
     "name": "stdout",
     "output_type": "stream",
     "text": [
      "[<class '__main__.CTO'>, <class '__main__.YamlMixin'>, <class '__main__.TeamLeader'>, <class '__main__.Architect'>, <class '__main__.TeamMember'>, <class '__main__.Person'>, <class 'object'>]\n",
      "TL\n",
      "CLASS: CTO\n",
      "certificates:\n",
      "- ITIL\n",
      "- PMA\n",
      "first_name: Jake\n",
      "jobtitle: CTO\n",
      "last_name: Smith\n",
      "projects: null\n",
      "salary: 250000\n",
      "soft_skills:\n",
      "- Leadership\n",
      "- EQ\n",
      "\n"
     ]
    }
   ],
   "source": [
    "class CTO(YamlMixin, TeamLeader, Architect):\n",
    "    \n",
    "    def __init__(self, first_name, last_name, **kwargs):\n",
    "        super().__init__(first_name, last_name, **kwargs)\n",
    "        self.projects = kwargs.get(\"projects\")\n",
    "        self.soft_skills += ['Leadership', 'EQ']\n",
    "        self.certificates += ['ITIL', 'PMA']\n",
    "        self.jobtitle = 'CTO'\n",
    "        \n",
    "#     def __str__(self):\n",
    "#         return 'CTO'\n",
    "        \n",
    "cto = CTO(\n",
    "    first_name='Jake',\n",
    "    last_name='Smith',\n",
    "    salary=250000\n",
    ")\n",
    "print(CTO.mro())\n",
    "#print(cto.to_yaml())\n",
    "print(str(cto))"
   ]
  },
  {
   "cell_type": "markdown",
   "metadata": {},
   "source": [
    "#### Template pattern (https://bit.ly/3j6Asid)"
   ]
  },
  {
   "cell_type": "code",
   "execution_count": 95,
   "metadata": {},
   "outputs": [],
   "source": [
    "class SerializedMixin:\n",
    "    MAX_PRINT_SYMBOLS = 150\n",
    "    \n",
    "    def _serialize(self):\n",
    "        raise NotImplemented('No impemented')\n",
    "    \n",
    "    def __str__(self):\n",
    "        result = super().__str__()\n",
    "        result += '\\n'\n",
    "        result += 'CLASS: ' + type(self).__name__\n",
    "        result += '\\n'\n",
    "        obj_str = self._serialize()\n",
    "        to_display = min(self.MAX_PRINT_SYMBOLS, len(obj_str))\n",
    "        if to_display < len(obj_str):\n",
    "            result += obj_str[:to_display] + '...'\n",
    "        else:\n",
    "            result += obj_str\n",
    "        return result\n",
    "\n",
    "    \n",
    "class JsonMixin(SerializedMixin):\n",
    "    MAX_PRINT_SYMBOLS = 42\n",
    "\n",
    "    def _serialize(self):\n",
    "        return json.dumps(vars(self))\n",
    "    \n",
    "\n",
    "class XMLMixin(SerializedMixin):\n",
    "    def _serialize(self):\n",
    "        return dicttoxml.dicttoxml(vars(self)).decode()\n",
    "\n",
    "\n",
    "class YamlMixin(SerializedMixin):\n",
    "    def _serialize(self):\n",
    "        return yaml.dump(vars(self))"
   ]
  },
  {
   "cell_type": "code",
   "execution_count": 97,
   "metadata": {},
   "outputs": [
    {
     "name": "stdout",
     "output_type": "stream",
     "text": [
      "TL\n",
      "CLASS: CTO\n",
      "certificates:\n",
      "- ITIL\n",
      "- PMA\n",
      "first_name: Jake\n",
      "jobtitle: CTO\n",
      "last_name: Smith\n",
      "projects: null\n",
      "salary: 250000\n",
      "soft_skills:\n",
      "- Leadership\n",
      "- EQ\n",
      "\n"
     ]
    }
   ],
   "source": [
    "class CTO(YamlMixin, TeamLeader, Architect):\n",
    "    \n",
    "    def __init__(self, first_name, last_name, **kwargs):\n",
    "        super().__init__(first_name, last_name, **kwargs)\n",
    "        self.projects = kwargs.get(\"projects\")\n",
    "        self.soft_skills += ['Leadership', 'EQ']\n",
    "        self.certificates += ['ITIL', 'PMA']\n",
    "        self.jobtitle = 'CTO'\n",
    "\n",
    "cto = CTO(\n",
    "    first_name='Jake',\n",
    "    last_name='Smith',\n",
    "    salary=250000\n",
    ")\n",
    "\n",
    "print(str(cto))"
   ]
  },
  {
   "cell_type": "code",
   "execution_count": 98,
   "metadata": {},
   "outputs": [
    {
     "name": "stdout",
     "output_type": "stream",
     "text": [
      "127.27922061357856\n",
      "127.27922061357856\n"
     ]
    }
   ],
   "source": [
    "# classmethod vs staticmethod\n",
    "import math\n",
    "\n",
    "class Shape:\n",
    "    NUM_OF_DIMS = 2\n",
    "\n",
    "    def __init__(self, x=0, y=0):\n",
    "        self.x = x\n",
    "        self.y = y\n",
    "\n",
    "    #@staticmethod\n",
    "    @classmethod\n",
    "    def distance(cls, x1, y1, x2, y2):\n",
    "        return math.sqrt((x1 - x2) **  cls.NUM_OF_DIMS + (y1 - y2) ** cls.NUM_OF_DIMS)\n",
    "\n",
    "\n",
    "class Shape3D(Shape):\n",
    "    # NUM_OF_DIMS = 3\n",
    "\n",
    "    def __init__(self, x=0, y=0):\n",
    "        super().__init__(x, y)\n",
    "        self.z = 0\n",
    "\n",
    "    # @staticmethod\n",
    "    # # #@classmethod\n",
    "    # def distance(cls, x1, y1, x2, y2):\n",
    "    #     return math.sqrt((x1 - x2) **  Shape3D.NUM_OF_DIMS + (y1 - y2) ** Shape3D.NUM_OF_DIMS)\n",
    "\n",
    "s = Shape(0, 0)\n",
    "print(s.distance(100, 100, 10, 10))\n",
    "\n",
    "\n",
    "s2 = Shape3D(0, 0)\n",
    "print(s2.distance(100, 100, 10, 10))\n"
   ]
  },
  {
   "cell_type": "code",
   "execution_count": null,
   "metadata": {},
   "outputs": [],
   "source": []
  },
  {
   "cell_type": "code",
   "execution_count": null,
   "metadata": {},
   "outputs": [],
   "source": []
  },
  {
   "cell_type": "code",
   "execution_count": null,
   "metadata": {},
   "outputs": [],
   "source": []
  },
  {
   "cell_type": "markdown",
   "metadata": {},
   "source": [
    "# Magic methods/attributes"
   ]
  },
  {
   "cell_type": "code",
   "execution_count": null,
   "metadata": {},
   "outputs": [],
   "source": [
    "# __str__, __init__, __dict__"
   ]
  },
  {
   "cell_type": "markdown",
   "metadata": {},
   "source": [
    "By overriding magic methods we achieve so called polymorphism: one method -> many implementations"
   ]
  },
  {
   "cell_type": "code",
   "execution_count": 100,
   "metadata": {},
   "outputs": [],
   "source": [
    "# implementing protocols\n",
    "\n",
    "class timer():\n",
    "    def __init__(self, message):\n",
    "        self.message = message\n",
    "\n",
    "    def __enter__(self):\n",
    "        self.start = time.time()\n",
    "        return None\n",
    "\n",
    "    def __exit__(self, type, value, traceback):\n",
    "        elapsed_time = (time.time() - self.start) * 1000\n",
    "        print(self.message.format(elapsed_time))\n",
    "        \n",
    "class A():\n",
    "    def __enter__(self):\n",
    "        print('__enter__')\n",
    "    \n",
    "    def __exit__(self, type, value, traceback):\n",
    "        print('__exit__')\n",
    "\n",
    "# with A():\n",
    "#     raise ValueError('WRONG!')"
   ]
  },
  {
   "cell_type": "code",
   "execution_count": 101,
   "metadata": {},
   "outputs": [
    {
     "ename": "NameError",
     "evalue": "name 'a' is not defined",
     "output_type": "error",
     "traceback": [
      "\u001B[0;31m---------------------------------------------------------------------------\u001B[0m",
      "\u001B[0;31mNameError\u001B[0m                                 Traceback (most recent call last)",
      "\u001B[0;32m<ipython-input-101-e9355fe870f0>\u001B[0m in \u001B[0;36m<module>\u001B[0;34m\u001B[0m\n\u001B[1;32m      1\u001B[0m \u001B[0;31m# overring implicit conversions\u001B[0m\u001B[0;34m\u001B[0m\u001B[0;34m\u001B[0m\u001B[0;34m\u001B[0m\u001B[0m\n\u001B[1;32m      2\u001B[0m \u001B[0;34m\u001B[0m\u001B[0m\n\u001B[0;32m----> 3\u001B[0;31m \u001B[0mprint\u001B[0m\u001B[0;34m(\u001B[0m\u001B[0ma\u001B[0m\u001B[0;34m.\u001B[0m\u001B[0m__str__\u001B[0m\u001B[0;34m(\u001B[0m\u001B[0;34m)\u001B[0m\u001B[0;34m)\u001B[0m\u001B[0;34m\u001B[0m\u001B[0;34m\u001B[0m\u001B[0m\n\u001B[0m\u001B[1;32m      4\u001B[0m \u001B[0mprint\u001B[0m\u001B[0;34m(\u001B[0m\u001B[0mstr\u001B[0m\u001B[0;34m(\u001B[0m\u001B[0ma\u001B[0m\u001B[0;34m)\u001B[0m\u001B[0;34m)\u001B[0m\u001B[0;34m\u001B[0m\u001B[0;34m\u001B[0m\u001B[0m\n\u001B[1;32m      5\u001B[0m \u001B[0;34m\u001B[0m\u001B[0m\n",
      "\u001B[0;31mNameError\u001B[0m: name 'a' is not defined"
     ]
    }
   ],
   "source": [
    "# overring implicit conversions \n",
    "\n",
    "print(a.__str__())\n",
    "print(str(a))\n",
    "\n",
    "dir(a)\n",
    "a.__dir__()\n",
    "\n",
    "# xxx(a)\n",
    "# a.__xxx__()\n",
    "\n",
    "v = 42\n",
    "print(v + 1)\n",
    "print(v.__add__(1))\n",
    "\n",
    "class Employee:\n",
    "    def __init__(self, first_name=None, last_name=None, email=None):\n",
    "        self._first_name = first_name\n",
    "        self._last_name = last_name\n",
    "        self._email = email\n",
    "    \n",
    "    def __bool__(self):\n",
    "        return bool(self._first_name or \\\n",
    "               self._last_name or \\\n",
    "               self._email)\n",
    "            \n",
    "e = Employee()\n",
    "\n",
    "\n",
    "if e:\n",
    "    print('Not empty')\n",
    "    # do some work\n",
    "    \n",
    "if e is not None: # None ~= null\n",
    "    print('Is not None')\n",
    "    # do some work"
   ]
  },
  {
   "cell_type": "code",
   "execution_count": 102,
   "metadata": {},
   "outputs": [
    {
     "name": "stdout",
     "output_type": "stream",
     "text": [
      "first_name='John' OR last_name='Gonzalez' OR stuff=True OR age=42\n"
     ]
    }
   ],
   "source": [
    "# overriding operators (+, -, *, /, ...)\n",
    "class Q:\n",
    "    def __init__(self, **params):\n",
    "        self._params = params\n",
    "    \n",
    "    def __or__(self, other):\n",
    "        self._params.update(other._params)\n",
    "        return self\n",
    "\n",
    "#     def __and__(self, other):\n",
    "#         self._params.update(other._params)\n",
    "#         return self\n",
    "    \n",
    "    def __str__(self):\n",
    "        result = ''\n",
    "        for k, v in  self._params.items():\n",
    "            if result:\n",
    "                result += ' OR '\n",
    "#             if result:\n",
    "#                 result += ' OR '\n",
    "            result += f'{k}={repr(v)}'\n",
    "        return result\n",
    "\n",
    "filter = Q()\n",
    "filter |= Q(first_name='John')\n",
    "filter |= Q(last_name='Gonzalez')\n",
    "filter |= Q(stuff=True)\n",
    "filter |= Q(age=42)\n",
    "\n",
    "print(filter)"
   ]
  },
  {
   "cell_type": "code",
   "execution_count": 1,
   "metadata": {},
   "outputs": [
    {
     "name": "stdout",
     "output_type": "stream",
     "text": [
      "first_name='John' OR last_name='Gonzalez' OR stuff=True OR age=42\n"
     ]
    }
   ],
   "source": [
    "# overriding operators (+, -, *, /, ...)\n",
    "class Q:\n",
    "    def __init__(self, **params):\n",
    "        self._params = params\n",
    "    \n",
    "    def __or__(self, other):\n",
    "        self._params.update(other._params)\n",
    "        return self\n",
    "\n",
    "#     def __and__(self, other):\n",
    "#         self._params.update(other._params)\n",
    "#         return self\n",
    "    \n",
    "    def __str__(self):\n",
    "        result = ''\n",
    "        for k, v in  self._params.items():\n",
    "            if result:\n",
    "                result += ' OR '\n",
    "#             if result:\n",
    "#                 result += ' OR '\n",
    "            result += f'{k}={repr(v)}'\n",
    "        return result\n",
    "\n",
    "filter = Q()\n",
    "filter |= Q(first_name='John')\n",
    "filter |= Q(last_name='Gonzalez')\n",
    "filter |= Q(stuff=True)\n",
    "filter |= Q(age=42)\n",
    "\n",
    "print(filter)"
   ]
  },
  {
   "cell_type": "code",
   "execution_count": 105,
   "metadata": {},
   "outputs": [
    {
     "name": "stdout",
     "output_type": "stream",
     "text": [
      "__setattr__\n",
      "43\n"
     ]
    }
   ],
   "source": [
    "# overriding get/set attributes -> hook access to/from attributes\n",
    "class A:\n",
    "    def __getattr__(self, name):\n",
    "        print('__getattr__')\n",
    "#         if name in self.__dict__:\n",
    "#             value = self.__dict__[name]\n",
    "#         elif name in self.__class__.__dict__:\n",
    "#             value = self.__class__.__dict__[name]\n",
    "#         else:\n",
    "#             value = super().__getattr__(name)                    \n",
    "#         return value\n",
    "        return 42\n",
    "    \n",
    "    def __setattr__(self, name, value):\n",
    "        print('__setattr__')\n",
    "        self.__dict__[name] = value + 1\n",
    "        \n",
    "    def __delattr__(self, name):\n",
    "        if name in self.__dict__:\n",
    "            del self.__dict__[name]\n",
    "            \n",
    "a = A()\n",
    "a.boo = 42\n",
    "print(a.boo)\n"
   ]
  },
  {
   "cell_type": "code",
   "execution_count": 108,
   "metadata": {},
   "outputs": [
    {
     "name": "stdout",
     "output_type": "stream",
     "text": [
      "foo\n",
      "foo\n",
      "__call__\n"
     ]
    }
   ],
   "source": [
    "# make objects behave like a function: __call__\n",
    "\n",
    "def foo():\n",
    "    print('foo')\n",
    "foo()\n",
    "foo.__call__()\n",
    "\n",
    "class A:\n",
    "    def __call__(self):\n",
    "        print('__call__')\n",
    "    \n",
    "a = A()\n",
    "a()"
   ]
  },
  {
   "cell_type": "code",
   "execution_count": 2,
   "metadata": {},
   "outputs": [],
   "source": [
    "class lazy_object:\n",
    "    '''\n",
    "    Class for deferred instantiation of objects.  Init is called\n",
    "    only when the first attribute is either get or set.\n",
    "    '''\n",
    "\n",
    "    def __init__(self, callable, *args, **kw):\n",
    "        '''\n",
    "        callable -- Class of objeсt to be instantiated or functionnn to be called\n",
    "        *args -- arguments to be used when instantiating object\n",
    "        **kw  -- keywords to be used when instantiating object\n",
    "        '''\n",
    "        self.__dict__['callable'] = callable\n",
    "        self.__dict__['args'] = args\n",
    "        self.__dict__['kw'] = kw\n",
    "        self.__dict__['obj'] = None\n",
    "\n",
    "    def init_obj(self):\n",
    "        '''\n",
    "        Instantiate object if not already done\n",
    "        '''\n",
    "        if self.obj is None:\n",
    "            self.__dict__['obj'] = self.callable(*self.args, **self.kw)\n",
    "\n",
    "    def __getattr__(self, name):\n",
    "        self.init_obj()\n",
    "        return getattr(self.obj, name)\n",
    "\n",
    "    def __setattr__(self, name, value):\n",
    "        self.init_obj()\n",
    "        setattr(self.obj, name, value)\n",
    "\n",
    "    def __len__(self):\n",
    "        self.init_obj()\n",
    "        return len(self.obj)\n",
    "\n",
    "    def __getitem__(self, idx):\n",
    "        self.init_obj()\n",
    "        return self.obj[idx]\n",
    "\n",
    "    def __copy__(self):\n",
    "        new_copy = lazy_object(self.callable, self.args, self.kw)\n",
    "        new_copy.__dict__['obj'] = copy.copy(self.obj)\n",
    "        return new_copy"
   ]
  },
  {
   "cell_type": "code",
   "execution_count": 3,
   "metadata": {},
   "outputs": [
    {
     "name": "stdout",
     "output_type": "stream",
     "text": [
      "<__main__.lazy_object object at 0x7fb55076ed30>\n"
     ]
    }
   ],
   "source": [
    "class A:\n",
    "    def __init__(self, num_elem):\n",
    "        self.attr1 = list(range(num_elem))\n",
    "        \n",
    "a = lazy_object(A, num_elem=10**8)\n",
    "\n",
    "print(a)"
   ]
  },
  {
   "cell_type": "code",
   "execution_count": 4,
   "metadata": {},
   "outputs": [
    {
     "ename": "NameError",
     "evalue": "name 'timer' is not defined",
     "output_type": "error",
     "traceback": [
      "\u001B[0;31m---------------------------------------------------------------------------\u001B[0m",
      "\u001B[0;31mNameError\u001B[0m                                 Traceback (most recent call last)",
      "\u001B[0;32m<ipython-input-4-799d01df6368>\u001B[0m in \u001B[0;36m<module>\u001B[0;34m\u001B[0m\n\u001B[0;32m----> 1\u001B[0;31m \u001B[0;32mwith\u001B[0m \u001B[0mtimer\u001B[0m\u001B[0;34m(\u001B[0m\u001B[0;34m'Elapsed: {}ms'\u001B[0m\u001B[0;34m)\u001B[0m\u001B[0;34m:\u001B[0m\u001B[0;34m\u001B[0m\u001B[0;34m\u001B[0m\u001B[0m\n\u001B[0m\u001B[1;32m      2\u001B[0m    \u001B[0mtype\u001B[0m\u001B[0;34m(\u001B[0m\u001B[0ma\u001B[0m\u001B[0;34m.\u001B[0m\u001B[0mattr1\u001B[0m\u001B[0;34m)\u001B[0m\u001B[0;34m\u001B[0m\u001B[0;34m\u001B[0m\u001B[0m\n\u001B[1;32m      3\u001B[0m \u001B[0;34m\u001B[0m\u001B[0m\n\u001B[1;32m      4\u001B[0m \u001B[0;32mwith\u001B[0m \u001B[0mtimer\u001B[0m\u001B[0;34m(\u001B[0m\u001B[0;34m'Elapsed: {}ms'\u001B[0m\u001B[0;34m)\u001B[0m\u001B[0;34m:\u001B[0m\u001B[0;34m\u001B[0m\u001B[0;34m\u001B[0m\u001B[0m\n\u001B[1;32m      5\u001B[0m    \u001B[0mtype\u001B[0m\u001B[0;34m(\u001B[0m\u001B[0ma\u001B[0m\u001B[0;34m.\u001B[0m\u001B[0mattr1\u001B[0m\u001B[0;34m)\u001B[0m\u001B[0;34m\u001B[0m\u001B[0;34m\u001B[0m\u001B[0m\n",
      "\u001B[0;31mNameError\u001B[0m: name 'timer' is not defined"
     ]
    }
   ],
   "source": [
    "with timer('Elapsed: {}ms'):\n",
    "   type(a.attr1)\n",
    "\n",
    "with timer('Elapsed: {}ms'):\n",
    "   type(a.attr1)\n",
    "\n",
    "with timer('Elapsed: {}s'):\n",
    "   a1 = copy.copy(a) # быстро\n",
    "   # print(a1)\n",
    "\n",
    "with timer('Elapsed: {}s'):\n",
    "    # a1 = copy.deepcopy(a) # долго\n",
    "    print(a1)"
   ]
  },
  {
   "cell_type": "code",
   "execution_count": null,
   "metadata": {},
   "outputs": [],
   "source": []
  },
  {
   "cell_type": "code",
   "execution_count": null,
   "metadata": {},
   "outputs": [],
   "source": []
  },
  {
   "cell_type": "code",
   "execution_count": null,
   "metadata": {},
   "outputs": [],
   "source": []
  },
  {
   "cell_type": "markdown",
   "metadata": {},
   "source": [
    "## Data hiding"
   ]
  },
  {
   "cell_type": "code",
   "execution_count": null,
   "metadata": {},
   "outputs": [],
   "source": [
    "class A: # before\n",
    "    \n",
    "    def __init__(self, attr1=None, attr2=None):\n",
    "        self.attr1 = attr1 # protected (client)\n",
    "        self.attr2 = attr2 # protected (client)\n",
    "\n",
    "class A:\n",
    "    \n",
    "    def __init__(self, attr1=None, attr2=None):\n",
    "        self._attr1 = attr1 # protected (client)\n",
    "        self._attr2 = attr2 # protected (client)\n",
    "        self.__attr3 = attr2 # private (client&child)\n",
    "\n",
    "    @property\n",
    "    def attr1(self):\n",
    "        print('get attr1')\n",
    "        return self._attr1\n",
    "        \n",
    "    @attr1.setter\n",
    "    def attr1(self, value):\n",
    "        print('set attr1')\n",
    "        if value > 0:\n",
    "            self._attr1 = value\n",
    "        else:\n",
    "            raise ValueError('Invalid data')\n",
    "       \n",
    "    @property\n",
    "    def attr2(self):\n",
    "        print('get attr2')\n",
    "        return self._attr2\n",
    "\n",
    "a = A(attr2='abc')\n",
    "a.attr1 = 42\n",
    "print(a.attr1)\n",
    "#a.attr1 = -1\n",
    "print(a.attr2)\n",
    "#a.attr2 = 'ABC'\n",
    "#print(a.__attr3)\n",
    "\n",
    "print(a.__dict__)\n",
    "#print(a._A__attr3)\n",
    "print(a._A__attr3)\n",
    "a.__attr3 = 'ABC'\n",
    "print(a.__attr3)\n",
    "print(a.__dict__)\n"
   ]
  },
  {
   "cell_type": "code",
   "execution_count": null,
   "metadata": {},
   "outputs": [],
   "source": [
    "class A: # before\n",
    "    \n",
    "    def __init__(self, attr1=None, attr2=None):\n",
    "        self.attr1 = attr1 # protected (client)\n",
    "        self.attr2 = attr2 # protected (client)\n",
    "\n",
    "class A:\n",
    "    \n",
    "    def __init__(self, attr1=None, attr2=None):\n",
    "        self._attr1 = attr1 # protected (client)\n",
    "        self._attr2 = attr2 # protected (client)\n",
    "        self.__attr3 = attr2 # private (client&child)\n",
    "\n",
    "    @property\n",
    "    def attr1(self):\n",
    "        print('get attr1')\n",
    "        return self._attr1\n",
    "        \n",
    "    @attr1.setter\n",
    "    def attr1(self, value):\n",
    "        print('set attr1')\n",
    "        if value > 0:\n",
    "            self._attr1 = value\n",
    "        else:\n",
    "            raise ValueError('Invalid data')\n",
    "       \n",
    "    @property\n",
    "    def attr2(self):\n",
    "        print('get attr2')\n",
    "        return self._attr2\n",
    "\n",
    "a = A(attr2='abc')\n",
    "a.attr1 = 42\n",
    "print(a.attr1)\n",
    "#a.attr1 = -1\n",
    "print(a.attr2)\n",
    "#a.attr2 = 'ABC'\n",
    "#print(a.__attr3)\n",
    "\n",
    "print(a.__dict__)\n",
    "#print(a._A__attr3)\n",
    "print(a._A__attr3)\n",
    "a.__attr3 = 'ABC'\n",
    "print(a.__attr3)\n",
    "print(a.__dict__)\n"
   ]
  },
  {
   "cell_type": "code",
   "execution_count": null,
   "metadata": {},
   "outputs": [],
   "source": [
    "a._attr2 = 'ABC'\n",
    "print(a._attr2)"
   ]
  },
  {
   "cell_type": "markdown",
   "metadata": {},
   "source": [
    "# Misc topics"
   ]
  },
  {
   "cell_type": "markdown",
   "metadata": {},
   "source": [
    "### slots"
   ]
  },
  {
   "cell_type": "code",
   "execution_count": null,
   "metadata": {},
   "outputs": [],
   "source": [
    "class A:\n",
    "    __slots__ = ['attr1', 'attr2']\n",
    "\n",
    "a = A()\n",
    "a.attr1 = 42\n",
    "a.attr2 = '42'\n",
    "print(a.attr1, a.attr2)"
   ]
  },
  {
   "cell_type": "code",
   "execution_count": null,
   "metadata": {},
   "outputs": [],
   "source": [
    "#a.attr3 = 'abc'"
   ]
  },
  {
   "cell_type": "code",
   "execution_count": null,
   "metadata": {},
   "outputs": [],
   "source": [
    "class A1:\n",
    "    def __init__(self, attr1, attr2):\n",
    "        self.attr1 = attr1\n",
    "        self.attr2 = attr2\n",
    "\n",
    "a1 = A1(42, '42')\n",
    "print(a1.attr1, a1.attr2)"
   ]
  },
  {
   "cell_type": "code",
   "execution_count": null,
   "metadata": {},
   "outputs": [],
   "source": [
    "from sys import getsizeof\n",
    "print(getsizeof(a), a.__slots__, getsizeof(a.__slots__))\n",
    "print(getsizeof(a1), a1.__dict__, getsizeof(a1.__dict__))"
   ]
  },
  {
   "cell_type": "code",
   "execution_count": null,
   "metadata": {},
   "outputs": [],
   "source": [
    "with timer('Elapsed: {}ms'):\n",
    "    for _ in range(10**6):\n",
    "        a = A()\n",
    "        a.attr1 = 42\n",
    "        a.attr2 = '42'\n",
    "        _ = a.attr1, a.attr2\n",
    "\n",
    "with timer('Elapsed: {}ms'):\n",
    "    for _ in range(10**6):\n",
    "        a = A1(42, '42')\n",
    "        _ = a.attr1, a.attr2\n"
   ]
  },
  {
   "cell_type": "code",
   "execution_count": null,
   "metadata": {},
   "outputs": [],
   "source": [
    "# NamedTuple()"
   ]
  },
  {
   "cell_type": "markdown",
   "metadata": {},
   "source": [
    "### Descriptors"
   ]
  },
  {
   "cell_type": "code",
   "execution_count": null,
   "metadata": {},
   "outputs": [],
   "source": [
    "# Technically, descriptor is a class that supports the following methods: __set__[, __get__],__delete__"
   ]
  },
  {
   "cell_type": "code",
   "execution_count": null,
   "metadata": {},
   "outputs": [],
   "source": [
    "class A:\n",
    "    attr1 = (int, 0)\n",
    "    attr2 = (str, '')\n",
    "\n",
    "    def __getattribute__(self, name): # always called\n",
    "        if name == '__dict__':\n",
    "            return super().__getattribute__(name)\n",
    "        obj_attrs = self.__dict__\n",
    "        cls_attrs = vars(type(self))\n",
    "        if name not in obj_attrs:\n",
    "            if name in cls_attrs:\n",
    "                _, default = cls_attrs[name]\n",
    "                self.__dict__[name] = default\n",
    "        return self.__dict__[name]\n",
    "\n",
    "#     def __getattr__(self, name): # lookup fallback method\n",
    "#         print('__getattr__', name)\n",
    "#         obj_attrs = vars(self) # self.__dict__\n",
    "#         cls_attrs = vars(type(self)) # self.__class__.__dict__\n",
    "#         if name not in obj_attrs:\n",
    "#             if name in cls_attrs:\n",
    "#                 _, default = cls_attrs[name]\n",
    "#                 self.__dict__[name] = default\n",
    "#         return self.__dict__[name]\n",
    "    \n",
    "    def __setattr__(self, name, value):\n",
    "        obj_attrs = vars(self)\n",
    "        cls_attrs = vars(type(self))\n",
    "        if name in cls_attrs:\n",
    "            type_, default = cls_attrs[name]\n",
    "            if isinstance(value, type_):\n",
    "                self.__dict__[name] = value\n",
    "            else:\n",
    "                raise ValueError('Invalid type')\n",
    "\n",
    "    def __delattr__(self, name):\n",
    "        del self.__dict__[name]"
   ]
  },
  {
   "cell_type": "code",
   "execution_count": null,
   "metadata": {},
   "outputs": [],
   "source": [
    "a = A()\n",
    "a1 = A()\n",
    "print(a.attr1)\n",
    "print(a.attr2)\n",
    "\n",
    "a.attr1 = 32\n",
    "a.attr2 = '42'\n",
    "\n",
    "a1.attr1 = 33\n",
    "a1.attr2 = 'xyz'\n",
    "\n",
    "print(a.attr1, a1.attr1)\n",
    "print(a.attr2, a1.attr2)"
   ]
  },
  {
   "cell_type": "markdown",
   "metadata": {},
   "source": [
    "\n",
    "Technically, descriptor is a class that supports the following methods: __set__[, __get__],__delete__"
   ]
  },
  {
   "cell_type": "code",
   "execution_count": null,
   "metadata": {},
   "outputs": [],
   "source": [
    "class Attribute:\n",
    "\n",
    "    def __init__(self, initval=None, name='var'):\n",
    "        self.val = initval\n",
    "        self.name = name\n",
    "\n",
    "    def __get__(self, obj, objtype):\n",
    "        #print('Retrieving', self.name, id(obj))\n",
    "        return obj.__dict__[self.name] #self.val\n",
    "\n",
    "    def __set__(self, obj, val):\n",
    "        #print('Updating', self.name, id(obj))\n",
    "        self.val = val\n",
    "        obj.__dict__[self.name] = val\n",
    "        \n",
    "    def __delete__(self, obj):\n",
    "        #print('Deleting', self.name, id(obj))\n",
    "        self.val = None\n",
    "        \n",
    "class A:\n",
    "    attr = Attribute(name='attr')\n",
    "    #attr = 'DEMO'\n",
    " \n",
    "a = A()\n",
    "print(id(a))\n",
    "a.attr = 42\n",
    "print(a.attr)\n",
    "#del a.attr\n",
    "\n",
    "b = A()\n",
    "print(id(b))\n",
    "b.attr = 43\n",
    "print(a.attr)\n",
    "print(b.attr)\n",
    "#del b.attr\n",
    "\n",
    "# a1 = A()\n",
    "# a.attr = 44\n",
    "# a1.attr = 45\n",
    "# print(a.attr)\n",
    "# print(a1.attr)\n",
    "# del a1.attr"
   ]
  },
  {
   "cell_type": "code",
   "execution_count": null,
   "metadata": {},
   "outputs": [],
   "source": [
    "# a.attr1 = '42'\n",
    "a.attr2 = 42"
   ]
  },
  {
   "cell_type": "code",
   "execution_count": 35,
   "metadata": {},
   "outputs": [],
   "source": [
    "class TypeCheckerMixin:\n",
    "\n",
    "    def __setattr__(self, name, value):\n",
    "        obj_attrs = vars(self)\n",
    "        cls_attrs = vars(type(self))\n",
    "        if name in cls_attrs:\n",
    "            type_, default = cls_attrs[name]\n",
    "            if isinstance(value, type_):\n",
    "                self.__dict__[name] = value\n",
    "            else:\n",
    "                raise ValueError('Invalid type')\n",
    "\n",
    "class A(TypeCheckerMixin):\n",
    "    attr1 = (int, 0)\n",
    "    attr2 = (str, '')\n",
    "    attr3 = (bool, False)\n",
    "\n",
    "a = A()\n",
    "\n",
    "a.attr1 = 42\n",
    "#a.attr1 = '42'\n",
    "\n",
    "# But what if we want to check range for ints, regex amtch for strings, isclose() for floats?"
   ]
  },
  {
   "cell_type": "code",
   "execution_count": 34,
   "metadata": {},
   "outputs": [],
   "source": [
    "\n",
    "class Descriptor:\n",
    "    def __init__(self, name=None, default=None):\n",
    "        self.name = name\n",
    "        self.default = default\n",
    "\n",
    "    def __set__(self, instance, value):\n",
    "        instance.__dict__[self.name] = value\n",
    "\n",
    "    def __get__(self, instance, objtype):\n",
    "        if self.name not in instance.__dict__:\n",
    "            instance.__dict__[self.name] = self.default\n",
    "        return instance.__dict__[self.name]\n",
    "\n",
    "    def __delete__(self, instance):\n",
    "        raise AttributeError(\"Can't delete\")\n",
    "\n",
    "\n",
    "class Typed(Descriptor):\n",
    "    type_ = object\n",
    "    extra_methods = []\n",
    "    def __set__(self, instance, value):\n",
    "        if not isinstance(value, self.type_):\n",
    "            raise TypeError('Expected %s' % self.type_)\n",
    "        super().__set__(instance, value)\n",
    "\n",
    "\n",
    "# Specialized types\n",
    "class Numeric(Typed):\n",
    "    extra_methods = ['gt', 'gte']\n",
    "\n",
    "    def gt(instance_value, value):\n",
    "        return instance_value > value\n",
    "\n",
    "    def gte(instance_value, value):\n",
    "        return instance_value >= value\n",
    "\n",
    "class Integer(Numeric):\n",
    "    type_ = int\n",
    "\n",
    "class Float(Numeric):\n",
    "    type_ = float\n",
    "    extra_methods = Numeric.extra_methods + ['isclose']\n",
    "\n",
    "    def isclose(instance_value, value):\n",
    "        import math\n",
    "        return math.isclose(instance_value, value)\n",
    "\n",
    "class String(Typed):\n",
    "    type_ = str\n",
    "    extra_methods = ['startswith', 'endswith', 'contains']\n",
    "\n",
    "    def startswith(instance_value, value):\n",
    "        return instance_value.startswith(value)\n",
    "\n",
    "    def endswith(instance_value, value):\n",
    "        return instance_value.endswith(value)\n",
    "\n",
    "    def contains(instance_value, value):\n",
    "        return value in instance_value"
   ]
  },
  {
   "cell_type": "code",
   "execution_count": 36,
   "metadata": {},
   "outputs": [],
   "source": [
    "class A:\n",
    "    attr1 = Integer(name='attr1')\n",
    "\n",
    "a = A()\n",
    "a.attr1 = 32\n",
    "# a.attr1 = '32'"
   ]
  },
  {
   "cell_type": "code",
   "execution_count": 37,
   "metadata": {},
   "outputs": [],
   "source": [
    "# Value checking\n",
    "class Positive(Descriptor):\n",
    "    def __set__(self, instance, value):\n",
    "        if value < 0:\n",
    "            raise ValueError('Expected >= 0')\n",
    "        super().__set__(instance, value)\n",
    "\n",
    "\n",
    "# More specialized types\n",
    "class PosInteger(Integer, Positive):\n",
    "    pass\n",
    "\n",
    "\n",
    "class PosFloat(Float, Positive):\n",
    "    pass\n",
    "\n",
    "\n",
    "# Length checking\n",
    "class Sized(Descriptor):\n",
    "    def __init__(self, *args, maxlen, **kwargs):\n",
    "        self.maxlen = maxlen\n",
    "        super().__init__(*args, **kwargs)\n",
    "\n",
    "    def __set__(self, instance, value):\n",
    "        if len(value) > self.maxlen:\n",
    "            raise ValueError('Too big')\n",
    "        super().__set__(instance, value)\n",
    "\n",
    "\n",
    "class SizedString(String, Sized):\n",
    "    pass\n",
    "\n",
    "\n",
    "# Pattern matching\n",
    "class Regex(Descriptor):\n",
    "    def __init__(self, *args, pattern, **kwargs):\n",
    "        self.pattern = re.compile(pattern)\n",
    "        super().__init__(*args, **kwargs)\n",
    "\n",
    "    def __set__(self, instance, value):\n",
    "        if not self.pattern.match(value):\n",
    "            raise ValueError('Invalid string')\n",
    "        super().__set__(instance, value)\n",
    "\n",
    "\n",
    "class SizedRegexString(SizedString, Regex):\n",
    "    pass\n"
   ]
  },
  {
   "cell_type": "code",
   "execution_count": 38,
   "metadata": {},
   "outputs": [
    {
     "name": "stdout",
     "output_type": "stream",
     "text": [
      "42\n",
      "32\n",
      "5\n",
      "140073262912624\n",
      "9752288\n",
      "[<class '__main__.PosInteger'>, <class '__main__.Integer'>, <class '__main__.Numeric'>, <class '__main__.Typed'>, <class '__main__.Positive'>, <class '__main__.Descriptor'>, <class 'object'>]\n"
     ]
    }
   ],
   "source": [
    "class A:\n",
    "    attr1 = PosInteger(default=42)\n",
    "    attr2 = PosFloat()\n",
    "    attr3 = SizedRegexString(maxlen=11, pattern='\\d{3}-\\d{7}')\n",
    "\n",
    "a = A()\n",
    "print(a.attr1)\n",
    "a.attr1 = 32\n",
    "print(a.attr1)\n",
    "a.attr2 = 0.1\n",
    "a.attr3 = '067-9372129'\n",
    "\n",
    "a1 = A()\n",
    "a1.attr1 = 5\n",
    "print(a1.attr1)\n",
    "\n",
    "print(id(a.attr1))\n",
    "print(id(a1.attr1))\n",
    "\n",
    "print(PosInteger.mro())"
   ]
  },
  {
   "cell_type": "markdown",
   "metadata": {},
   "source": [
    "### Metaclasses\n"
   ]
  },
  {
   "cell_type": "markdown",
   "metadata": {},
   "source": [
    "Let's debug our code"
   ]
  },
  {
   "cell_type": "code",
   "execution_count": 39,
   "metadata": {},
   "outputs": [],
   "source": [
    "def debug(func):\n",
    "    '''\n",
    "    A simple debugging decorator\n",
    "    '''\n",
    "    msg = func.__qualname__\n",
    "    @wraps(func)\n",
    "    def wrapper(*args, **kwargs):\n",
    "        start = time.time()\n",
    "        result = func(*args, **kwargs)\n",
    "        print(f'{msg} run took {time.time()-start} ms')\n",
    "        return result\n",
    "    return wrapper"
   ]
  },
  {
   "cell_type": "code",
   "execution_count": 40,
   "metadata": {},
   "outputs": [
    {
     "name": "stdout",
     "output_type": "stream",
     "text": [
      "foo run took 1.0007898807525635 ms\n"
     ]
    }
   ],
   "source": [
    "@debug\n",
    "def foo():\n",
    "    time.sleep(1)\n",
    "    \n",
    "foo()"
   ]
  },
  {
   "cell_type": "code",
   "execution_count": 41,
   "metadata": {},
   "outputs": [
    {
     "name": "stdout",
     "output_type": "stream",
     "text": [
      "A.foo run took 0.3248271942138672 ms\n"
     ]
    }
   ],
   "source": [
    "class A():\n",
    "    \n",
    "    @debug\n",
    "    def foo(self):\n",
    "        time.sleep(random.random())\n",
    "\n",
    "a = A()\n",
    "a.foo()"
   ]
  },
  {
   "cell_type": "code",
   "execution_count": 42,
   "metadata": {},
   "outputs": [
    {
     "name": "stdout",
     "output_type": "stream",
     "text": [
      "A.foo run took 0.1924147605895996 ms\n",
      "A.bar run took 0.6133582592010498 ms\n",
      "A.baz run took 0.8557188510894775 ms\n"
     ]
    }
   ],
   "source": [
    "class A():\n",
    "    \n",
    "    @debug\n",
    "    def foo(self):\n",
    "        time.sleep(random.random())\n",
    "        \n",
    "    @debug\n",
    "    def bar(self):\n",
    "        time.sleep(random.random())\n",
    "        \n",
    "    @debug\n",
    "    def baz(self):\n",
    "        time.sleep(random.random())\n",
    "        \n",
    "a = A()\n",
    "a.foo()\n",
    "a.bar()\n",
    "a.baz()"
   ]
  },
  {
   "cell_type": "code",
   "execution_count": 43,
   "metadata": {},
   "outputs": [],
   "source": [
    "def debugmethods(cls):\n",
    "    '''\n",
    "    Apply a decorator to all callable methods of a class\n",
    "    '''\n",
    "    for name, val in vars(cls).items(): # cls.__dict__\n",
    "        if callable(val):\n",
    "            setattr(cls, name, debug(val))\n",
    "\n",
    "    setattr(cls, 'xxx', 42)\n",
    "\n",
    "    return cls\n",
    "\n",
    "# A.foo = debug(A.foo)\n",
    "\n",
    "# # A.bar = debug(A.bar)\n",
    "# # setattr(A, 'bar', debug(A.bar))\n",
    "\n",
    "# A.baz = debug(A.baz)\n",
    "# help(callable)"
   ]
  },
  {
   "cell_type": "code",
   "execution_count": 44,
   "metadata": {},
   "outputs": [
    {
     "name": "stdout",
     "output_type": "stream",
     "text": [
      "A.foo run took 0.8580012321472168 ms\n",
      "A.bar run took 0.4554758071899414 ms\n",
      "A.baz run took 0.2630341053009033 ms\n",
      "42\n"
     ]
    }
   ],
   "source": [
    "@debugmethods\n",
    "class A():\n",
    "    \n",
    "    def foo(self):\n",
    "        time.sleep(random.random())\n",
    "        \n",
    "    def bar(self):\n",
    "        time.sleep(random.random())\n",
    "        \n",
    "    def baz(self):\n",
    "        time.sleep(random.random())\n",
    "        \n",
    "a = A()\n",
    "a.foo()\n",
    "a.bar()\n",
    "a.baz()\n",
    "print(a.xxx)"
   ]
  },
  {
   "cell_type": "code",
   "execution_count": 45,
   "metadata": {},
   "outputs": [],
   "source": [
    "class B(A):\n",
    "    def foo_b(self):\n",
    "        time.sleep(random.random())\n",
    "        \n",
    "    def bar_b(self):\n",
    "        time.sleep(random.random())\n",
    "        \n",
    "    def baz_b(self):\n",
    "        time.sleep(random.random())\n",
    "        \n",
    "b = B()\n",
    "b.foo_b()\n",
    "b.bar_b()\n",
    "b.baz_b()"
   ]
  },
  {
   "cell_type": "markdown",
   "metadata": {},
   "source": [
    "\n",
    "Let's use metaclasses to entire eirarchy with debug decorators"
   ]
  },
  {
   "cell_type": "code",
   "execution_count": 46,
   "metadata": {},
   "outputs": [
    {
     "name": "stdout",
     "output_type": "stream",
     "text": [
      "<class 'type'> 21345136\n",
      "{'attr1': 42, 'attr2': 'abc', '__module__': '__main__', '__dict__': <attribute '__dict__' of 'A' objects>, '__weakref__': <attribute '__weakref__' of 'A' objects>, '__doc__': None}\n",
      "<class '__main__.A'>\n",
      "42\n",
      "abc\n",
      "43\n"
     ]
    }
   ],
   "source": [
    "A = type('A', (object,), {'attr1': 42, 'attr2': 'abc'})\n",
    "\n",
    "print(type(A), id(A))\n",
    "print(A.__dict__)\n",
    "a = A()\n",
    "print(type(a))\n",
    "print(a.attr1)\n",
    "print(a.attr2)\n",
    "a.attr1 = 43\n",
    "print(a.attr1)"
   ]
  },
  {
   "cell_type": "code",
   "execution_count": 47,
   "metadata": {},
   "outputs": [
    {
     "name": "stdout",
     "output_type": "stream",
     "text": [
      "<class 'type'> 21261760\n",
      "{'__module__': '__main__', 'attr1': 42, 'attr2': 'abc', '__dict__': <attribute '__dict__' of 'A' objects>, '__weakref__': <attribute '__weakref__' of 'A' objects>, '__doc__': None}\n",
      "<class '__main__.A'>\n",
      "42\n",
      "abc\n",
      "43\n"
     ]
    }
   ],
   "source": [
    "class A:\n",
    "    attr1 = 42\n",
    "    attr2 = 'abc'\n",
    "    \n",
    "print(type(A), id(A))\n",
    "print(A.__dict__)\n",
    "a = A()\n",
    "print(type(a))\n",
    "print(a.attr1)\n",
    "print(a.attr2)\n",
    "a.attr1 = 43\n",
    "print(a.attr1)"
   ]
  },
  {
   "cell_type": "code",
   "execution_count": 48,
   "metadata": {},
   "outputs": [
    {
     "data": {
      "text/plain": [
       "43"
      ]
     },
     "execution_count": 48,
     "metadata": {},
     "output_type": "execute_result"
    }
   ],
   "source": [
    "A = type('A',\n",
    "         (object,),\n",
    "         {'attr1': 42,\n",
    "          'attr2': 'abc',\n",
    "          'foo': lambda self: self.attr1+1}\n",
    "        )\n",
    "a = A()\n",
    "a.foo()"
   ]
  },
  {
   "cell_type": "markdown",
   "metadata": {},
   "source": [
    "<img src=\"https://blog.ionelmc.ro/2015/02/09/understanding-python-metaclasses/instance-of.png\">"
   ]
  },
  {
   "cell_type": "code",
   "execution_count": null,
   "metadata": {},
   "outputs": [],
   "source": [
    "print(type(a))\n",
    "print(a.__class__)"
   ]
  },
  {
   "cell_type": "code",
   "execution_count": null,
   "metadata": {},
   "outputs": [],
   "source": [
    "print(type(A))\n",
    "print(A.__class__)\n",
    "\n",
    "# not parent, but creator. Compare with\n",
    "print(A.__bases__)"
   ]
  },
  {
   "cell_type": "code",
   "execution_count": null,
   "metadata": {},
   "outputs": [],
   "source": [
    "print(type(type))\n",
    "print(type.__class__)\n",
    "\n",
    "# not parent, but creator. Compare with\n",
    "print(type.__bases__)"
   ]
  },
  {
   "cell_type": "code",
   "execution_count": null,
   "metadata": {},
   "outputs": [],
   "source": [
    "print(type(type(type(type(type(type))))))\n",
    "print(type.__class__)"
   ]
  },
  {
   "cell_type": "code",
   "execution_count": null,
   "metadata": {},
   "outputs": [],
   "source": [
    "class A(metaclass=type):\n",
    "    def foo(self):\n",
    "        print('foo')\n",
    "        \n",
    "a = A()\n",
    "a.foo()\n",
    "# print(a.bar)"
   ]
  },
  {
   "cell_type": "code",
   "execution_count": 49,
   "metadata": {},
   "outputs": [],
   "source": [
    "class mytype(type):\n",
    "    '''\n",
    "    Metaclass default implementation\n",
    "    '''\n",
    "    def __new__(metacls, clsname, bases=None, clsdict=None):\n",
    "        cls = super().__new__(metacls, clsname, bases, clsdict)\n",
    "        cls.bar = 42\n",
    "        setattr(cls, 'objects', 'XYZ')\n",
    "        return cls\n",
    "\n",
    "    # def __init__(cls, name, bases, dct):\n",
    "    #     super().__init__(name, bases, dct)"
   ]
  },
  {
   "cell_type": "code",
   "execution_count": 50,
   "metadata": {},
   "outputs": [
    {
     "name": "stdout",
     "output_type": "stream",
     "text": [
      "foo\n",
      "42\n",
      "foo\n",
      "42\n",
      "XYZ\n"
     ]
    }
   ],
   "source": [
    "class A(metaclass=mytype):\n",
    "    def foo(self):\n",
    "        print('foo')\n",
    "\n",
    "class B(A):\n",
    "    pass\n",
    "\n",
    "a = A()\n",
    "a.foo()\n",
    "print(a.bar)\n",
    "\n",
    "\n",
    "b = B()\n",
    "b.foo()\n",
    "print(b.bar)\n",
    "print(b.objects)"
   ]
  },
  {
   "cell_type": "code",
   "execution_count": 54,
   "metadata": {},
   "outputs": [],
   "source": [
    "class ModelMeta(type):\n",
    "\n",
    "    def __new__(metacls, clsname, bases=None, clsdict=None):\n",
    "        cls = super().__new__(metacls, clsname, bases, clsdict)\n",
    "        extra_attrs = []\n",
    "        for attr_name, attr_value in cls.__dict__.items():\n",
    "            if isinstance(attr_value, Typed):\n",
    "                extra_attrs += [\n",
    "                    (attr_name, extra_method, getattr(attr_value.__class__, extra_method))\n",
    "                    for extra_method in attr_value.extra_methods\n",
    "                ]\n",
    "\n",
    "        for attr, extra, func in extra_attrs:\n",
    "            setattr(\n",
    "                cls,\n",
    "                f'{attr}__{extra}',\n",
    "                lambda self, value, attr=attr, func=func: func(getattr(self, attr), value)\n",
    "            )\n",
    "\n",
    "        return cls\n",
    "\n",
    "class Employee(metaclass=ModelMeta):\n",
    "    first_name = SizedString(name='first_name', default='John', maxlen=32)\n",
    "    last_name = SizedString(name='last_name', maxlen=64)\n",
    "    age = PosInteger(name='age', default=42)\n",
    "    salary = PosFloat(name='salary')\n",
    "    phone_number = SizedRegexString(name='phone_number', maxlen=11, pattern='\\d{3}-\\d{7}')"
   ]
  },
  {
   "cell_type": "code",
   "execution_count": 2,
   "metadata": {},
   "outputs": [
    {
     "name": "stdout",
     "output_type": "stream",
     "text": [
      "Updating attr 140452546327024\n"
     ]
    }
   ],
   "source": [
    "\n",
    "class Attribute:\n",
    "\n",
    "    def __init__(self, initval=None, name='var'):\n",
    "        self.val = initval\n",
    "        self.name = name\n",
    "\n",
    "    def __get__(self, obj, objtype):\n",
    "        print('Retrieving', self.name, id(obj))\n",
    "        return obj.__dict__[self.name]  # self.val\n",
    "\n",
    "    def __set__(self, obj, val):\n",
    "        print('Updating', self.name, id(obj))\n",
    "        self.val = val\n",
    "        obj.__dict__[self.name] = val\n",
    "\n",
    "    def __delete__(self, obj):\n",
    "        # print('Deleting', self.name, id(obj))\n",
    "        self.val = None\n",
    "\n",
    "\n",
    "class A:\n",
    "    attr = Attribute(name='attr')\n",
    "    # attr = 'DEMO'\n",
    "    \n",
    "a = A()\n",
    "a.attr=10"
   ]
  },
  {
   "cell_type": "code",
   "execution_count": 52,
   "metadata": {},
   "outputs": [
    {
     "name": "stdout",
     "output_type": "stream",
     "text": [
      "John\n",
      "True\n",
      "True\n",
      "False\n"
     ]
    }
   ],
   "source": [
    "emp = Employee()\n",
    "print(emp.first_name)\n",
    "print(emp.first_name__startswith('J'))\n",
    "print(emp.age__gte(42))\n",
    "emp.age = 10\n",
    "print(emp.age__gt(42))"
   ]
  },
  {
   "cell_type": "code",
   "execution_count": null,
   "metadata": {},
   "outputs": [],
   "source": [
    "class debugmeta(type):\n",
    "    '''\n",
    "    Metaclass that applies debugging to methods\n",
    "    '''\n",
    "    def __new__(cls, clsname, bases, clsdict):\n",
    "        clsobj = super().__new__(cls, clsname, bases, clsdict)\n",
    "        clsobj = debugmethods(clsobj)\n",
    "        return clsobj\n"
   ]
  },
  {
   "cell_type": "code",
   "execution_count": null,
   "metadata": {},
   "outputs": [],
   "source": [
    "class A(metaclass=debugmeta):\n",
    "    \n",
    "    def foo(self):\n",
    "        time.sleep(random.random())\n",
    "        \n",
    "    def bar(self):\n",
    "        time.sleep(random.random())\n",
    "        \n",
    "    def baz(self):\n",
    "        time.sleep(random.random())\n",
    "        \n",
    "a = A()\n",
    "a.foo()\n",
    "a.bar()\n",
    "a.baz()"
   ]
  },
  {
   "cell_type": "code",
   "execution_count": null,
   "metadata": {},
   "outputs": [],
   "source": [
    "class B(A):\n",
    "    def foo_b(self):\n",
    "        time.sleep(random.random())\n",
    "        \n",
    "    def bar_b(self):\n",
    "        time.sleep(random.random())\n",
    "        \n",
    "    def baz_b(self):\n",
    "        time.sleep(random.random())\n",
    "        \n",
    "b = B()\n",
    "b.foo_b()\n",
    "b.bar_b()\n",
    "b.baz_b()"
   ]
  }
 ],
 "metadata": {
  "kernelspec": {
   "display_name": "Python 3",
   "language": "python",
   "name": "python3"
  },
  "language_info": {
   "codemirror_mode": {
    "name": "ipython",
    "version": 3
   },
   "file_extension": ".py",
   "mimetype": "text/x-python",
   "name": "python",
   "nbconvert_exporter": "python",
   "pygments_lexer": "ipython3",
   "version": "3.8.2"
  }
 },
 "nbformat": 4,
 "nbformat_minor": 4
}