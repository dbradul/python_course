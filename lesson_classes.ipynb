{
 "cells": [
  {
   "cell_type": "code",
   "execution_count": 4,
   "metadata": {},
   "outputs": [],
   "source": [
    "import re\n",
    "import time\n",
    "import copy\n",
    "import math\n",
    "import json\n",
    "import yaml\n",
    "import random\n",
    "import itertools\n",
    "import dicttoxml, xmltodict\n",
    "from enum import Enum\n",
    "\n",
    "from pprint import pprint as pp\n",
    "from functools import wraps, partial"
   ]
  },
  {
   "cell_type": "markdown",
   "metadata": {},
   "source": [
    "## Motivation\n",
    "\n",
    "Combine data + logic in one place using language syntax.\n",
    "\n",
    "Express high-level abstraction from problem domain: Student, Employee, Schedule, Vehicle, Invoice, Item, Patient, etc"
   ]
  },
  {
   "cell_type": "markdown",
   "metadata": {},
   "source": [
    "#### C-style (procedural)"
   ]
  },
  {
   "cell_type": "code",
   "execution_count": 5,
   "metadata": {},
   "outputs": [
    {
     "name": "stdout",
     "output_type": "stream",
     "text": [
      "XS-100 XS-100 - SN: 1 moving up...\n",
      "XS-200 XS-200 - SN: 2 moving down...\n"
     ]
    }
   ],
   "source": [
    "DRONE_MOVE_FORWARD = 1\n",
    "DRONE_MOVE_BACKWARD = 2\n",
    "DRONE_MOVE_UP = 3\n",
    "DRONE_MOVE_DOWN = 4\n",
    "DRONE_MAX_ALTITUDE = 1000\n",
    "\n",
    "last_serial_number = 1\n",
    "\n",
    "drone = {\n",
    "    'model': '',\n",
    "    'serial_number': '',\n",
    "    'current_payload': 0,\n",
    "    'current_speed': 0,\n",
    "    'current_altitude': 0\n",
    "}\n",
    "\n",
    "def drone_init(drone, model, payload, current_altitude=0):\n",
    "    global last_serial_number\n",
    "    drone['model'] = model\n",
    "    drone['current_payload'] = payload\n",
    "    drone['serial_number'] = f'{drone[\"model\"]} - SN: {last_serial_number}'\n",
    "    drone['current_altitude'] = current_altitude\n",
    "    drone['driver'] = ...\n",
    "    last_serial_number += 1\n",
    "\n",
    "def drone_move(drone, speed, direction):\n",
    "    # send low-leer commadn to drone['driver']\n",
    "    pass\n",
    "    \n",
    "def drone_move_up(drone, speed):\n",
    "    print(drone['model'], drone['serial_number'], 'moving up...')\n",
    "    if drone['current_altitude'] == DRONE_MAX_ALTITUDE:\n",
    "        print ('ERROR: Can\\'t move up')\n",
    "    drone_move(drone, speed, DRONE_MOVE_UP)\n",
    "\n",
    "def drone_move_down(drone, speed):\n",
    "    print(drone['model'], drone['serial_number'], 'moving down...')\n",
    "    if drone['current_altitude'] == 0:\n",
    "        print ('ERROR: Can\\'t move down')\n",
    "    drone_move(drone, speed, DRONE_MOVE_DOWN)\n",
    "    \n",
    "    \n",
    "#####\n",
    "dr1 = drone.copy()\n",
    "drone_init(dr1, 'XS-100', 10)\n",
    "\n",
    "dr2 = drone.copy()\n",
    "drone_init(dr2, 'XS-200', 20, current_altitude=100)\n",
    "\n",
    "drone_move_up(dr1, 10)\n",
    "drone_move_down(dr2, 5)"
   ]
  },
  {
   "cell_type": "markdown",
   "metadata": {},
   "source": [
    "#### Classes and object is just a syntactic sugar for the above example "
   ]
  },
  {
   "cell_type": "code",
   "execution_count": 8,
   "metadata": {},
   "outputs": [
    {
     "name": "stdout",
     "output_type": "stream",
     "text": [
      "__init__: XS-100 10 100\n",
      "__init__: XS-200 20 0\n",
      "XS-100 XS-100 - SN: 0 moving down...\n",
      "XS-200 XS-200 - SN: 1 moving down...\n",
      "ERROR: Can't move down\n",
      "__init__: X-42 10 5\n",
      "__init__: X-42 10 5\n",
      "__init__: X-42 10 5\n",
      "__init__: X-42 10 5\n",
      "__init__: X-42 10 5\n",
      "__init__: X-42 10 5\n",
      "__init__: X-42 10 5\n",
      "__init__: X-42 10 5\n",
      "__init__: X-42 10 5\n",
      "__init__: X-42 10 5\n",
      "__init__: X-42 10 5\n",
      "__init__: X-42 10 5\n",
      "__init__: X-42 10 5\n",
      "__init__: X-42 10 5\n",
      "__init__: X-42 10 5\n",
      "__init__: X-42 10 5\n",
      "__init__: X-42 10 5\n",
      "__init__: X-42 10 5\n",
      "__init__: X-42 10 5\n",
      "__init__: X-42 10 5\n",
      "__init__: X-42 10 5\n",
      "__init__: X-42 10 5\n",
      "__init__: X-42 10 5\n",
      "__init__: X-42 10 5\n",
      "__init__: X-42 10 5\n",
      "__init__: X-42 10 5\n",
      "__init__: X-42 10 5\n",
      "__init__: X-42 10 5\n",
      "__init__: X-42 10 5\n",
      "__init__: X-42 10 5\n",
      "__init__: X-42 10 5\n",
      "__init__: X-42 10 5\n",
      "__init__: X-42 10 5\n",
      "__init__: X-42 10 5\n",
      "__init__: X-42 10 5\n",
      "__init__: X-42 10 5\n",
      "__init__: X-42 10 5\n",
      "__init__: X-42 10 5\n",
      "__init__: X-42 10 5\n",
      "__init__: X-42 10 5\n",
      "__init__: X-42 10 5\n",
      "__init__: X-42 10 5\n",
      "X-42 - SN: 2\n",
      "{'model': 'XS-100', 'current_payload': 10, 'serial_number': 'XS-100 - SN: 0', 'current_altitude': 100, 'current_speed': 0, 'driver': Ellipsis, 'engines': ['Eng1', 'Eng2', 'Eng2', 'Eng1']}\n",
      "{'__module__': '__main__', 'MoveDirection': <enum 'MoveDirection'>, 'MAX_SPEED': 100, 'MAX_ALTITUDE': 1000, 'MAX_PAYLOAD': 10, 'LIST_ENGINES': ('Eng1', 'Eng2'), 'NUM_ENGINES': 4, 'last_serial_number': 44, '__init__': <function Drone.__init__ at 0x7ff2d1eb1ee0>, '_move': <function Drone._move at 0x7ff2d1eb1dc0>, 'move_backward': <function Drone.move_backward at 0x7ff2d1eb1af0>, 'move_down': <function Drone.move_down at 0x7ff2d1eb1a60>, 'generate_fleet': <classmethod object at 0x7ff2d1ebaf40>, '__dict__': <attribute '__dict__' of 'Drone' objects>, '__weakref__': <attribute '__weakref__' of 'Drone' objects>, '__doc__': None}\n",
      "['Eng1', 'Eng2', 'Eng2', 'Eng1']\n",
      "['Eng2', 'Eng1', 'Eng2', 'Eng1']\n",
      "__init__: X-42 10 5\n",
      "PowerDrone: ['Eng1', 'Eng1', 'Eng1', 'Eng2', 'Eng2', 'Eng1', 'Eng1', 'Eng1', 'Eng1', 'Eng1', 'Eng1', 'Eng1', 'Eng2', 'Eng2', 'Eng1', 'Eng2', 'Eng1', 'Eng2', 'Eng2', 'Eng2', 'Eng1', 'Eng2', 'Eng1', 'Eng1', 'Eng2', 'Eng1', 'Eng2', 'Eng1', 'Eng1', 'Eng2', 'Eng2', 'Eng1', 'Eng1', 'Eng2', 'Eng1', 'Eng1', 'Eng2', 'Eng1', 'Eng2', 'Eng2', 'Eng2', 'Eng2', 'Eng1', 'Eng2', 'Eng1', 'Eng2', 'Eng2', 'Eng1', 'Eng2', 'Eng1', 'Eng1', 'Eng1', 'Eng1', 'Eng1', 'Eng1', 'Eng1', 'Eng2', 'Eng2', 'Eng1', 'Eng2', 'Eng1', 'Eng1', 'Eng2', 'Eng1', 'Eng2']\n",
      "__init__: X-42 10 5\n",
      "Drone: ['Eng1', 'Eng2', 'Eng1', 'Eng2']\n"
     ]
    }
   ],
   "source": [
    "\n",
    "class Drone:\n",
    "    \n",
    "    class MoveDirection(Enum):\n",
    "        FORWARD = 1\n",
    "        BACKWARD = 2\n",
    "        UP = 3\n",
    "        DOWN = 4\n",
    "        \n",
    "    MAX_SPEED = 100\n",
    "    MAX_ALTITUDE = 1000\n",
    "    MAX_PAYLOAD = 10\n",
    "    LIST_ENGINES = ('Eng1', 'Eng2')\n",
    "    NUM_ENGINES = 4\n",
    "    last_serial_number = 0\n",
    "    \n",
    "    def __init__(self, model, current_payload, current_altitude=0):\n",
    "        print('__init__:', model, current_payload, current_altitude)\n",
    "#         global last_serial_number\n",
    "        self.model = model\n",
    "        self.current_payload = current_payload\n",
    "        self.serial_number = f'{self.model} - SN: {Drone.last_serial_number}'\n",
    "        self.current_altitude = current_altitude\n",
    "        self.current_speed = 0\n",
    "        self.driver = ...\n",
    "        self.engines = random.choices(self.LIST_ENGINES, k=self.NUM_ENGINES)\n",
    "        Drone.last_serial_number += 1\n",
    "\n",
    "    def _move(self, speed, direction):\n",
    "        # send low-evel commadn to self.driver\n",
    "        pass\n",
    "\n",
    "    def move_backward(self, speed):\n",
    "        print(self.model)\n",
    "        self._move(speed, self.MoveDirection.BACKWARD)\n",
    "        \n",
    "    def move_down(self, speed):\n",
    "        print(self.model, self.serial_number, 'moving down...')\n",
    "        if self.current_altitude == 0:\n",
    "            print ('ERROR: Can\\'t move down')\n",
    "        self._move(speed, self.MoveDirection.DOWN)\n",
    "        \n",
    "    @staticmethod\n",
    "    def generate_fleet(count=42):\n",
    "        return [\n",
    "            Drone('X-42', 10, 5)\n",
    "            for _ in range(count)\n",
    "        ]\n",
    "    \n",
    "    @classmethod\n",
    "    def generate_fleet(cls, count=42):\n",
    "        return [\n",
    "            cls('X-42', 10, 5)\n",
    "            for _ in range(count)\n",
    "        ]\n",
    "\n",
    "\n",
    "class PowerDrone(Drone):\n",
    "    NUM_ENGINES = 65\n",
    "\n",
    "#     def _move(self, speed, direction):\n",
    "#         speed = speed * 1.2\n",
    "#         super()._move(speed, direction)\n",
    "        \n",
    "        \n",
    "        \n",
    "dr1 = Drone('XS-100', 10, current_altitude=100) # __init__\n",
    "dr2 = Drone('XS-200', 20)\n",
    "\n",
    "dr1.move_down(10)\n",
    "dr2.move_down(10)\n",
    "\n",
    "# print(dr1.current_speed)\n",
    "\n",
    "fleet = Drone.generate_fleet(42)\n",
    "print(fleet[0].serial_number)\n",
    "print(dr1.__dict__)\n",
    "print(Drone.__dict__)\n",
    "\n",
    "print(dr1.engines)\n",
    "print(dr2.engines)\n",
    "\n",
    "\n",
    "# dr3 = PowerDrone('X-42', 10, 5)\n",
    "\n",
    "fleet = PowerDrone.generate_fleet(1)\n",
    "print('PowerDrone:', fleet[0].engines)\n",
    "\n",
    "fleet = Drone.generate_fleet(1)\n",
    "print('Drone:', fleet[0].engines)"
   ]
  },
  {
   "cell_type": "markdown",
   "metadata": {},
   "source": [
    "\n",
    "# Basics"
   ]
  },
  {
   "cell_type": "markdown",
   "metadata": {},
   "source": [
    "<img src=\"https://i.imgur.com/x2LZO0V.png\">"
   ]
  },
  {
   "cell_type": "markdown",
   "metadata": {},
   "source": [
    "We can manually assign attributes using monkey patching so that all instances have the same (!) set of attributes"
   ]
  },
  {
   "cell_type": "code",
   "execution_count": 44,
   "metadata": {},
   "outputs": [
    {
     "name": "stdout",
     "output_type": "stream",
     "text": [
      "<__main__.Drone object at 0x7f7d0851a1c0>\n",
      "<__main__.Drone object at 0x7f7d0851a940>\n",
      "140174987207104\n",
      "140174987207104\n",
      "9786176\n",
      "140175084004272\n",
      "['MAX_ALTITUDE', 'MAX_PAYLOAD', 'MAX_SPEED', 'MoveDirection', '__class__', '__delattr__', '__dict__', '__dir__', '__doc__', '__eq__', '__format__', '__ge__', '__getattribute__', '__gt__', '__hash__', '__init__', '__init_subclass__', '__le__', '__lt__', '__module__', '__ne__', '__new__', '__reduce__', '__reduce_ex__', '__repr__', '__setattr__', '__sizeof__', '__str__', '__subclasshook__', '__weakref__', '_move', 'current_altitude', 'current_payload', 'current_speed', 'driver', 'model', 'move_backward', 'move_down', 'serial_number']\n",
      "{'model': 'XS-100', 'current_payload': 10, 'serial_number': 'XS-100 - SN: 3', 'current_altitude': 100, 'current_speed': 0, 'driver': Ellipsis}\n",
      "{'model': 'XS-200', 'current_payload': 20, 'serial_number': 'XS-200 - SN: 4', 'current_altitude': 0, 'current_speed': 0, 'driver': Ellipsis}\n",
      "XS-100 - SN: 3\n",
      "XS-100 - SN: 3\n"
     ]
    }
   ],
   "source": [
    "print(dr1)\n",
    "print(dr2)\n",
    "\n",
    "print(0x7f7d0851a1c0)\n",
    "print(id(dr1))\n",
    "print(id(42))\n",
    "print(id('abc'))\n",
    "\n",
    "\n",
    "print(dr1.__dict__)\n",
    "print(dr2.__dict__)\n",
    "\n",
    "print(dr1.serial_number)\n",
    "print(dr1.__dict__[\"serial_number\"])\n"
   ]
  },
  {
   "cell_type": "code",
   "execution_count": 46,
   "metadata": {},
   "outputs": [
    {
     "data": {
      "text/plain": [
       "['MAX_ALTITUDE',\n",
       " 'MAX_PAYLOAD',\n",
       " 'MAX_SPEED',\n",
       " 'MoveDirection',\n",
       " '__class__',\n",
       " '__delattr__',\n",
       " '__dict__',\n",
       " '__dir__',\n",
       " '__doc__',\n",
       " '__eq__',\n",
       " '__format__',\n",
       " '__ge__',\n",
       " '__getattribute__',\n",
       " '__gt__',\n",
       " '__hash__',\n",
       " '__init__',\n",
       " '__init_subclass__',\n",
       " '__le__',\n",
       " '__lt__',\n",
       " '__module__',\n",
       " '__ne__',\n",
       " '__new__',\n",
       " '__reduce__',\n",
       " '__reduce_ex__',\n",
       " '__repr__',\n",
       " '__setattr__',\n",
       " '__sizeof__',\n",
       " '__str__',\n",
       " '__subclasshook__',\n",
       " '__weakref__',\n",
       " '_move',\n",
       " 'current_altitude',\n",
       " 'current_payload',\n",
       " 'current_speed',\n",
       " 'driver',\n",
       " 'model',\n",
       " 'move_backward',\n",
       " 'move_down',\n",
       " 'serial_number']"
      ]
     },
     "execution_count": 46,
     "metadata": {},
     "output_type": "execute_result"
    }
   ],
   "source": [
    "(dir(dr1))"
   ]
  },
  {
   "cell_type": "code",
   "execution_count": 41,
   "metadata": {},
   "outputs": [
    {
     "data": {
      "text/plain": [
       "['MAX_ALTITUDE',\n",
       " 'MAX_PAYLOAD',\n",
       " 'MAX_SPEED',\n",
       " 'MoveDirection',\n",
       " '__class__',\n",
       " '__delattr__',\n",
       " '__dict__',\n",
       " '__dir__',\n",
       " '__doc__',\n",
       " '__eq__',\n",
       " '__format__',\n",
       " '__ge__',\n",
       " '__getattribute__',\n",
       " '__gt__',\n",
       " '__hash__',\n",
       " '__init__',\n",
       " '__init_subclass__',\n",
       " '__le__',\n",
       " '__lt__',\n",
       " '__module__',\n",
       " '__ne__',\n",
       " '__new__',\n",
       " '__reduce__',\n",
       " '__reduce_ex__',\n",
       " '__repr__',\n",
       " '__setattr__',\n",
       " '__sizeof__',\n",
       " '__str__',\n",
       " '__subclasshook__',\n",
       " '__weakref__',\n",
       " '_move',\n",
       " 'move_backward',\n",
       " 'move_down']"
      ]
     },
     "execution_count": 41,
     "metadata": {},
     "output_type": "execute_result"
    }
   ],
   "source": [
    "dir(Drone)"
   ]
  },
  {
   "cell_type": "code",
   "execution_count": 54,
   "metadata": {},
   "outputs": [
    {
     "name": "stdout",
     "output_type": "stream",
     "text": [
      "XS-100\n"
     ]
    }
   ],
   "source": [
    "dr1.move_backward(10)  # Drone.move_backward(dr1, 10)"
   ]
  },
  {
   "cell_type": "code",
   "execution_count": 56,
   "metadata": {},
   "outputs": [
    {
     "data": {
      "text/plain": [
       "{'model': 'XS-100',\n",
       " 'current_payload': 10,\n",
       " 'serial_number': 'XS-100 - SN: 3',\n",
       " 'current_altitude': 100,\n",
       " 'current_speed': 0,\n",
       " 'driver': Ellipsis}"
      ]
     },
     "execution_count": 56,
     "metadata": {},
     "output_type": "execute_result"
    }
   ],
   "source": [
    "dr1.__dict__"
   ]
  },
  {
   "cell_type": "code",
   "execution_count": 58,
   "metadata": {},
   "outputs": [
    {
     "data": {
      "text/plain": [
       "mappingproxy({'__module__': '__main__',\n",
       "              'MoveDirection': <enum 'MoveDirection'>,\n",
       "              'MAX_SPEED': 100,\n",
       "              'MAX_ALTITUDE': 1000,\n",
       "              'MAX_PAYLOAD': 10,\n",
       "              '__init__': <function __main__.Drone.__init__(self, model, current_payload, current_altitude=0)>,\n",
       "              '_move': <function __main__.Drone._move(self, speed, direction)>,\n",
       "              'move_backward': <function __main__.Drone.move_backward(self, speed)>,\n",
       "              'move_down': <function __main__.Drone.move_down(self, speed)>,\n",
       "              '__dict__': <attribute '__dict__' of 'Drone' objects>,\n",
       "              '__weakref__': <attribute '__weakref__' of 'Drone' objects>,\n",
       "              '__doc__': None})"
      ]
     },
     "execution_count": 58,
     "metadata": {},
     "output_type": "execute_result"
    }
   ],
   "source": [
    "id(Drone)\n",
    "Drone.__dict__"
   ]
  },
  {
   "cell_type": "code",
   "execution_count": 64,
   "metadata": {},
   "outputs": [
    {
     "name": "stdout",
     "output_type": "stream",
     "text": [
      "XS-100 XS-200 140174987309552 140174987312368\n",
      "140174987101744 140174987243632\n",
      "140174987512272 140174987512272\n"
     ]
    }
   ],
   "source": [
    "print(dr1.model, dr2.model, id(dr1.model), id(dr2.model))\n",
    "print(id(dr1.serial_number), id(dr2.serial_number))\n",
    "print(id(dr1.MAX_ALTITUDE), id(dr2.MAX_ALTITUDE))"
   ]
  },
  {
   "cell_type": "code",
   "execution_count": 2,
   "metadata": {},
   "outputs": [
    {
     "name": "stdout",
     "output_type": "stream",
     "text": [
      "XS-100 10\n",
      "XS-200 20\n"
     ]
    }
   ],
   "source": [
    "# Monkey patching\n",
    "class Drone:\n",
    "    pass\n",
    "\n",
    "dr1 = Drone()\n",
    "dr1.model = 'XS-100'\n",
    "dr1.payload = 10\n",
    "\n",
    "dr2 = Drone()\n",
    "dr2.model = 'XS-200'\n",
    "dr2.payload = 20\n",
    "...\n",
    "\n",
    "drones = []\n",
    "drones.append(dr1)\n",
    "drones.append(dr2)\n",
    "\n",
    "for drone in drones:\n",
    "    print(drone.model, drone.payload)\n",
    "#     drone.move_up(...)"
   ]
  },
  {
   "cell_type": "markdown",
   "metadata": {},
   "source": [
    " But it is more convenient to do it 1 place if we know, that it will be called for each (!) new instance.\n",
    " This place is magic method __init__, used as constructor where object attributes are assigned"
   ]
  },
  {
   "cell_type": "code",
   "execution_count": 38,
   "metadata": {},
   "outputs": [
    {
     "name": "stdout",
     "output_type": "stream",
     "text": [
      "INIT 139722656892480\n",
      "INIT 139722656892384\n",
      "Object id: 139722656892480\n",
      "XS-100\n",
      "XS-100\n"
     ]
    }
   ],
   "source": [
    "class Drone:\n",
    "    \n",
    "    class MoveDirection(Enum):\n",
    "        FORWARD = 1\n",
    "        BACKWARD = 2\n",
    "        UP = 3\n",
    "        DOWN = 4\n",
    "        \n",
    "    NUM_OF_ENGINES = 4\n",
    "    \n",
    "    def __init__(self, model, payload):\n",
    "        print('INIT', id(self))\n",
    "        self.model = model\n",
    "        self.payload = payload\n",
    "        \n",
    "    def _move(self, speed, direction):\n",
    "        pass\n",
    "        \n",
    "    def move_backward(self, speed):\n",
    "        print(self.model)\n",
    "        self._move(speed, self.MoveDirection.BACKWARD)\n",
    "        \n",
    "    def move_down(self, speed):\n",
    "        if self.current_altitude == 0:\n",
    "            print ('ERROR: Can\\'t move down')\n",
    "        self._move(speed, self.MoveDirection.DOWN)\n",
    "\n",
    "\n",
    "\n",
    "        \n",
    "dr1 = Drone('XS-100', 10)\n",
    "dr2 = Drone('XS-150', 20)\n",
    "\n",
    "print('Object id:', id(dr1))\n",
    "dr1.move_backward(10) \n",
    "Drone.move_backward(dr1, 10) \n"
   ]
  },
  {
   "cell_type": "markdown",
   "metadata": {},
   "source": [
    "# Inheritance\n",
    "\n",
    "Better structuring by inheritance: common data and logic is placed in one place (base class)"
   ]
  },
  {
   "cell_type": "code",
   "execution_count": 21,
   "metadata": {},
   "outputs": [
    {
     "name": "stdout",
     "output_type": "stream",
     "text": [
      "10 20\n",
      "11 22\n",
      "Rendered with color RED\n",
      "Scaled with scale_factor 0.5\n",
      "(1, 1) 1 1 20 10\n",
      "10 20\n",
      "4 2\n",
      "Scaled with scale_factor 1.5\n",
      "<__main__.Parallelogram object at 0x7ff2d1e680d0>\n",
      "Parallelogram: 20, 10, 42\n"
     ]
    }
   ],
   "source": [
    "import random \n",
    "\n",
    "class Shape:  # class Shape(object)\n",
    "    \n",
    "    def __init__(self, x, y):\n",
    "        self.x = x\n",
    "        self.y = y\n",
    "    \n",
    "    def render(self, color):\n",
    "        print(f'Rendered with color {color}')\n",
    "        # ...\n",
    "\n",
    "    def scale(self, scale_factor):\n",
    "        print(f'Scaled with scale_factor {scale_factor}')\n",
    "        # ...\n",
    "        \n",
    "    def square(self):\n",
    "        raise NotImplementedError('Not Implemented method')\n",
    "\n",
    "    def centre(self):\n",
    "        return self.x, self.y\n",
    "    \n",
    "    def greater_than(self, other):\n",
    "        return self.square() < other.square()\n",
    "    \n",
    "    def __gt__(self, other):\n",
    "        return self.greater_than(other)\n",
    "    \n",
    "    def __contains__(self, other):\n",
    "        return True\n",
    "    \n",
    "\n",
    "class Circle(Shape):\n",
    "    \n",
    "    def __init__(self, x, y, radius):\n",
    "        super().__init__(x, y) # Shape.__init__(self, x, y)\n",
    "        self.radius = radius\n",
    "\n",
    "    def square(self):\n",
    "        pass\n",
    "        \n",
    "\n",
    "class Rectangle(Shape):\n",
    "    \n",
    "    def __init__(self, x, y, height, width):\n",
    "        super().__init__(x, y) \n",
    "        self.height = height\n",
    "        self.width = width\n",
    "\n",
    "    def print_sides(self):\n",
    "        print(self.height, self.width) \n",
    "        \n",
    "        \n",
    "class Parallelogram(Rectangle):\n",
    "\n",
    "    def __init__(self, x, y, height, width, angle):\n",
    "        super().__init__(x, y, height, width) \n",
    "        self.angle = angle\n",
    "\n",
    "    def print_angle(self):\n",
    "        print(self.angle)\n",
    "        \n",
    "    def __str__(self):\n",
    "        result = super().__str__()\n",
    "        return result + f'\\nParallelogram: {self.width}, {self.height}, {self.angle}'\n",
    "\n",
    "\n",
    "    \n",
    "s = Shape(10, 20)\n",
    "print(s.x, s.y)\n",
    "s2 = Shape(11, 22)\n",
    "print(s2.x, s2.y)\n",
    "\n",
    "s.render('RED')\n",
    "s2.scale(0.5)\n",
    "\n",
    "\n",
    "r = Rectangle(1, 1, 10, 20)\n",
    "print(r.centre(), r.x, r.y, r.width, r.height)\n",
    "r.print_sides()\n",
    "\n",
    "c = Circle(4, 2, 42)\n",
    "print(c.x, c.y)\n",
    "\n",
    "c.scale(1.5)\n",
    "\n",
    "p = Parallelogram(1, 1, 10, 20, 42)\n",
    "p2 = Parallelogram(1, 1, 10, 20, 42)\n",
    "\n",
    "print(p)\n",
    "# print(p in p2)\n",
    "# print(p.contains(p2))\n",
    "# print(p.greater_than(p2))"
   ]
  },
  {
   "cell_type": "code",
   "execution_count": 36,
   "metadata": {},
   "outputs": [
    {
     "data": {
      "text/plain": [
       "'4242'"
      ]
     },
     "execution_count": 36,
     "metadata": {},
     "output_type": "execute_result"
    }
   ],
   "source": [
    "type(42)\n",
    "42 + 42 \n",
    "\"42\" + \"42\"\n",
    "(42).__add__(42)\n",
    "('42').__add__('42')"
   ]
  },
  {
   "cell_type": "markdown",
   "metadata": {},
   "source": [
    "Полиморфизм = в произв. переопределить метод родительского класса"
   ]
  },
  {
   "cell_type": "code",
   "execution_count": 100,
   "metadata": {},
   "outputs": [
    {
     "data": {
      "text/plain": [
       "['__class__',\n",
       " '__delattr__',\n",
       " '__dict__',\n",
       " '__dir__',\n",
       " '__doc__',\n",
       " '__eq__',\n",
       " '__format__',\n",
       " '__ge__',\n",
       " '__getattribute__',\n",
       " '__gt__',\n",
       " '__hash__',\n",
       " '__init__',\n",
       " '__init_subclass__',\n",
       " '__le__',\n",
       " '__lt__',\n",
       " '__module__',\n",
       " '__ne__',\n",
       " '__new__',\n",
       " '__reduce__',\n",
       " '__reduce_ex__',\n",
       " '__repr__',\n",
       " '__setattr__',\n",
       " '__sizeof__',\n",
       " '__str__',\n",
       " '__subclasshook__',\n",
       " '__weakref__',\n",
       " 'centre',\n",
       " 'print_sides',\n",
       " 'render',\n",
       " 'scale',\n",
       " 'square']"
      ]
     },
     "execution_count": 100,
     "metadata": {},
     "output_type": "execute_result"
    }
   ],
   "source": [
    "dir(Rectangle)"
   ]
  },
  {
   "cell_type": "markdown",
   "metadata": {},
   "source": [
    "### Everyting is object\n",
    "Magic methods and attributes are inherited from object root class"
   ]
  },
  {
   "cell_type": "code",
   "execution_count": 87,
   "metadata": {},
   "outputs": [
    {
     "name": "stdout",
     "output_type": "stream",
     "text": [
      "['__class__', '__delattr__', '__dir__', '__doc__', '__eq__', '__format__', '__ge__', '__getattribute__', '__gt__', '__hash__', '__init__', '__init_subclass__', '__le__', '__lt__', '__ne__', '__new__', '__reduce__', '__reduce_ex__', '__repr__', '__setattr__', '__sizeof__', '__str__', '__subclasshook__']\n"
     ]
    }
   ],
   "source": [
    "# __dict__\n",
    "print(dir(object()))"
   ]
  },
  {
   "cell_type": "code",
   "execution_count": 11,
   "metadata": {},
   "outputs": [
    {
     "name": "stdout",
     "output_type": "stream",
     "text": [
      "TeamLeader\n"
     ]
    },
    {
     "data": {
      "text/plain": [
       "[__main__.CTO,\n",
       " __main__.TeamLeader,\n",
       " __main__.Architect,\n",
       " __main__.TeamMember,\n",
       " __main__.Person,\n",
       " object]"
      ]
     },
     "execution_count": 11,
     "metadata": {},
     "output_type": "execute_result"
    }
   ],
   "source": [
    "\"\"\"\n",
    "  Multiple Inheritance introduces diamond problem\n",
    "\"\"\"\n",
    "\n",
    "class Person:\n",
    "    def __init__(self, first_name, last_name, **kwargs): \n",
    "        self.first_name = first_name \n",
    "        self.last_name = last_name \n",
    "        \n",
    "\n",
    "class TeamMember(Person):                 \n",
    "    def __init__(self, first_name, last_name, **kwargs):\n",
    "        super().__init__(first_name, last_name, **kwargs)\n",
    "        self.salary = kwargs.get(\"salary\", 0)\n",
    "        self.jobtitle = kwargs.get(\"jobtitle\", 'N/A')\n",
    "\n",
    "\n",
    "class Architect(TeamMember):                 \n",
    "    def __init__(self, first_name, last_name, **kwargs):\n",
    "        super().__init__(first_name, last_name, **kwargs)\n",
    "        self.certificates = kwargs.get(\"certificates\", [])\n",
    "        self.jobtitle = 'Architect'\n",
    "\n",
    "        \n",
    "class TeamLeader(TeamMember):                 \n",
    "    def __init__(self, first_name, last_name, **kwargs):\n",
    "        super().__init__(first_name, last_name, **kwargs)\n",
    "        self.soft_skills = kwargs.get(\"soft_skills\", [])\n",
    "        self.jobtitle = 'TeamLeader'\n",
    "        \n",
    "    def __str__(self):\n",
    "        return 'TL'\n",
    "\n",
    "class CTO(TeamLeader, Architect):                 \n",
    "    def __init__(self, first_name, last_name, **kwargs):\n",
    "        super().__init__(first_name, last_name, **kwargs)\n",
    "        self.projects = kwargs.get(\"projects\")\n",
    "        self.soft_skills += ['Leadership', 'EQ']\n",
    "        self.certificates += ['ITIL', 'PMA']\n",
    "        #self.jobtitle = 'CTO'\n",
    "\n",
    "        \n",
    "cto = CTO(\n",
    "    first_name='Jake',\n",
    "    last_name='Smith',\n",
    "    salary=250000\n",
    ")\n",
    "\n",
    "print(cto.jobtitle)\n",
    "\n",
    "CTO.mro()"
   ]
  },
  {
   "cell_type": "markdown",
   "metadata": {},
   "source": [
    "#### Multiple inheritance is often used to 'mix in' additional behaviour"
   ]
  },
  {
   "cell_type": "code",
   "execution_count": 82,
   "metadata": {},
   "outputs": [],
   "source": [
    "class JsonMixin:\n",
    "    \n",
    "    MAX_PRINT_SYMBOLS = 20\n",
    "    \n",
    "    def to_json(self):\n",
    "        return json.dumps(self.__dict__)\n",
    "    \n",
    "    def __str__(self):\n",
    "        result = super().__str__()\n",
    "        result += '\\n'\n",
    "        result += 'CLASS: ' + type(self).__name__\n",
    "        result += '\\n'\n",
    "        obj_str = self.to_json()\n",
    "        to_display = min(self.MAX_PRINT_SYMBOLS, len(obj_str))\n",
    "        if to_display > self.MAX_PRINT_SYMBOLS:\n",
    "            result += obj_str[:to_display] + '...'\n",
    "        else:\n",
    "            result += obj_str\n",
    "        return result\n",
    "    \n",
    "\n",
    "class XMLMixin:\n",
    "    MAX_PRINT_SYMBOLS = 20\n",
    "    \n",
    "    def to_xml(self):\n",
    "        return dicttoxml.dicttoxml(vars(self)).decode()\n",
    "    \n",
    "    def __str__(self):\n",
    "        result = super().__str__()\n",
    "        result += '\\n'\n",
    "        result += 'CLASS: ' + type(self).__name__\n",
    "        result += '\\n'\n",
    "        obj_str = self.to_xml()\n",
    "        to_display = min(self.MAX_PRINT_SYMBOLS, len(obj_str))\n",
    "        if to_display > self.MAX_PRINT_SYMBOLS:\n",
    "            result += obj_str[:to_display] + '...'\n",
    "        else:\n",
    "            result += obj_str\n",
    "        return result\n",
    "\n",
    "\n",
    "class YamlMixin:\n",
    "    \n",
    "    MAX_PRINT_SYMBOLS = 20\n",
    "\n",
    "    def to_yaml(self):\n",
    "        return yaml.dump(vars(self))\n",
    "    \n",
    "    def __str__(self):\n",
    "        result = super().__str__()\n",
    "        result += '\\n'\n",
    "        result += 'CLASS: ' + type(self).__name__\n",
    "        result += '\\n'\n",
    "        obj_str = self.to_yaml()\n",
    "        to_display = min(self.MAX_PRINT_SYMBOLS, len(obj_str))\n",
    "        if to_display > self.MAX_PRINT_SYMBOLS:\n",
    "            result += obj_str[:to_display] + '...'\n",
    "        else:\n",
    "            result += obj_str\n",
    "        return result"
   ]
  },
  {
   "cell_type": "code",
   "execution_count": 92,
   "metadata": {},
   "outputs": [
    {
     "name": "stdout",
     "output_type": "stream",
     "text": [
      "[<class '__main__.CTO'>, <class '__main__.YamlMixin'>, <class '__main__.TeamLeader'>, <class '__main__.Architect'>, <class '__main__.TeamMember'>, <class '__main__.Person'>, <class 'object'>]\n",
      "TL\n",
      "CLASS: CTO\n",
      "certificates:\n",
      "- ITIL\n",
      "- PMA\n",
      "first_name: Jake\n",
      "jobtitle: CTO\n",
      "last_name: Smith\n",
      "projects: null\n",
      "salary: 250000\n",
      "soft_skills:\n",
      "- Leadership\n",
      "- EQ\n",
      "\n"
     ]
    }
   ],
   "source": [
    "class CTO(YamlMixin, TeamLeader, Architect):\n",
    "    \n",
    "    def __init__(self, first_name, last_name, **kwargs):\n",
    "        super().__init__(first_name, last_name, **kwargs)\n",
    "        self.projects = kwargs.get(\"projects\")\n",
    "        self.soft_skills += ['Leadership', 'EQ']\n",
    "        self.certificates += ['ITIL', 'PMA']\n",
    "        self.jobtitle = 'CTO'\n",
    "        \n",
    "#     def __str__(self):\n",
    "#         return 'CTO'\n",
    "        \n",
    "cto = CTO(\n",
    "    first_name='Jake',\n",
    "    last_name='Smith',\n",
    "    salary=250000\n",
    ")\n",
    "print(CTO.mro())\n",
    "#print(cto.to_yaml())\n",
    "print(str(cto))"
   ]
  },
  {
   "cell_type": "markdown",
   "metadata": {},
   "source": [
    "#### Template pattern (https://bit.ly/3j6Asid)"
   ]
  },
  {
   "cell_type": "code",
   "execution_count": 95,
   "metadata": {},
   "outputs": [],
   "source": [
    "class SerializedMixin:\n",
    "    MAX_PRINT_SYMBOLS = 150\n",
    "    \n",
    "    def _serialize(self):\n",
    "        raise NotImplemented('No impemented')\n",
    "    \n",
    "    def __str__(self):\n",
    "        result = super().__str__()\n",
    "        result += '\\n'\n",
    "        result += 'CLASS: ' + type(self).__name__\n",
    "        result += '\\n'\n",
    "        obj_str = self._serialize()\n",
    "        to_display = min(self.MAX_PRINT_SYMBOLS, len(obj_str))\n",
    "        if to_display < len(obj_str):\n",
    "            result += obj_str[:to_display] + '...'\n",
    "        else:\n",
    "            result += obj_str\n",
    "        return result\n",
    "\n",
    "    \n",
    "class JsonMixin(SerializedMixin):\n",
    "    MAX_PRINT_SYMBOLS = 42\n",
    "\n",
    "    def _serialize(self):\n",
    "        return json.dumps(vars(self))\n",
    "    \n",
    "\n",
    "class XMLMixin(SerializedMixin):\n",
    "    def _serialize(self):\n",
    "        return dicttoxml.dicttoxml(vars(self)).decode()\n",
    "\n",
    "\n",
    "class YamlMixin(SerializedMixin):\n",
    "    def _serialize(self):\n",
    "        return yaml.dump(vars(self))"
   ]
  },
  {
   "cell_type": "code",
   "execution_count": 97,
   "metadata": {},
   "outputs": [
    {
     "name": "stdout",
     "output_type": "stream",
     "text": [
      "TL\n",
      "CLASS: CTO\n",
      "certificates:\n",
      "- ITIL\n",
      "- PMA\n",
      "first_name: Jake\n",
      "jobtitle: CTO\n",
      "last_name: Smith\n",
      "projects: null\n",
      "salary: 250000\n",
      "soft_skills:\n",
      "- Leadership\n",
      "- EQ\n",
      "\n"
     ]
    }
   ],
   "source": [
    "class CTO(YamlMixin, TeamLeader, Architect):\n",
    "    \n",
    "    def __init__(self, first_name, last_name, **kwargs):\n",
    "        super().__init__(first_name, last_name, **kwargs)\n",
    "        self.projects = kwargs.get(\"projects\")\n",
    "        self.soft_skills += ['Leadership', 'EQ']\n",
    "        self.certificates += ['ITIL', 'PMA']\n",
    "        self.jobtitle = 'CTO'\n",
    "\n",
    "cto = CTO(\n",
    "    first_name='Jake',\n",
    "    last_name='Smith',\n",
    "    salary=250000\n",
    ")\n",
    "\n",
    "print(str(cto))"
   ]
  },
  {
   "cell_type": "code",
   "execution_count": 98,
   "metadata": {},
   "outputs": [
    {
     "name": "stdout",
     "output_type": "stream",
     "text": [
      "127.27922061357856\n",
      "127.27922061357856\n"
     ]
    }
   ],
   "source": [
    "# classmethod vs staticmethod\n",
    "import math\n",
    "\n",
    "class Shape:\n",
    "    NUM_OF_DIMS = 2\n",
    "\n",
    "    def __init__(self, x=0, y=0):\n",
    "        self.x = x\n",
    "        self.y = y\n",
    "\n",
    "    #@staticmethod\n",
    "    @classmethod\n",
    "    def distance(cls, x1, y1, x2, y2):\n",
    "        return math.sqrt((x1 - x2) **  cls.NUM_OF_DIMS + (y1 - y2) ** cls.NUM_OF_DIMS)\n",
    "\n",
    "\n",
    "class Shape3D(Shape):\n",
    "    # NUM_OF_DIMS = 3\n",
    "\n",
    "    def __init__(self, x=0, y=0):\n",
    "        super().__init__(x, y)\n",
    "        self.z = 0\n",
    "\n",
    "    # @staticmethod\n",
    "    # # #@classmethod\n",
    "    # def distance(cls, x1, y1, x2, y2):\n",
    "    #     return math.sqrt((x1 - x2) **  Shape3D.NUM_OF_DIMS + (y1 - y2) ** Shape3D.NUM_OF_DIMS)\n",
    "\n",
    "s = Shape(0, 0)\n",
    "print(s.distance(100, 100, 10, 10))\n",
    "\n",
    "\n",
    "s2 = Shape3D(0, 0)\n",
    "print(s2.distance(100, 100, 10, 10))\n"
   ]
  },
  {
   "cell_type": "code",
   "execution_count": null,
   "metadata": {},
   "outputs": [],
   "source": []
  },
  {
   "cell_type": "code",
   "execution_count": null,
   "metadata": {},
   "outputs": [],
   "source": []
  },
  {
   "cell_type": "code",
   "execution_count": null,
   "metadata": {},
   "outputs": [],
   "source": []
  },
  {
   "cell_type": "markdown",
   "metadata": {},
   "source": [
    "# Magic methods/attributes"
   ]
  },
  {
   "cell_type": "code",
   "execution_count": null,
   "metadata": {},
   "outputs": [],
   "source": [
    "# __str__, __init__, __dict__"
   ]
  },
  {
   "cell_type": "markdown",
   "metadata": {},
   "source": [
    "By overriding magic methods we achieve so called polymorphism: one method -> many implementations"
   ]
  },
  {
   "cell_type": "code",
   "execution_count": 100,
   "metadata": {},
   "outputs": [],
   "source": [
    "# implementing protocols\n",
    "\n",
    "class timer():\n",
    "    def __init__(self, message):\n",
    "        self.message = message\n",
    "\n",
    "    def __enter__(self):\n",
    "        self.start = time.time()\n",
    "        return None\n",
    "\n",
    "    def __exit__(self, type, value, traceback):\n",
    "        elapsed_time = (time.time() - self.start) * 1000\n",
    "        print(self.message.format(elapsed_time))\n",
    "        \n",
    "class A():\n",
    "    def __enter__(self):\n",
    "        print('__enter__')\n",
    "    \n",
    "    def __exit__(self, type, value, traceback):\n",
    "        print('__exit__')\n",
    "\n",
    "# with A():\n",
    "#     raise ValueError('WRONG!')"
   ]
  },
  {
   "cell_type": "code",
   "execution_count": 101,
   "metadata": {},
   "outputs": [
    {
     "ename": "NameError",
     "evalue": "name 'a' is not defined",
     "output_type": "error",
     "traceback": [
      "\u001b[0;31m---------------------------------------------------------------------------\u001b[0m",
      "\u001b[0;31mNameError\u001b[0m                                 Traceback (most recent call last)",
      "\u001b[0;32m<ipython-input-101-e9355fe870f0>\u001b[0m in \u001b[0;36m<module>\u001b[0;34m\u001b[0m\n\u001b[1;32m      1\u001b[0m \u001b[0;31m# overring implicit conversions\u001b[0m\u001b[0;34m\u001b[0m\u001b[0;34m\u001b[0m\u001b[0;34m\u001b[0m\u001b[0m\n\u001b[1;32m      2\u001b[0m \u001b[0;34m\u001b[0m\u001b[0m\n\u001b[0;32m----> 3\u001b[0;31m \u001b[0mprint\u001b[0m\u001b[0;34m(\u001b[0m\u001b[0ma\u001b[0m\u001b[0;34m.\u001b[0m\u001b[0m__str__\u001b[0m\u001b[0;34m(\u001b[0m\u001b[0;34m)\u001b[0m\u001b[0;34m)\u001b[0m\u001b[0;34m\u001b[0m\u001b[0;34m\u001b[0m\u001b[0m\n\u001b[0m\u001b[1;32m      4\u001b[0m \u001b[0mprint\u001b[0m\u001b[0;34m(\u001b[0m\u001b[0mstr\u001b[0m\u001b[0;34m(\u001b[0m\u001b[0ma\u001b[0m\u001b[0;34m)\u001b[0m\u001b[0;34m)\u001b[0m\u001b[0;34m\u001b[0m\u001b[0;34m\u001b[0m\u001b[0m\n\u001b[1;32m      5\u001b[0m \u001b[0;34m\u001b[0m\u001b[0m\n",
      "\u001b[0;31mNameError\u001b[0m: name 'a' is not defined"
     ]
    }
   ],
   "source": [
    "# overring implicit conversions \n",
    "\n",
    "print(a.__str__())\n",
    "print(str(a))\n",
    "\n",
    "dir(a)\n",
    "a.__dir__()\n",
    "\n",
    "# xxx(a)\n",
    "# a.__xxx__()\n",
    "\n",
    "v = 42\n",
    "print(v + 1)\n",
    "print(v.__add__(1))\n",
    "\n",
    "class Employee:\n",
    "    def __init__(self, first_name=None, last_name=None, email=None):\n",
    "        self._first_name = first_name\n",
    "        self._last_name = last_name\n",
    "        self._email = email\n",
    "    \n",
    "    def __bool__(self):\n",
    "        return bool(self._first_name or \\\n",
    "               self._last_name or \\\n",
    "               self._email)\n",
    "            \n",
    "e = Employee()\n",
    "\n",
    "\n",
    "if e:\n",
    "    print('Not empty')\n",
    "    # do some work\n",
    "    \n",
    "if e is not None: # None ~= null\n",
    "    print('Is not None')\n",
    "    # do some work"
   ]
  },
  {
   "cell_type": "code",
   "execution_count": 102,
   "metadata": {},
   "outputs": [
    {
     "name": "stdout",
     "output_type": "stream",
     "text": [
      "first_name='John' OR last_name='Gonzalez' OR stuff=True OR age=42\n"
     ]
    }
   ],
   "source": [
    "# overriding operators (+, -, *, /, ...)\n",
    "class Q:\n",
    "    def __init__(self, **params):\n",
    "        self._params = params\n",
    "    \n",
    "    def __or__(self, other):\n",
    "        self._params.update(other._params)\n",
    "        return self\n",
    "\n",
    "#     def __and__(self, other):\n",
    "#         self._params.update(other._params)\n",
    "#         return self\n",
    "    \n",
    "    def __str__(self):\n",
    "        result = ''\n",
    "        for k, v in  self._params.items():\n",
    "            if result:\n",
    "                result += ' OR '\n",
    "#             if result:\n",
    "#                 result += ' OR '\n",
    "            result += f'{k}={repr(v)}'\n",
    "        return result\n",
    "\n",
    "filter = Q()\n",
    "filter |= Q(first_name='John')\n",
    "filter |= Q(last_name='Gonzalez')\n",
    "filter |= Q(stuff=True)\n",
    "filter |= Q(age=42)\n",
    "\n",
    "print(filter)"
   ]
  },
  {
   "cell_type": "code",
   "execution_count": 1,
   "metadata": {},
   "outputs": [
    {
     "name": "stdout",
     "output_type": "stream",
     "text": [
      "first_name='John' OR last_name='Gonzalez' OR stuff=True OR age=42\n"
     ]
    }
   ],
   "source": [
    "# overriding operators (+, -, *, /, ...)\n",
    "class Q:\n",
    "    def __init__(self, **params):\n",
    "        self._params = params\n",
    "    \n",
    "    def __or__(self, other):\n",
    "        self._params.update(other._params)\n",
    "        return self\n",
    "\n",
    "#     def __and__(self, other):\n",
    "#         self._params.update(other._params)\n",
    "#         return self\n",
    "    \n",
    "    def __str__(self):\n",
    "        result = ''\n",
    "        for k, v in  self._params.items():\n",
    "            if result:\n",
    "                result += ' OR '\n",
    "#             if result:\n",
    "#                 result += ' OR '\n",
    "            result += f'{k}={repr(v)}'\n",
    "        return result\n",
    "\n",
    "filter = Q()\n",
    "filter |= Q(first_name='John')\n",
    "filter |= Q(last_name='Gonzalez')\n",
    "filter |= Q(stuff=True)\n",
    "filter |= Q(age=42)\n",
    "\n",
    "print(filter)"
   ]
  },
  {
   "cell_type": "code",
   "execution_count": 105,
   "metadata": {},
   "outputs": [
    {
     "name": "stdout",
     "output_type": "stream",
     "text": [
      "__setattr__\n",
      "43\n"
     ]
    }
   ],
   "source": [
    "# overriding get/set attributes -> hook access to/from attributes\n",
    "class A:\n",
    "    def __getattr__(self, name):\n",
    "        print('__getattr__')\n",
    "#         if name in self.__dict__:\n",
    "#             value = self.__dict__[name]\n",
    "#         elif name in self.__class__.__dict__:\n",
    "#             value = self.__class__.__dict__[name]\n",
    "#         else:\n",
    "#             value = super().__getattr__(name)                    \n",
    "#         return value\n",
    "        return 42\n",
    "    \n",
    "    def __setattr__(self, name, value):\n",
    "        print('__setattr__')\n",
    "        self.__dict__[name] = value + 1\n",
    "        \n",
    "    def __delattr__(self, name):\n",
    "        if name in self.__dict__:\n",
    "            del self.__dict__[name]\n",
    "            \n",
    "a = A()\n",
    "a.boo = 42\n",
    "print(a.boo)\n"
   ]
  },
  {
   "cell_type": "code",
   "execution_count": 108,
   "metadata": {},
   "outputs": [
    {
     "name": "stdout",
     "output_type": "stream",
     "text": [
      "foo\n",
      "foo\n",
      "__call__\n"
     ]
    }
   ],
   "source": [
    "# make objects behave like a function: __call__\n",
    "\n",
    "def foo():\n",
    "    print('foo')\n",
    "foo()\n",
    "foo.__call__()\n",
    "\n",
    "class A:\n",
    "    def __call__(self):\n",
    "        print('__call__')\n",
    "    \n",
    "a = A()\n",
    "a()"
   ]
  },
  {
   "cell_type": "code",
   "execution_count": 2,
   "metadata": {},
   "outputs": [],
   "source": [
    "class lazy_object:\n",
    "    '''\n",
    "    Class for deferred instantiation of objects.  Init is called\n",
    "    only when the first attribute is either get or set.\n",
    "    '''\n",
    "\n",
    "    def __init__(self, callable, *args, **kw):\n",
    "        '''\n",
    "        callable -- Class of objeсt to be instantiated or functionnn to be called\n",
    "        *args -- arguments to be used when instantiating object\n",
    "        **kw  -- keywords to be used when instantiating object\n",
    "        '''\n",
    "        self.__dict__['callable'] = callable\n",
    "        self.__dict__['args'] = args\n",
    "        self.__dict__['kw'] = kw\n",
    "        self.__dict__['obj'] = None\n",
    "\n",
    "    def init_obj(self):\n",
    "        '''\n",
    "        Instantiate object if not already done\n",
    "        '''\n",
    "        if self.obj is None:\n",
    "            self.__dict__['obj'] = self.callable(*self.args, **self.kw)\n",
    "\n",
    "    def __getattr__(self, name):\n",
    "        self.init_obj()\n",
    "        return getattr(self.obj, name)\n",
    "\n",
    "    def __setattr__(self, name, value):\n",
    "        self.init_obj()\n",
    "        setattr(self.obj, name, value)\n",
    "\n",
    "    def __len__(self):\n",
    "        self.init_obj()\n",
    "        return len(self.obj)\n",
    "\n",
    "    def __getitem__(self, idx):\n",
    "        self.init_obj()\n",
    "        return self.obj[idx]\n",
    "\n",
    "    def __copy__(self):\n",
    "        new_copy = lazy_object(self.callable, self.args, self.kw)\n",
    "        new_copy.__dict__['obj'] = copy.copy(self.obj)\n",
    "        return new_copy"
   ]
  },
  {
   "cell_type": "code",
   "execution_count": 3,
   "metadata": {},
   "outputs": [
    {
     "name": "stdout",
     "output_type": "stream",
     "text": [
      "<__main__.lazy_object object at 0x7fb55076ed30>\n"
     ]
    }
   ],
   "source": [
    "class A:\n",
    "    def __init__(self, num_elem):\n",
    "        self.attr1 = list(range(num_elem))\n",
    "        \n",
    "a = lazy_object(A, num_elem=10**8)\n",
    "\n",
    "print(a)"
   ]
  },
  {
   "cell_type": "code",
   "execution_count": 4,
   "metadata": {},
   "outputs": [
    {
     "ename": "NameError",
     "evalue": "name 'timer' is not defined",
     "output_type": "error",
     "traceback": [
      "\u001b[0;31m---------------------------------------------------------------------------\u001b[0m",
      "\u001b[0;31mNameError\u001b[0m                                 Traceback (most recent call last)",
      "\u001b[0;32m<ipython-input-4-799d01df6368>\u001b[0m in \u001b[0;36m<module>\u001b[0;34m\u001b[0m\n\u001b[0;32m----> 1\u001b[0;31m \u001b[0;32mwith\u001b[0m \u001b[0mtimer\u001b[0m\u001b[0;34m(\u001b[0m\u001b[0;34m'Elapsed: {}ms'\u001b[0m\u001b[0;34m)\u001b[0m\u001b[0;34m:\u001b[0m\u001b[0;34m\u001b[0m\u001b[0;34m\u001b[0m\u001b[0m\n\u001b[0m\u001b[1;32m      2\u001b[0m    \u001b[0mtype\u001b[0m\u001b[0;34m(\u001b[0m\u001b[0ma\u001b[0m\u001b[0;34m.\u001b[0m\u001b[0mattr1\u001b[0m\u001b[0;34m)\u001b[0m\u001b[0;34m\u001b[0m\u001b[0;34m\u001b[0m\u001b[0m\n\u001b[1;32m      3\u001b[0m \u001b[0;34m\u001b[0m\u001b[0m\n\u001b[1;32m      4\u001b[0m \u001b[0;32mwith\u001b[0m \u001b[0mtimer\u001b[0m\u001b[0;34m(\u001b[0m\u001b[0;34m'Elapsed: {}ms'\u001b[0m\u001b[0;34m)\u001b[0m\u001b[0;34m:\u001b[0m\u001b[0;34m\u001b[0m\u001b[0;34m\u001b[0m\u001b[0m\n\u001b[1;32m      5\u001b[0m    \u001b[0mtype\u001b[0m\u001b[0;34m(\u001b[0m\u001b[0ma\u001b[0m\u001b[0;34m.\u001b[0m\u001b[0mattr1\u001b[0m\u001b[0;34m)\u001b[0m\u001b[0;34m\u001b[0m\u001b[0;34m\u001b[0m\u001b[0m\n",
      "\u001b[0;31mNameError\u001b[0m: name 'timer' is not defined"
     ]
    }
   ],
   "source": [
    "with timer('Elapsed: {}ms'):\n",
    "   type(a.attr1)\n",
    "\n",
    "with timer('Elapsed: {}ms'):\n",
    "   type(a.attr1)\n",
    "\n",
    "with timer('Elapsed: {}s'):\n",
    "   a1 = copy.copy(a) # быстро\n",
    "   # print(a1)\n",
    "\n",
    "with timer('Elapsed: {}s'):\n",
    "    # a1 = copy.deepcopy(a) # долго\n",
    "    print(a1)"
   ]
  },
  {
   "cell_type": "markdown",
   "metadata": {},
   "source": [
    "# Recall: OOP = inheritance + polymorphism + encapsulation + abstraction"
   ]
  },
  {
   "cell_type": "markdown",
   "metadata": {},
   "source": [
    "## Data hiding (encapsulation)"
   ]
  },
  {
   "cell_type": "markdown",
   "metadata": {},
   "source": [
    "Sometimes it is useful to hide class internals from client \n",
    "- to have freedom to change them in future \n",
    "- not to overwhelm a client with details\n",
    "- in access methods (get/set) it is possible to put extra logic\n",
    "\n",
    "This introduces idea of private attributes/methods: couldn't or shoudn't be used by client"
   ]
  },
  {
   "cell_type": "code",
   "execution_count": 35,
   "metadata": {},
   "outputs": [
    {
     "name": "stdout",
     "output_type": "stream",
     "text": [
      "42 abc\n"
     ]
    }
   ],
   "source": [
    "# take a look on ModelForm as an example¶\n",
    "# But this is only conventional not technical\n",
    "\n",
    "class A: # before\n",
    "\n",
    "    def __init__(self, attr1=None, attr2=None):\n",
    "        self._attr1 = attr1 # protected (client)\n",
    "        self._attr2 = attr2 # protected (client)\n",
    "        \n",
    "    def _internal_method(self):\n",
    "        pass\n",
    "\n",
    "a = A(42, 'abc')\n",
    "print(a._attr1, a._attr2)\n",
    "a._internal_method()"
   ]
  },
  {
   "cell_type": "code",
   "execution_count": 38,
   "metadata": {},
   "outputs": [
    {
     "name": "stdout",
     "output_type": "stream",
     "text": [
      "42 abc\n"
     ]
    }
   ],
   "source": [
    "# However, it's possible to hide attribte (almost)\n",
    "class A:\n",
    "    \n",
    "    def __init__(self, attr1=None, attr2=None):\n",
    "        self._attr1 = attr1 # protected (client)\n",
    "        self._attr2 = attr2 # protected (client)\n",
    "        self.__attr3 = attr2 # private (client&child)\n",
    "        \n",
    "a = A(42, 'abc')\n",
    "print(a._attr1,  a._attr2)\n",
    "# print(a._A__attr3)"
   ]
  },
  {
   "cell_type": "code",
   "execution_count": null,
   "metadata": {},
   "outputs": [],
   "source": [
    "# In the other languages, there is a tendency to hide everything by defualt, unless it is a constant"
   ]
  },
  {
   "cell_type": "code",
   "execution_count": 42,
   "metadata": {},
   "outputs": [
    {
     "name": "stdout",
     "output_type": "stream",
     "text": [
      "32\n"
     ]
    }
   ],
   "source": [
    "class Termostat:\n",
    "    \n",
    "    def __init__(self, temperature, *args, **kwargs):\n",
    "        self.temperature = temperature\n",
    "\n",
    "    ...\n",
    "t = Termostat(32)\n",
    "print(t.temperature)  "
   ]
  },
  {
   "cell_type": "code",
   "execution_count": 41,
   "metadata": {},
   "outputs": [
    {
     "name": "stdout",
     "output_type": "stream",
     "text": [
      "32\n",
      "32\n"
     ]
    }
   ],
   "source": [
    "class Termostat:\n",
    "    \n",
    "    def __init__(self, temperature, *args, **kwargs):\n",
    "        self._temperature = temperature\n",
    "\n",
    "    def get_temperature(self):\n",
    "        return self._temperature\n",
    "    \n",
    "    def set_temperature(self, value):\n",
    "        self._temperature = value\n",
    "        \n",
    "    ...\n",
    "        \n",
    "t = Termostat(32)\n",
    "print(t.get_temperature())\n",
    "print(t._temperature)"
   ]
  },
  {
   "cell_type": "code",
   "execution_count": 22,
   "metadata": {},
   "outputs": [],
   "source": [
    "class Termostat:\n",
    "    MAX_LIMIT = 120\n",
    "    \n",
    "    def __init__(self, temperature, *args, **kwargs):\n",
    "        self._temperature = temperature\n",
    "    \n",
    "    def _validate(self, value):\n",
    "        if value > self.MAX_LIMIT:\n",
    "            raise ValueError(...)\n",
    "        \n",
    "    def get_temperature(self, force_refresh=False):\n",
    "        logger.debug('Getting current temperature: {self._temperature}C')\n",
    "        return self._temperature\n",
    "    \n",
    "    def set_temperature(self, value):\n",
    "        self._validate(value)\n",
    "        logger.debug('Setting current temperature: {self._temperature}C')\n",
    "        self._temperature = value\n",
    "        \n",
    "    ...\n",
    "        \n",
    "t = Termostat(32)"
   ]
  },
  {
   "cell_type": "code",
   "execution_count": 23,
   "metadata": {},
   "outputs": [],
   "source": [
    "class Termostat:\n",
    "    MAX_LIMIT = 120\n",
    "    driver_class = SerialPortRS232Driver\n",
    "    \n",
    "    def __init__(self, *args, **kwargs):\n",
    "        self._driver = self.driver_class(*args, **kwargs)\n",
    "\n",
    "    def _parse_temperature(self):\n",
    "        return ...\n",
    "    \n",
    "    def _pack_temperature(self):\n",
    "        return {'temprature': value}\n",
    "    \n",
    "    def _validate(self, value):\n",
    "        if value > self.MAX_LIMIT:\n",
    "            raise ValueError(...)\n",
    "        \n",
    "    def get_temperature(self, force_refresh=False):\n",
    "        if force_refresh:\n",
    "            raw_data = self._driver.pull_data()\n",
    "            self._temperature = self.parse_temperature(raw_data)\n",
    "        return self._temperature\n",
    "    \n",
    "    def set_temperature(self, value):\n",
    "        self._validate(value)\n",
    "        raw_data = self._pack_temperature(value)\n",
    "        self._driver.push_data(raw_data)\n",
    "        self._temperature = value\n",
    "        \n",
    "    ...\n",
    "        \n",
    "t = Termostat()"
   ]
  },
  {
   "cell_type": "code",
   "execution_count": 24,
   "metadata": {},
   "outputs": [
    {
     "name": "stdout",
     "output_type": "stream",
     "text": [
      "set attr1\n",
      "get attr1\n",
      "42\n",
      "get attr2\n",
      "abc\n",
      "{'_attr1': 42, '_attr2': 'abc', '_A__attr3': 'abc'}\n",
      "abc\n",
      "ABC\n",
      "{'_attr1': 42, '_attr2': 'abc', '_A__attr3': 'abc', '__attr3': 'ABC'}\n"
     ]
    }
   ],
   "source": [
    "class A: # before\n",
    "    \n",
    "    def __init__(self, attr1=None, attr2=None):\n",
    "        self.attr1 = attr1 # protected (client)\n",
    "        self.attr2 = attr2 # protected (client)\n",
    "\n",
    "class A:\n",
    "    \n",
    "    def __init__(self, attr1=None, attr2=None):\n",
    "        self._attr1 = attr1 # protected (client)\n",
    "        self._attr2 = attr2 # protected (client)\n",
    "        self.__attr3 = attr2 # private (client&child)\n",
    "\n",
    "    @property\n",
    "    def attr1(self):\n",
    "        print('get attr1')\n",
    "        return self._attr1\n",
    "        \n",
    "    @attr1.setter\n",
    "    def attr1(self, value):\n",
    "        print('set attr1')\n",
    "        if value > 0:\n",
    "            self._attr1 = value\n",
    "        else:\n",
    "            raise ValueError('Invalid data')\n",
    "       \n",
    "    @property\n",
    "    def attr2(self):\n",
    "        print('get attr2')\n",
    "        return self._attr2\n",
    "\n",
    "a = A(attr2='abc')\n",
    "a.attr1 = 42\n",
    "print(a.attr1)\n",
    "#a.attr1 = -1\n",
    "print(a.attr2)\n",
    "#a.attr2 = 'ABC'\n",
    "#print(a.__attr3)\n",
    "\n",
    "print(a.__dict__)\n",
    "#print(a._A__attr3)\n",
    "print(a._A__attr3)\n",
    "a.__attr3 = 'ABC'\n",
    "print(a.__attr3)\n",
    "print(a.__dict__)\n"
   ]
  },
  {
   "cell_type": "code",
   "execution_count": null,
   "metadata": {},
   "outputs": [],
   "source": [
    "# Unlike the other languages, in Python everything is open (until it's closed)\n"
   ]
  },
  {
   "cell_type": "code",
   "execution_count": 43,
   "metadata": {},
   "outputs": [
    {
     "name": "stdout",
     "output_type": "stream",
     "text": [
      "32\n",
      "42\n"
     ]
    }
   ],
   "source": [
    "class Termostat:\n",
    "    \n",
    "    def __init__(self, temperature, *args, **kwargs):\n",
    "        self.temperature = temperature\n",
    "        \n",
    "    ...\n",
    "        \n",
    "t = Termostat(32)\n",
    "print(t.temperature)\n",
    "t.temperature = 42\n",
    "print(t.temperature)"
   ]
  },
  {
   "cell_type": "code",
   "execution_count": 45,
   "metadata": {},
   "outputs": [
    {
     "name": "stdout",
     "output_type": "stream",
     "text": [
      "Getting current temperature: {self._temperature}C\n",
      "32\n",
      "Setting current temperature: {self._temperature}C\n",
      "Getting current temperature: {self._temperature}C\n",
      "42\n"
     ]
    }
   ],
   "source": [
    "import logging\n",
    "logger = logging.getLogger(__name__)\n",
    "\n",
    "\n",
    "class Termostat:\n",
    "    MAX_LIMIT = 120\n",
    "    \n",
    "    def __init__(self, temperature, *args, **kwargs):\n",
    "        self._temperature = temperature\n",
    "    \n",
    "    def _validate(self, value):\n",
    "        if value > self.MAX_LIMIT:\n",
    "            raise ValueError(...)\n",
    "    \n",
    "    @property\n",
    "    def temperature(self, force_refresh=False):\n",
    "        print('Getting current temperature: {self._temperature}C')\n",
    "        return self._temperature\n",
    "    \n",
    "    @temperature.setter\n",
    "    def temperature(self, value):\n",
    "        self._validate(value)\n",
    "        print('Setting current temperature: {self._temperature}C')\n",
    "        self._temperature = value\n",
    "        \n",
    "    ...\n",
    "        \n",
    "t = Termostat(32)\n",
    "print(t.temperature)\n",
    "t.temperature = 42\n",
    "print(t.temperature)"
   ]
  },
  {
   "cell_type": "markdown",
   "metadata": {},
   "source": [
    "# Misc topics"
   ]
  },
  {
   "cell_type": "markdown",
   "metadata": {},
   "source": [
    "### slots"
   ]
  },
  {
   "cell_type": "code",
   "execution_count": null,
   "metadata": {},
   "outputs": [],
   "source": [
    "class A:\n",
    "    __slots__ = ['attr1', 'attr2']\n",
    "\n",
    "a = A()\n",
    "a.attr1 = 42\n",
    "a.attr2 = '42'\n",
    "print(a.attr1, a.attr2)"
   ]
  },
  {
   "cell_type": "code",
   "execution_count": null,
   "metadata": {},
   "outputs": [],
   "source": [
    "CTO"
   ]
  },
  {
   "cell_type": "code",
   "execution_count": null,
   "metadata": {},
   "outputs": [],
   "source": [
    "#a.attr3 = 'abc'"
   ]
  },
  {
   "cell_type": "code",
   "execution_count": null,
   "metadata": {},
   "outputs": [],
   "source": [
    "class A1:\n",
    "    def __init__(self, attr1, attr2):\n",
    "        self.attr1 = attr1\n",
    "        self.attr2 = attr2\n",
    "\n",
    "a1 = A1(42, '42')\n",
    "print(a1.attr1, a1.attr2)"
   ]
  },
  {
   "cell_type": "code",
   "execution_count": null,
   "metadata": {},
   "outputs": [],
   "source": [
    "from sys import getsizeof\n",
    "print(getsizeof(a), a.__slots__, getsizeof(a.__slots__))\n",
    "print(getsizeof(a1), a1.__dict__, getsizeof(a1.__dict__))"
   ]
  },
  {
   "cell_type": "code",
   "execution_count": null,
   "metadata": {},
   "outputs": [],
   "source": [
    "with timer('Elapsed: {}ms'):\n",
    "    for _ in range(10**6):\n",
    "        a = A()\n",
    "        a.attr1 = 42\n",
    "        a.attr2 = '42'\n",
    "        _ = a.attr1, a.attr2\n",
    "\n",
    "with timer('Elapsed: {}ms'):\n",
    "    for _ in range(10**6):\n",
    "        a = A1(42, '42')\n",
    "        _ = a.attr1, a.attr2\n"
   ]
  },
  {
   "cell_type": "code",
   "execution_count": null,
   "metadata": {},
   "outputs": [],
   "source": [
    "# NamedTuple()"
   ]
  },
  {
   "cell_type": "markdown",
   "metadata": {},
   "source": [
    "### Descriptors"
   ]
  },
  {
   "cell_type": "code",
   "execution_count": null,
   "metadata": {},
   "outputs": [],
   "source": [
    "# Technically, descriptor is a class that supports the following methods: __set__[, __get__],__delete__"
   ]
  },
  {
   "cell_type": "code",
   "execution_count": 1,
   "metadata": {},
   "outputs": [],
   "source": [
    "class A:\n",
    "    attr1 = (int, 0)\n",
    "    attr2 = (str, '')\n",
    "\n",
    "    def __getattribute__(self, name): # always called\n",
    "        if name == '__dict__':\n",
    "            return super().__getattribute__(name)\n",
    "        obj_attrs = self.__dict__\n",
    "        cls_attrs = vars(type(self))\n",
    "        if name not in obj_attrs:\n",
    "            if name in cls_attrs:\n",
    "                _, default = cls_attrs[name]\n",
    "                self.__dict__[name] = default\n",
    "        return self.__dict__[name]\n",
    "    \n",
    "    def __setattr__(self, name, value):\n",
    "        obj_attrs = vars(self)\n",
    "        cls_attrs = vars(type(self))\n",
    "        if name in cls_attrs:\n",
    "            type_, default = cls_attrs[name]\n",
    "            if isinstance(value, type_):\n",
    "                self.__dict__[name] = value\n",
    "            else:\n",
    "                raise ValueError('Invalid type')\n",
    "\n",
    "    def __delattr__(self, name):\n",
    "        del self.__dict__[name]"
   ]
  },
  {
   "cell_type": "code",
   "execution_count": 4,
   "metadata": {},
   "outputs": [
    {
     "name": "stdout",
     "output_type": "stream",
     "text": [
      "0\n",
      "\n"
     ]
    },
    {
     "ename": "ValueError",
     "evalue": "Invalid type",
     "output_type": "error",
     "traceback": [
      "\u001b[0;31m---------------------------------------------------------------------------\u001b[0m",
      "\u001b[0;31mValueError\u001b[0m                                Traceback (most recent call last)",
      "\u001b[0;32m<ipython-input-4-585ae91748bd>\u001b[0m in \u001b[0;36m<module>\u001b[0;34m\u001b[0m\n\u001b[1;32m      4\u001b[0m \u001b[0mprint\u001b[0m\u001b[0;34m(\u001b[0m\u001b[0ma\u001b[0m\u001b[0;34m.\u001b[0m\u001b[0mattr2\u001b[0m\u001b[0;34m)\u001b[0m\u001b[0;34m\u001b[0m\u001b[0;34m\u001b[0m\u001b[0m\n\u001b[1;32m      5\u001b[0m \u001b[0;34m\u001b[0m\u001b[0m\n\u001b[0;32m----> 6\u001b[0;31m \u001b[0ma\u001b[0m\u001b[0;34m.\u001b[0m\u001b[0mattr1\u001b[0m \u001b[0;34m=\u001b[0m \u001b[0;34m'32'\u001b[0m\u001b[0;34m\u001b[0m\u001b[0;34m\u001b[0m\u001b[0m\n\u001b[0m\u001b[1;32m      7\u001b[0m \u001b[0ma\u001b[0m\u001b[0;34m.\u001b[0m\u001b[0mattr2\u001b[0m \u001b[0;34m=\u001b[0m \u001b[0;34m'42'\u001b[0m\u001b[0;34m\u001b[0m\u001b[0;34m\u001b[0m\u001b[0m\n\u001b[1;32m      8\u001b[0m \u001b[0;34m\u001b[0m\u001b[0m\n",
      "\u001b[0;32m<ipython-input-1-ba86752a38ab>\u001b[0m in \u001b[0;36m__setattr__\u001b[0;34m(self, name, value)\u001b[0m\n\u001b[1;32m     22\u001b[0m                 \u001b[0mself\u001b[0m\u001b[0;34m.\u001b[0m\u001b[0m__dict__\u001b[0m\u001b[0;34m[\u001b[0m\u001b[0mname\u001b[0m\u001b[0;34m]\u001b[0m \u001b[0;34m=\u001b[0m \u001b[0mvalue\u001b[0m\u001b[0;34m\u001b[0m\u001b[0;34m\u001b[0m\u001b[0m\n\u001b[1;32m     23\u001b[0m             \u001b[0;32melse\u001b[0m\u001b[0;34m:\u001b[0m\u001b[0;34m\u001b[0m\u001b[0;34m\u001b[0m\u001b[0m\n\u001b[0;32m---> 24\u001b[0;31m                 \u001b[0;32mraise\u001b[0m \u001b[0mValueError\u001b[0m\u001b[0;34m(\u001b[0m\u001b[0;34m'Invalid type'\u001b[0m\u001b[0;34m)\u001b[0m\u001b[0;34m\u001b[0m\u001b[0;34m\u001b[0m\u001b[0m\n\u001b[0m\u001b[1;32m     25\u001b[0m \u001b[0;34m\u001b[0m\u001b[0m\n\u001b[1;32m     26\u001b[0m     \u001b[0;32mdef\u001b[0m \u001b[0m__delattr__\u001b[0m\u001b[0;34m(\u001b[0m\u001b[0mself\u001b[0m\u001b[0;34m,\u001b[0m \u001b[0mname\u001b[0m\u001b[0;34m)\u001b[0m\u001b[0;34m:\u001b[0m\u001b[0;34m\u001b[0m\u001b[0;34m\u001b[0m\u001b[0m\n",
      "\u001b[0;31mValueError\u001b[0m: Invalid type"
     ]
    }
   ],
   "source": [
    "a = A()\n",
    "a1 = A()\n",
    "print(a.attr1)\n",
    "print(a.attr2)\n",
    "\n",
    "a.attr1 = 32\n",
    "a.attr2 = '42'\n",
    "\n",
    "a1.attr1 = 33\n",
    "a1.attr2 = 'xyz'\n",
    "\n",
    "print(a.attr1, a1.attr1)\n",
    "print(a.attr2, a1.attr2)"
   ]
  },
  {
   "cell_type": "markdown",
   "metadata": {},
   "source": [
    "\n",
    "Technically, descriptor is a class that supports the following methods: __set__[, __get__],__delete__"
   ]
  },
  {
   "cell_type": "code",
   "execution_count": null,
   "metadata": {},
   "outputs": [],
   "source": [
    "class Attribute:\n",
    "\n",
    "    def __init__(self, initval=None, name='var'):\n",
    "        self.val = initval\n",
    "        self.name = name\n",
    "\n",
    "    def __get__(self, obj, objtype):\n",
    "        #print('Retrieving', self.name, id(obj))\n",
    "        return obj.__dict__[self.name] #self.val\n",
    "\n",
    "    def __set__(self, obj, val):\n",
    "        #print('Updating', self.name, id(obj))\n",
    "        self.val = val\n",
    "        obj.__dict__[self.name] = val\n",
    "        \n",
    "    def __delete__(self, obj):\n",
    "        #print('Deleting', self.name, id(obj))\n",
    "        self.val = None\n",
    "        \n",
    "class A:\n",
    "    attr = Attribute(name='attr')\n",
    "    #attr = 'DEMO'\n",
    " \n",
    "a = A()\n",
    "print(id(a))\n",
    "a.attr = 42\n",
    "print(a.attr)\n",
    "#del a.attr\n",
    "\n",
    "b = A()\n",
    "print(id(b))\n",
    "b.attr = 43\n",
    "print(a.attr)\n",
    "print(b.attr)\n",
    "#del b.attr\n",
    "\n",
    "# a1 = A()\n",
    "# a.attr = 44\n",
    "# a1.attr = 45\n",
    "# print(a.attr)\n",
    "# print(a1.attr)\n",
    "# del a1.attr"
   ]
  },
  {
   "cell_type": "code",
   "execution_count": null,
   "metadata": {},
   "outputs": [],
   "source": [
    "# a.attr1 = '42'\n",
    "a.attr2 = 42"
   ]
  },
  {
   "cell_type": "code",
   "execution_count": 35,
   "metadata": {},
   "outputs": [],
   "source": [
    "class TypeCheckerMixin:\n",
    "\n",
    "    def __setattr__(self, name, value):\n",
    "        obj_attrs = vars(self)\n",
    "        cls_attrs = vars(type(self))\n",
    "        if name in cls_attrs:\n",
    "            type_, default = cls_attrs[name]\n",
    "            if isinstance(value, type_):\n",
    "                self.__dict__[name] = value\n",
    "            else:\n",
    "                raise ValueError('Invalid type')\n",
    "\n",
    "class A(TypeCheckerMixin):\n",
    "    attr1 = (int, 0)\n",
    "    attr2 = (str, '')\n",
    "    attr3 = (bool, False)\n",
    "\n",
    "a = A()\n",
    "\n",
    "a.attr1 = 42\n",
    "#a.attr1 = '42'\n",
    "\n",
    "# But what if we want to check range for ints, regex amtch for strings, isclose() for floats?"
   ]
  },
  {
   "cell_type": "code",
   "execution_count": 34,
   "metadata": {},
   "outputs": [],
   "source": [
    "\n",
    "class Descriptor:\n",
    "    def __init__(self, name=None, default=None):\n",
    "        self.name = name\n",
    "        self.default = default\n",
    "\n",
    "    def __set__(self, instance, value):\n",
    "        instance.__dict__[self.name] = value\n",
    "\n",
    "    def __get__(self, instance, objtype):\n",
    "        if self.name not in instance.__dict__:\n",
    "            instance.__dict__[self.name] = self.default\n",
    "        return instance.__dict__[self.name]\n",
    "\n",
    "    def __delete__(self, instance):\n",
    "        raise AttributeError(\"Can't delete\")\n",
    "\n",
    "\n",
    "class Typed(Descriptor):\n",
    "    type_ = object\n",
    "    extra_methods = []\n",
    "    def __set__(self, instance, value):\n",
    "        if not isinstance(value, self.type_):\n",
    "            raise TypeError('Expected %s' % self.type_)\n",
    "        super().__set__(instance, value)\n",
    "\n",
    "\n",
    "# Specialized types\n",
    "class Numeric(Typed):\n",
    "    extra_methods = ['gt', 'gte']\n",
    "\n",
    "    def gt(instance_value, value):\n",
    "        return instance_value > value\n",
    "\n",
    "    def gte(instance_value, value):\n",
    "        return instance_value >= value\n",
    "\n",
    "class Integer(Numeric):\n",
    "    type_ = int\n",
    "\n",
    "class Float(Numeric):\n",
    "    type_ = float\n",
    "    extra_methods = Numeric.extra_methods + ['isclose']\n",
    "\n",
    "    def isclose(instance_value, value):\n",
    "        import math\n",
    "        return math.isclose(instance_value, value)\n",
    "\n",
    "class String(Typed):\n",
    "    type_ = str\n",
    "    extra_methods = ['startswith', 'endswith', 'contains']\n",
    "\n",
    "    def startswith(instance_value, value):\n",
    "        return instance_value.startswith(value)\n",
    "\n",
    "    def endswith(instance_value, value):\n",
    "        return instance_value.endswith(value)\n",
    "\n",
    "    def contains(instance_value, value):\n",
    "        return value in instance_value"
   ]
  },
  {
   "cell_type": "code",
   "execution_count": 36,
   "metadata": {},
   "outputs": [],
   "source": [
    "class A:\n",
    "    attr1 = Integer(name='attr1')\n",
    "\n",
    "a = A()\n",
    "a.attr1 = 32\n",
    "# a.attr1 = '32'"
   ]
  },
  {
   "cell_type": "code",
   "execution_count": 37,
   "metadata": {},
   "outputs": [],
   "source": [
    "# Value checking\n",
    "class Positive(Descriptor):\n",
    "    def __set__(self, instance, value):\n",
    "        if value < 0:\n",
    "            raise ValueError('Expected >= 0')\n",
    "        super().__set__(instance, value)\n",
    "\n",
    "\n",
    "# More specialized types\n",
    "class PosInteger(Integer, Positive):\n",
    "    pass\n",
    "\n",
    "\n",
    "class PosFloat(Float, Positive):\n",
    "    pass\n",
    "\n",
    "\n",
    "# Length checking\n",
    "class Sized(Descriptor):\n",
    "    def __init__(self, *args, maxlen, **kwargs):\n",
    "        self.maxlen = maxlen\n",
    "        super().__init__(*args, **kwargs)\n",
    "\n",
    "    def __set__(self, instance, value):\n",
    "        if len(value) > self.maxlen:\n",
    "            raise ValueError('Too big')\n",
    "        super().__set__(instance, value)\n",
    "\n",
    "\n",
    "class SizedString(String, Sized):\n",
    "    pass\n",
    "\n",
    "\n",
    "# Pattern matching\n",
    "class Regex(Descriptor):\n",
    "    def __init__(self, *args, pattern, **kwargs):\n",
    "        self.pattern = re.compile(pattern)\n",
    "        super().__init__(*args, **kwargs)\n",
    "\n",
    "    def __set__(self, instance, value):\n",
    "        if not self.pattern.match(value):\n",
    "            raise ValueError('Invalid string')\n",
    "        super().__set__(instance, value)\n",
    "\n",
    "\n",
    "class SizedRegexString(SizedString, Regex):\n",
    "    pass\n"
   ]
  },
  {
   "cell_type": "code",
   "execution_count": 38,
   "metadata": {},
   "outputs": [
    {
     "name": "stdout",
     "output_type": "stream",
     "text": [
      "42\n",
      "32\n",
      "5\n",
      "140073262912624\n",
      "9752288\n",
      "[<class '__main__.PosInteger'>, <class '__main__.Integer'>, <class '__main__.Numeric'>, <class '__main__.Typed'>, <class '__main__.Positive'>, <class '__main__.Descriptor'>, <class 'object'>]\n"
     ]
    }
   ],
   "source": [
    "class A:\n",
    "    attr1 = PosInteger(default=42)\n",
    "    attr2 = PosFloat()\n",
    "    attr3 = SizedRegexString(maxlen=11, pattern='\\d{3}-\\d{7}')\n",
    "\n",
    "a = A()\n",
    "print(a.attr1)\n",
    "a.attr1 = 32\n",
    "print(a.attr1)\n",
    "a.attr2 = 0.1\n",
    "a.attr3 = '067-9372129'\n",
    "\n",
    "a1 = A()\n",
    "a1.attr1 = 5\n",
    "print(a1.attr1)\n",
    "\n",
    "print(id(a.attr1))\n",
    "print(id(a1.attr1))\n",
    "\n",
    "print(PosInteger.mro())"
   ]
  },
  {
   "cell_type": "markdown",
   "metadata": {},
   "source": [
    "### Metaclasses\n"
   ]
  },
  {
   "cell_type": "markdown",
   "metadata": {},
   "source": [
    "Let's debug our code"
   ]
  },
  {
   "cell_type": "code",
   "execution_count": 39,
   "metadata": {},
   "outputs": [],
   "source": [
    "def debug(func):\n",
    "    '''\n",
    "    A simple debugging decorator\n",
    "    '''\n",
    "    msg = func.__qualname__\n",
    "    @wraps(func)\n",
    "    def wrapper(*args, **kwargs):\n",
    "        start = time.time()\n",
    "        result = func(*args, **kwargs)\n",
    "        print(f'{msg} run took {time.time()-start} ms')\n",
    "        return result\n",
    "    return wrapper"
   ]
  },
  {
   "cell_type": "code",
   "execution_count": 40,
   "metadata": {},
   "outputs": [
    {
     "name": "stdout",
     "output_type": "stream",
     "text": [
      "foo run took 1.0007898807525635 ms\n"
     ]
    }
   ],
   "source": [
    "@debug\n",
    "def foo():\n",
    "    time.sleep(1)\n",
    "    \n",
    "foo()"
   ]
  },
  {
   "cell_type": "code",
   "execution_count": 41,
   "metadata": {},
   "outputs": [
    {
     "name": "stdout",
     "output_type": "stream",
     "text": [
      "A.foo run took 0.3248271942138672 ms\n"
     ]
    }
   ],
   "source": [
    "class A():\n",
    "    \n",
    "    @debug\n",
    "    def foo(self):\n",
    "        time.sleep(random.random())\n",
    "\n",
    "a = A()\n",
    "a.foo()"
   ]
  },
  {
   "cell_type": "code",
   "execution_count": 42,
   "metadata": {},
   "outputs": [
    {
     "name": "stdout",
     "output_type": "stream",
     "text": [
      "A.foo run took 0.1924147605895996 ms\n",
      "A.bar run took 0.6133582592010498 ms\n",
      "A.baz run took 0.8557188510894775 ms\n"
     ]
    }
   ],
   "source": [
    "class A():\n",
    "    \n",
    "    @debug\n",
    "    def foo(self):\n",
    "        time.sleep(random.random())\n",
    "        \n",
    "    @debug\n",
    "    def bar(self):\n",
    "        time.sleep(random.random())\n",
    "        \n",
    "    @debug\n",
    "    def baz(self):\n",
    "        time.sleep(random.random())\n",
    "        \n",
    "a = A()\n",
    "a.foo()\n",
    "a.bar()\n",
    "a.baz()"
   ]
  },
  {
   "cell_type": "code",
   "execution_count": 43,
   "metadata": {},
   "outputs": [],
   "source": [
    "def debugmethods(cls):\n",
    "    '''\n",
    "    Apply a decorator to all callable methods of a class\n",
    "    '''\n",
    "    for name, val in vars(cls).items(): # cls.__dict__\n",
    "        if callable(val):\n",
    "            setattr(cls, name, debug(val))\n",
    "\n",
    "    setattr(cls, 'xxx', 42)\n",
    "\n",
    "    return cls\n",
    "\n",
    "# A.foo = debug(A.foo)\n",
    "\n",
    "# # A.bar = debug(A.bar)\n",
    "# # setattr(A, 'bar', debug(A.bar))\n",
    "\n",
    "# A.baz = debug(A.baz)\n",
    "# help(callable)"
   ]
  },
  {
   "cell_type": "code",
   "execution_count": 44,
   "metadata": {},
   "outputs": [
    {
     "name": "stdout",
     "output_type": "stream",
     "text": [
      "A.foo run took 0.8580012321472168 ms\n",
      "A.bar run took 0.4554758071899414 ms\n",
      "A.baz run took 0.2630341053009033 ms\n",
      "42\n"
     ]
    }
   ],
   "source": [
    "@debugmethods\n",
    "class A():\n",
    "    \n",
    "    def foo(self):\n",
    "        time.sleep(random.random())\n",
    "        \n",
    "    def bar(self):\n",
    "        time.sleep(random.random())\n",
    "        \n",
    "    def baz(self):\n",
    "        time.sleep(random.random())\n",
    "        \n",
    "a = A()\n",
    "a.foo()\n",
    "a.bar()\n",
    "a.baz()\n",
    "print(a.xxx)"
   ]
  },
  {
   "cell_type": "code",
   "execution_count": 45,
   "metadata": {},
   "outputs": [],
   "source": [
    "class B(A):\n",
    "    def foo_b(self):\n",
    "        time.sleep(random.random())\n",
    "        \n",
    "    def bar_b(self):\n",
    "        time.sleep(random.random())\n",
    "        \n",
    "    def baz_b(self):\n",
    "        time.sleep(random.random())\n",
    "        \n",
    "b = B()\n",
    "b.foo_b()\n",
    "b.bar_b()\n",
    "b.baz_b()"
   ]
  },
  {
   "cell_type": "markdown",
   "metadata": {},
   "source": [
    "\n",
    "Let's use metaclasses to entire eirarchy with debug decorators"
   ]
  },
  {
   "cell_type": "code",
   "execution_count": 46,
   "metadata": {},
   "outputs": [
    {
     "name": "stdout",
     "output_type": "stream",
     "text": [
      "<class 'type'> 21345136\n",
      "{'attr1': 42, 'attr2': 'abc', '__module__': '__main__', '__dict__': <attribute '__dict__' of 'A' objects>, '__weakref__': <attribute '__weakref__' of 'A' objects>, '__doc__': None}\n",
      "<class '__main__.A'>\n",
      "42\n",
      "abc\n",
      "43\n"
     ]
    }
   ],
   "source": [
    "A = type('A', (object,), {'attr1': 42, 'attr2': 'abc'})\n",
    "\n",
    "print(type(A), id(A))\n",
    "print(A.__dict__)\n",
    "a = A()\n",
    "print(type(a))\n",
    "print(a.attr1)\n",
    "print(a.attr2)\n",
    "a.attr1 = 43\n",
    "print(a.attr1)"
   ]
  },
  {
   "cell_type": "code",
   "execution_count": 47,
   "metadata": {},
   "outputs": [
    {
     "name": "stdout",
     "output_type": "stream",
     "text": [
      "<class 'type'> 21261760\n",
      "{'__module__': '__main__', 'attr1': 42, 'attr2': 'abc', '__dict__': <attribute '__dict__' of 'A' objects>, '__weakref__': <attribute '__weakref__' of 'A' objects>, '__doc__': None}\n",
      "<class '__main__.A'>\n",
      "42\n",
      "abc\n",
      "43\n"
     ]
    }
   ],
   "source": [
    "class A:\n",
    "    attr1 = 42\n",
    "    attr2 = 'abc'\n",
    "    \n",
    "print(type(A), id(A))\n",
    "print(A.__dict__)\n",
    "a = A()\n",
    "print(type(a))\n",
    "print(a.attr1)\n",
    "print(a.attr2)\n",
    "a.attr1 = 43\n",
    "print(a.attr1)"
   ]
  },
  {
   "cell_type": "code",
   "execution_count": 48,
   "metadata": {},
   "outputs": [
    {
     "data": {
      "text/plain": [
       "43"
      ]
     },
     "execution_count": 48,
     "metadata": {},
     "output_type": "execute_result"
    }
   ],
   "source": [
    "A = type('A',\n",
    "         (object,),\n",
    "         {'attr1': 42,\n",
    "          'attr2': 'abc',\n",
    "          'foo': lambda self: self.attr1+1}\n",
    "        )\n",
    "a = A()\n",
    "a.foo()"
   ]
  },
  {
   "cell_type": "markdown",
   "metadata": {},
   "source": [
    "<img src=\"https://blog.ionelmc.ro/2015/02/09/understanding-python-metaclasses/instance-of.png\">"
   ]
  },
  {
   "cell_type": "code",
   "execution_count": null,
   "metadata": {},
   "outputs": [],
   "source": [
    "print(type(a))\n",
    "print(a.__class__)"
   ]
  },
  {
   "cell_type": "code",
   "execution_count": null,
   "metadata": {},
   "outputs": [],
   "source": [
    "print(type(A))\n",
    "print(A.__class__)\n",
    "\n",
    "# not parent, but creator. Compare with\n",
    "print(A.__bases__)"
   ]
  },
  {
   "cell_type": "code",
   "execution_count": null,
   "metadata": {},
   "outputs": [],
   "source": [
    "print(type(type))\n",
    "print(type.__class__)\n",
    "\n",
    "# not parent, but creator. Compare with\n",
    "print(type.__bases__)"
   ]
  },
  {
   "cell_type": "code",
   "execution_count": null,
   "metadata": {},
   "outputs": [],
   "source": [
    "print(type(type(type(type(type(type))))))\n",
    "print(type.__class__)"
   ]
  },
  {
   "cell_type": "code",
   "execution_count": null,
   "metadata": {},
   "outputs": [],
   "source": [
    "class A(metaclass=type):\n",
    "    def foo(self):\n",
    "        print('foo')\n",
    "        \n",
    "a = A()\n",
    "a.foo()\n",
    "# print(a.bar)"
   ]
  },
  {
   "cell_type": "code",
   "execution_count": 49,
   "metadata": {},
   "outputs": [],
   "source": [
    "class mytype(type):\n",
    "    '''\n",
    "    Metaclass default implementation\n",
    "    '''\n",
    "    def __new__(metacls, clsname, bases=None, clsdict=None):\n",
    "        cls = super().__new__(metacls, clsname, bases, clsdict)\n",
    "        cls.bar = 42\n",
    "        setattr(cls, 'objects', 'XYZ')\n",
    "        return cls\n",
    "\n",
    "    # def __init__(cls, name, bases, dct):\n",
    "    #     super().__init__(name, bases, dct)"
   ]
  },
  {
   "cell_type": "code",
   "execution_count": 50,
   "metadata": {},
   "outputs": [
    {
     "name": "stdout",
     "output_type": "stream",
     "text": [
      "foo\n",
      "42\n",
      "foo\n",
      "42\n",
      "XYZ\n"
     ]
    }
   ],
   "source": [
    "class A(metaclass=mytype):\n",
    "    def foo(self):\n",
    "        print('foo')\n",
    "\n",
    "class B(A):\n",
    "    pass\n",
    "\n",
    "a = A()\n",
    "a.foo()\n",
    "print(a.bar)\n",
    "\n",
    "\n",
    "b = B()\n",
    "b.foo()\n",
    "print(b.bar)\n",
    "print(b.objects)"
   ]
  },
  {
   "cell_type": "code",
   "execution_count": 54,
   "metadata": {},
   "outputs": [],
   "source": [
    "class ModelMeta(type):\n",
    "\n",
    "    def __new__(metacls, clsname, bases=None, clsdict=None):\n",
    "        cls = super().__new__(metacls, clsname, bases, clsdict)\n",
    "        extra_attrs = []\n",
    "        for attr_name, attr_value in cls.__dict__.items():\n",
    "            if isinstance(attr_value, Typed):\n",
    "                extra_attrs += [\n",
    "                    (attr_name, extra_method, getattr(attr_value.__class__, extra_method))\n",
    "                    for extra_method in attr_value.extra_methods\n",
    "                ]\n",
    "\n",
    "        for attr, extra, func in extra_attrs:\n",
    "            setattr(\n",
    "                cls,\n",
    "                f'{attr}__{extra}',\n",
    "                lambda self, value, attr=attr, func=func: func(getattr(self, attr), value)\n",
    "            )\n",
    "\n",
    "        return cls\n",
    "\n",
    "class Employee(metaclass=ModelMeta):\n",
    "    first_name = SizedString(name='first_name', default='John', maxlen=32)\n",
    "    last_name = SizedString(name='last_name', maxlen=64)\n",
    "    age = PosInteger(name='age', default=42)\n",
    "    salary = PosFloat(name='salary')\n",
    "    phone_number = SizedRegexString(name='phone_number', maxlen=11, pattern='\\d{3}-\\d{7}')"
   ]
  },
  {
   "cell_type": "code",
   "execution_count": 2,
   "metadata": {},
   "outputs": [
    {
     "name": "stdout",
     "output_type": "stream",
     "text": [
      "Updating attr 140452546327024\n"
     ]
    }
   ],
   "source": [
    "\n",
    "class Attribute:\n",
    "\n",
    "    def __init__(self, initval=None, name='var'):\n",
    "        self.val = initval\n",
    "        self.name = name\n",
    "\n",
    "    def __get__(self, obj, objtype):\n",
    "        print('Retrieving', self.name, id(obj))\n",
    "        return obj.__dict__[self.name]  # self.val\n",
    "\n",
    "    def __set__(self, obj, val):\n",
    "        print('Updating', self.name, id(obj))\n",
    "        self.val = val\n",
    "        obj.__dict__[self.name] = val\n",
    "\n",
    "    def __delete__(self, obj):\n",
    "        # print('Deleting', self.name, id(obj))\n",
    "        self.val = None\n",
    "\n",
    "\n",
    "class A:\n",
    "    attr = Attribute(name='attr')\n",
    "    # attr = 'DEMO'\n",
    "    \n",
    "a = A()\n",
    "a.attr=10"
   ]
  },
  {
   "cell_type": "code",
   "execution_count": 52,
   "metadata": {},
   "outputs": [
    {
     "name": "stdout",
     "output_type": "stream",
     "text": [
      "John\n",
      "True\n",
      "True\n",
      "False\n"
     ]
    }
   ],
   "source": [
    "emp = Employee()\n",
    "print(emp.first_name)\n",
    "print(emp.first_name__startswith('J'))\n",
    "print(emp.age__gte(42))\n",
    "emp.age = 10\n",
    "print(emp.age__gt(42))"
   ]
  },
  {
   "cell_type": "code",
   "execution_count": null,
   "metadata": {},
   "outputs": [],
   "source": [
    "class debugmeta(type):\n",
    "    '''\n",
    "    Metaclass that applies debugging to methods\n",
    "    '''\n",
    "    def __new__(cls, clsname, bases, clsdict):\n",
    "        clsobj = super().__new__(cls, clsname, bases, clsdict)\n",
    "        clsobj = debugmethods(clsobj)\n",
    "        return clsobj\n"
   ]
  },
  {
   "cell_type": "code",
   "execution_count": null,
   "metadata": {},
   "outputs": [],
   "source": [
    "class A(metaclass=debugmeta):\n",
    "    \n",
    "    def foo(self):\n",
    "        time.sleep(random.random())\n",
    "        \n",
    "    def bar(self):\n",
    "        time.sleep(random.random())\n",
    "        \n",
    "    def baz(self):\n",
    "        time.sleep(random.random())\n",
    "        \n",
    "a = A()\n",
    "a.foo()\n",
    "a.bar()\n",
    "a.baz()"
   ]
  },
  {
   "cell_type": "code",
   "execution_count": null,
   "metadata": {},
   "outputs": [],
   "source": [
    "class B(A):\n",
    "    def foo_b(self):\n",
    "        time.sleep(random.random())\n",
    "        \n",
    "    def bar_b(self):\n",
    "        time.sleep(random.random())\n",
    "        \n",
    "    def baz_b(self):\n",
    "        time.sleep(random.random())\n",
    "        \n",
    "b = B()\n",
    "b.foo_b()\n",
    "b.bar_b()\n",
    "b.baz_b()"
   ]
  }
 ],
 "metadata": {
  "kernelspec": {
   "display_name": "Python 3",
   "language": "python",
   "name": "python3"
  },
  "language_info": {
   "codemirror_mode": {
    "name": "ipython",
    "version": 3
   },
   "file_extension": ".py",
   "mimetype": "text/x-python",
   "name": "python",
   "nbconvert_exporter": "python",
   "pygments_lexer": "ipython3",
   "version": "3.8.5"
  }
 },
 "nbformat": 4,
 "nbformat_minor": 4
}
